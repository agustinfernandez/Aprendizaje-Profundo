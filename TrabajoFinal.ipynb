{
  "nbformat": 4,
  "nbformat_minor": 0,
  "metadata": {
    "colab": {
      "name": "prueba MOE 4 (stocastic + extra loss) - Increase RAM.ipynb",
      "provenance": [],
      "collapsed_sections": [],
      "machine_shape": "hm"
    },
    "kernelspec": {
      "name": "python3",
      "display_name": "Python 3"
    },
    "accelerator": "GPU",
    "widgets": {
      "application/vnd.jupyter.widget-state+json": {
        "c3bba6f0075549bd856241eef5e23420": {
          "model_module": "@jupyter-widgets/controls",
          "model_name": "HBoxModel",
          "state": {
            "_view_name": "HBoxView",
            "_dom_classes": [],
            "_model_name": "HBoxModel",
            "_view_module": "@jupyter-widgets/controls",
            "_model_module_version": "1.5.0",
            "_view_count": null,
            "_view_module_version": "1.5.0",
            "box_style": "",
            "layout": "IPY_MODEL_1f9a8d9c4c234ad49de2d2c6aa2a9dd6",
            "_model_module": "@jupyter-widgets/controls",
            "children": [
              "IPY_MODEL_203ddab93109475aa13911d61938e059",
              "IPY_MODEL_1649ca5bdaf94d698f1059c15edcb6f2"
            ]
          }
        },
        "1f9a8d9c4c234ad49de2d2c6aa2a9dd6": {
          "model_module": "@jupyter-widgets/base",
          "model_name": "LayoutModel",
          "state": {
            "_view_name": "LayoutView",
            "grid_template_rows": null,
            "right": null,
            "justify_content": null,
            "_view_module": "@jupyter-widgets/base",
            "overflow": null,
            "_model_module_version": "1.2.0",
            "_view_count": null,
            "flex_flow": null,
            "width": null,
            "min_width": null,
            "border": null,
            "align_items": null,
            "bottom": null,
            "_model_module": "@jupyter-widgets/base",
            "top": null,
            "grid_column": null,
            "overflow_y": null,
            "overflow_x": null,
            "grid_auto_flow": null,
            "grid_area": null,
            "grid_template_columns": null,
            "flex": null,
            "_model_name": "LayoutModel",
            "justify_items": null,
            "grid_row": null,
            "max_height": null,
            "align_content": null,
            "visibility": null,
            "align_self": null,
            "height": null,
            "min_height": null,
            "padding": null,
            "grid_auto_rows": null,
            "grid_gap": null,
            "max_width": null,
            "order": null,
            "_view_module_version": "1.2.0",
            "grid_template_areas": null,
            "object_position": null,
            "object_fit": null,
            "grid_auto_columns": null,
            "margin": null,
            "display": null,
            "left": null
          }
        },
        "203ddab93109475aa13911d61938e059": {
          "model_module": "@jupyter-widgets/controls",
          "model_name": "FloatProgressModel",
          "state": {
            "_view_name": "ProgressView",
            "style": "IPY_MODEL_02a09973e937437ea13207cca6e4761c",
            "_dom_classes": [],
            "description": "Downloading: 100%",
            "_model_name": "FloatProgressModel",
            "bar_style": "success",
            "max": 442,
            "_view_module": "@jupyter-widgets/controls",
            "_model_module_version": "1.5.0",
            "value": 442,
            "_view_count": null,
            "_view_module_version": "1.5.0",
            "orientation": "horizontal",
            "min": 0,
            "description_tooltip": null,
            "_model_module": "@jupyter-widgets/controls",
            "layout": "IPY_MODEL_f30283c646364db0aaa7f4170c461703"
          }
        },
        "1649ca5bdaf94d698f1059c15edcb6f2": {
          "model_module": "@jupyter-widgets/controls",
          "model_name": "HTMLModel",
          "state": {
            "_view_name": "HTMLView",
            "style": "IPY_MODEL_235eab6f90de4fa7bce60def3c3fa9ec",
            "_dom_classes": [],
            "description": "",
            "_model_name": "HTMLModel",
            "placeholder": "​",
            "_view_module": "@jupyter-widgets/controls",
            "_model_module_version": "1.5.0",
            "value": " 442/442 [00:07&lt;00:00, 57.2B/s]",
            "_view_count": null,
            "_view_module_version": "1.5.0",
            "description_tooltip": null,
            "_model_module": "@jupyter-widgets/controls",
            "layout": "IPY_MODEL_8000c322496445f986d0a44a223d10d6"
          }
        },
        "02a09973e937437ea13207cca6e4761c": {
          "model_module": "@jupyter-widgets/controls",
          "model_name": "ProgressStyleModel",
          "state": {
            "_view_name": "StyleView",
            "_model_name": "ProgressStyleModel",
            "description_width": "initial",
            "_view_module": "@jupyter-widgets/base",
            "_model_module_version": "1.5.0",
            "_view_count": null,
            "_view_module_version": "1.2.0",
            "bar_color": null,
            "_model_module": "@jupyter-widgets/controls"
          }
        },
        "f30283c646364db0aaa7f4170c461703": {
          "model_module": "@jupyter-widgets/base",
          "model_name": "LayoutModel",
          "state": {
            "_view_name": "LayoutView",
            "grid_template_rows": null,
            "right": null,
            "justify_content": null,
            "_view_module": "@jupyter-widgets/base",
            "overflow": null,
            "_model_module_version": "1.2.0",
            "_view_count": null,
            "flex_flow": null,
            "width": null,
            "min_width": null,
            "border": null,
            "align_items": null,
            "bottom": null,
            "_model_module": "@jupyter-widgets/base",
            "top": null,
            "grid_column": null,
            "overflow_y": null,
            "overflow_x": null,
            "grid_auto_flow": null,
            "grid_area": null,
            "grid_template_columns": null,
            "flex": null,
            "_model_name": "LayoutModel",
            "justify_items": null,
            "grid_row": null,
            "max_height": null,
            "align_content": null,
            "visibility": null,
            "align_self": null,
            "height": null,
            "min_height": null,
            "padding": null,
            "grid_auto_rows": null,
            "grid_gap": null,
            "max_width": null,
            "order": null,
            "_view_module_version": "1.2.0",
            "grid_template_areas": null,
            "object_position": null,
            "object_fit": null,
            "grid_auto_columns": null,
            "margin": null,
            "display": null,
            "left": null
          }
        },
        "235eab6f90de4fa7bce60def3c3fa9ec": {
          "model_module": "@jupyter-widgets/controls",
          "model_name": "DescriptionStyleModel",
          "state": {
            "_view_name": "StyleView",
            "_model_name": "DescriptionStyleModel",
            "description_width": "",
            "_view_module": "@jupyter-widgets/base",
            "_model_module_version": "1.5.0",
            "_view_count": null,
            "_view_module_version": "1.2.0",
            "_model_module": "@jupyter-widgets/controls"
          }
        },
        "8000c322496445f986d0a44a223d10d6": {
          "model_module": "@jupyter-widgets/base",
          "model_name": "LayoutModel",
          "state": {
            "_view_name": "LayoutView",
            "grid_template_rows": null,
            "right": null,
            "justify_content": null,
            "_view_module": "@jupyter-widgets/base",
            "overflow": null,
            "_model_module_version": "1.2.0",
            "_view_count": null,
            "flex_flow": null,
            "width": null,
            "min_width": null,
            "border": null,
            "align_items": null,
            "bottom": null,
            "_model_module": "@jupyter-widgets/base",
            "top": null,
            "grid_column": null,
            "overflow_y": null,
            "overflow_x": null,
            "grid_auto_flow": null,
            "grid_area": null,
            "grid_template_columns": null,
            "flex": null,
            "_model_name": "LayoutModel",
            "justify_items": null,
            "grid_row": null,
            "max_height": null,
            "align_content": null,
            "visibility": null,
            "align_self": null,
            "height": null,
            "min_height": null,
            "padding": null,
            "grid_auto_rows": null,
            "grid_gap": null,
            "max_width": null,
            "order": null,
            "_view_module_version": "1.2.0",
            "grid_template_areas": null,
            "object_position": null,
            "object_fit": null,
            "grid_auto_columns": null,
            "margin": null,
            "display": null,
            "left": null
          }
        },
        "97a43697b0724e8b9c054b9544318abf": {
          "model_module": "@jupyter-widgets/controls",
          "model_name": "HBoxModel",
          "state": {
            "_view_name": "HBoxView",
            "_dom_classes": [],
            "_model_name": "HBoxModel",
            "_view_module": "@jupyter-widgets/controls",
            "_model_module_version": "1.5.0",
            "_view_count": null,
            "_view_module_version": "1.5.0",
            "box_style": "",
            "layout": "IPY_MODEL_3a08ef88d45c48f795595ac58ce6772e",
            "_model_module": "@jupyter-widgets/controls",
            "children": [
              "IPY_MODEL_975cb96843d442a3acbbfbef7dddb709",
              "IPY_MODEL_7c93aab83f6a473b9f264ae38a72e271"
            ]
          }
        },
        "3a08ef88d45c48f795595ac58ce6772e": {
          "model_module": "@jupyter-widgets/base",
          "model_name": "LayoutModel",
          "state": {
            "_view_name": "LayoutView",
            "grid_template_rows": null,
            "right": null,
            "justify_content": null,
            "_view_module": "@jupyter-widgets/base",
            "overflow": null,
            "_model_module_version": "1.2.0",
            "_view_count": null,
            "flex_flow": null,
            "width": null,
            "min_width": null,
            "border": null,
            "align_items": null,
            "bottom": null,
            "_model_module": "@jupyter-widgets/base",
            "top": null,
            "grid_column": null,
            "overflow_y": null,
            "overflow_x": null,
            "grid_auto_flow": null,
            "grid_area": null,
            "grid_template_columns": null,
            "flex": null,
            "_model_name": "LayoutModel",
            "justify_items": null,
            "grid_row": null,
            "max_height": null,
            "align_content": null,
            "visibility": null,
            "align_self": null,
            "height": null,
            "min_height": null,
            "padding": null,
            "grid_auto_rows": null,
            "grid_gap": null,
            "max_width": null,
            "order": null,
            "_view_module_version": "1.2.0",
            "grid_template_areas": null,
            "object_position": null,
            "object_fit": null,
            "grid_auto_columns": null,
            "margin": null,
            "display": null,
            "left": null
          }
        },
        "975cb96843d442a3acbbfbef7dddb709": {
          "model_module": "@jupyter-widgets/controls",
          "model_name": "FloatProgressModel",
          "state": {
            "_view_name": "ProgressView",
            "style": "IPY_MODEL_49fc4090e96a487c8a5c4489620ee8fe",
            "_dom_classes": [],
            "description": "Downloading: 100%",
            "_model_name": "FloatProgressModel",
            "bar_style": "success",
            "max": 267967963,
            "_view_module": "@jupyter-widgets/controls",
            "_model_module_version": "1.5.0",
            "value": 267967963,
            "_view_count": null,
            "_view_module_version": "1.5.0",
            "orientation": "horizontal",
            "min": 0,
            "description_tooltip": null,
            "_model_module": "@jupyter-widgets/controls",
            "layout": "IPY_MODEL_43ac4902ed5b4f37b4cc13fefe54192a"
          }
        },
        "7c93aab83f6a473b9f264ae38a72e271": {
          "model_module": "@jupyter-widgets/controls",
          "model_name": "HTMLModel",
          "state": {
            "_view_name": "HTMLView",
            "style": "IPY_MODEL_eaa4d22b46ed41fa889fbf746d62562b",
            "_dom_classes": [],
            "description": "",
            "_model_name": "HTMLModel",
            "placeholder": "​",
            "_view_module": "@jupyter-widgets/controls",
            "_model_module_version": "1.5.0",
            "value": " 268M/268M [00:07&lt;00:00, 37.3MB/s]",
            "_view_count": null,
            "_view_module_version": "1.5.0",
            "description_tooltip": null,
            "_model_module": "@jupyter-widgets/controls",
            "layout": "IPY_MODEL_bc99d1544f004f22b30f38b32f782dc6"
          }
        },
        "49fc4090e96a487c8a5c4489620ee8fe": {
          "model_module": "@jupyter-widgets/controls",
          "model_name": "ProgressStyleModel",
          "state": {
            "_view_name": "StyleView",
            "_model_name": "ProgressStyleModel",
            "description_width": "initial",
            "_view_module": "@jupyter-widgets/base",
            "_model_module_version": "1.5.0",
            "_view_count": null,
            "_view_module_version": "1.2.0",
            "bar_color": null,
            "_model_module": "@jupyter-widgets/controls"
          }
        },
        "43ac4902ed5b4f37b4cc13fefe54192a": {
          "model_module": "@jupyter-widgets/base",
          "model_name": "LayoutModel",
          "state": {
            "_view_name": "LayoutView",
            "grid_template_rows": null,
            "right": null,
            "justify_content": null,
            "_view_module": "@jupyter-widgets/base",
            "overflow": null,
            "_model_module_version": "1.2.0",
            "_view_count": null,
            "flex_flow": null,
            "width": null,
            "min_width": null,
            "border": null,
            "align_items": null,
            "bottom": null,
            "_model_module": "@jupyter-widgets/base",
            "top": null,
            "grid_column": null,
            "overflow_y": null,
            "overflow_x": null,
            "grid_auto_flow": null,
            "grid_area": null,
            "grid_template_columns": null,
            "flex": null,
            "_model_name": "LayoutModel",
            "justify_items": null,
            "grid_row": null,
            "max_height": null,
            "align_content": null,
            "visibility": null,
            "align_self": null,
            "height": null,
            "min_height": null,
            "padding": null,
            "grid_auto_rows": null,
            "grid_gap": null,
            "max_width": null,
            "order": null,
            "_view_module_version": "1.2.0",
            "grid_template_areas": null,
            "object_position": null,
            "object_fit": null,
            "grid_auto_columns": null,
            "margin": null,
            "display": null,
            "left": null
          }
        },
        "eaa4d22b46ed41fa889fbf746d62562b": {
          "model_module": "@jupyter-widgets/controls",
          "model_name": "DescriptionStyleModel",
          "state": {
            "_view_name": "StyleView",
            "_model_name": "DescriptionStyleModel",
            "description_width": "",
            "_view_module": "@jupyter-widgets/base",
            "_model_module_version": "1.5.0",
            "_view_count": null,
            "_view_module_version": "1.2.0",
            "_model_module": "@jupyter-widgets/controls"
          }
        },
        "bc99d1544f004f22b30f38b32f782dc6": {
          "model_module": "@jupyter-widgets/base",
          "model_name": "LayoutModel",
          "state": {
            "_view_name": "LayoutView",
            "grid_template_rows": null,
            "right": null,
            "justify_content": null,
            "_view_module": "@jupyter-widgets/base",
            "overflow": null,
            "_model_module_version": "1.2.0",
            "_view_count": null,
            "flex_flow": null,
            "width": null,
            "min_width": null,
            "border": null,
            "align_items": null,
            "bottom": null,
            "_model_module": "@jupyter-widgets/base",
            "top": null,
            "grid_column": null,
            "overflow_y": null,
            "overflow_x": null,
            "grid_auto_flow": null,
            "grid_area": null,
            "grid_template_columns": null,
            "flex": null,
            "_model_name": "LayoutModel",
            "justify_items": null,
            "grid_row": null,
            "max_height": null,
            "align_content": null,
            "visibility": null,
            "align_self": null,
            "height": null,
            "min_height": null,
            "padding": null,
            "grid_auto_rows": null,
            "grid_gap": null,
            "max_width": null,
            "order": null,
            "_view_module_version": "1.2.0",
            "grid_template_areas": null,
            "object_position": null,
            "object_fit": null,
            "grid_auto_columns": null,
            "margin": null,
            "display": null,
            "left": null
          }
        },
        "dab42e88c18c4541b9d3f2b903408ce4": {
          "model_module": "@jupyter-widgets/controls",
          "model_name": "HBoxModel",
          "state": {
            "_view_name": "HBoxView",
            "_dom_classes": [],
            "_model_name": "HBoxModel",
            "_view_module": "@jupyter-widgets/controls",
            "_model_module_version": "1.5.0",
            "_view_count": null,
            "_view_module_version": "1.5.0",
            "box_style": "",
            "layout": "IPY_MODEL_602843fbdb48408baee45ec43d32e75c",
            "_model_module": "@jupyter-widgets/controls",
            "children": [
              "IPY_MODEL_b0b36ff9f36747aea52df2f6b25c5795",
              "IPY_MODEL_08d41d8d62e94c22b3f467aadc12735d"
            ]
          }
        },
        "602843fbdb48408baee45ec43d32e75c": {
          "model_module": "@jupyter-widgets/base",
          "model_name": "LayoutModel",
          "state": {
            "_view_name": "LayoutView",
            "grid_template_rows": null,
            "right": null,
            "justify_content": null,
            "_view_module": "@jupyter-widgets/base",
            "overflow": null,
            "_model_module_version": "1.2.0",
            "_view_count": null,
            "flex_flow": null,
            "width": null,
            "min_width": null,
            "border": null,
            "align_items": null,
            "bottom": null,
            "_model_module": "@jupyter-widgets/base",
            "top": null,
            "grid_column": null,
            "overflow_y": null,
            "overflow_x": null,
            "grid_auto_flow": null,
            "grid_area": null,
            "grid_template_columns": null,
            "flex": null,
            "_model_name": "LayoutModel",
            "justify_items": null,
            "grid_row": null,
            "max_height": null,
            "align_content": null,
            "visibility": null,
            "align_self": null,
            "height": null,
            "min_height": null,
            "padding": null,
            "grid_auto_rows": null,
            "grid_gap": null,
            "max_width": null,
            "order": null,
            "_view_module_version": "1.2.0",
            "grid_template_areas": null,
            "object_position": null,
            "object_fit": null,
            "grid_auto_columns": null,
            "margin": null,
            "display": null,
            "left": null
          }
        },
        "b0b36ff9f36747aea52df2f6b25c5795": {
          "model_module": "@jupyter-widgets/controls",
          "model_name": "FloatProgressModel",
          "state": {
            "_view_name": "ProgressView",
            "style": "IPY_MODEL_c27d853e27a14a52815160e8c339c6cd",
            "_dom_classes": [],
            "description": "Downloading: 100%",
            "_model_name": "FloatProgressModel",
            "bar_style": "success",
            "max": 231508,
            "_view_module": "@jupyter-widgets/controls",
            "_model_module_version": "1.5.0",
            "value": 231508,
            "_view_count": null,
            "_view_module_version": "1.5.0",
            "orientation": "horizontal",
            "min": 0,
            "description_tooltip": null,
            "_model_module": "@jupyter-widgets/controls",
            "layout": "IPY_MODEL_d795bc7975f645ee969b079fb208f45d"
          }
        },
        "08d41d8d62e94c22b3f467aadc12735d": {
          "model_module": "@jupyter-widgets/controls",
          "model_name": "HTMLModel",
          "state": {
            "_view_name": "HTMLView",
            "style": "IPY_MODEL_e14ff834d75849e5813b4a24358007f6",
            "_dom_classes": [],
            "description": "",
            "_model_name": "HTMLModel",
            "placeholder": "​",
            "_view_module": "@jupyter-widgets/controls",
            "_model_module_version": "1.5.0",
            "value": " 232k/232k [00:00&lt;00:00, 321kB/s]",
            "_view_count": null,
            "_view_module_version": "1.5.0",
            "description_tooltip": null,
            "_model_module": "@jupyter-widgets/controls",
            "layout": "IPY_MODEL_2de829083eae4c55a677c2419adf6025"
          }
        },
        "c27d853e27a14a52815160e8c339c6cd": {
          "model_module": "@jupyter-widgets/controls",
          "model_name": "ProgressStyleModel",
          "state": {
            "_view_name": "StyleView",
            "_model_name": "ProgressStyleModel",
            "description_width": "initial",
            "_view_module": "@jupyter-widgets/base",
            "_model_module_version": "1.5.0",
            "_view_count": null,
            "_view_module_version": "1.2.0",
            "bar_color": null,
            "_model_module": "@jupyter-widgets/controls"
          }
        },
        "d795bc7975f645ee969b079fb208f45d": {
          "model_module": "@jupyter-widgets/base",
          "model_name": "LayoutModel",
          "state": {
            "_view_name": "LayoutView",
            "grid_template_rows": null,
            "right": null,
            "justify_content": null,
            "_view_module": "@jupyter-widgets/base",
            "overflow": null,
            "_model_module_version": "1.2.0",
            "_view_count": null,
            "flex_flow": null,
            "width": null,
            "min_width": null,
            "border": null,
            "align_items": null,
            "bottom": null,
            "_model_module": "@jupyter-widgets/base",
            "top": null,
            "grid_column": null,
            "overflow_y": null,
            "overflow_x": null,
            "grid_auto_flow": null,
            "grid_area": null,
            "grid_template_columns": null,
            "flex": null,
            "_model_name": "LayoutModel",
            "justify_items": null,
            "grid_row": null,
            "max_height": null,
            "align_content": null,
            "visibility": null,
            "align_self": null,
            "height": null,
            "min_height": null,
            "padding": null,
            "grid_auto_rows": null,
            "grid_gap": null,
            "max_width": null,
            "order": null,
            "_view_module_version": "1.2.0",
            "grid_template_areas": null,
            "object_position": null,
            "object_fit": null,
            "grid_auto_columns": null,
            "margin": null,
            "display": null,
            "left": null
          }
        },
        "e14ff834d75849e5813b4a24358007f6": {
          "model_module": "@jupyter-widgets/controls",
          "model_name": "DescriptionStyleModel",
          "state": {
            "_view_name": "StyleView",
            "_model_name": "DescriptionStyleModel",
            "description_width": "",
            "_view_module": "@jupyter-widgets/base",
            "_model_module_version": "1.5.0",
            "_view_count": null,
            "_view_module_version": "1.2.0",
            "_model_module": "@jupyter-widgets/controls"
          }
        },
        "2de829083eae4c55a677c2419adf6025": {
          "model_module": "@jupyter-widgets/base",
          "model_name": "LayoutModel",
          "state": {
            "_view_name": "LayoutView",
            "grid_template_rows": null,
            "right": null,
            "justify_content": null,
            "_view_module": "@jupyter-widgets/base",
            "overflow": null,
            "_model_module_version": "1.2.0",
            "_view_count": null,
            "flex_flow": null,
            "width": null,
            "min_width": null,
            "border": null,
            "align_items": null,
            "bottom": null,
            "_model_module": "@jupyter-widgets/base",
            "top": null,
            "grid_column": null,
            "overflow_y": null,
            "overflow_x": null,
            "grid_auto_flow": null,
            "grid_area": null,
            "grid_template_columns": null,
            "flex": null,
            "_model_name": "LayoutModel",
            "justify_items": null,
            "grid_row": null,
            "max_height": null,
            "align_content": null,
            "visibility": null,
            "align_self": null,
            "height": null,
            "min_height": null,
            "padding": null,
            "grid_auto_rows": null,
            "grid_gap": null,
            "max_width": null,
            "order": null,
            "_view_module_version": "1.2.0",
            "grid_template_areas": null,
            "object_position": null,
            "object_fit": null,
            "grid_auto_columns": null,
            "margin": null,
            "display": null,
            "left": null
          }
        },
        "03ec58b44aa043a083f244f28d6ea706": {
          "model_module": "@jupyter-widgets/controls",
          "model_name": "HBoxModel",
          "state": {
            "_view_name": "HBoxView",
            "_dom_classes": [],
            "_model_name": "HBoxModel",
            "_view_module": "@jupyter-widgets/controls",
            "_model_module_version": "1.5.0",
            "_view_count": null,
            "_view_module_version": "1.5.0",
            "box_style": "",
            "layout": "IPY_MODEL_6a56d9b9c5944c17a5a11bb5e199d5fd",
            "_model_module": "@jupyter-widgets/controls",
            "children": [
              "IPY_MODEL_b52cdaab40b949e2804caf2e74e28bb2",
              "IPY_MODEL_d69e0934013e4afb8bb608c3d56fe625"
            ]
          }
        },
        "6a56d9b9c5944c17a5a11bb5e199d5fd": {
          "model_module": "@jupyter-widgets/base",
          "model_name": "LayoutModel",
          "state": {
            "_view_name": "LayoutView",
            "grid_template_rows": null,
            "right": null,
            "justify_content": null,
            "_view_module": "@jupyter-widgets/base",
            "overflow": null,
            "_model_module_version": "1.2.0",
            "_view_count": null,
            "flex_flow": null,
            "width": null,
            "min_width": null,
            "border": null,
            "align_items": null,
            "bottom": null,
            "_model_module": "@jupyter-widgets/base",
            "top": null,
            "grid_column": null,
            "overflow_y": null,
            "overflow_x": null,
            "grid_auto_flow": null,
            "grid_area": null,
            "grid_template_columns": null,
            "flex": null,
            "_model_name": "LayoutModel",
            "justify_items": null,
            "grid_row": null,
            "max_height": null,
            "align_content": null,
            "visibility": null,
            "align_self": null,
            "height": null,
            "min_height": null,
            "padding": null,
            "grid_auto_rows": null,
            "grid_gap": null,
            "max_width": null,
            "order": null,
            "_view_module_version": "1.2.0",
            "grid_template_areas": null,
            "object_position": null,
            "object_fit": null,
            "grid_auto_columns": null,
            "margin": null,
            "display": null,
            "left": null
          }
        },
        "b52cdaab40b949e2804caf2e74e28bb2": {
          "model_module": "@jupyter-widgets/controls",
          "model_name": "FloatProgressModel",
          "state": {
            "_view_name": "ProgressView",
            "style": "IPY_MODEL_cb3d98ab4b5545e0b5f364ca67af78d4",
            "_dom_classes": [],
            "description": "Downloading: 100%",
            "_model_name": "FloatProgressModel",
            "bar_style": "success",
            "max": 466062,
            "_view_module": "@jupyter-widgets/controls",
            "_model_module_version": "1.5.0",
            "value": 466062,
            "_view_count": null,
            "_view_module_version": "1.5.0",
            "orientation": "horizontal",
            "min": 0,
            "description_tooltip": null,
            "_model_module": "@jupyter-widgets/controls",
            "layout": "IPY_MODEL_aca7bf56fa554e69a581ff58568ff7b2"
          }
        },
        "d69e0934013e4afb8bb608c3d56fe625": {
          "model_module": "@jupyter-widgets/controls",
          "model_name": "HTMLModel",
          "state": {
            "_view_name": "HTMLView",
            "style": "IPY_MODEL_64dd221ad7644e4ea496c6f1f5eb8364",
            "_dom_classes": [],
            "description": "",
            "_model_name": "HTMLModel",
            "placeholder": "​",
            "_view_module": "@jupyter-widgets/controls",
            "_model_module_version": "1.5.0",
            "value": " 466k/466k [00:01&lt;00:00, 277kB/s]",
            "_view_count": null,
            "_view_module_version": "1.5.0",
            "description_tooltip": null,
            "_model_module": "@jupyter-widgets/controls",
            "layout": "IPY_MODEL_0f235714952940b4b3ed988629da001d"
          }
        },
        "cb3d98ab4b5545e0b5f364ca67af78d4": {
          "model_module": "@jupyter-widgets/controls",
          "model_name": "ProgressStyleModel",
          "state": {
            "_view_name": "StyleView",
            "_model_name": "ProgressStyleModel",
            "description_width": "initial",
            "_view_module": "@jupyter-widgets/base",
            "_model_module_version": "1.5.0",
            "_view_count": null,
            "_view_module_version": "1.2.0",
            "bar_color": null,
            "_model_module": "@jupyter-widgets/controls"
          }
        },
        "aca7bf56fa554e69a581ff58568ff7b2": {
          "model_module": "@jupyter-widgets/base",
          "model_name": "LayoutModel",
          "state": {
            "_view_name": "LayoutView",
            "grid_template_rows": null,
            "right": null,
            "justify_content": null,
            "_view_module": "@jupyter-widgets/base",
            "overflow": null,
            "_model_module_version": "1.2.0",
            "_view_count": null,
            "flex_flow": null,
            "width": null,
            "min_width": null,
            "border": null,
            "align_items": null,
            "bottom": null,
            "_model_module": "@jupyter-widgets/base",
            "top": null,
            "grid_column": null,
            "overflow_y": null,
            "overflow_x": null,
            "grid_auto_flow": null,
            "grid_area": null,
            "grid_template_columns": null,
            "flex": null,
            "_model_name": "LayoutModel",
            "justify_items": null,
            "grid_row": null,
            "max_height": null,
            "align_content": null,
            "visibility": null,
            "align_self": null,
            "height": null,
            "min_height": null,
            "padding": null,
            "grid_auto_rows": null,
            "grid_gap": null,
            "max_width": null,
            "order": null,
            "_view_module_version": "1.2.0",
            "grid_template_areas": null,
            "object_position": null,
            "object_fit": null,
            "grid_auto_columns": null,
            "margin": null,
            "display": null,
            "left": null
          }
        },
        "64dd221ad7644e4ea496c6f1f5eb8364": {
          "model_module": "@jupyter-widgets/controls",
          "model_name": "DescriptionStyleModel",
          "state": {
            "_view_name": "StyleView",
            "_model_name": "DescriptionStyleModel",
            "description_width": "",
            "_view_module": "@jupyter-widgets/base",
            "_model_module_version": "1.5.0",
            "_view_count": null,
            "_view_module_version": "1.2.0",
            "_model_module": "@jupyter-widgets/controls"
          }
        },
        "0f235714952940b4b3ed988629da001d": {
          "model_module": "@jupyter-widgets/base",
          "model_name": "LayoutModel",
          "state": {
            "_view_name": "LayoutView",
            "grid_template_rows": null,
            "right": null,
            "justify_content": null,
            "_view_module": "@jupyter-widgets/base",
            "overflow": null,
            "_model_module_version": "1.2.0",
            "_view_count": null,
            "flex_flow": null,
            "width": null,
            "min_width": null,
            "border": null,
            "align_items": null,
            "bottom": null,
            "_model_module": "@jupyter-widgets/base",
            "top": null,
            "grid_column": null,
            "overflow_y": null,
            "overflow_x": null,
            "grid_auto_flow": null,
            "grid_area": null,
            "grid_template_columns": null,
            "flex": null,
            "_model_name": "LayoutModel",
            "justify_items": null,
            "grid_row": null,
            "max_height": null,
            "align_content": null,
            "visibility": null,
            "align_self": null,
            "height": null,
            "min_height": null,
            "padding": null,
            "grid_auto_rows": null,
            "grid_gap": null,
            "max_width": null,
            "order": null,
            "_view_module_version": "1.2.0",
            "grid_template_areas": null,
            "object_position": null,
            "object_fit": null,
            "grid_auto_columns": null,
            "margin": null,
            "display": null,
            "left": null
          }
        },
        "2c0aefe506b949daacd25c95dcd2cf36": {
          "model_module": "@jupyter-widgets/controls",
          "model_name": "HBoxModel",
          "state": {
            "_view_name": "HBoxView",
            "_dom_classes": [],
            "_model_name": "HBoxModel",
            "_view_module": "@jupyter-widgets/controls",
            "_model_module_version": "1.5.0",
            "_view_count": null,
            "_view_module_version": "1.5.0",
            "box_style": "",
            "layout": "IPY_MODEL_aae6274080c74669b15c4921f52a6bac",
            "_model_module": "@jupyter-widgets/controls",
            "children": [
              "IPY_MODEL_826d69014c8244029dc31ad1f349a471",
              "IPY_MODEL_e7f50a3d5d0c457288a6a4e35175379d"
            ]
          }
        },
        "aae6274080c74669b15c4921f52a6bac": {
          "model_module": "@jupyter-widgets/base",
          "model_name": "LayoutModel",
          "state": {
            "_view_name": "LayoutView",
            "grid_template_rows": null,
            "right": null,
            "justify_content": null,
            "_view_module": "@jupyter-widgets/base",
            "overflow": null,
            "_model_module_version": "1.2.0",
            "_view_count": null,
            "flex_flow": null,
            "width": null,
            "min_width": null,
            "border": null,
            "align_items": null,
            "bottom": null,
            "_model_module": "@jupyter-widgets/base",
            "top": null,
            "grid_column": null,
            "overflow_y": null,
            "overflow_x": null,
            "grid_auto_flow": null,
            "grid_area": null,
            "grid_template_columns": null,
            "flex": null,
            "_model_name": "LayoutModel",
            "justify_items": null,
            "grid_row": null,
            "max_height": null,
            "align_content": null,
            "visibility": null,
            "align_self": null,
            "height": null,
            "min_height": null,
            "padding": null,
            "grid_auto_rows": null,
            "grid_gap": null,
            "max_width": null,
            "order": null,
            "_view_module_version": "1.2.0",
            "grid_template_areas": null,
            "object_position": null,
            "object_fit": null,
            "grid_auto_columns": null,
            "margin": null,
            "display": null,
            "left": null
          }
        },
        "826d69014c8244029dc31ad1f349a471": {
          "model_module": "@jupyter-widgets/controls",
          "model_name": "FloatProgressModel",
          "state": {
            "_view_name": "ProgressView",
            "style": "IPY_MODEL_175ac080cf8f460aae28b579ee766ca5",
            "_dom_classes": [],
            "description": "Downloading: 100%",
            "_model_name": "FloatProgressModel",
            "bar_style": "success",
            "max": 28,
            "_view_module": "@jupyter-widgets/controls",
            "_model_module_version": "1.5.0",
            "value": 28,
            "_view_count": null,
            "_view_module_version": "1.5.0",
            "orientation": "horizontal",
            "min": 0,
            "description_tooltip": null,
            "_model_module": "@jupyter-widgets/controls",
            "layout": "IPY_MODEL_2cae086af4e8415782c83e949f1bc4da"
          }
        },
        "e7f50a3d5d0c457288a6a4e35175379d": {
          "model_module": "@jupyter-widgets/controls",
          "model_name": "HTMLModel",
          "state": {
            "_view_name": "HTMLView",
            "style": "IPY_MODEL_972a00c8cb8745c49354b23f189c60f4",
            "_dom_classes": [],
            "description": "",
            "_model_name": "HTMLModel",
            "placeholder": "​",
            "_view_module": "@jupyter-widgets/controls",
            "_model_module_version": "1.5.0",
            "value": " 28.0/28.0 [00:00&lt;00:00, 559B/s]",
            "_view_count": null,
            "_view_module_version": "1.5.0",
            "description_tooltip": null,
            "_model_module": "@jupyter-widgets/controls",
            "layout": "IPY_MODEL_a0b486d03f8b4d8b97ba0ec20acc8349"
          }
        },
        "175ac080cf8f460aae28b579ee766ca5": {
          "model_module": "@jupyter-widgets/controls",
          "model_name": "ProgressStyleModel",
          "state": {
            "_view_name": "StyleView",
            "_model_name": "ProgressStyleModel",
            "description_width": "initial",
            "_view_module": "@jupyter-widgets/base",
            "_model_module_version": "1.5.0",
            "_view_count": null,
            "_view_module_version": "1.2.0",
            "bar_color": null,
            "_model_module": "@jupyter-widgets/controls"
          }
        },
        "2cae086af4e8415782c83e949f1bc4da": {
          "model_module": "@jupyter-widgets/base",
          "model_name": "LayoutModel",
          "state": {
            "_view_name": "LayoutView",
            "grid_template_rows": null,
            "right": null,
            "justify_content": null,
            "_view_module": "@jupyter-widgets/base",
            "overflow": null,
            "_model_module_version": "1.2.0",
            "_view_count": null,
            "flex_flow": null,
            "width": null,
            "min_width": null,
            "border": null,
            "align_items": null,
            "bottom": null,
            "_model_module": "@jupyter-widgets/base",
            "top": null,
            "grid_column": null,
            "overflow_y": null,
            "overflow_x": null,
            "grid_auto_flow": null,
            "grid_area": null,
            "grid_template_columns": null,
            "flex": null,
            "_model_name": "LayoutModel",
            "justify_items": null,
            "grid_row": null,
            "max_height": null,
            "align_content": null,
            "visibility": null,
            "align_self": null,
            "height": null,
            "min_height": null,
            "padding": null,
            "grid_auto_rows": null,
            "grid_gap": null,
            "max_width": null,
            "order": null,
            "_view_module_version": "1.2.0",
            "grid_template_areas": null,
            "object_position": null,
            "object_fit": null,
            "grid_auto_columns": null,
            "margin": null,
            "display": null,
            "left": null
          }
        },
        "972a00c8cb8745c49354b23f189c60f4": {
          "model_module": "@jupyter-widgets/controls",
          "model_name": "DescriptionStyleModel",
          "state": {
            "_view_name": "StyleView",
            "_model_name": "DescriptionStyleModel",
            "description_width": "",
            "_view_module": "@jupyter-widgets/base",
            "_model_module_version": "1.5.0",
            "_view_count": null,
            "_view_module_version": "1.2.0",
            "_model_module": "@jupyter-widgets/controls"
          }
        },
        "a0b486d03f8b4d8b97ba0ec20acc8349": {
          "model_module": "@jupyter-widgets/base",
          "model_name": "LayoutModel",
          "state": {
            "_view_name": "LayoutView",
            "grid_template_rows": null,
            "right": null,
            "justify_content": null,
            "_view_module": "@jupyter-widgets/base",
            "overflow": null,
            "_model_module_version": "1.2.0",
            "_view_count": null,
            "flex_flow": null,
            "width": null,
            "min_width": null,
            "border": null,
            "align_items": null,
            "bottom": null,
            "_model_module": "@jupyter-widgets/base",
            "top": null,
            "grid_column": null,
            "overflow_y": null,
            "overflow_x": null,
            "grid_auto_flow": null,
            "grid_area": null,
            "grid_template_columns": null,
            "flex": null,
            "_model_name": "LayoutModel",
            "justify_items": null,
            "grid_row": null,
            "max_height": null,
            "align_content": null,
            "visibility": null,
            "align_self": null,
            "height": null,
            "min_height": null,
            "padding": null,
            "grid_auto_rows": null,
            "grid_gap": null,
            "max_width": null,
            "order": null,
            "_view_module_version": "1.2.0",
            "grid_template_areas": null,
            "object_position": null,
            "object_fit": null,
            "grid_auto_columns": null,
            "margin": null,
            "display": null,
            "left": null
          }
        }
      }
    }
  },
  "cells": [
    {
      "cell_type": "code",
      "metadata": {
        "id": "tZRSiDYNQLSr"
      },
      "source": [
        "# as you can see current ram is 12GB only, to increase it run below code"
      ],
      "execution_count": null,
      "outputs": []
    },
    {
      "cell_type": "code",
      "metadata": {
        "id": "87T5BetZQYQv"
      },
      "source": [
        "#i = []\n",
        "#while True:\n",
        "#  i.append(i)"
      ],
      "execution_count": null,
      "outputs": []
    },
    {
      "cell_type": "code",
      "metadata": {
        "id": "YOckP_sYQcda"
      },
      "source": [
        "# wait for few minutes, after that you will get a prompt that your notebook got crashed, do you want to increase ram ?"
      ],
      "execution_count": null,
      "outputs": []
    },
    {
      "cell_type": "code",
      "metadata": {
        "id": "_F9FfyFSQl_5"
      },
      "source": [
        "# in the prompt click - yes"
      ],
      "execution_count": null,
      "outputs": []
    },
    {
      "cell_type": "code",
      "metadata": {
        "id": "xalsFDNyQp66"
      },
      "source": [
        "# as you see the ram increase from 12GB to 25GB"
      ],
      "execution_count": null,
      "outputs": []
    },
    {
      "cell_type": "code",
      "metadata": {
        "id": "XryjXIYhQ_gM"
      },
      "source": [
        "#thanks for watching, keep learning "
      ],
      "execution_count": null,
      "outputs": []
    },
    {
      "cell_type": "markdown",
      "metadata": {
        "id": "Wd-2ZJjoJaNU"
      },
      "source": [
        "**NOTE**: PLease allow your browser to allow show pop-ups by sites as show below "
      ]
    },
    {
      "cell_type": "code",
      "metadata": {
        "id": "beJ_3jq4JkDD",
        "colab": {
          "base_uri": "https://localhost:8080/",
          "height": 362
        },
        "outputId": "25d1f72d-477d-4ece-e34d-e0c8f335669e"
      },
      "source": [
        "#step-1"
      ],
      "execution_count": null,
      "outputs": [
        {
          "output_type": "display_data",
          "data": {
            "image/png": "[encoded data removed]",
            "text/plain": [
              "<IPython.core.display.Image object>"
            ]
          },
          "metadata": {
            "tags": []
          }
        }
      ]
    },
    {
      "cell_type": "code",
      "metadata": {
        "id": "kbg5pOhxOKbY",
        "colab": {
          "base_uri": "https://localhost:8080/",
          "height": 571
        },
        "outputId": "a655019f-99a5-492d-fd32-6fe89f28627c"
      },
      "source": [
        "#step-2"
      ],
      "execution_count": null,
      "outputs": [
        {
          "output_type": "display_data",
          "data": {
            "image/png": "[encoded data removed]",
            "text/plain": [
              "<IPython.core.display.Image object>"
            ]
          },
          "metadata": {
            "tags": []
          }
        }
      ]
    },
    {
      "cell_type": "code",
      "metadata": {
        "id": "Q75dOIsyT8u5",
        "colab": {
          "base_uri": "https://localhost:8080/"
        },
        "outputId": "045c8fd3-9c05-45ed-dada-c44bf30dc4ed"
      },
      "source": [
        "!pip install transformers\n",
        "\n",
        "!pip install torch torchvision\n",
        "\n",
        "!pip install tensorboardX\n",
        "\n",
        "!pip install python-Levenshtein\n",
        "\n",
        "!pip install tensorflow\n",
        "\n",
        "!pip install tqdm\n",
        "\n",
        "!pip install fuzzywuzzy"
      ],
      "execution_count": null,
      "outputs": [
        {
          "output_type": "stream",
          "text": [
            "Collecting transformers\n",
            "  Downloading transformers-4.9.0-py3-none-any.whl (2.6 MB)\n",
            "\u001b[K     |████████████████████████████████| 2.6 MB 34.0 MB/s \n",
            "\u001b[?25hRequirement already satisfied: tqdm>=4.27 in /usr/local/lib/python3.7/dist-packages (from transformers) (4.41.1)\n",
            "Requirement already satisfied: packaging in /usr/local/lib/python3.7/dist-packages (from transformers) (21.0)\n",
            "Requirement already satisfied: numpy>=1.17 in /usr/local/lib/python3.7/dist-packages (from transformers) (1.19.5)\n",
            "Collecting pyyaml>=5.1\n",
            "  Downloading PyYAML-5.4.1-cp37-cp37m-manylinux1_x86_64.whl (636 kB)\n",
            "\u001b[K     |████████████████████████████████| 636 kB 46.6 MB/s \n",
            "\u001b[?25hRequirement already satisfied: requests in /usr/local/lib/python3.7/dist-packages (from transformers) (2.23.0)\n",
            "Collecting huggingface-hub==0.0.12\n",
            "  Downloading huggingface_hub-0.0.12-py3-none-any.whl (37 kB)\n",
            "Collecting tokenizers<0.11,>=0.10.1\n",
            "  Downloading tokenizers-0.10.3-cp37-cp37m-manylinux_2_5_x86_64.manylinux1_x86_64.manylinux_2_12_x86_64.manylinux2010_x86_64.whl (3.3 MB)\n",
            "\u001b[K     |████████████████████████████████| 3.3 MB 48.8 MB/s \n",
            "\u001b[?25hRequirement already satisfied: importlib-metadata in /usr/local/lib/python3.7/dist-packages (from transformers) (4.6.1)\n",
            "Requirement already satisfied: filelock in /usr/local/lib/python3.7/dist-packages (from transformers) (3.0.12)\n",
            "Requirement already satisfied: regex!=2019.12.17 in /usr/local/lib/python3.7/dist-packages (from transformers) (2019.12.20)\n",
            "Collecting sacremoses\n",
            "  Downloading sacremoses-0.0.45-py3-none-any.whl (895 kB)\n",
            "\u001b[K     |████████████████████████████████| 895 kB 46.0 MB/s \n",
            "\u001b[?25hRequirement already satisfied: typing-extensions in /usr/local/lib/python3.7/dist-packages (from huggingface-hub==0.0.12->transformers) (3.7.4.3)\n",
            "Requirement already satisfied: pyparsing>=2.0.2 in /usr/local/lib/python3.7/dist-packages (from packaging->transformers) (2.4.7)\n",
            "Requirement already satisfied: zipp>=0.5 in /usr/local/lib/python3.7/dist-packages (from importlib-metadata->transformers) (3.5.0)\n",
            "Requirement already satisfied: urllib3!=1.25.0,!=1.25.1,<1.26,>=1.21.1 in /usr/local/lib/python3.7/dist-packages (from requests->transformers) (1.24.3)\n",
            "Requirement already satisfied: chardet<4,>=3.0.2 in /usr/local/lib/python3.7/dist-packages (from requests->transformers) (3.0.4)\n",
            "Requirement already satisfied: idna<3,>=2.5 in /usr/local/lib/python3.7/dist-packages (from requests->transformers) (2.10)\n",
            "Requirement already satisfied: certifi>=2017.4.17 in /usr/local/lib/python3.7/dist-packages (from requests->transformers) (2021.5.30)\n",
            "Requirement already satisfied: six in /usr/local/lib/python3.7/dist-packages (from sacremoses->transformers) (1.15.0)\n",
            "Requirement already satisfied: joblib in /usr/local/lib/python3.7/dist-packages (from sacremoses->transformers) (1.0.1)\n",
            "Requirement already satisfied: click in /usr/local/lib/python3.7/dist-packages (from sacremoses->transformers) (7.1.2)\n",
            "Installing collected packages: tokenizers, sacremoses, pyyaml, huggingface-hub, transformers\n",
            "  Attempting uninstall: pyyaml\n",
            "    Found existing installation: PyYAML 3.13\n",
            "    Uninstalling PyYAML-3.13:\n",
            "      Successfully uninstalled PyYAML-3.13\n",
            "Successfully installed huggingface-hub-0.0.12 pyyaml-5.4.1 sacremoses-0.0.45 tokenizers-0.10.3 transformers-4.9.0\n",
            "Requirement already satisfied: torch in /usr/local/lib/python3.7/dist-packages (1.9.0+cu102)\n",
            "Requirement already satisfied: torchvision in /usr/local/lib/python3.7/dist-packages (0.10.0+cu102)\n",
            "Requirement already satisfied: typing-extensions in /usr/local/lib/python3.7/dist-packages (from torch) (3.7.4.3)\n",
            "Requirement already satisfied: pillow>=5.3.0 in /usr/local/lib/python3.7/dist-packages (from torchvision) (7.1.2)\n",
            "Requirement already satisfied: numpy in /usr/local/lib/python3.7/dist-packages (from torchvision) (1.19.5)\n",
            "Collecting tensorboardX\n",
            "  Downloading tensorboardX-2.4-py2.py3-none-any.whl (124 kB)\n",
            "\u001b[K     |████████████████████████████████| 124 kB 31.7 MB/s \n",
            "\u001b[?25hRequirement already satisfied: numpy in /usr/local/lib/python3.7/dist-packages (from tensorboardX) (1.19.5)\n",
            "Requirement already satisfied: protobuf>=3.8.0 in /usr/local/lib/python3.7/dist-packages (from tensorboardX) (3.17.3)\n",
            "Requirement already satisfied: six>=1.9 in /usr/local/lib/python3.7/dist-packages (from protobuf>=3.8.0->tensorboardX) (1.15.0)\n",
            "Installing collected packages: tensorboardX\n",
            "Successfully installed tensorboardX-2.4\n",
            "Collecting python-Levenshtein\n",
            "  Downloading python-Levenshtein-0.12.2.tar.gz (50 kB)\n",
            "\u001b[K     |████████████████████████████████| 50 kB 5.0 MB/s \n",
            "\u001b[?25hRequirement already satisfied: setuptools in /usr/local/lib/python3.7/dist-packages (from python-Levenshtein) (57.2.0)\n",
            "Building wheels for collected packages: python-Levenshtein\n",
            "  Building wheel for python-Levenshtein (setup.py) ... \u001b[?25l\u001b[?25hdone\n",
            "  Created wheel for python-Levenshtein: filename=python_Levenshtein-0.12.2-cp37-cp37m-linux_x86_64.whl size=149871 sha256=3c01f2d67fa73fa95b2d9a125c935534d2057e8a904d623cc06c3a0f732485fa\n",
            "  Stored in directory: /root/.cache/pip/wheels/05/5f/ca/7c4367734892581bb5ff896f15027a932c551080b2abd3e00d\n",
            "Successfully built python-Levenshtein\n",
            "Installing collected packages: python-Levenshtein\n",
            "Successfully installed python-Levenshtein-0.12.2\n",
            "Requirement already satisfied: tensorflow in /usr/local/lib/python3.7/dist-packages (2.5.0)\n",
            "Requirement already satisfied: numpy~=1.19.2 in /usr/local/lib/python3.7/dist-packages (from tensorflow) (1.19.5)\n",
            "Requirement already satisfied: tensorflow-estimator<2.6.0,>=2.5.0rc0 in /usr/local/lib/python3.7/dist-packages (from tensorflow) (2.5.0)\n",
            "Requirement already satisfied: typing-extensions~=3.7.4 in /usr/local/lib/python3.7/dist-packages (from tensorflow) (3.7.4.3)\n",
            "Requirement already satisfied: tensorboard~=2.5 in /usr/local/lib/python3.7/dist-packages (from tensorflow) (2.5.0)\n",
            "Requirement already satisfied: gast==0.4.0 in /usr/local/lib/python3.7/dist-packages (from tensorflow) (0.4.0)\n",
            "Requirement already satisfied: termcolor~=1.1.0 in /usr/local/lib/python3.7/dist-packages (from tensorflow) (1.1.0)\n",
            "Requirement already satisfied: h5py~=3.1.0 in /usr/local/lib/python3.7/dist-packages (from tensorflow) (3.1.0)\n",
            "Requirement already satisfied: six~=1.15.0 in /usr/local/lib/python3.7/dist-packages (from tensorflow) (1.15.0)\n",
            "Requirement already satisfied: opt-einsum~=3.3.0 in /usr/local/lib/python3.7/dist-packages (from tensorflow) (3.3.0)\n",
            "Requirement already satisfied: absl-py~=0.10 in /usr/local/lib/python3.7/dist-packages (from tensorflow) (0.12.0)\n",
            "Requirement already satisfied: keras-nightly~=2.5.0.dev in /usr/local/lib/python3.7/dist-packages (from tensorflow) (2.5.0.dev2021032900)\n",
            "Requirement already satisfied: wheel~=0.35 in /usr/local/lib/python3.7/dist-packages (from tensorflow) (0.36.2)\n",
            "Requirement already satisfied: keras-preprocessing~=1.1.2 in /usr/local/lib/python3.7/dist-packages (from tensorflow) (1.1.2)\n",
            "Requirement already satisfied: astunparse~=1.6.3 in /usr/local/lib/python3.7/dist-packages (from tensorflow) (1.6.3)\n",
            "Requirement already satisfied: wrapt~=1.12.1 in /usr/local/lib/python3.7/dist-packages (from tensorflow) (1.12.1)\n",
            "Requirement already satisfied: grpcio~=1.34.0 in /usr/local/lib/python3.7/dist-packages (from tensorflow) (1.34.1)\n",
            "Requirement already satisfied: google-pasta~=0.2 in /usr/local/lib/python3.7/dist-packages (from tensorflow) (0.2.0)\n",
            "Requirement already satisfied: protobuf>=3.9.2 in /usr/local/lib/python3.7/dist-packages (from tensorflow) (3.17.3)\n",
            "Requirement already satisfied: flatbuffers~=1.12.0 in /usr/local/lib/python3.7/dist-packages (from tensorflow) (1.12)\n",
            "Requirement already satisfied: cached-property in /usr/local/lib/python3.7/dist-packages (from h5py~=3.1.0->tensorflow) (1.5.2)\n",
            "Requirement already satisfied: tensorboard-plugin-wit>=1.6.0 in /usr/local/lib/python3.7/dist-packages (from tensorboard~=2.5->tensorflow) (1.8.0)\n",
            "Requirement already satisfied: tensorboard-data-server<0.7.0,>=0.6.0 in /usr/local/lib/python3.7/dist-packages (from tensorboard~=2.5->tensorflow) (0.6.1)\n",
            "Requirement already satisfied: werkzeug>=0.11.15 in /usr/local/lib/python3.7/dist-packages (from tensorboard~=2.5->tensorflow) (1.0.1)\n",
            "Requirement already satisfied: requests<3,>=2.21.0 in /usr/local/lib/python3.7/dist-packages (from tensorboard~=2.5->tensorflow) (2.23.0)\n",
            "Requirement already satisfied: setuptools>=41.0.0 in /usr/local/lib/python3.7/dist-packages (from tensorboard~=2.5->tensorflow) (57.2.0)\n",
            "Requirement already satisfied: google-auth-oauthlib<0.5,>=0.4.1 in /usr/local/lib/python3.7/dist-packages (from tensorboard~=2.5->tensorflow) (0.4.4)\n",
            "Requirement already satisfied: google-auth<2,>=1.6.3 in /usr/local/lib/python3.7/dist-packages (from tensorboard~=2.5->tensorflow) (1.32.1)\n",
            "Requirement already satisfied: markdown>=2.6.8 in /usr/local/lib/python3.7/dist-packages (from tensorboard~=2.5->tensorflow) (3.3.4)\n",
            "Requirement already satisfied: cachetools<5.0,>=2.0.0 in /usr/local/lib/python3.7/dist-packages (from google-auth<2,>=1.6.3->tensorboard~=2.5->tensorflow) (4.2.2)\n",
            "Requirement already satisfied: rsa<5,>=3.1.4 in /usr/local/lib/python3.7/dist-packages (from google-auth<2,>=1.6.3->tensorboard~=2.5->tensorflow) (4.7.2)\n",
            "Requirement already satisfied: pyasn1-modules>=0.2.1 in /usr/local/lib/python3.7/dist-packages (from google-auth<2,>=1.6.3->tensorboard~=2.5->tensorflow) (0.2.8)\n",
            "Requirement already satisfied: requests-oauthlib>=0.7.0 in /usr/local/lib/python3.7/dist-packages (from google-auth-oauthlib<0.5,>=0.4.1->tensorboard~=2.5->tensorflow) (1.3.0)\n",
            "Requirement already satisfied: importlib-metadata in /usr/local/lib/python3.7/dist-packages (from markdown>=2.6.8->tensorboard~=2.5->tensorflow) (4.6.1)\n",
            "Requirement already satisfied: pyasn1<0.5.0,>=0.4.6 in /usr/local/lib/python3.7/dist-packages (from pyasn1-modules>=0.2.1->google-auth<2,>=1.6.3->tensorboard~=2.5->tensorflow) (0.4.8)\n",
            "Requirement already satisfied: idna<3,>=2.5 in /usr/local/lib/python3.7/dist-packages (from requests<3,>=2.21.0->tensorboard~=2.5->tensorflow) (2.10)\n",
            "Requirement already satisfied: certifi>=2017.4.17 in /usr/local/lib/python3.7/dist-packages (from requests<3,>=2.21.0->tensorboard~=2.5->tensorflow) (2021.5.30)\n",
            "Requirement already satisfied: urllib3!=1.25.0,!=1.25.1,<1.26,>=1.21.1 in /usr/local/lib/python3.7/dist-packages (from requests<3,>=2.21.0->tensorboard~=2.5->tensorflow) (1.24.3)\n",
            "Requirement already satisfied: chardet<4,>=3.0.2 in /usr/local/lib/python3.7/dist-packages (from requests<3,>=2.21.0->tensorboard~=2.5->tensorflow) (3.0.4)\n",
            "Requirement already satisfied: oauthlib>=3.0.0 in /usr/local/lib/python3.7/dist-packages (from requests-oauthlib>=0.7.0->google-auth-oauthlib<0.5,>=0.4.1->tensorboard~=2.5->tensorflow) (3.1.1)\n",
            "Requirement already satisfied: zipp>=0.5 in /usr/local/lib/python3.7/dist-packages (from importlib-metadata->markdown>=2.6.8->tensorboard~=2.5->tensorflow) (3.5.0)\n",
            "Requirement already satisfied: tqdm in /usr/local/lib/python3.7/dist-packages (4.41.1)\n",
            "Collecting fuzzywuzzy\n",
            "  Downloading fuzzywuzzy-0.18.0-py2.py3-none-any.whl (18 kB)\n",
            "Installing collected packages: fuzzywuzzy\n",
            "Successfully installed fuzzywuzzy-0.18.0\n"
          ],
          "name": "stdout"
        }
      ]
    },
    {
      "cell_type": "code",
      "metadata": {
        "colab": {
          "base_uri": "https://localhost:8080/"
        },
        "id": "PO6tsvBhfZhW",
        "outputId": "d406c9b7-c233-4996-e461-954f91fb02f2"
      },
      "source": [
        "# CONEXIÓN A DRIVE\n",
        "from google.colab import drive\n",
        "drive.mount('/content/drive')"
      ],
      "execution_count": null,
      "outputs": [
        {
          "output_type": "stream",
          "text": [
            "Drive already mounted at /content/drive; to attempt to forcibly remount, call drive.mount(\"/content/drive\", force_remount=True).\n"
          ],
          "name": "stdout"
        }
      ]
    },
    {
      "cell_type": "code",
      "metadata": {
        "id": "FdnjTFgUfdrU",
        "colab": {
          "base_uri": "https://localhost:8080/"
        },
        "outputId": "50cb3844-fe68-40ea-ec15-416ba9efbbef"
      },
      "source": [
        "import sys\n",
        "\n",
        "sys.path.append('/content/drive/My Drive/Datitos/Proyecto_Final/')\n",
        "\n",
        "sys.path.append('/content/drive/My Drive/Datitos/Proyecto_Final/datasets/indomain_train/')\n",
        "sys.path.append('/content/drive/My Drive/Datitos/Proyecto_Final/datasets/indomain_val/')\n",
        "sys.path.append('/content/drive/My Drive/Datitos/Proyecto_Final/datasets/oodomain_test/')\n",
        "sys.path.append('/content/drive/My Drive/Datitos/Proyecto_Final/datasets/oodomain_train/')\n",
        "sys.path.append('/content/drive/My Drive/Datitos/Proyecto_Final/datasets/oodomain_val/')\n",
        "\n",
        "sys.path.append('/content/drive/My Drive/Datitos/Proyecto_Final/save/')\n",
        "\n",
        "%cd /content/drive/My Drive/Datitos/Proyecto_Final/\n",
        "!ls"
      ],
      "execution_count": null,
      "outputs": [
        {
          "output_type": "stream",
          "text": [
            "/content/drive/My Drive/Datitos/Proyecto_Final\n",
            " args.py\n",
            " convert_to_squad.py\n",
            "'Copia de prueba MOE (stocastic).ipynb'\n",
            " datasets\n",
            " ngrok\n",
            " ngrok-stable-linux-amd64.zip\n",
            "'Proyecto Final'\n",
            " Prueba.ipynb\n",
            "'prueba MOE 1 - Increase RAM.ipynb'\n",
            "'prueba MOE 2 (+ruido) - Increase RAM.ipynb'\n",
            "'prueba MOE 3 (stocastic) - Increase RAM.ipynb'\n",
            "'prueba MOE 4 (stocastic + extra loss) - Increase RAM.ipynb'\n",
            " __pycache__\n",
            " save\n",
            " train.py\n",
            " util.py\n"
          ],
          "name": "stdout"
        }
      ]
    },
    {
      "cell_type": "code",
      "metadata": {
        "id": "rBmzN5_JP_KT"
      },
      "source": [
        "import argparse\n",
        "import json\n",
        "import os\n",
        "from collections import OrderedDict\n",
        "import torch\n",
        "import csv\n",
        "import util\n",
        "\n",
        "#import transformers\n",
        "from transformers import DistilBertTokenizerFast\n",
        "from transformers import DistilBertForQuestionAnswering\n",
        "from transformers import AdamW\n",
        "from tensorboardX import SummaryWriter\n",
        "#from torch.utils.tensorboard import SummaryWriter\n",
        "\n",
        "from torch.utils.data import DataLoader\n",
        "from torch.utils.data.sampler import RandomSampler, SequentialSampler\n",
        "\n",
        "from tqdm import tqdm\n",
        "\n",
        "import torch.nn as nn\n",
        "import math\n",
        "\n",
        "from torch.nn import BCEWithLogitsLoss, CrossEntropyLoss, MSELoss"
      ],
      "execution_count": null,
      "outputs": []
    },
    {
      "cell_type": "code",
      "metadata": {
        "id": "Y59mn95FN-8i"
      },
      "source": [
        "import args\n",
        "import train\n",
        "import util\n",
        "import convert_to_squad"
      ],
      "execution_count": null,
      "outputs": []
    },
    {
      "cell_type": "code",
      "metadata": {
        "id": "u1xRg461sECs"
      },
      "source": [
        "from args import get_train_test_args\n",
        "\n",
        "from train import get_dataset, prepare_train_data, prepare_eval_data, read_and_process, get_dataset"
      ],
      "execution_count": null,
      "outputs": []
    },
    {
      "cell_type": "code",
      "metadata": {
        "id": "swzfhYrCNqVL"
      },
      "source": [
        "#device = torch.device('cuda' if torch.cuda.is_available() else 'cpu')"
      ],
      "execution_count": null,
      "outputs": []
    },
    {
      "cell_type": "code",
      "metadata": {
        "colab": {
          "base_uri": "https://localhost:8080/"
        },
        "id": "Y6WmIHM9EU8n",
        "outputId": "96d2c284-e1ea-4d23-c589-85a02dc7f848"
      },
      "source": [
        "pip install GPUtil"
      ],
      "execution_count": null,
      "outputs": [
        {
          "output_type": "stream",
          "text": [
            "Requirement already satisfied: GPUtil in /usr/local/lib/python3.7/dist-packages (1.4.0)\n"
          ],
          "name": "stdout"
        }
      ]
    },
    {
      "cell_type": "code",
      "metadata": {
        "colab": {
          "base_uri": "https://localhost:8080/"
        },
        "id": "FPMHxEXYEicc",
        "outputId": "50368e68-0e8d-4653-e2d9-6c5095208e0b"
      },
      "source": [
        "import GPUtil\n",
        "GPUtil.showUtilization()"
      ],
      "execution_count": null,
      "outputs": [
        {
          "output_type": "stream",
          "text": [
            "| ID | GPU | MEM |\n",
            "------------------\n",
            "|  0 |  0% |  0% |\n"
          ],
          "name": "stdout"
        }
      ]
    },
    {
      "cell_type": "markdown",
      "metadata": {
        "id": "h6pYQrt9A6GR"
      },
      "source": [
        "### Capa de atención de múltiples cabezales\n",
        "\n",
        "Uno de los conceptos clave y novedosos introducidos por el documento Transformer es la *capa de atención de múltiples cabezales*. \n",
        "\n",
        "![](https://i.imgur.com/CwYzPgi.png)\n",
        "\n",
        "La atención se puede considerar como ***consultas (queries)***, ***claves (keys)*** y ***valores (values)***, donde la consulta se usa junto a la clave para obtener un vector de atención (generalmente el resultado de una operación *softmax* y tiene todos los valores entre 0 y 1 que suma a 1) que luego se usa para obtener una suma ponderada de los valores.\n",
        "\n",
        "El Transformer utiliza ***atención de producto punto escalada***, donde la consulta y la clave se combinan tomando el producto punto entre ellas, luego aplicando softmax y escalando por $d_k$ antes de finalmente multiplicar por el valor. La constante $ d_k $ es la ***dimensión de la cabeza***, `head_dim`, que explicaremos con más detalle en breve.\n",
        "\n",
        "$$ \\text{Attention}(Q, K, V) = \\text{Softmax} \\big( \\frac{QK^T}{\\sqrt{d_k}} \\big)V $$ \n",
        "\n",
        "Esto es similar a la ***atención de producto punto*** estándar pero escalada por $ d_k $, que según el documento se usa para evitar que los resultados de los productos punto se hagan demasiado grandes, y por lo tanto los gradientes se vuelvan demasiado pequeños.\n",
        "\n",
        "Sin embargo, la atención de producto punto escalada no se aplica simplemente a las consultas, claves y valores. En lugar de realizar una aplicación de atención única, las consultas, claves y valores tienen su `hid_dim` dividido en ***$ h $ cabezas*** y la atención de producto punto escalada se calcula sobre todas las cabezas en paralelo. Esto significa que en lugar de prestar atención a un concepto por aplicación de atención, prestamos atención a $ h $ conceptos. Luego, volvemos a combinar las cabezas en su forma `hid_dim`.\n",
        "\n",
        "$$ \\text{MultiHead}(Q, K, V) = \\text{Concat}(\\text{head}_1,...,\\text{head}_h)W^O $$\n",
        "\n",
        "$$\\text{head}_i = \\text{Attention}(QW_i^Q, KW_i^K, VW_i^V) $$\n",
        "\n",
        "$ W ^ O $ es la capa densa aplicada al final de la capa de atención de múltiples cabezales, que llamaremos en el código `fc_o`. $ W ^ Q, W ^ K, W ^ V $ son las capas densas que en el código llamaremos `fc_q`,` fc_k` y `fc_v`.\n",
        "\n",
        "Recorriendo el código del módulo, primero calculamos $ QW ^ Q $, $ KW ^ K $ y $ VW ^ V $ con las capas lineales, `fc_q`, ` fc_k` y `fc_v`, para darnos ` Q`, ` K` y `V`. A continuación, dividimos el `hid_dim` de la consulta, la clave y el valor en ` n_heads` usando `.view()` y los permutamos correctamente para que se puedan multiplicar juntos. Luego calculamos la `energía` (la atención no normalizada) multiplicando ` Q` y `K` y escalando por la raíz cuadrada de` head_dim`, que se calcula como `hid_dim // n_heads`. Luego enmascaramos la energía para que no prestemos atención a ningún elemento de la secuencia que no deberíamos, luego aplicamos el softmax y dropout. A continuación, aplicamos la atención a los valores de los cabezales, `V`, antes de combinar los resultados para las ` n_heads` . Finalmente, multiplicamos este $ W ^ O $, representado por `fc_o`.\n",
        "\n",
        "Tenga en cuenta que en nuestra implementación las longitudes de las claves y los valores son siempre los mismos, por lo tanto, cuando la matriz multiplica la salida del softmax, `attention`, con` V` siempre tendremos tamaños de dimensión válidos para la multiplicación de matrices. Esta multiplicación se lleva a cabo usando `torch.matmul` que, cuando ambos tensores son >2-dimensionales, hace una multiplicación matricial por lotes sobre las dos últimas dimensiones de cada tensor. Esto será una multiplicación de matriz por lotes con formas **[query len, key len] x [value len, head dim]**   sobre el tamaño de lote y cada cabezal que proporciona un resultado con forma **[batch size, n heads, query len, head dim]** .\n",
        "\n",
        "Algo que parece extraño al principio es que el dropout se aplica directamente a la atención. Esto significa que lo más probable es que nuestro vector de atención no sume 1 o que prestemos toda la atención a un solo token que puede establecerse en 0 por el dropout. Estos problemas nunca se explican, ni siquiera se mencionan, en el paper, sin embargo, es lo que se hace en la [implementación oficial](https://github.com/tensorflow/tensor2tensor/) y todas las implementaciones de Transformer desde entonces, [incluido BERT](https://github.com/google-research/bert/)."
      ]
    },
    {
      "cell_type": "code",
      "metadata": {
        "id": "awikszEwdurO"
      },
      "source": [
        "class MultiHeadAttentionLayer(nn.Module):\n",
        "  \n",
        "    def __init__(self, hid_dim, n_heads, dropout, device):\n",
        "        super().__init__()\n",
        "        \n",
        "        assert hid_dim % n_heads == 0\n",
        "        \n",
        "        self.hid_dim = hid_dim\n",
        "        self.n_heads = n_heads\n",
        "        self.head_dim = hid_dim // n_heads\n",
        "        \n",
        "        self.fc_q = nn.Linear(hid_dim, hid_dim)\n",
        "        self.fc_k = nn.Linear(hid_dim, hid_dim)\n",
        "        self.fc_v = nn.Linear(hid_dim, hid_dim)\n",
        "        \n",
        "        self.fc_o = nn.Linear(hid_dim, hid_dim)\n",
        "        \n",
        "        self.dropout = nn.Dropout(dropout)\n",
        "        \n",
        "        self.scale = torch.sqrt(torch.FloatTensor([self.head_dim])).to(device)\n",
        "        \n",
        "    def forward(self, query, key, value, mask = None):\n",
        "        \n",
        "        batch_size = query.shape[0]\n",
        "        \n",
        "        #query = [batch size, query len, hid dim]\n",
        "        #key = [batch size, key len, hid dim]\n",
        "        #value = [batch size, value len, hid dim]\n",
        "                \n",
        "        Q = self.fc_q(query)\n",
        "        K = self.fc_k(key)\n",
        "        V = self.fc_v(value)\n",
        "        \n",
        "        #Q = [batch size, query len, hid dim]\n",
        "        #K = [batch size, key len, hid dim]\n",
        "        #V = [batch size, value len, hid dim]\n",
        "                \n",
        "        Q = Q.view(batch_size, -1, self.n_heads, self.head_dim).permute(0, 2, 1, 3)\n",
        "        K = K.view(batch_size, -1, self.n_heads, self.head_dim).permute(0, 2, 1, 3)\n",
        "        V = V.view(batch_size, -1, self.n_heads, self.head_dim).permute(0, 2, 1, 3)\n",
        "        \n",
        "        #Q = [batch size, n heads, query len, head dim]\n",
        "        #K = [batch size, n heads, key len, head dim]\n",
        "        #V = [batch size, n heads, value len, head dim]\n",
        "                \n",
        "        energy = torch.matmul(Q, K.permute(0, 1, 3, 2)) / self.scale\n",
        "        \n",
        "        #energy = [batch size, n heads, query len, key len]\n",
        "        \n",
        "        if mask is not None:  # CREO QUE ESTO SE USA SÓLAMENTE EN EL DECODER PARA QUE NO VEA LAS PALABRAS \"SIGUIENTES\"\n",
        "            energy = energy.masked_fill(mask == 0, -1e10)\n",
        "        \n",
        "        attention = torch.softmax(energy, dim = -1)\n",
        "                \n",
        "        #attention = [batch size, n heads, query len, key len]\n",
        "                \n",
        "        x = torch.matmul(self.dropout(attention), V)\n",
        "        \n",
        "        #x = [batch size, n heads, query len, head dim]\n",
        "        \n",
        "        x = x.permute(0, 2, 1, 3).contiguous()\n",
        "        \n",
        "        #x = [batch size, query len, n heads, head dim]\n",
        "        \n",
        "        x = x.view(batch_size, -1, self.hid_dim)\n",
        "        \n",
        "        #x = [batch size, query len, hid dim]\n",
        "        \n",
        "        x = self.fc_o(x)\n",
        "        \n",
        "        #x = [batch size, query len, hid dim]\n",
        "        \n",
        "        return x, attention"
      ],
      "execution_count": null,
      "outputs": []
    },
    {
      "cell_type": "markdown",
      "metadata": {
        "id": "f3-95fx6A6GS"
      },
      "source": [
        "### Capa Feed-Forward Posicional \n",
        "\n",
        "La otra capa presentada en el paper es la *capa feedforward posicional*. Esta capa es relativamente simple en comparación con la capa de atención de múltiples cabezales. La entrada se transforma de `hid_dim` a` pf_dim`, donde `pf_dim` suele ser mucho más grande que` hid_dim`. El Transformer original usó un `hid_dim` de 512 y un` pf_dim` de 2048. La función de activación de ReLU y el dropout se aplican antes de que se vuelva a transformar en una representación de `hid_dim`.\n",
        "\n",
        "BERT usa la función de activación [GELU](https://arxiv.org/abs/1606.08415), que se puede usar simplemente cambiando `torch.relu` por` F.gelu`. "
      ]
    },
    {
      "cell_type": "code",
      "metadata": {
        "id": "A-JY7dJHduuR"
      },
      "source": [
        "class PositionwiseFeedforwardLayer(nn.Module):\n",
        "  \n",
        "    def __init__(self, hid_dim, pf_dim, dropout):\n",
        "        super().__init__()\n",
        "        \n",
        "        self.fc_1 = nn.Linear(hid_dim, pf_dim)\n",
        "        self.fc_2 = nn.Linear(pf_dim, hid_dim)\n",
        "        \n",
        "        self.dropout = nn.Dropout(dropout)\n",
        "        \n",
        "    def forward(self, x):\n",
        "        \n",
        "        #x = [batch size, seq len, hid dim]\n",
        "        \n",
        "        x = self.dropout(torch.relu(self.fc_1(x)))\n",
        "        \n",
        "        #x = [batch size, seq len, pf dim]\n",
        "        \n",
        "        x = self.fc_2(x)\n",
        "        \n",
        "        #x = [batch size, seq len, hid dim]\n",
        "        \n",
        "        return x"
      ],
      "execution_count": null,
      "outputs": []
    },
    {
      "cell_type": "markdown",
      "metadata": {
        "id": "859EdNC5A6GQ"
      },
      "source": [
        "### Bloque Encoder \n",
        "\n",
        "Los bloques Encoder son donde se encuentra toda la \"magia\" del Encoder. \n",
        "\n",
        "![](https://i.imgur.com/adzmIfx.png)\n",
        "\n",
        "Primero pasamos la oración origen y su máscara a la *capa de atención de múltiples cabezales*, luego aplicamos dropout, una conexión residual y una capa de  [Normalización por capas](https://arxiv.org/abs/1607.06450 ). Luego lo pasamos a través de una capa feed-forward posicional y luego, nuevamente, aplicamos dropout, una conexión residual y  la capa de normalización por capas para obtener la salida de este bloque que se alimenta al siguiente bloque. Los parámetros no se comparten entre bloques.\n",
        "\n",
        "La capa de atención de múltiples cabezales es utilizada por el bloque encoder para prestar atención a la oración origen, es decir, está calculando y aplicando atención sobre sí misma en lugar de otra secuencia, por lo que la llamamos *auto-atención*.\n",
        "\n",
        "[Este](https://becominghuman.ai/all-about-normalization-6ea79e70894b) artículo entra en más detalles sobre la normalización de capas, pero la esencia es que normaliza los valores de las features, de manera que cada feature tiene una media de 0 y una desviación estándar de 1. Esto permite que las redes neuronales con una mayor número de capas, como el Transformer, puedan entrenar más fácilmente."
      ]
    },
    {
      "cell_type": "code",
      "metadata": {
        "id": "F7jPidF7dux5"
      },
      "source": [
        "class EncoderBlock(nn.Module):\n",
        "\n",
        "        ########################################################################\n",
        "\n",
        "    def __init__(self, hid_dim, n_heads, pf_dim, dropout, device):        \n",
        "\n",
        "        super(EncoderBlock, self).__init__()\n",
        "      \n",
        "        # MultiHeadAttentionLayer::::: def __init__(self, hid_dim, n_heads, dropout, device):\n",
        "        self.attention = MultiHeadAttentionLayer(hid_dim, n_heads, dropout, device)\n",
        "        #LA SALIDA DE MultiHeadAttentionLayer ES -> x = [batch size, query len, hid dim]\n",
        "        self.norm1 = nn.LayerNorm(hid_dim)  # CREO QUE HAY QUE CREAR 2 PORQUE SE AJUSTA PARA CADA CAPA\n",
        "        self.dropout = nn.Dropout(dropout)\n",
        "\n",
        "        self.norm2 = nn.LayerNorm(hid_dim)  # CREO QUE HAY QUE CREAR 2 PORQUE SE AJUSTA PARACADA CAPA\n",
        "        # PositionwiseFeedforwardLayer:::: __init__(self, hid_dim, pf_dim, dropout):\n",
        "        self.ffd = PositionwiseFeedforwardLayer(hid_dim, pf_dim, dropout)\n",
        "\n",
        "        ########################################################################\n",
        "        \n",
        "    def forward(self, src, src_mask):\n",
        "\n",
        "        # Primero pasamos la oración origen y su máscara a la capa de atención de múltiples cabezales, luego aplicamos dropout, \n",
        "        # una conexión residual y una capa de Normalización por capas. \n",
        "        # Luego lo pasamos a través de una capa feed-forward posicional y luego, nuevamente, aplicamos dropout, conexión residual \n",
        "        # y la capa de normalización por capas para obtener la salida de este bloque que se alimenta al siguiente bloque. \n",
        "\n",
        "        #src = [batch size, src len, hid dim]\n",
        "        #src_mask = [batch size, 1, 1, src len] \n",
        "\n",
        "        src_att, att = self.attention(src, src, src, src_mask)\n",
        "        src_att_drop = self.dropout(src_att)\n",
        "        src_att_drop_res = src_att_drop + src # LA CONEXIÓN RESIDUAL ES SUMAR LA ENTRADA A LA SALIDA\n",
        "        src_att_d_r_norm = self.norm1(src_att_drop_res)  # NORMALIZACIÓN\n",
        "\n",
        "        src_ffd = self.ffd(src_att_d_r_norm)\n",
        "        src_ffd_drop = self.dropout(src_ffd)\n",
        "        src_ffd_drop_res = src_ffd_drop + src_ffd  # LA CONEXIÓN RESIDUAL ES SUMAR LA ENTRADA A LA SALIDA\n",
        "        # src_ffd_d_r_norm = self.norm2(src_ffd_drop_res)  # NORMALIZACIÓN\n",
        "        src = self.norm2(src_ffd_drop_res)  # NORMALIZACIÓN\n",
        "\n",
        "        ########################################################################\n",
        "\n",
        "        return src"
      ],
      "execution_count": null,
      "outputs": []
    },
    {
      "cell_type": "markdown",
      "metadata": {
        "id": "VX1WyENPA6GO"
      },
      "source": [
        "### Encoder MOE (Gatting Network)\n",
        "En el Encoder MOE intentaremos comprimir toda la oración fuente, $ X = (x_1, ..., x_n) $, en un solo vector de contexto, $ z $. Este vector de contexto aquí ha visto todos los tokens en todas las posiciones dentro de la secuencia de entrada.\n",
        "\n",
        "La representación del encoder después del último bloque se pasa a través de dos capas densas, fc_out1 y fc_out2 para llevar su dimensionalidad a [batch_size, cant_expertos]. \n",
        "\n",
        "Finalmente, mediante capa softmax asignamos los pesos que le corresponden a cada \"expertos\" para cada ejemplo a procesar dentro de un batch. \n",
        "\n",
        "![WhatsApp Image 2021-06-30 at 09.24.36.jpeg](data:image/jpeg;base64,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)\n",
        "\n",
        "Primero, los tokens se pasan a través de una capa de embedding estándar. A continuación, como el modelo no tiene recurrencias, no tiene idea del orden de los tokens dentro de la secuencia. Resolvemos este problema usando una segunda capa de embedding llamada *capa de embedding posicional*. Esta es una capa de embedding estándar donde la entrada no es el token en sí, sino la posición del token dentro de la secuencia, comenzando con el primer token, el token `<sos>` (inicio de secuencia), en la posición 0. El embedding posicional tiene un tamaño de \"vocabulario\" de 100, lo que significa que nuestro modelo puede aceptar oraciones de hasta 100 tokens de longitud. Esto se puede aumentar si queremos manejar oraciones más largas.\n",
        "\n",
        "La implementación del Transformer original del paper \"Attention is All You Need\" no aprende los embedding posicionales. En su lugar, utiliza una codificación posicional estática fija. Las arquitecturas modernas de Transformer, como BERT, usan embedding posicionales aprendibles en su lugar, por lo tanto, hemos decidido usarlos en este trabajo práctico. Consulte [esta](http://nlp.seas.harvard.edu/2018/04/03/attention.html#positional-encoding) sección para leer más sobre la codificación posicional utilizada en el modelo Transformer original.\n",
        "\n",
        "A continuación, el token y los embeddings posicionales se suman elemento a elemento para obtener un vector que contiene información sobre el token y también su posición en la secuencia. Sin embargo, antes de sumarlos, los embeddings de tokens se multiplican por un factor de escala que es $ \\sqrt{d_{modelo}} $, donde $ d_{modelo} $ es la dimensión de las capas ocultas, `hid_dim`. Esto supuestamente reduce la variación en los embeddings y el modelo es difícil de entrenar de manera confiable sin este factor de escala. A continuación, se aplica  dropout a los embeddings combinados.\n",
        "\n",
        "Los embeddings combinados se pasan a través de $ N $ de los ***bloques encoder***, definidos en la sección anterior, para obtener $ Z $, que luego se envía y puede ser utilizado por el decoder.\n",
        "\n",
        "La máscara origen, `src_mask`, tiene simplemente la misma forma que la oración origen pero tiene un valor de 1 cuando el token en la oración origen no es un token` <pad> `y 0 cuando sí lo es. Esto se usa en las capas del encoder para enmascarar los mecanismos de atención de múltiples cabezales, que se usan para calcular y aplicar atención sobre la oración origen, para que el modelo no preste atención a los tokens `<pad>`, que no contienen información útil."
      ]
    },
    {
      "cell_type": "code",
      "metadata": {
        "id": "mxQ_uK9MU3Ka"
      },
      "source": [
        "# OJO QUIZÁS HAYA QUE CAMBIAR max_length DEPENDIENDO DE LOS TEXTOS DE LOS DATASET DE ENTRENAMIENTO)"
      ],
      "execution_count": null,
      "outputs": []
    },
    {
      "cell_type": "code",
      "metadata": {
        "id": "bisXgj9dduzw"
      },
      "source": [
        "class Encoder_MOE(nn.Module):\n",
        "\n",
        "        ########################################################################\n",
        "\n",
        "    def __init__(self, input_dim, src_len, hid_dim, n_layers, n_heads, pf_dim, cant_expertos, dropout,\n",
        "                 device, max_length = 400):\n",
        "\n",
        "        super(Encoder_MOE, self).__init__()\n",
        "               \n",
        "        self.input_dim = input_dim\n",
        "        self.hid_dim = hid_dim\n",
        "        self.n_layers = n_layers\n",
        "        self.n_heads = n_heads\n",
        "        self.pf_dim = pf_dim\n",
        "        \n",
        "        self.device = device\n",
        "        self.max_length = max_length\n",
        "\n",
        "        self.experts_dim = cant_expertos\n",
        "\n",
        "        self.dropout = nn.Dropout(dropout)\n",
        "\n",
        "        self.embedding = nn.Embedding(input_dim, hid_dim)  # input_dim es vocab_size\n",
        "        \n",
        "        # La implementación del Transformer original del paper \"Attention is All You Need\" no aprende los embedding posicionales. \n",
        "        #En su lugar, utiliza una codificación posicional estática fija. Las arquitecturas modernas de Transformer, como BERT, \n",
        "        # usan embedding posicionales aprendibles en su lugar, por lo tanto, hemos decidido usarlos en este trabajo práctico. \n",
        "\n",
        "        # In BERT, positional embeddings are learnable, thus we create a\n",
        "        # parameter of positional embeddings that are long enough\n",
        "        self.pos_encoding = nn.Embedding(max_length, hid_dim)  # LO ARMO COMO UNA MLP QUE SE APRENDA\n",
        "        \n",
        "        self.EncoderBlocks = nn.Sequential()\n",
        "\n",
        "        self.fc_out1 = nn.Linear(hid_dim, self.experts_dim)\n",
        "\n",
        "        self.fc_out2 = nn.Linear(src_len, 1)\n",
        "\n",
        "        # EncoderBlock(nn.Module)::::  def __init__(self, hid_dim, n_heads, pf_dim, dropout, device):    \n",
        "        for i in range(n_layers):\n",
        "            self.EncoderBlocks.add_module(\"block\" + str(i), EncoderBlock(hid_dim, n_heads, pf_dim, dropout, device))\n",
        "\n",
        "        ########################################################################\n",
        "        \n",
        "    def forward(self, src, src_mask):\n",
        "        \n",
        "        #src = [batch size, src len]\n",
        "\n",
        "        #src_mask = [batch size, src len] # TENGO QUE ADECUAR LA MÁSCARA A LO QUE NECESITA EL BLOQUE DE ATENCIÓN\n",
        "        src_mask = src_mask.unsqueeze(1).unsqueeze(2)\n",
        "        #src_mask = [batch size, 1, 1, src len]\n",
        "\n",
        "        # tengo que armar un tensor con las \"ubicaciones\" de cada token.\n",
        "        # realmente sería un a matriz con números que aumentan de de 0-src_len para cada ejemplo del batch\n",
        "        batch_size = src.shape[0]\n",
        "        src_len = src.shape[1]\n",
        "        pos = torch.zeros(batch_size, src_len, dtype=torch.int64).to(self.device)\n",
        "        ubic = torch.arange(0, src_len)\n",
        "        for i in range(0, batch_size):\n",
        "          pos[i] = ubic\n",
        "\n",
        "        pos = self.pos_encoding(pos)  \n",
        "\n",
        "        pass\n",
        "        #pos = [batch size, src len]\n",
        "\n",
        "        src = self.embedding(src)\n",
        "\n",
        "        src = self.dropout((src * math.sqrt(self.hid_dim)) + pos)   ##agrego dropout\n",
        "        pass   \n",
        "        #src = [batch size, src len, hid dim]\n",
        "\n",
        "        for blk in self.EncoderBlocks:\n",
        "            src = blk(src, src_mask)\n",
        "      \n",
        "        pass\n",
        "        #src = [batch size, src len, hid dim]\n",
        "        #attention = [batch size, n heads, src len, src len]\n",
        "\n",
        "        output = self.fc_out1(src)\n",
        "        #output = [batch_size, src_len, experts_dim]\n",
        "\n",
        "        output = output.permute(0, 2, 1)\n",
        "        #output = [batch_size, experts_dim, src_len]\n",
        "\n",
        "        output = self.fc_out2(output)\n",
        "        #output = [batch_size, experts_dim, 1]\n",
        "        \n",
        "        output = output.squeeze(dim=2)\n",
        "        #output = [batch_size, experts_dim]\n",
        "        \n",
        "        #print(\"EMI - Encoder_MOE- output.shape: \", output.shape)\n",
        "        # hay que especificarle dim=2 al squeeze porque en el caso que justo quede un minibacth con 1 solo ejemplo, elimina 2 dimensiones\n",
        "        # output = torch.softmax(output.squeeze(dim=2), dim = 1)  \n",
        "        \n",
        "        salida_max = torch.max(output, dim = 1).values\n",
        "        nivel = salida_max.reshape(batch_size, -1)\n",
        "        \n",
        "        output = (output >= nivel) * 1\n",
        "        \n",
        "\n",
        "        #print(\"EMI - Encoder_MOE- SOFTMAX - output.shape: \", output.shape)\n",
        "\n",
        "        ########################################################################        \n",
        "        #EMI - Encoder_MOE- output.shape:  torch.Size([8, 3, 1])\n",
        "        #EMI - Encoder_MOE- SOFTMAX - output.shape:  torch.Size([8, 3])\n",
        "\n",
        "        return output.float()"
      ],
      "execution_count": null,
      "outputs": []
    },
    {
      "cell_type": "markdown",
      "metadata": {
        "id": "vaAdAYHzX8rB"
      },
      "source": [
        "## Entrenamiento del modelo de MEZCLA de EXPERTOS\n",
        "\n",
        "Esta función realizará las tareas de inicialización de los modelos (\"expertos\"), del módulo encoder_MOE (gatting network) y optimizador.\n",
        "\n",
        "Los modelos y el encoder_MOE se entrenarán simultáneamente.\n",
        "\n",
        "Dado que ahora las salidas de cada modelo son pesadas según el gatting_network, debemos recalcular \"loss\". Y eso lo hacemos replicando el código fuente de los modelos base utilizados: \n",
        "\n",
        "https://huggingface.co/transformers/_modules/transformers/models/distilbert/modeling_distilbert.html#DistilBertForQuestionAnswering\n",
        "\n",
        "Para realizar de forma práctica el pesado de las salidas de cada modelo utilizamos una combinación entre producto Hadamard y producto de matrices:\n",
        "\n",
        "![producto Had.png](data:image/png;base64,iVBORw0KGgoAAAANSUhEUgAAA/MAAALRCAIAAACYjWR9AAAAAXNSR0IArs4c6QAAAARnQU1BAACxjwv8YQUAAAAJcEhZcwAAFiUAABYlAUlSJPAAAOiFSURBVHhe7P3bS1vf//+L7j9GCJKbxAuX5YO0u1BEXLj7s1vBgm98g0WRN4oFC/7oG8LKRSDwdetFwEKwF8Hya1AoRij1QrcXunIhSfmJ+bG6zUWJC8GAEEGYF4HucZrnMQ/RGJOZ54N5YabzMA6vMcZzjDnGa/w//gAAAAAAAAA6Hyh7AAAAAAAAggCUPQAAAAAAAEEAyh4AAAAAAIAgAGUPAAAAAABAEGiFsr/eme0J9Yrj3fa1OP3YKIX1sXB0LHF0K048IVfbM1oKhGazV+J0UKhm32mxa2UWP4R2Mo/WU6/sLvb3DExnyuJEi6hXT1ILQwPETiLP5jbPFXH68SgkDZaZLIqzj88TVXptz2VufqC37++ti7o40VEUE1qehnoTp+KsM/epZJwtp5VV1tNVj6SKSC9PDS+0tJU0NdC9MztVcb5zMFV0oWRBnG4TWq8Qqtm5wfEPm4flZhtw/fZ8Jz7+PEIi0jcR/9GuWs5b2ZsqGnGY7eY0GQ4t/6iJXwT7LYn/s3qSHKF/t6yRq+bm+dtX9g1BezrqSmU//oIGKXjKnqJclTJz1Nw7Q8e0m3m0mJ8bfSz6Q+kWSnullH4bGf9cVkobQ+ztPrRRM7grZ7lltlDZU+4qP2KvOqZEtIRCqp8mSGgk/Uuc6TDqyvXZJleB3tZ770pGajmtrLKeqHpUfm2Rjt/QyvZ5lXf6iykmofQjOrj0XZXd1f0ly38HRla0/zYKzdmtmSh9Ticqe4JSqxzGmcpqO2VPabVCqN9e7CVHo5HR9XytaeMI1R8rI+HYUY3YXnubiq8xe+XyKDbMSs5/4oeiyOkUkjS3lr6b+0Z3lUKK6ntaSm/YmdNk6zKVIkYdVk8ff2DQL3zIJ5jKnpJvcRY/hDY0jxYixuwXdi/FiRZw/om0OnwIgCf+7G6rCoIYa2ixsie0utJre/iY/WKu0pFj9hwxAOl/zP4+lYzEclpZZT1F9Xi5TYT1ULJoeaVS3uJdqRfrkvJbO06y8bLema8VceoBnCTYozpT2VMut6doarSjsqe0XCEoZxvjRIWuW43qftS+L4dDr1Il+nfl20JfaGT1ZwsLSCP4nY2jHMVplpjH5in1YoL1XXre2zr3JBej8RMt4k1r5HjF2on6OOjKHjrmsbi3zbdPYSmukooiuva4TQ63QJuCh7JvEF5Ttas+eGIkyp4bWDMVYassp/khvyfV3bkIEQyHd+K3ATEJyiGQ4r9N+QDI57R0sLIX04rateQ+llW71VdsRGmEy/GHQUyUvGV2txOsw/c8e+UoxspP7MjcR6FTcej5nlD80Pyfi8xYOJ7XzzUtU6Hs25VO1THtT+cre97kPLZtcAuEsn8oUPYuQNk/AmcbL0K9L+T6C8reN1D2dniaLOYePK+sk2pF/ytob3+8p0YfNreOhWRk/uu2TPST6i8SOzacaVqmQtm3K52qY9ofKHt/cAuEsn8ondSGtRwo++bD5vRGHNS50O5Q9t5A2UuoZP8i/13Y5dPC708n1Yr+lb3aOr7cOBcn+FQckl7KYYyWhx6jtK/tL1lG8Q2Zen28MT9Ml1KFn0/G9qzT465Pt2J/j/AVfn3D07GdkroAQlSplsNepEVQ2WEupcrFXpK/umdgZD65GZtwFT1XxUxsmrnyoNdPxbbPPft9bGk/Xzptu4Vbhu2NV/n0h8lnbFITSZCldP7aOAm1Vj5MLYzyB0YHR//ZONFvNyZIsqCt2naZH+n/aeTa0nbs7SD9JhMdnEmZQ8W4Pt5c4heE+of+Se5+/kjv9Sq3tVIu8Q/P38iz1wupY3M1elXMJrn7FJaAHzabFsK/49kSXQ3iaB535V311X3DC4l0fNwSF/ec0mkwnPXbiwMtnDRNEnu+bd7RRB1vNHpRsJYdYh6a9VLzSO6yFGM0nPgCXvAthyay3d5oyikSVPWNkVH7vEnpW9TsE88hLzV6NhheSP+0eU7wm8UqtZJmM6xKyZmqCGlLRsKg1UK84KhRtsSXPDwb44HpH49tX7CJCsovtfhIk90xPD6zT+gk82GvJM2XGSJ4kRnrmdhS63STEf437XoWAI3rvGr8UerOYvWDWeE5J5cNQ6hYkAwNzWwqz0q6oX7um4hnfwk7MhSKyOpPdkqIJH4YAywixQNpzDL9SBZllYwxNWazv6uFL7opGoo8w2w5sqepuLU4LvVDQyFXeYz6gVJKvSR32eb6CkS2WgMjEP+VVGWOLZ2KOelIYUmv2F5EK+eN+dcsIrYGy5hW9yuwzmrH+nBp7WdqTN8up7+uuc2zN5r0u+0KtQ0RWnOxMpcjkkrcoZlxXZZrva3hphCMgZnLcTs3tk3+7NxcEYnDWl8V1uld1vkmFlyEh6kqUA9DpWfC1WBaRgPK/k95a5SGdUz3lHeaDLNvHLXvyyy2upSn8/ItCSmqqs1scnIquX14nN9NTTOLfJUwyNDKzmw4NLaaZ1aiCKcW41+M6t9UsTqhVPMJturXaB90xtVw/PCSve6mlFkklb6zsmcLesTC6rpy8ZUErNfQaMm43F8hL9VeUc0tkVuGN85FWeVWaHqjcpocCkVmMqI8Xx/Eh0g7NLctVpjdFWksFnMV9rzaMbmYFCTD6oW6UtlbZjY0O/PvR6JcuRFrRcVEA09LZr9/nHm/lj3IH375OMqEjikX6lW2DD8yvp4XT1MdCzhaPEU5/zRJ6iYR37pSoHPgItrya+V0jbwrPLclfCOIPBpZ+a6+uoEQVn6s0Al2sYOKQt9V3f1ArhHz7STmUS+lhnuH4kdadOZJITfExSOnLDQSTrqYVQ+nUjlI0kR4u3GuTzl1sHlvE5XfqPyiN1rPs9WN1Hp/syRQKoeJMZJZ459KwkD8R8oOrxwttuH5RnLuMie8EMx9XCHN3ukaC4DDZEepktbayMR2dpGI9dzJ8VHmX/Ii+pwGCqMdvuZPs5kSKwLDyYKWcfbw1Cu0TtOqiBr3FzGi1YFKWc2ar/src8vpvfzJwRatVUhI3ufOj5Ljc0ma7DvJcXuyu4engeyT1FRWSNnkni4+5AxihUs0QxtBzDIzLeKrmahBedBFadHZzBmv8LkBGMzSK7ms1G9VJ2ybu59mZ3hDs07qHPLSkVS+lHnPDSCX/oddZqj9tJWaxkJxraaYk7LnCAMzfxSStkGi1g29Gn2/ccIjdVfepTWVefGozXKkT/NocXw0Yf5D/oj1QzXHUt5Bj6rqzRQYHfFfU1Xm2dIRqswvSHRy9ZhXvLfnGW6cxhcpBWpORNGyO294spgmIzykwHqqHdfaj5QsGmDNSYnu6cQxJQ0F5OXYUkq03aTvwQJsKFb120Jqkl72Znb+/drJVYVNMe8N80XMPuptXwqhfnuYsPmAqhVTE/SyBuzcq77iRv7ik+Nce2/hQeFvcU5birfBtIZGlL2otXtH1Wq7kFQ1GR2hp//SxLz+Lw1eVYVm0+owCeE8RfNVmAuFp506akLg3Yk3WxfiN8GXsidUvk6Tywz2wdbwJfLiF0EpJl46Pod3Hw1hK2fekDOGRstCvZyhFjmpXyD6QpOZ3/y3zf5uqO+ksKkLxD+ACFMQ1a4u08XnEdMd9bx4LOtP1/Y/9hF18k1SCTbytMjMjqF+ObAOxvNHmUMuucyCchQnNZHhLvVrD1+PwVLDuoiK5ZEpVf2F8CJDK6ZxQ2aw7NPrTat5/KSVpsk6TpMvtGLslVMS/IWTre8xhpNiS165zfswUcfCwr1A6OdZx8aUzhR+e0QPiL9ISbAre59v1BxWcN8XN/srA6QKlnVcCe7K/mX8UC8Wt7uL7LFaSWk0i3n4J0yu2emItbFttoWHZbc5yryWMOgtHl9Tj+L31ji5hoTW2Opbkt1PePxmn0dLKSjRudGmr7j8jLkRPf/0an5PbQtEALTWkS1K+2tbDw0zAK1U+kkuK8I9iFH9Kydx1gl5mTzRRoXr5TSrEAxFQ1ZYxHCdsTmXXCYMzDbdy9YGEXjaTvPqWkA6MMzs9UZTZsnWp3m1OH6aML8hf9T6gZuN4wU8xTwOSXa4tXSSeoZeZhmzF7mvjyOQJow+2XzbPQusL7XjWPux5sla3v/82mQG4Ko+uWmZCh3rBJKT0eUf2pQVXo5IkWHN8XmaaHfmCsafJdiaMIrEEmR2zu3Wv5171lci14ytuxGfwkO8xTVt/RlMC2hI2VO9rmcDnYqjfT5TZ+GLJbOkD2D7siZtdLkXJL1aYQvkBxZ0d3j+KlYp3LYMtSrLmOhsxvDZiLR8Ts+5/kY6xP3ze9rtHu9VjqlsNRXLK961XSuIXLXaX+ULVZ+WLpAoEqw6Vn6uDYUioyl9LMdq9BQfBse4/9MsuSAcIr1KnfHfKtIs1qmw8mmsXpVCivb1ubriKsSykINAlIH5vI8QKvkYDaFJ4/Khcc1NldU8WOBpr123W9IQigd65pQMP+HkC9NtVZLoKmvn5bbnw0QdjZZnvXZeVEC2vBOf4/TzPiIlhV9jeL7vN1qD6oaDBfKcssgXi3ZpNIt5ebeOA/EAaJLCEh5ulkYpTOFJqjcGsviKa0x2Yk52X+Hxm32y10ngYz3CDRzhPDUSS1M3czSOQnCQQmRsCywB4PY5EjvQbJgahsgUf8llxWZpBKkB2Go/WWGRJI7kMunzCfy8rIK1pq0we63HIrNky9M8Wxw/TZjPkD9u/eBQbFX4My3JqCH+a4yUd0vHPX/oViqwXqYUV4d7w6831BZcHtT7FViSHT7UjvThBJGVep+Z45nUBHlqCwmnjwLwR9kyxZcl+FcIzunp386dypSOq4E9SHhY8GcwLaAxZU9CSZOYz4c723hh8HQp8pV/8CI9KvtKZGkM+UlbmlLuKud7m0sTRI1ZUlNW/8qw1apKYZ2Oj5Ij/Hw29iV37tFuqdSVylku/WGST4Zzei+3A3lcBBb7E2VJflieU1euy/lscpbPADbXcT4MzkKjT7PUF2JkzuoNycOIrWrVAncpZQkMhbRP5sf6D6FbmljNg5VJ+qJQ5NlcPLNXMswxaCSndHyEk30okIWTfV/Sjc3L5h1N1PFGS4MhJnHZ42INoY9ISbG1E77f6NS2yXCwQKl8MRtAw1ksyrv00AJgCY86pC079HJxP6HgKzx+s0/2Ohm8URTdCTqYR+p/bnJqo07aAtN4lTUATH2SM709A5NL69snxj0j/SWXFZulEaQGYBEQ8sIiSRzJZdLnE6yVDMUhbUVk1V6QzJItT/PR4qg4N2E+Q/649YN7wyGeaUlGDfFfef3g0NKJpLONpNpMQkeplk92kjN8nrc5qPcrsCYc1Y5D7ScaU9sMAs+kJjiktkgTTdTJyhHBlyX4VwiywFhywYedO5QpDTcDe5jwcMbFYFpAg8pe9X259P32PPXKVC6EqdEv16S6l5QNaeLyk8Y8o+ul1pbeDj6bWE4flK/LvipWKZJala+fI709FgsS2tF/3fZMqZVyqx8mn9GFdEcX1bL7e7k5NmJ//iJylc/EFoaeD84ktwu/lRNJ1dOIwd3vaZb6guea/Y1u5Ud7iFPxE6nhaDm6K/QHhNCAxDzY+ife+LE3jq2I5d1+Tc7MQ8KppoaYK+IYAC8TdbzR0mA4Wq+aa+oQqY9ISeHXGGzD9xutQXXDwQKl8sVsAA1nMQ+VxFyNWMLjEDwLsvjyZHcTCr7C4zf7ZK+Twj+L82H10+QQG72v7S2QkPCxrvNPI+a5TJIAXB9viPaPHX1/bxac1a03NksjSA3AlmIyG5AkjuQy6fMJkkrGKW1VsxfnZXG3PI2HX1KCDHg2YT5D7vguNdgPqh88Mpo/08m2xX+tJde1pXOKjqQQ1asnX+Lzw4PP5pLZ04pyLAkqv6vRAkvxVjvSh9usRcMzqQkOqS0sQTvPH2W7zJcl8FfYg2F/tSwwllxwfKOOQ5nScDMwUZwl1sXvchcednwYTAtoUNlrI1srycRLS4dM/Csc38q8kyWxNHH5SS3PlGLqNaniI/p+chJL9dsGy2pVhrkf/8K26R2DTxQxTp7zeK9jX1bHYn8ixSQhVLneW6BCc1ifHmoxeoY/g3vI0yy54DTS7FZ+SPrxZVJOxc+r69zQjAKnEBpwNA+lenG8nZjja9v58m7vnJLxkHDyMXttCqbU9vyYqKPR8qzXznuMxDTUrZLCrzHYhu83WoPqhoMFSuWL2QAazmJfI6aW8Pj4lESQxZcnu7nsmJPd3wiuz+yTvU6OPnW7kBwR4/R8lId+v+Wj+OykQBYAhvK7tJteFsMuPMX8JZcVm6URpAZgq/1khUWSOJLLpM8nyCoZh7S1DHPKLNnyNK8Wx1cT5jPkj1s/8Ljbiq0Kf6ZT2RT/NUXKq6Vzio7VJPisj9BIgi9yJcjy5X4F1p/akT6c5KRDY+qZ1ASHStL6HYM/ynaZL0twatfsr3ZOT992TnAoUypiBpF8nv3DhIcFfwbTAhpV9mpFQA7blyx1Qk4kLF3eJI0hP6nmmUhK40webl62JVbkMqut27DWqqdJ60YYzHWAPNFFyTH6QOXvNa98MiCib17+YsZqf/xbtvPqCi7vTJPVRDk3magPg6M84GnWKsk+i53hYcRiBbZTdPlEZ9kXUlqwtXXbvkLo9LHSgLXpSlonBVao4wJxgVdOSXlASorLtM6zzOZ9mahjYbE0GJK5jAxR3vWI+4iUFH6NwTZ8v9EaVDccLFA809w2WAyg0SwWrYVbebeFR3zzdDNLgiy+PNndhIKv8PjNPtnrHODFdjS1EftLq/b5itVIbD05ZNyskGIOAHm1Zd4m92rCL/CXXFZslkaQGgBPZ0OLLissksSRXCZ9PsFiYwx52vIPHXrbJ7Nky9M8Whx/TZjPkD9u/cCDaujMm+HPtCSjhvivITu8Wzqn6FhMgmtKk2zg+WJuMu9XYP2pHenDCfZFawzPpCbIK0nhUUCfuM8fZatLfVmCf4UgC4wlF+6hrCzwsDn5xnmQ8DDj02BaQMPKXl2VLPMXIeSUMS0MSO2Jn1SrFcmwE1+gbbpLVKyeTbClbqLvigoHMirsUXqfzIBkuIjvd+Dc2onF1K8Slrbscnvpv/gpm/3xRdnkjKW3QG5Z2b8W6Wl6o9WlCcXb4CgPeZqtvuAeXayfO6RZbEAU/ncGHwIUpbC+nP2tLVE3LM8n3B3ROsJ00k8IFaLUaQgtmVGvZN+v8UFEi3mQ2sTk3IDAninmw7jnlPhhoYGUHDJXOtyxj+GkzOZ9mahjYbE2GMLjgXkXbuGUwHjSV6Qk8GuMtuH3jU5tmwxugU6tjlm+WOuHRrNYhN9W3u+Kq/9snvNzthIhCo71HlIEFtJn4pwsvjzZzZWPJdn9hMdv9vHL/Elq1Q2IyVsfb/4lew+ZA0BfbXVhSaOvijw/yWXFbmkOBsDTWTcA9buNqRWWOBsRZcoYNfF8WzGz2hiFp4B5HEE1e219v7QutT7NvcXx14T5Dfnj1g980MfmdUPAn2lJRg3xXz07/LR0WmGx257+Itl3PKvPD8r9Cqw/tSN9OIXoXVrEzBf7SGrVtCyrh8usFOtrUuXliOLPEvwqBG6lps6MzUORX2XlWF9xwW3xjqDzEOFhwq/BtIDGlT0vhBbXsAIeMXn61r4zh0cv4z+4p09CXTn/zHpLExsFlnyiPSDXsPKgXB6lPiXnaWouGDwhqC7Mhheo79i9zaXPslSr3x7G6GVErl3wF3KrGlhInwrH4dfUza2Da2TR6XwV22cvViqHnzYSolNryDYz3CuqwUWucn22tfR2TXwTvNlfoXGJLO2x/zIq3z9SV7vDH7NnVX6ydra9MsG3hBD98pnP3Pv77fnXjUSMjiwa96pQSpusZR1JHIsnONDQ0yZTp3oxqB0zB1uh2UxZyzvmZzqkO/+mwabfFmlh0Bf7WxC+23UXvH/uKoeJySXVRZpwK/tW2IPwmW3eeMtvCImgYd86NX+6SpV6sxbOg23mwSvQvsXNArdPpUr9/hp8k7vmlAT/Kcmd9qzslbnNVJgb9b5F4woQmc37MlGHwlIvp5kxDCWZr2uO8FL8cZeHjTyQOiTun/9mUGw+I2WjdsCKNula/7rVrdTHG8krtaBeOz5eRajMyHhi+/D4KJtMUlMk9Uyajce/2xRWR6jf/uAG8EE4vSY0nMVnG9RHtVbeyZnL/Orfk5q5ikqPlAit0rsrpd6qZslNS6mcrE+Pa2VQje94qqhnzW/uav1V4sgt2T3D4zv7RF0RfitccSecKz31YvMWj9w5RjRZ0KLA+cUDQCorFgCuHqJjib0yjyzbacHgM9EzuWzU9rmlGdK8fnsi3GZvibaAUK9kmEB/kTjS0pmrJeEgi9XesblJljiTKW1TM5JB3H+uIYPUnszIPHeW/36TNv+2SoYhlChpiXQv/jazl1iO7GluLY6/JqyBkD9i/SA+8uj+H43cHbF2k3bw9BKhwSUpyY7Pmuzw1dIRXUi/2Gt7KdA1eML1PqkTuPsEMZpL6g3WgpPaIJWM057emzV9z4r7Flhfaset9uOu0/X9K1hh72e5aTBXO1wI0SZmy+QI37gRFQmtKEekxrblmp9626dCUPsJwjsW0QPJ5Sle+Rg2yvBQVh71ldeYrPp8d+FhqLschZYvg2kJ91D2tK+pere0Qr+bSD6aiEEO7aB9GtG51A/WK1Uu1BWu2rZ8lW/LdEJ8dHD8v/IiHy/3Y3wVOduzUGyXYMT6cJapzEvDtWFjPLpxmt1qVUgbI96ibeV4mVuiK70iz3STskH3sBR7/tEt5b4UuXWKoRHtMHZbTdtejpm2sazmU3zCN4sp3RTtrphioSLpk/0t9KjhcDPfhp9GO5qyvOMY9oQTmSX20WCHva/PoWuGkmKHNrY14KHRGwbBvBXcfHK7YIjRPUI4pW45PBXbEo+SmcdFZoxULtoGpTwj+CaCOi45ZabBcJr3oH1LV1NZ2zCZzfsyUfuNas2uHoZBCPPOgvR6Q+40Fikd6zX+32gLqvT5RoiIF+tnqE3ukNKnCin1oPWM9bGGUuM7iwXmPV8NOxe6ZbdpU9W/l9PaJoWyrJFVHbYk1caEHMPTWPYpZ5tiVSsvg66pTkNoc4Z2nnplcSQnCYByFHuzdX6VT4l9NFlq8M1iNVySy4o0Og0ZgMl+6OaRYk4LO0iAncpOvfJDLL7n5beiSNsgCg/PbPpAbYlIpBw3c6UHjYXj07jFSlocgq/6oYGQP1L9wDijY7fW6bJ/iuk3Yn9WcUQHl76rT6jur1j+OzCywv/r1dIJqlphF1kgpnSzgwaVtCApbg8scajhKYUUSy6SpKT/+aAC66V2rA+3p56+p77YMPvSYK7GatYIf+y7zUO1sdPNQ2ALrf1R7vU2x6dCMLZQbGdZQy74snOCW311k6P9JVsFZaUh4WEMmBFPg2kV91H2AAAAAGgcoezlyqB7YWrSslsQeAyEsncYegscbGqree5QFwBlDwAAALQGKHsH2PSYIbmrOtA8ukrZs2lRXWhUUPYAAABAa4Cyd0T5tTU/wFZhVSHvH40uUfZ0juvaeDQyui5bnhF0oOwBAACAVqCU+dpKurLwGjNP7IjFUQvo+TwKdeXiC1sGQJcOu7vc6Giq2bnB8Q9rhuUr3QWUPQAAAPDY2BcmSrwZAvBYWNdGk8NhlS3ocKDsAQAAAAAACAJQ9gAAAAAAAAQBKHsAAAAAAACCAJQ9AAAAAAAAQQDKHgAAAAAAgCAAZQ8AAAAAAEAQgLIHAAAAAAAgCEDZAwAAAAAAEASg7AEAAAAAAAgCUPYAAAAAAAAEASh7AAB4AgrrEfNO747HzLequAcAAABwpSXK/mp7Rm+lZrNX4jToMqrZd5oZ9Pa8274W51vL01nj9c7s00f/8ajfnu/Ex59Ttdo3Ef8RxGKunK6NRiOjiaOaOPEw7m5rN7eVvWVuEuOfS+SnflyVD1PTfexfiVNxBwAAAOBOq8bs60plP/6CtlJQ9l2NclXKzLGhyieUtnXl+jg59CTWeFf5EXv1xNF/FKo/VkbCsaNadX8pSsXozE7whpmru4s0aj2hjz+aI+0pF5kx9sxXqZI4Y+Q8RawlsvpT/AQAAADcaeVsnGLiSbQUaDfyyTaQtk9njaftEP0mU/u+HFa1aeXbQl9oZPWnwv4TKMSY/XqxeXG7/fGe9xbih9KH0sKCOhMAAIBfoOyfCj41pStToy2kLZR9E6nuztHE3O2oYXo+OeqJvy3U88wOe3v+2q6IU2aotTiIfgAAAMAGlP1TAWUPZR8YeGImC+JnZ9AWyr60weYo9obXi+IMoa7UaqqWzyd7omudlbAAAACeECj7pwLKHso+MEDZ3xNtUfXS91txipz8NqsN4dO/53IBMhUAAACPSyPKvl49SS9z3xc9AyNTse1z4zKy+u3FwebS28Ewbagiz14vJPZKtbr4J8Ospbi+YYc6XmXynaK6g+B3sYOJoevjjfnhfvIz/Hw2lWetsiFgfRPx7C91uMvwCtp+k8tSC0MD9KfpMguGu+iRFGNphfTY6Bv1SIuT18eGKL9dTh9bVYLhgv6hv+PZEmm/zS5i1EN3f+GekpZIXeVT/4z0kRgt5iqm1FapFdNz7FED0+kzNcqXuXmSDtHlHzfihBUaho3513oYUnrUjOGnYq5W2o7x0EYHZ1L5a1swTInwT3L380d6r6e0vcqnP0w+Y8sxw88nl9LmJ9fKh6mFUW6N0cHRfzZO7BrdzWIN1qimIXnOeMwhGY3USrtJYUjh52PzliiTgGkvpQFL7tJMN2BW9oUkfQ471IWSJu89qlx2NObIs7mNE545VS3F+sdj2xd37CRJf4NPHmpmtVI2xi8z3OuCS4xMQVUPp5x1MyobD4ivwNlCjAmiH6SkuxSu/9sQUxFBS0HmOVVMa7XEm02vro5yGOP3Tmcvxak/f253F3tffJItpwUAAAC88K3sL/dXhnt7huOHl0wdVnNLpEEa3jjnmqZe2V0kanskdlBRyJm6UjlIjkZ7w283zvXm1jZKqpQzvGlU1TPlKsd9axiV7klyhF72bnP30+xMcvvwOL+7Psn0wUgqX8q8J7Ivd3KcS//DLovGTzTRflNMTdCnzXzOpeZmY1/oZam/acfAdJmZ2tnWDAvD/A6LjkotvzZK48hlhVIgoYrOZs6YyqlXD+Pk7ZGZHXW6bL3yY4Wc0dKkuvuBBVg02UIWWP3Z+UlJNVKjcwtL6/nryxzTHDIHGvVSajgykykrl9tT5JqXG+fs9EWaJRRJFrmfbBa10MIuz+ubfIJkfSgSO1bTi4Rqb5mlfzL7/ePM+7XsQf7wy0cSTvLM8S+GCcNqsoyv5yvsbi1t3ZW9cpocIomZEV2a64P4EJHRc9tCdt8VaZCI3uLP5I5uLBnqbrGqNaZ3kuN/J0n4T/Y2pphYf5F0Wx+pnG2Mk+yY2zpnnSLl5wYN2Pt90WXgXSby0t/sGUrlMDEWJtH/VNKfaVb2BKW8xVWj0Riu1RTW1aHICGHMiZ0jYsyrb5lyHd44KW0tkb7lHonI5jy7LBzPay9VLtVi9XV/ZW55ldx7sLXymt07sSWf4c3xEyORmO5j9l5GZecB8fVjIULfGysfgkvhUqpqRaTmXV25+DrLsunjoVY8laNYqH8qJQzeleIqLwvafBta3qmpx468bwYAAADs+FP29XKGtnaTmbI48ae8NUrbs8nMb/rr/BNt8Mb1f1N4wxnW2yibspc3rjLJy4VpaCRxqjV4ykmctfEvkyfaQGy9nH5jvbfydZpeNpwsaE2v7DILtb0FetdizuTd7mxjSFUPzBlIxNQA0xZdVw8XmUnyBEOalDPsparwlSt7fykpIvUiwQJTL6WJRBteKxjCwql8mSS67aL+RzmOU/2hKvs/d+U0e7txDoCOGIjVF0QqR3FycY8xtmLln6EnQy47sA7G20NOsF9m5YZ6TjTfxUc3hRAUZqPPUhBjn/odXharWiNRjWX9LWds0rPLtOa7oxiRYtG4JuNEyoRYptN+lPmlFJ7RBlOxKXu5MYhcMMlliTEreRokZgz6h51fmyyypntPEvQyvXdEuDtaoZc5T0nyGSM/yt6PUdm4d3y9LURe+VDcCheviEx5x3ssurlWdhbmDYXCDVGt2Y8OW4sMAACgffCl7IUufLN1IU7QkXU2kscaPK5o7fqgtk9HSfXzD1D2XBaYtaC0YeZzG+iXdBV+mfEMwX6ZFSEgNCFIIH2JaVXiVJhwXDa7tRaKhw3v8dvHDJKoygfjVW+Asmj6TUl5pGzQQM7vEe0uekEvDB6zma4yBs+AUlwd7g2/3tC7ChIxKhNzFjFaLyZoIrxKnfHfKpKnmaAdEluvg0eZT9xSfq4NhSKjKX1w3ZKhHhZLkVij2l1xVKg8YEYxqvzcoF9UmIIUUtUWL9IJNJ1/gLKX5bvsXlnseBKZL5Peq+M3Rn6UvS+jsnLv+HpaCIE/3K7s3QqXrCLiUaO93G9V5TQ55frNx4hIRvKuL2WxO9Xvoxh5lNFuAQAAgEbwpezPP7G9dWxNoODnmnXagEB8a1bbYInakDWuzirH3KBKG+amKXuxR4xBDd/k5rUhfCG15QcNuXB54aJ1ZNH0m5Ku4sOOCK1Zx1OfG8mCNurpgFItn+wkZ/hkZVP6y8ScRYyKRLD57POQdJqHb9lhMcK6cl3OZ5OzfDq+liAeFkuRWKM8UjoiYE7JXlhnqWR/qSVbO0fZ+42RR7pZcTYqKw+Jr8DBQgjSCoTgVrikyp5wuU3nmEX7ny0aPol4UUiyFDAXTJJNYTe7BQAAANzwpey5JnDUSVypSNp10Qark7klra+scXVWOeYGVdowN1HZi5fqs2um9TnBMtVlwjFNNGTR9JuSruLDhhgaNE+npv0Wl4kQ9erJl/j88OCzuWT2tKIc28WoTMxZksUpOhJpa0Qq3Wxc5TOxhaHngzPJ7cJv5cScoR4WS5FqQXeFquaCQ7I7vlQkizrFQhJ9Z5s3B0aW79LkksSOB898mUdS+42RR7qpeBuVlYfE191CCNIKhOBWuHjEZWGufLFNHPJATM8zd7Bp7ORz5AAAAAAf+FP2TkN3HI+RZm1lp6T1lTWuzirH3KBKG2a7ZJe20/bLZIhJLHRmvJKP/WVQxrbpMVYc00RDFk2/KekqPqyIkeZR48BgvZR6KeasS+ATV0IjibyqMCRiVCbmLGLUKToeyt5jaJxwvbdAXdkM60ssLBnqYbEUmRb0UKh8PybHgHmMcGvT9ztI2fuMkUe6MXwZlZV7x9fTQgjSCoTgVriclP1dMfF3PEUXi6sT9D2p8rW5HisNAAAAgIbwpezFoK/T7E/JnHKGkCbaZAyJ2pA1rs4qx9ygShvmpip7dUnly43DbwtswrqGGG9zbJSlE2BMyKLpNyVdxYcVdSZPXvwmKEfxsO4lxgrXc8ZJ+UKEGR8hFXMWMeoUHS9Jd5EZoxc4Ji6PkWn6vpCtagA9LJYisUZ5pAyIST4OAZNM7mcIQ9Xu6hxl7zdGXulG8GdUVu4bX28LIYhYPFzZ1yvZxQXqtlIsOKYT7sW/nBFrGMiLfFwMAAAA+MSXsv+jFBMvaUtpHY263F76L3qKe3QZMvtg5s5hDCclakMoMGN7K3Vc81TKXqyUjYQHzB4VWcip6HlnnVZb2Vle2SePVQpJNk3fkmREBLxfY48SAsWiEv2lpKv4sFJK0bwzaBrqENDs1ceEbMg8z0SYKallYs4mRnl0rH4kPQdrmW8caiq6k28GsbeV/WvZBxPu+EW3GS+LlVqjPFJGRAStAVNO15Z2Kqqw0xybMoSXHsNJSfRFmptUrsy/jSzfH1HZ+42RZ7r5NSor94yvHwvRKhBbSXArXJKKiJT0ad1n1yW7IGozXRuil+jW+ZdxV1x9HemJjqXEQnwAAADAhD9lz7QL9VYenVw9Fn7Wr8+2lt6uiY/dqhf2lb2y6oWdemU2bZ90s89c7EWW9gxO4rmGi85m2N43SrWUic2OMyU6nipqXu1q+2zsMLosnGET6rcnCdY0vtu60Nq4eoU7yH+ROBL31m9/xOhgYfiD8GxNsV/mDHd/aRpr5Ah39b1DK9vnVfbo+u35zsdxLcq8DTa4cqexez+5KmYjqF47hxe4T+6lz0zi+ElJLVJztt15ZHB5TVKAbqhUK2XmIkOu7juEB5h3m3xfp9rZdioZpyrzzZo2h1gpbY6TM6HJ1Kn+KaN2nGRLZmczmidJ0pOZo4mgeaYnTxNu1ElumlS1icr3j9QB+fDH7FmVWwu9cWJhlwom3t3qnfnMnkmS/etGIkaH+UfX9Xh5WKywxlexfd0apZGyUPnGp3mQgLFr2IYD4+/VDp7w/v5xl6eAUmHu/Pvnvxlmcn1nTj+NxkxP0o4idZNPgseCGpubZIk5mfqpBkZqzLU868NQ/yp6sfrNHeS/Shyp9yqlNEs0Y7GS32vBR4xIJ4Sl20jiWGSWHT9GZeX+8fVnIfyLRGhknu+G8Z5tLOVauGoHvCKazfLUuCllSSXwZvNce2hdKazT4qZvpGChrlAfOFf5VT7JPvTxxxXzilOTXWxDG+l37xEBAADoWvwqewrdE3Ra7OE6PB37UjRtvWnZOfXtcvqgrGkIMTymHYZBL+VsU3jJGBhh23mK2czsSBbUITrtYGNpfIhOP+hQHB8K1Y/Z7P/kI6yGM0RKWi9zGWhk0CkljuNqpj1o7dvusj1Qp9iOuWwP1K2CUcte7scm2L+ig+MfNsVOQATXlFSHjQ2HZxvPgqFuxTq59MWg7aTQ/T65LxFtY12lkJqkipbk0U6Fj/6aAyDNJvVp2g7BwyyJTvn8e3a4jNyb9qAdm0/m9B1kq/kU31iXJR3dW/SumGKJSV6R1RyVOliszBqt4XdJ1Vopl/hnTKTP64WUMXcI5h1bac6WtX6Ccyr9Uc7Twn8LiQLdnFWbh00OEhhrvjsaszV3SOxkl7kUSStuMbK9zjxSruNlVOIyjYfEl9zux0JI5zzGAiBKWUVxK1z2vPv/GmohXo1Yr7F/DBFLF+yHtteEO3y8YEBzvwsAAACYaETZAwAAAAAAANoVKHsAAAAAAACCAJQ9AAAAAAAAQQDKHgAAAAAAgCAAZQ8AAAAAAEAQgLIHAAAAAAAgCEDZAwAAAAAAEASg7AEAAAAAAAgCUPYAAAAAAAAEASh7AAAAAAAAggCUPQAAAAAAAEEAyh4AAAAAAIAgAGUPAAAAAABAEICyBwAAAAAAIAhA2QMAAAAAABAEoOwBAAAAAAAIAlD2AAAAAAAABAEoewAAAAAAAIIAlD0AAAAAAABBAMoeAAAAAACAIABlDwAAAAAAQBCAsgcAAAAAACAIQNkDAAAAAAAQBKDsAQAAAAAACAJQ9gAAAAAAAAQBKHsAAAAAAACCAJQ9AAAAAAAAQQDKHgAAAAAAgCAAZQ8AAAAAAEAQgLIHAAAAAAAgCEDZAwAAAAAAEASg7AEAAAAAAAgCUPYAAAAAAAAEASh7AAAAAAAAggCUPQAAAAAAAEEAyh4AAAAAAIAgAGUPAAAAAABAEICyBwAAAAAAIAhA2QMAAAAAABAEoOwBAAAAAAAIAq1Q9tc7sz2hXnG8274Wp0Hn0VhW1iu7i/09A9OZsjjxNFzm5gd6+/7euqiLEw+hkFSjT45kUZx1QDldG41GRhNHNXECAAAAAOAR8Vb2JjEnjmRB/JNxmgyHln8YxIv9lsT/WT1JjtC/W6Psr7ZnzAFghznY4H4ovrPy50YfS/mh9FNK+0Kqn+X+SPqXOPNQ7srZuQh9poeyr+4ucsP7aCwdAAAAAACPhK8xe+XyKDbMNMp/4odVRZxVKSSpyln6fit+c+4qhRTV90Mr2+c37Mxpkj6hZWP2daVyujETZcEejh/+vlWaMWQLKD6zUozZL+xeihNPAx+zX8xVmmcAou/qc8x+vWgtMwAAAAAAj4Df2TjKUZxKGfPYPKVeTHD1/H7fOi6ZT/ZE4yeaqGmasq9m35E3zmavxG8XThIsbF4K7CnhyeIdwmKCpn97fHZocSftEeDSfGanKn474ZA7PpU9AAAAAEAr8T3PXjmKUWXZGzsyjz/SqThMPYfih+b/XGTGwvG8fu4plL2YFQ1l31yg7KHsAQAAANB++F9Be/vjPVXJYbOaKSQj81+3ZaKf6O9I7NhwBspeCpT9UwBlDwAAAIDg4V/Zq2rm5ca5OMGn4izs3iiHMSagjdK+tr9kGcU3yMHr4435YbquMfx8MrZXEReoXJ9uxf4e4Ysv+4anYzulmpghzTW99Uic8v9K8FT2Jlcnxt5CeWs0NJn5LX6JuPODP+2qmIlNDw2wMwMjU7Htc302Elfh7DDHt2dgMrZTFqnCE8RySOSy4Wn6YQhqrXyYXh5/ztZ0RgdH/0nulsxrHuyQW1ILo/otGyf2blKttJtc4BEMPx+bT+WvtXnqPrLSmLDWDLrKpz9MPmOTuMhdS2n+ZEvmqhGs7q+8GRsVx8cfXIrLn2DHmHSiU2TKSu2wW4hr7ujKvn57vhPnid83vJD+qaa8cQ23KU+Vi72kagwj88nN2IQhK++Kq68jT78yAQAAAACdSQPKnoldolTGdCeGp8nwYo4I2tr3ZSZidClP5+VbJu4IObiZTU5OJbcPj/O7qWkm318lTvULKzuz4dDYap4pJEU4IRn/YlT/QgK6CHoN7zF7oswy5I3ksuVdwwDu+adX5MZRg79G5dfWVGgkdlChK3Evt2eivaPredrlqCsXX9kTJrb0UNZvC6lJHt/dT7Mzsa1dPb73+5TBRartSwVbHsqWCLNnKpXDxFg4FBn/VDIlvpG7YmK4t2cxV2FX1I6TQ+TJxhUR5DFnG+PR3vDcFl/9rPzcINeEtaUU/rJS+UVTiVxpzCnllLwuMpMRvbXrgzh98tw2Xd5KAh9nXnf+s3Zyx67mKJXdRRYY9nq3J9jRcsf8ucPvoLtD7ojbE9vZRdKvyJ0cH2X+JcluziCZE6HzTyM0sy5ZKt2UMotE4uu3XO8t0OtJdNa9AgYAAAAAYKMRZf+nlHpJZYemdwvJiHCJQ0fo6b80Ma//S0MMgs6mf+ni7zxFBbRBx3D9Gln9KX6L7sSbrQvxm9BUZU/h8XqVKonfWkxNHyhKGy9YN4bAH2sIdjnzhpwx9HkIl9tTNC4jRrF78XnMGp6HKPt6KUV9Fk2aHcbz9IlYV0SoCFU6l1PfKD656NffHcWIIo/GD1V5ra6fVtW/r6yk8BXMek7d7C+RDoMpZPztam+HxIjnxRn7p+B2d1H9fuL5BDv1PEu6R1D2L+OHem+QBJJGduaboYPIbUC/vbhKEjaRF78ISjHx0pg+zAlVdCz10yEuAAAAAADONKTsqV7XhQ6diqO5ylFn4Ysls0Sf2bzoSEVSnp3UBVZ1d47NRtD0q5jVYJRlTVf2YoT+xSdV2p9tDMU3UxPkXl1iXmTGtL7K9bfZcKh/fk/TcLIg8ZBb4mtPhAcoeyG4bfeKTygOz1R+rg2FIqMp3RUjTyVt0nnlC/vaYFDPys+NUTqEr3YGfGUlhT9ZSxb+ZEuXj6tkrUvArzGtvf69NaUGxs8TbPCkewRlb7698nWanDTN3bfaAAtJdDZjmC5F7MqPJQMAAAAAeNKYsidCh09coar9bOOFwdOlUJN8Ukd5a1Qd3taRiiR+Uiqw7irne5tLE2xG8iMre/FlQB2hP0+NxI4Vrt5eiJH8cuaN1fkPpa5UznLpD5N8VUCLlX1hnXW07LH7uWaffyKhrlyX89nkLJ+wrkpS0UlzW13qOyvNyl48WX5oN97k5umZhV2+DQLNjkm1f+XvCVZapOz5SVdlrxTW2fwc0g95Phv7kjs3foEBAAAAAHgYDSp71ffl0vfb89Qr05wIMSGHToq4yIxJdKFPOVi/Pd9bW3o7+GxiOX1Qvi63YsxenU7DJuTUi4nhjfO6KjGjyQL5u7QxZBxFJtEt5VY/TD6jyzePLqrlJxmzd4wdf3Vo1rhywMRVPhNbGHo+OJPcLvxWTthz1CwTyfsIyt5nximFJP2EIhZX3B3F/tIWMDSQ9QbaR9kz896Jj/OF1/SIjP7bzC20AAAAANDNNKjstUHTlWTipWUMW5uQs5V5Z54OzvEjB5Vi6nWEyJ2Zr6qWEyL1sZU9nRRBrqRLCE6TQ2KcnseI9lXOP9FRfHaSoBRSdLmkYdWmLEgtUPbuY/bRNemY/fXeAv3CMJw8Ub+q8FTSlP3unPGnDD9ZyTAre2Ehbk/m/N4ap+Gn338qX6YNKe/7CSbaSdlzzF9LXiSxSS0AAAAAmkCjyl7VNOQwjdhT1Ak5kbDRS4yGDzl4/Y093DiTh2ujv7YND3wUZS/U5JuNVHxac3apHMepgo+vJYYNrmOqOdbZ0KeLqEGazhqdFT6+sufBMy8vpog8smUQgy3iNC9RFfpbXdjJVx043M7wkZUcs7IX3Se3JwvEatT5b0epCfb9RMX3E4y0jbI/TaqTu1SYkyUfuQ8AAAAA4E3Dyl71fSlzRaJ6yDE6i9TxIQeFpjQKJqt3EYJQ9n7UXQPK/k8lQ5fMmp1XKnnqJYaIe+MTShsvyGUmpVjJ/kXOmL9UNKTsbercBpenZvc7wjfOiEku1sssIuaTGiKPTEG1erDhISfXmL2qK6drSzssbXxkJcei7LlnG/uTSS4vrewbnyY6LdHIlMnhaQNPMOCs7D1tyCF37q3se6KWkDNj1pYmC3/209ICBAAAAADgTuPKnnuENLs/V+GTJczqU6X2/SMVQy/jP7gzb0JdOf/M3LBMbBS433Su58g1THcql0epT0mxnlLXS8pJnM1CGV5I7+VP9jaXPsuFu1I9SgjnlfHdcpX6oXeF+12Z3zP5XWHugCKm7wNC7r+K7bMwKZXDTxsJPsase8shEppr0+VdLb70FUwRvkweauP9/FtBKDKe2D48Psomk7pfIBOi4xF+m8we5A93kgn+LuHP/uMu3/9KuITvn/8m+WrCEM+Z+cz8wddvz79uJGJsJtK6Piek8o3P2PmYPWOpUVcqB8nx92L2kZ+spNTLafauoSRz/M+ofP9I3efTJ4scqZ1tr0zY9mYS7i+NH0YEfp+g8WuTpfBI4ljPWWFpoZF56o0+l36/KZ25JM8dEtk0+3TwbpP7+6fUb3/EqFmGP4iNAgi1A24Ds1meO7yfMLCQPmW7ItSVa7qZgO4XVfNn35fy0xcFAAAAADBxD2VPR9ZNTgkN0Ak5kuFnMcquHXRcUwwM6wdTz8qFur6wb3ghsUfVZ+XbMp2OHB0c/6+8mKVzuR/jPnPIyQ+bYpMmI7aHs8M0aiuB3mWTkmcbL/giWgPKr20RALqNaI7uoHSZW6IbkUaevV07qcniK0aO9UPtLRCZKOZb0yjvFB22U/2jnG3O8F1j6Uu3C1onwrwHLU2QsqlzYqWaT80NMsVJL6a7z94VUyw6JABZdSZSrZRL/DPGAhZ59nohdVBm6tx3VnIVqx+GxDftIDsmEtAG7Wg5jan7ewJBfLTRDm2UvV75EeMejUiWLacPNDVuwZ47sny0RnY2eyVLqPLWaOzourQdeyvSn24YbNgTAHvQAgAAAOAh3EfZAwAAAAAAANoNKHsAAAAAAACCAJQ9AAAAAAAAQQDKHgAAAAAAgCAAZQ8AAAAAAEAQgLIHAAAAAAAgCEDZAwAAAAAAEASg7AEAAAAAAAgCUPYAAAAAAAAEASh7AAAAAAAAggCUPQAAAAAAAEEAyh4AAAAAAIAgAGUPAAAAAABAEICyBwAAAAAAIAhA2QMAAAAAABAEoOwBAAAAAAAIAlD2AAAAAAAABAEoewAAAAAAAIIAlD0AAAAAAABBAMoeAAAAAACAIABlDwAAAAAAQBCAsgcAAAAAACAIQNkDAAAAAAAQBKDsAQAAAAAACAJQ9gAAAAAAAAQBKHsAAAAAAACCAJQ9AAAAAAAAQQDKHgAAAAAAgCAAZQ8AAAAAAEAQgLIHAAAAAAAgCEDZAwAAAAAAEASg7AEAAAAAAAgCUPYAAAAAAAAEASh7AAAAAAAAggCUPQDAi6vtmVBvj/R4t30tLgLdRjFhMQb9SBbENe1FIWkJp34kTsU1AHQsnVckwWMAZQ8A8KIpyv7yKDE3GA719g0vpM8UcbIDUM6/LI8P9PZEB8dj+5W6ONsBPHqCQ9nfl04tC82gm+NOedT6BMoeUKDsAQBeqMo+dnBbuzEfNX9t883+UrS3Z2LzcGehjzzq5ca5+Ee7c/5ppCcUie0drb6OkBRY+n4r/tHmtCTBFYsx3NyeZ6bbWUYIZf/X1rkt5ErL+mwdWxaaQDfHnfHY9UnHFUnwGEDZA/BkI3nXO7OW12nHzE5VXNQOqMr+3qlx/ukVuf3Fp81V0q6TR01sVcR/2pva/hKN+HI6zXMqEjvujFHGp0pw1aTbW9k/6RSyTi0LzaCb4055ivqkzYskeAyg7AGAsvfiocq+nHlDb48d3V5831xd3zy8FP9oc5SjOM2ON1sXN8XM+trqTqlDZg88WYJD2XvRqWWhGXRz3ClPUp9A2XchUPYAPN03esX6utrNUYzWwsFS9tUcu30sUxYnOoXCOv1i3hM76hBBr/J0CQ5l70HHloUm0M1xZzxJfQJl34VA2QPQFt/oVcQSqEAp+3ySNS3xww4TyJXsXzTWox2nRJ4uwaHsPejUstAMujnulKepT6DsuxAoewCg7L14mLKvfGVLuP7a7rA5tfU8z4tEXpzoFJ4wwaHs3enUstAMujnulCeqT6DsuxAoewCg7L24n7Ivbbxgd1mO8HpRXNCm3P54bw0zO2Z32ylPJLRBgkPZy+nUstAMujnulCeuT6DsuxAoewCg7L24n7KvK2zlQDH1v9N7pzIlsZag7b/FKzUazsreMmsR44diCUTbh7sNEjxQyr5WTDPP6z0D07rn9cvcPHVGvvzjRpzwRceVhW6OO6OyF6de50OR0X81r/NKYX2MpMnQpxL/7ZOnrU+g7LsQKHsAoOy9eMhsHOHoLbL6U5zQUSqF9EKfn2S/Ke8mxsLJlg7ycQ99PXM5SfD8hKdWzHyYHX8zGI4Ojn/YPLkSpx8dlwSvK5XTzfmB2axbYJSLnfj48Mjom5G+UP9U8qihzXSCo+zrpdRwZCZTVi63p8gtquf1i/QIi2DvzLfGS2inlIU2jHv9tvBleebt2LNo5Nnb5fTx41aPte/L4eH4YfXPSYLGV3idr+2vsOj3RNfuYd4PrU+q+dTcyNDrsdHnkfDr5cxPv47woey7ECh7AKDsvXiIshff4k2fnq+/fxx9PTI0zAYFXefdFtJjo8Pkyn6aQS2doCq+oVvmDPgNj1JcfT2bLbNhuVo+MUxTINsaH3+yBP9T3V95MzY0PPKM+hGfdgkJ1QFv1wpsUFY5itMMaqRcBEbZV75M9kxsXdT/KMcsEbQ9le7K6Xf0IcY9hmrlXOJ1xLt0dEhZaL+408Hyma9l6qmsfnuSpB2Mma+PNl1fyceiEebAppKZMMX3+iBOY2HcYMtvl+yh9Uni5eDSNxblepmF6lXi1NeoP5R9FwJlDwCUvRcPUPbX31i7YmwLNfhj/ayoO2VeNVqq7It8Mx35JpFe4al9p1/eXySLvO0VjWtLwu+W4H+qWarMXJQ9v6D3WYrNNxD57j7GbyIoyp5Kuvk9kvXKSZx6KnzBE4TBvJJz143FNOsvDdFpG94rIzukLLRf3Pl4/8tkgRcnYZbJk8dxSUz6MzSc5OG/t8bpixZ29dlHzCU/U/3+u2SMB9Un4gI1JMKM/X23gbLvQqDsAWhE2ddvC+lZNvDZP5VW9xmpV3YX+3tCEXmt3RhBU/bChfP7/Zo4YaCN1IwN4Xv7lUHVGPBU9vsfSXsf1mLNr/cT0wfjluDeyv6PcrZNtxD6zX6Ut0bJo6INSKjAjNkLxBwSswv2fJKkScGQJvyxnubZYWWhfeJe218hVa4+v59Xkm5m3BTE/BmT+3nqudJUOfvMuIfVJ6SJOUyvre4UazTllcMYTXOfXy2g7LsQKHsAGmjvzz+NhOe2Lu64Z2K1mv61OUSrToc5lI0RMGUvxoDlLpzbWdnzNzr53vYRHrpsTr2XD+GHWxF+1wT3oewNKCcJomz65/kcAH8ETNnzjOuZ2DImwXnqlWWzIX/qtsPKQnvFXbmt6cWJdTka6XDei1LqJQlzJHZsiO5Nbt7S1fGZcQ+uT3Qu6RvDr9cKd+KEO1D2XQiUPQC+23v6cXaSVut0Iia5RRuAUS4+s9rTOCLlf0mciWApe3cXzm2s7D18bzcWHi5rRlJn4vcj4uEz26eyr/xYX4vNDYaHFzKnjX2GCpayF3OjTXq0TgSfWe35VLcdVhbaMu4MbmND8tHv5iEWBpi0eG1vwdLV8Rn4ptQntdOt1cTy+MDgeGK/Iu0hyICy70Kg7AHw297ThWWLOaLd9YVl2qCRchRTW8EG519aCJay5741nKRkGyt77hPD8Y2NhOf622w41D+/06Ah3A/3BG9ozJ4vVYyOJY4aMMVgKXsxN9qYz3RV8bCh4DN8qdsOKwttGXfCVW4m2tu3uN2Qy6Z7IBYGGENFl67aplz6C3wT65M/v7dZCmxdYMweOABlD0Cj7b10NCufCJkdRDTUXOkEStmz9XbOTuLaTs1osHVyJBecvPv5D88laYZHYgctyk2PBG9I2ROkM61dCZay5/MxDLL1rpgY5l5TTPhRt51WFtoy7vVKdi4yFD+6fmRZTxCTkQyhquzMhpnLIBO+At+8+oQhWwDgCJR9FwJlD0CD7b2QO5MZvsqQc7bxwjKH0n9zZSJQyt6jBWo7NaPiqWh9hucyN/98bDXPBvmUSuGn/0/o98SryfdS9nyhXlrzYS+sccq3h8FgKXu6roZcH/6Qo1KyVsoQWan6OzLiR912XFlou7hTRwWDo+t5voq08rP4uMXpZn+JfrWYTDHP8dcH8aGozHGtn8A/uD5h69rXsuqWYVop87PSAMq+C4GyB6Cx9l6M5bzZuhAnKOepV+F43tTQ+G+qTQRJ2YuPG45xkSbRTTGzvpY+MCdbi5U9n2Jr9gFiQhIe5eL75ur69rn2ifyumHitynrCzzViIeLvx8IrwaXK3pjgJJA0o9WvT2J69CvJ7kIOBEzZ/6lXT9LL48+ZX5eByaUv3DmJFR/qtgPLQnvFXSkkx1RZTyiuRuOPvIL2j/Irl/hnpI+ELRR5NpcUDqMs+KnnH1qfVHfnaAJqditm7S+yTpcXUPZdCJQ9AI2198J9m7EWvjuKRUesC7r81PgSOl/ZE0HwhY/7FhN00MvZG7osicT01tDHQ+Ms0paoGdKQp9nAGG8L3baElIRHzEse+szG5di0gWd/fVxdX+NHbO7VKP9X0/Gf4DJlb0pwuvlo72gizxXD9d4y9d0518Cc5qApe384qtuOLQv+aU3c6UyY/0yv/JcoTavx2RdvNq0TY54E53q+ifVJ7fty+D+zmV9s7IgV0p7QCHaqAk5A2QPQWHsvvizrtbBSSI6E7R+anWt8Vzpe2dN1xvTiyOoX6g1dkjKEn5ujb+g26ezK3r7hsdE3m6LhqVfPj3OJN0J90uXIb8b4bjh05Oz12Oi/+82VZQLh76i3Z24rQ91FMydINlzCUysXTz4vcMNQdYnpYLv/NB9fCc72FRp9zVZ1k2NghMQizUfizQn+p1baTS4MPR8kF/c9n4ztlKQjtU5A2Rvp1LLQCK2Iu3AGbz6YM4Onx6meb2p9Qrg+3lx6O/hsmFzcP/TPxsmlrJTLgLLvQqDsAWiwvS9tUO/10eXdK9L83J5nZsPDSYlr4W5V9rzn07e4lYm/6pHOTPWkXkwMPLazahvCSfZY4usmiax0SrEnpBF9xE3vHWirBO8yZV/98S8Ro3zCBjGeQaLSVr7rJbdTy4IvujnuDJduCaFt6hMo+y4Eyh6Ahtv76zwdPmHDn/3jH7YK0rGjblX2f27yiYl+2tRNxLP883GD1L4vD6372ji9qSgXX5fp7sLRwZmUmI7SGPQr+cJu6/OtnRK8y5S9F51aFppBN8ed0i71CZR9FwJlD8DjtPddq+wfSO1o5XXypC0+tDfGxefJ1g/YN4GmJjiUfTPp2LLQBLo57oxm1SdQ9l0IlD0AUPZetFLZg04Gyh6AtgLKvguBsgeg2e29+/xLD6DsQQcDZQ9AWwFl34VA2QPQVu09lD3oYKDsAWgroOy7ECh7AKDsvYCyB/6AsgegrYCy70Kg7AGAsvcCyh74A8oegLYCyr4LgbIHAMreCyh74A8oewDaCij7LgTKHgAoey+g7IE/oOwBaCug7LsQKHsAoOy9gLIH/oCyB6CtgLLvQqDsAYCy9wLKHvgDyh6AtgLKvguBsgcAyt4LKHvgDyh7ANoKKPsuBMoeACh7L6DsgT+g7AFoK6DsuxAoewCg7L2Asgf+gLIHoK2Asu9CoOwBgLL3Asoe+APKHoC2Asq+C4GyBwDK3gsoe+APKHsA2goo+y4Eyh48Gj/XwkwOeh9zuadtaKHsPWiKsr88SswNEpPoG15InyniZAegnH9ZHh/o7YkOjsf2K3VxtgN4igSHsvdFp5aFZtDNcae0uj6Bsu9CoOzBo1FXaje3tcvcEhOFPROb5+SnflQvDjamSAVH/pUsilueCCh7Dx6u7G/2l6LUBg53FvrIo15unIt/tDvnn0Z6QpHY3tHq6whJgaXvt+Ifbc4TJTiUvTcdWxaaQDfHndH6+gTKvguBsgePTHlrlFYrvS8+lcQZI2cbL0K94XUoe41gKvvzT6+YDWyuknadPGpiqyL+097U9lm/dDmd5q1jJHbcGaOMT5XgUPaedGpZaAbdHHfKU9QnUPZdCJQ9sHFVzK4vT72mH0xJjRB+Pjb1YS17WlHu9d2w9n2ZVSu9sSNZFVbPEyH75Co2aMq+qTlIeaiyL2fecBu4vfi+ubq+eXgp/tHmKEdxahhvti5uipn1tdWdUofMHniyBIey96JTy0Iz6Oa4U56kPoGy70Kg7IGB+m0hPd0Xioz+u3VSrgoheFcp7CRnnkfCrz/+aLwiPkmwpjQ0nZXfS4WsXPS3kOAo+0fIQcoDlX01x24fy5TFiU6hsE6/mPc8uYE2ytMlOJS9Bx1bFppAN8ed8ST1CZR9FwJlD1Tqld3F/p6BhcwvWbVTrx7GR3qisw4C3YlS6iVrSqNrxmpFubkVopOO2UdWf7K/n47/8f9mgXy28r/EiSck+99oLdz7v/33/0uc8M+j5CDjf678byxU/21LnGiMfJI1LfHDDhPIlexfNNajHadEni7B/9d//w979fj/ECfai6cv6Z1aFppBN8ed8jT1SZsXSfAYQNkDwUVm0kP21W9PkiM9wxvn/id1qGO9Pe/3a+IUH7lRh/Dp37O7Tz2lPBjK/lFykPOwMfvK12mavH9td9icWjZVjMY6L050Ck+Y4Bizd6dTy0Iz6Oa4U56oPsGYfRcCZR80Kntx6lGLzsfQPGophfWxcKh3SLqGlUOl26tE3mss5S6feNk7/sVvzSymFYZ6p77qt9T2FtrNJUIQlP3j5KDgfsq+RJdHcwMwHk++YNqL2x/vrWFmx9N3QT1ogwQPlLKvFdPMP2PPwLTun/EyN09dFi7/uBEnfNFxZaGb4864Z0sq4YnrEyj7LgTKPlDUvi+Hh+OHVTG7XXjUqu2v8KrEPCXGyHnqVc9iTh9Wd0bocn+DvmJaoWG+jXJ5FBtuu4nLAVD2j5SDgvspe+729KaY+t/pvVOZknB42lZ5L0Op0XBW9vji7/ih8NPa9uFugwQPjrKvl1LDkZlMWbncniK3qIMRF+kRFsHemW+N6LLOKgvdHHfGvVtSKU9bn0DZdyFQ9gFCyceiEaaZK5kJQ31EyvZBnI6aOI6U09nwfsU29dvlc2a8mFZoPxpoGHjT0sjRl2p4KKiR9v62kJ59Rl229U+lVc8GfIJ7KNIM58T3W0H7SDmo8pDZOMLRm/WNlYPk/NvJ0QG6YU1ir1Rz72nclHcTY+HW7nvAPfRZt1EjBvBleebt2LNo5Nnb5fSxczbVipkPs+NvBsPRwfEPmydX4vSj45Dgf34fJf6ZHH/d3zMwMp/MnTv2ApWLnfj48Mjom5E+YuTJo4Y207m/jGizkl75MtkzsXVR/6Mcx+nQtVZ53pXT7+hDVLXXSC53SFlox7j7L3cPx3dL2lDGPbQ+qeZTcyNDr8dGqS+E5cxPv20NlH0XAmUfHEgtTGscUrn83hqnJXlhV/9mytyNOUk/2qbavgxe7q+8jlARoOlXQTX7zjS7xhFRlZN2dOtCjFJU6CLO9vON4L+9P/80Ep7burjjnZZXKf5V9tfmEI9pEzbTvZeyf6Qc1HiIshff4k3Bu/42O5rM84aw8nWWqIcXDhOJCumx0eGRoWHScertaekEVfEN3TxngH6On/lapuu/+aIFklPSlFSKq69ns2UWp1o+MUxT4D5rl++BLMH/XOVmXidPeIXwe3uGdE1fJk/u2E8zVAe8XSuwK5UjJux8zl1hBGXMnkq6+T0inpSTOP3w+EIUdQqbZMgqsUZzuTPKQhvG3Xe5awY+W1L/Gcd4aH2SeDm49I39q15m/Y1XiVPntxmAsu9CoOwDiBgbMOl4qkQdxeJp0lbsjVMDVf2qQltHPyNGp0kqCyyuAMi7oskCqw3bB7/tPa3oJ1mrlo/RYXstZZSLz6z2VBcKNzYIZ+Jeyv6RclDjAcqetH80DNqwH4V7TJrN8kG+ejFBE9PJLyqDRrDFyr7IN9MxfYfhndWXyQIvWiJZkie2/OXbOLxIFvmFonFtSfhlCS7qBM2oCkmq2GS9O9rrI/96xi1GRFDNKR8ERdmriOEJ82BEXlRijeZyh5WF9om773LXXFxb0kYz7kH1ich0tY8hzNhfHQ5l34VA2QcPXuOYN7e7yc27jJQ/ji68yIyx2yNGOUhrGaOfnPbAZ3tPP1Kzuez6R2qtClaOYmofpsGxHAtBU/ZirYUp08tpOsI3ooZKqEk3rdJ6ZS98b5uTrra/QppnfQUhzyxJc17b/0jyPazFmoe/JV5BZAkuZkhrK/9cdJhytk23EPrNfvANpKMNSKg2lxGNKnuuXy1bpdI1LUztNZrLnVUW2ijuvstdU3FvSRvMuIfVJ3/qlcP02upOkTUrymGMvsvnVwso+y4Eyj5wiI+eJp/BdNGkyz7eVLdJ5nLEJvp7Qv3jKTEqo1LdnfMzUZ5exiqUDvBe3GB7L0Sz6VsEc8zPhG/jg3Am7qXsHyUHDdxf2YsGz+rCmS6q0wKlpphLErVe2fM32q1Xua1pS//4kJuD8KXL5rQLmUgKtyL8DglOwqNtIqEN4XsoA+UkQS7rn+dzAPwRLGUvLenEXHW110gud1ZZaLO4+y53TcOzJW0o4x5cn+hc0to4/HqtIJtNZwfKvguBsg8a4qOnceyETstzX9xJayU2sdIH7sP/GmwMm4bkgVPP220FLYHXv6HJDB/X5JyRZoDX2o0Pwpm4l7J/jBw0cm9l78OFs3KaJC1o+H3u2qU9a7my9+N7mzeZQ6ZROCncBkZSZ+L3I+LHZzads0tHCq1dQZ3Kj/W12NxgeHghc+rPqFTuLyPasKSrMyiMiUnXHsh3hPDK5Q4rC20Zd4bvcvcgGmpJPQPflPqkdrq1mlgeHxgcT+xXLD0EZ6DsuxAo+6AhPqEaapDKzmyYOTpwgRZ+fxsY0e2Q/LSLYsBDMnbYhvyPKRrUnhf/hx+vlyKF32xdiBOU89SrcFydctPoIJyJ7FuWboOxxrxeNj8Hjdxb2Qu55vzJQimuDtPxpxPj3BE7LVf23Nud2xuvcjPR3r7FbU/XMUQihEP98zsubXrz8ExwumhvpCc6tpr3kux8SV90LHHUQCezzWVEg8qeF16DHr0rJoa51xQr3rncYWWhLeNO8F3uHkgDLamPwDexPuEr4PsWty4wZg8cgLIPHDf7S3SsZTLFvGJdH8SH3Pcl5dTLmb8iQ+pyKCeU0+QQX0LqjEJ94FRP1vkk+96V71XuvVibCdCGNOTPXkwYNdbRd0exqDZIb8L/QJTKfXeqal4OSrivslf4VmWO7p+VQpL6GnL2wKjSamXPPGCEnOcs1SvZuchQ/Mg7Wy9JMzwSO2joC8z98UpwZgDR2UzJ30i8+DzVwBeeYCl76guLXB/+wMpvrZQhmS4tYj5yuePKQjvG3X+5ezh+W1I/gW9efcKQLe11BMq+C4GyDyDKr1zin5E+Wpgjz+aSYjGcJ3RIpndoJec0ZnB9kByNek26/blGl5ZKDusizraiIWUvalW9ZWU1u7SS9T8QpXNfZU9oSg5Kua+yd22BqMe3Z+oYVe1X/kJ3LWejxcreXdHS7QsGR9f5Imml8rPo+GX8Mjf/XB0dVyqFn/4/od8T9yZfOV0bfb6Q5RXCTfnkl03f84V6ac2HvZgb5t9HasCU/Z969SS9PP6cdeYHJpe+8CWMZvzlcueVhXaLu/9y1yR8tKT+Av/g+oSta1/LqpsBa6XMz0oDKPsuBMoeGLgrZ/8dC5NKPH10caXWLkr14ng78Xd/z8CC36G+TqOxPWhLG9R7fXR594pUyrfnmdnwcFK2mMn3QJSJByh7wiPl4Pn/MchC9fZ/iBP+EIvwpGsGKjuzWov4hy7qnRbrFm6KmfW19IFZSrZY2fO5ZHL3rCRbx9RmmFBcjcZZ+6pcfN9cXd8+1yyBdLReGya9kE5v/LHD75bgdGxVk/Wkvf82O/WFJbIxwUXPXPVnJaZHv/K/r9n/iv0/aU6F/mrMUlpFQ/PufOE3lzu2LLjQ0rg7lbunxDHwFh5an1CfBzTT1R6pmLW/6OtTcJsXSfAYQNkDK8plMbu+PEV3oGS1ycDI1Ie17HFZrXoCSGPKnqii/ObS20GmgfrHP2wVJNq9kUE4Ew9T9ozm5+D/XPnf2KP+25Y44Ua9evKFj/tyv0ASb+hsUtDIfHJtdZ0fy+Ohj4dME4uFa+pPQUvUjPIrl2YDY3yUS7rNJ51r+5/plf9SQx6fffFmk029FSsOhz6zcTn2ef3ZXx/VCK7F5l6N8n81HR8JLr7nLCa18CxN9K4c0L6fKcHrpdRw72gizxXD9d4y9Ww4p2kXb/7Xf/8Pe9p4myr7Bku6B5653LFlwZvWxt253D0ZLoHnNLE+qX1fDv9nNvOLDdawQtoTGvG5U1WbF0nwGEDZA9D4N3ov/I7lSLifb5xHppHZONTrP704svqFekOXzVMSjZbp0DYHqFfPj3OJN9N8Suv194+jb8aGBvhlkWevx0b/3W9WNpkQu4/19sxtZai7aNlqBOGU2nywLQ4ItXLx5PMCl1yqLjEdfp0XNYiPBFcXh5iOV8KTiTnB/9RKu8mFoeeDo68H+55PxnYa2mctcLNxXPHM5U4tCz5oadxdy90T4Rp4QlPrE8L1MR1OejZMDKB/6J+Nk0tfsp6A2ThdCJQ9AE1u7z3HclzpeGXP59T2LW5l4q96/KzetlMvJgYe2Vm1HeFMeizxdZNE1nMtshTSiD7epvdOtFWCd5Wy96RTy0Iz6Oa4U9qmPoGy70Kg7AFobnvvNZbjQccr+z83+QTdIau3byKe5Z+PG6T2fXlovWFX5Q9Gufi6/IzkXXRwJiWmozQG/Uq+4Owk/tFopwSHsjfRqWWhGXRz3CntUp9A2XchUPYAtLy9d6Pzlf0DqR2tvE424k2oXbj4PNn6Afsm0NQEh7JvJh1bFppAN8ed0az6BMq+C4GyBwDK3otWKnvQyUDZA9BWQNl3IVD2AEDZewFlD/wBZQ9AWwFl34VA2QMAZe8FlD3wB5Q9AG0FlH0XAmUPAJS9F1D2wB9Q9gC0FVD2XQiUPQBQ9l5A2QN/QNkD0FZA2XchUPYAQNl7AWUP/AFlD0BbAWXfhUDZAwBl7wWUPfAHlD0AbQWUfRcCZQ8AlL0XUPbAH1D2ALQVUPZdCJQ9AFD2XkDZA39A2QPQVkDZdyFQ9gBA2XsBZQ/8AWUPQFsBZd+FQNkDAGXvBZQ98AeUPQBtBZR9FwJlDwCUvRdQ9sAfUPYAtBVQ9l0IlD0AUPZeQNkDf0DZA9BWQNl3IVD2AEDZe9EUZX95lJgbDId6+4YX0meKONkBKOdflscHenuig+Ox/UpdnO0AniLBoex90alloRl0c9wpra5PoOy7ECh7AKDsvXi4sr/ZX4r29kxsHu4s9JFHvdw4F/9od84/jfSEIrG9o9XXEZICS99vxT/anCdKcCh7bzq2LDSBbo47o/X1CZR9FwJlDwCUvRcPVvbnn16R21982lwl7Tp51MRWRfynvantL9GIL6fTvHWMxI47Y5TxqRIcyt6TTi0LzaCb4055ivoEyr4LgbIHAMrei4cq+3LmDb09dnR78X1zdX3z8FL8o81RjuLUMN5sXdwUM+trqzulDpk98GQJDmXvRaeWhWbQzXGnPEl9AmXfhUDZAwBl78UDlX01x24fy5TFiU6hsE6/mPfEjjpsOvDTJTiUvQcdWxaaQDfHnfEk9QmUfRcCZQ8AlL0XD1T2+SRrWuKHHSaQK9m/aKxHO06JPF2CQ9l70KlloRl0c9wpT1OfQNl3IVD2ADTS3tdvC+nZZ3SSaP9UWv2WWq/sLvb3hCLNWA4VQGVf+TpNk/ev7Q6bU1vP87xI5MWJTuEJExzK3p1OLQvNoJvjTnmi+gTKvguBsgeggfb+/NNIeG7r4o6PvrxKldjZX5tDrMrumcs9WDEESNmXNl7wZDEf4fWiuKBNuf3x3hpmdszutlOeSGiDBIeyl9OpZaEZdHPcKU9cn0DZdyFQ9gD4bu9/b42HJumnVCUfo8P2qrL/o1x8ZrXn+/0a/7kTHx8eGX0z0hfqn0oeNeK0OEDKvq7Ubm5rN8XU/07vncqU2M/bWtt/i1dqNJyVvWWap6H4IQ/2TduHuw0SPFDKvlZMM8/rPQPTuuf1y9w8dUa+/ONGnPBFx5WFbo47o7IXp17nQ5HRfzWv80phfYykydAnUe/75GnrEyj7LgTKHgC/7X3ly2TPYo5od+U4Ttu8lxvnmmRXjmLqBEpak75dK7DGTzliVzYwRhi42TjC0Vtk9ac4wWiw83NT3k2MhZMtHeTjHvqs32Hq1ZPU7NDw2OjrwXB0bOlLseYU8lox82F2/A25bHD8w+bJlTj96MgT/I/yazs2MTL0ZmxooLfv7+Thb3HexkP6pQFS9vVSajgykykrl9tT5BbV8/pFeoRFsHfmW+MltFPKQhvGvX5b+LI883bsWTTy7O1y+vhxq8fa9+XwcPyw+uckQeMrplnW9ldY9Huia/cw74fWJ9V8am5k6PXY6PNI+PVy5qffmZ9Q9l0IlD0AjX6jF19XTQuh6BzKCBO+1ew7+t9nfDxfaOLZrF9hFzhlL77Fmz49++/8FNJjo8MjQ8P9NINaOkFV5LJ5zoBSSL569j7H9cdFZpJc8CJZlAy+KcXV17PZMvtPLZ8YZjbQGh9/sgRnOTi5ytXA3RH74iS3yYf1S4Oj7Gk3fmLrom7oxvN/3JXTrIALtdeQ3uqQstB+caeD5TNfywopd/XbkyTtYMx8fbTp+vSTbIQ5sKlkJgzxJQE+iNNYiARpqEv20Pok8XJw6RuLcr3MQvUqcepr1L/NiyR4DKDsAWj0Gz0ffJrMGEc9z0i7JXw+KGfb1FUz/295a5RcHE2euFX6RoKm7K+/sXZFEweUxjs/p8yrRkuVfZFvpmNeFS1yZ36PneShkjWZte/0y7vWSIvGtSXhlyW4GoD/8JMi/WU29sB+abvLCN8lnUo6lsvKSZx6KnyhTrwjEA0qXDc2qLc6pCy0X9x5lfsyWeCPF1f6r1Qbg/RnaDjJw+n0S/KihV3W92Awl/xM9fvulnAeVJ+o/xIhEWbs77sNlH0XAmUPQGPKnos2utuIOEE5T70Kx/O2Zk05SbzqCfXP8/bPF0FT9sKFs1iBIGi489N6ZS98b2tLKQSVg83V9e0CX07B9515t20fq6vtfyQtfViLNQ9/S7yCSBP8z10pu76WPuDv5xsGRaTJ+bB+aWCUvYroxptdsOeTJE0KJE0a1FsdVhbaJ+61/RUii/X5/bySnH7sj2Bi/ozJ/Tz1ncAq5wa7ZA+rT/7UK4fptdUdPldHOYzRV/v8agFl34VA2QPQWHsvmihjy0qnN4yYq+zKj/W12NxgeHghc2ocpPEkYMpetH/OLpz9dX5ar+yFcHH2vV2v0KhFx1Ydxinpsjn1P7w3GG5F+D0T/I+ST74I9fYtijkAztyjXxo0ZS+68RNbxiQg3Xih9hrTWx1WFtor7sptTS9OrMvRSIfzXpRSL0mYI7FjQwG/yc2rXZ3GumQPrk90LmltHH69VrgTJ9yBsu9CoOwBaKy9FwM5esuqFJIjYdO4jgqfEhodSxz5l+nBUvZuLpwb6fy0XNm7+d6uFTPryaWJ/mcTyR+/vZphCpc1I6kz8fsRcfWZXdlfW43NPouOzLss1KPcu18aMGUvXVFDBJ9Z7XE89VaHlYW2jDuD29iQZfS76YiFASYtXttbsHR1GN5dsqbUJ7XTrdXE8vjA4Hhiv+Kn4mFA2XchUPYANNjelzao9/ro8u4VabFuzzOz4eGkY5Mm/aLtRrCUPfet4fLd3Gfnp+XKnvvEcHtjvZKdi/QMLGR+ebSx199mw6TV33Fs9ZuJZ4ITk8wnh0KR0cTRtfuQ5336pQFT9mJutNEK6IzqYYNTLP96q8PKQlvGnXCVm4n29i3Kpqw0FbEwwKjF6XICy3aEfrslTaxP/vzeZimwdYExe+AAlD0ADX+jv85vLr1lzp5D/eMftvgsSQH/SJ3W/CQIpT7l15NDoJS9mDnq7iTOT+en1cqez0T38u4nG9Wzckma4ZHYQYty01eCS4djpTTcLw2YsufzMQzq9q6YGOZeU2x46a1OKwttGXcmf4fiXp3SZiAmIxmUfWVnNsxcBlnx7pY0rz5hyBYAOAJl34VA2QPQsLJ34+caU/zcAyap9Pln6FcW5+LOBErZy1uge3R+WqzsnUQGW4e6ulMS0dGSxSlcl7n552OreTaYp1QKP/1/Qr8nTk0+W6i3eaiOmAqDt88NeGi/NGDKnqQndbAY/pCjUrJWyhBZKXVKyHDXWx1XFtou7vXK7uLg6Hqez+yv/Cw+bnG62V+iXy0mU8yb5/VBfCjq7LjWvVvy4PqEzelfy6pbhmmlzM9KAyj7LgTKHoCmKnu6yUvvaCLPR5Wu95apj5Q5/9+Og6TsxdiwNS7unZ+bYkb34qLSYmXPB8+4DxAD4gO95gFDzDFYYC66lYvv1M3FuTZseVdMvFZlPYHEOv7Y4XdIcHVmhba9EZ8b8IK71jYm+EP7pUFT9nQjofTy+HO2aH5g0rKRUCN6qwPLQnvFXSkkx1RZTyAmHX/kFbR/lF+5xD8jfSyQz+bMm7s11C15aH1S3Z2jD9fsVszaX2SdLi+g7LsQKHsAmqrsCbXSbnJh6Png6OvBvueTsZ2S62pFC52v7Ikg+MLbvGKCCkqbJzjXzo/a2n08NH7Zb4maIQ15mokV3hZKtvmkw3iDM1/4BlR/zlN0UFMdyBTqeegzG5dj0wae/fWRqB9+xOZejfJ/NR3PBOfjr6+TJ9ymqjk6GKkOQJoS/KH90sApezd86K2OLQtetDrudCbMf6ZX/kuUptX47Is3m5KJMS3DRx+4ifVJ7fty+D+zYgo+S7ee0Ah2qgJOQNkD0Gxl/yA6XtnTDSzpxZHVL9QTnNxrkEvnp149P84l3ojFdtffP46+GRsaYBkUijx7PTb67/6jZBPdeJK9ZW4rQ134Tco/rF/l0x8mnz0fGR3u7xteSB1X6L6YjFq5ePJ5gUsuVZeYDrEfTbPxleD12/O95PzwIEnAZwOD47Htc+Ea3JrgD+uXdpWy99ZbnVoWfNDSuAtn8OZjMWfasaHFuHZLKE2tTwjXx3Rx17NhYgD9Q/9snFxKklMKlH0XAmUPgNreyw5fo9T3Ra1zJUfnKns+p7ZvcSsTf6UNDDdGvZgYeGxn1Tb4XNjoWOLrJomsy5RiF0iGPuKm9w60VYJ3lbInuOutTi0L/ujmuFPc+8BtU59A2XchUPYAQNl70dBsnJt8YqKfXNw3Ec96enCTUfu+PMSngLcU5eLr8rMoaYwHZ1JiKK4x6DAenyPbWtopwbtN2XvQqWWhGXRz3CntUp9A2XchUPYA/Plzd1u7kR/at9FHQbG+Tj/u0xQ+GvdcQXsvakcrr5MnT/mh/Z5cfJ5s/YB9E2hqgkPZN5OOLQtNoJvjzmhWfQJl34VA2QMAvFCVveToFJEEmo9YEyI72lvZy45W9FoBeFw6r0iCxwDKHgDgBZQ9kABlD0BbAWUPKFD2AAAv6op1spB2tNe0IdBSFIsx6Ee7WsVTzbsDoCV0XpEEjwCUPQAAAAAAAEEAyh4AAAAAAIAgAGUPAAAAAABAEICyBwAAAAAAIAhA2QMAAAAAABAEoOwBAAAAAAAIAlD2AAAAAAAABAEoewAAAAAAAIIAlD0AAAAAAABBAMoeAAAAAACAIABlDwAAAAAAQBCAsgcAAAAAACAIQNkDAAAAAAAQBKDsAQAAAAAACAJQ9gAAAAAAAAQBKHsAAAAAAACCAJQ9AAAAAAAAQQDKHgAAAAAAgCAAZQ8AAAAAAEAQgLIHAAAAAAAgCEDZAwAAAAAAEASg7AEAAAAAAAgCUPYAAAAAAAAEASh7AAAAAAAAggCUPQAAAAAAAEEAyh4AAAAAAIAgAGUPAAAAAABAEICyBwAAAAAAIAhA2QMAAAAAABAEoOwBAAAAAAAIAlD2AAAAAAAABAEoewAAAAAAAIIAlD0AAAAAAABBAMoeAAAAAACAIABlDwAAAAAAQBCAsgcAAAAAACAIQNkDAAAAAAAQBKDsAQAAAAAACAJQ9gAAAAAAAAQBKHsAAAAAAACCAJQ9AAAAAAAAQQDKHgAAAAAAgCAAZQ8AAAAAAEAQgLIHAAAAAAAgCEDZAwAAAAAAEASg7AEAAAAAAAgCUPYAAAAAAAAEASh7AAAAAAAAggCUPQAAAAAAAEEAyh4AAAAAAIAgAGUPAAAAAABAEICyBwAAAAAAIAhA2QMAAAAAABAEoOwBAAAAAAAIAlD2AAAAAAAABAEoewAAAAAAAIIAlD0AAAAAAABBAMoeAAAAAACAIABlDwAAAAAAQBCAsgcAAAAAACAIQNkDANqOyvf41IdcRfzygVJMvV1InyniJwAAANCVQNkDANqLyreFvuhs9lL89IlymhyKjq2eQtwDAADoXpqp7K93ZntCveJ4t30tTj8+V9sz2ntDs9krcbrbUE7XRqOR0cRRTZxoPspRvCe0sHsjfraEavadlrmttatmYbLP3pmdqjjfHhSSeth6QsmCOP1kKD/XhkKR2NF9BPpFZrKn8S5BU3mIuRYT2o2h3sSpONsKJFXo0wUGBAJjxdJuld49aLd68j5c5uYHevv+3rqoixMgqPhQ9qdJg0G7HbT0KtWT5Aj92WIFVlcq+/EXNBhdq+yru4s8Iz7+eCxprxzGenuE5qr+eN+vZT07+ofSRXYZoZgeNv83Ojiq/7dhlKtSZi5Cn9OJyp5QV67PtmaiNCnasJFTapXDOCu2T95iKcXV4d6exdw9TbheSr18eiN5iLkqv7a5nbRaTNurUGq0m1zxQ9m3IbwPPPW1gTlrLUap5hOkOAdC2RPaqJ68F4UUb5RH0r/EGRBUfCv74Y+7ZTGKJsbmtUarJpoxUXr59U/QuPJBpq4fs18vPtZ0hNr+UigSOzY8/uYoQYQUSfbF3LV9GOD3FpcFLxL5JgQp/1R21TROEjQ12rSRu9yeopn1xC1W5ctkT+hV6kz8vAe1vYUei5U+Cfc3VzHq/xRi2l6FPmFggCv1cmaCZk1P8v4jJi2g8nW6fSu9e9Ae9eQ94WP2i7kKxuyDjk9lP5kpi18Eq7In3BVJ1xzK/l7wtrMDgk01UzR+YpJM6twDeesi/tucav3J7Kpp8O+5bdrIifkYTW+xGjFvJR+L9va82boQv++FchQjEZnYeuKRTG9zdUoZUWqg7DsKnnStEnw3pcyi+lG0vZU9VwvBUfY+6smOinIj9TPoHHwp+xdJ0zCwRNkz2Qdlfy86pWjd7i72huOW0XfR8EPZ+wHK3h3lOB4O9b74VBK/78ntj/fkjZOZ3+L30wBl3120StnXjlYGaI7oB5R9K4GyB53AfVbQSpW9DpR9Y3RI0brJzYcitgZeNPxQ9n6AsnenkKST+hJ58fPetMUEACj77qKlyj78fGw+tb36F80aKPuWAmUPOoHHVfbXxxvzbCVl+PlkbM/2ebxW2k0uDPERiIGR+WTu3H3dXP32fC/JH0jXa/6T3C3din9RHJT9VT79YfIZW5RGgrGUzosZ4Tyc7KCFsF49SfHARJ7NbZzwUlnV7u0fj21f3LGTGs7hEUnEDtoo1krZGH+O4eFqq2k5Evu87lAPveKmC1gNo+Y8vvz4f41of5vz5Tq/ufR2MEzORwfHP2yufjCrc48k1aExerlxbp2fp0ahQWV/fboV+3ukjwW4b3g6tlOq2Wb+XR+rIecB+/zRHrs/V8VMbFozoanYtm5CD89fl4cbE58ESXv4wMKu5piFnEwvjz9nKymZeadX6PUONb7RGGazv6uFL3F+b9/wQmJPSx/jZckCyb4ddpnR22P99uJAS7rIs9fG23VqpVziH54FkWdvl9Nf1wzzR02B2eXhNaSnveybMuvveJZakfEh+uGsEdniV+11dq6K2eTCqEiT6aX00YVTdfFzjYbE070OTaiN+dd6QqWOtXeb05km13ZMLUczKbUOMeDLXAXuKSP+a643yDM3C7b4Gl7KMlEPvwy3+HKaoOyvT7dVu+LZZEgrxyLZ2zcRz/6yZZdT1c3RCy+L+/pyWFILWZJajVp1f+XN2Kg4Pv7gyeDZHplLtFohGOth7TCkYa18qN0VHRw11bFmM5MWZ0fUe/0re0MEWd/AlJ4udbK/5kyOKnMruq2SlshUlwr8GrPBisLrPO6mXDbZqpeReL7UtZ60Ykwo/TC80a10mLE8So8UnW1oWEdkqpb/P//qf1taJaOV2it5/dBf5FMbiK6Oeqg13vX3j2r5GtOdZ7A6XCtiUx82T7Ri4jdbfbS84DGV/WY2OTmV3D48zu+mppkpv0oYa6tL6gJiKH5UYedqJeY5ZDhZsKgrjXolOxfpGY4fXoob2LLdEcMz7c0Sc3EdisxkRCV1fRAfInYzty1WkNyoK/c/51Jzs4mdo5Pj3OpbVgUPb5yUtpZISd7Ln+xtzrPLTHNRvMKjXOaWWJuU+Lq/Mre8Sh5+sLXymj3cNAlYmK+xPlIuj2LsjUOfiopW8ukCVnIyfqgFon57GB8Mz22d35B7JF6Jat+Xw9HZzBkrkErlMDFGqjBD0fVMUo1KZqL3Rco+TcK9dRH/tWjZys5sODS2muehKtMwhHrHvxiSpF5lLggi4+t5YR6qYxmT1TETGl3P08ytKxdfyWPNafuQ/PV8eP22kJqkj3ozO/9+7eSqsjvHHsJrpSrLwejk6nGF5iCpJTPsCbbUMFI7JuZKrnk1+n7jhGfKXXl3hWbrkDYjrq5U9pbZo2Zn/v1INHRhncVoLkdTpl7ZpRNwR2IH/L1K5SA5Gu0Nv90410uWcsECM7SyTS3HYG/GFqt2lLQ6m9KibMyFeuUHDaH2xuruB3LXiGosEvOWI8xb3mTy1eHUHlgslGopS17qVJvzxsZjvr5SoOWFPIGlqzAVQ5Opp3My+/3jzPu17EH+8MtHkpgkOvcxVytOKaOe/7o9P8HsU6s3TE9j4ddKtxoGIqHYf+14xZfyQGWvFNZJDUPr22s1HeZJozv88YeWTTfFFFv3yYtk7EuOFMnU30w9mNfweFXd+0tR9b+qkctrIVLvcX8m/1k7MTYuCikp5IFbQmJ6tkeX+yskxbTaspqj5jqsDXZIWh8KW7NI7/rN7hKVcGT8U0nE1b04uyGyxqeyV842xkk9wBsL8vPnBk3P9/s89p51su/mzApXC+HnsylRE6qZZfJO26AxK+WMPe5Xagg1W/UwEs+X+qon7QiBZM0XH6XDCA0wtXlal/4UxkIgbTp9uHHY4uYo9h8tms6tktaKmQLvUMAb0AZ6sjz7r7wuV8j58taMoQizOpxZYJU9RKwVGVn5ria4z2x1b3kB49GUfWg2bRiDOU+9MiV9vZQipjBh8qt6kRkj15iaTAPnn0ipMy3k/VPeGiUv0qsVW91KC3Zv2DR0x/w2Gtoz/uHeVIPzZXzMowu3SMqvTfouQ5HwER7hC0VvjQh3RyuWQDoULVGA1ZqXIM6Eepe+s5qIcvvjvcGRCF+2r+dLlVr8X9uGBKXv0pSlnygIfm+Nh15JhL3WurgeZi3Lsymy+lP8Fi816DDRGJjHXJUD6yAon9xiKM/lzBtyZswYo3vnr5+HiwR/meSK4TxNKu6RVVoL82SxOGVXDt3G7Dk8caZNHtlJJcuepud7PS9MnV1W2//YRyrQb/SxLE97x02htKYn0UxUsptLnz0F5GJF9Nv1XKAu5E1v5AmlFWSHlsMOT0ypHKdZZm/mWcMsVRV8Ea1r66sONemfCBS6V4O5yRTpbHq13Q59mqsNp5QR51/EjvTxPDoXzhRa2mm3GBiPtXWNu4qf+Epy3Hf2iSDZ0sFmbJIiWS+nmc3ob/Gquq+/kTQ3FROaC06pzX2hkhrM5HPpdndRXYzh2R4JRzSG2pLXWvpyDllh4Y+11LH2ysG5OLsissaXsr87opVeNH6oprnI/RC3Fu86meCvObPCS4el0mMOrPSGpmFjVh9rjrvVVt2NxPOlvutJK7Kw+S0dZviSIUuLT8/0hJZ139a1/SXj53THVkmzNGPg5QW8AW3AOdugEbF81Se1llYkWYk2WiBFKTLfevqL/GQrxSWOgNGqefbcB5yaYfKlcvxG6VgFV2PEbsRvjqhM1bbKWrcyD3rGUkHhgdcUG/9prnektm5+uK/wCHVofo794fKipQ5hagWYtkOpNE033ds3qYmMYeCNt57y/MkjsQM9dqRCF5H1FwUObeSsV3JE4B1aF/FfS/Lukt7/wMKu1hgIzaFWN/ViggTM2gxL7IpU3OFQ//ye9nBJSt4zf/093JbgKqdJmk0kxcz1tY959tZgcEirQG401Kr8MlvrIhStraEVtsTPi4jM75nKhTUXKLLAWHJBdJOMHZ4q/2ig1rPS1JYhrTcYNPq2xKRQvWvuawnkyWiCOc4Pv94oaM2BJACydL6vudpwShnp+UqWTqrWYkS/oZladwq/0aDPjDQQX2O6+c4+0aOzL8Xhqlo/LyuS1qLhWXXzv4fihs4PMX7n1OYPNH2U+701pcosz/aIX2BSuld8MH5NTU+JyQn1bAuVKM76eZmZeSOyxqHuNcGjb+zFKT832AAqb2296mSGv+bMijS71ZqKjxY1bszqY90loKuReL5UPM1HPWlFFja/pcOCMBVtgI/UeBMb6Tj9VKIFjJiZyXSdWiWK3dJkOdiINlDh6amPmRIqX6a1n7yfbJ8vd/6Jjfmq5/1kK8UtjoDSKmXPT6oZxrNTfkgfW2I9QvmhVaaWulXr3coOsyU1rPx8hedhyl6MUanNGy3SWxUhI8QusKRIjxp1jc3cmTylD+kZmFxa3z4pGyopf1Fg0FrJ9CIdEXhzUdQQ/3XUsneV873NpQk+k0+tbkTADJOOOC5Sqa5UznLpD5N8/qIxJe+Zv0acH+5UvwjzNg/PEO6t7NU00dohfpmtdeHzyyWtTnGVmg0LvFD5NkEsabFkgbHkggiY/Y0aTuZtwzl/6fwE+bpaqndlo5vOuSlDqZZPdpIzfCa0KQCydLYk1D3MVeCUMtLz/KQaI5GJ8sMzqb3ia0w3a2BE5W862PXVHEsWe5qzL4cGs5cVSUvR8FF1X+XEfKdQ//iHtexxWf/+JkV89ND3zz5PTWqdMc/2SFwgr+U4EpMT82rsd1nLqczMvBFZ4xoqjkhP15pHRVonM5qp7NUb6fl7GbOwQ1PcbYFxMRLPlzZQT1qRhM136bAiukCi5q/tLdCPSHzkSAzwEZ1gDqRDq8SwW5osBxvQBjriO4w27FgvpSa04RjHaLLvKnpofWUrwS2OgPI0yt6HxDHj3UwSLHWrd6VDkNU70hvND/cVngcqeyrc6VtYf52Ek/fR+bwmFmBSX5td+8nM/fp4QzTh7Oj7W12H5y8KFFrOnXwIisA7tC7iv9aMpktz1pbeDj6bWE4flK/L5rqSB8xedcoCXCvlVj9MPqOr644uqmV7St4zfxmeD3eqX3i+29PEh9lLgkERzYl23l5BM5ySTssIIoKtj1IR5433ygJjyQXHN2o4mrcVWf5yHkvZ16snX+Lzw4PP5pLZ04pybA+ALJ0tCeWUAs7RUXFKGel5flKNkSSzfOA3vsZ0swbGtDBOHGwFqpNdqWbv+pnUUjT82cxVPjXH1z6yY2A6/dM8vGpCKSRpzSlm19wdxf7S5xV4FkynEm1AYnKOd6lpZf7a3GBuqqnkGiqOuNKt5nGvkxk8OjKzdMspaXabgnQvY+aPNcddFhgnI/F8qZM9+witJGxOT1NT1TDt04JxgI9EkHVNxewy9jTSA7HMkOHvktc8dkuTJZp33SVDfL8VUkE5jk/pM6sN2W2Bvyu6xoPkO1td4ggoTzpm710lqXgPDRIsdauvgQpZvSOzJMvDfYXHZ1UofR1D9Nfjhwq5Rh1t4q8mhbmRIq38Lu2ml8cH6IvEBf6iQKB9CcuLdETgHbJS/NeUvEoxRdddRWa0TdEtdaXTwLPVrpRCaoxcaZj3KUnJe+avv4c7JbjTWB23B1eDtARDRWSWNjBsr6AZHmP27Cuz0+iRJRcossBYcsHxjRrS1JbB4yizXtfZONLlHzzklk/tZvhsitBIgq8aJEgqLlk639Nc7TiljPQ8P6nmhRhQtGWiCw3E1/hY39nnOSqpdsBkRdJSNO49xuyaIHSxkJhFbZwnQPBsjxxH33UkhcVjzF5VM3Iz80ZkjWuoOJ4Dw151MqOpyp7PLmNWcQ9j1kSIKe7OgbEbiedLG6gnrUjC5rt02BEDfLEjhbxaHRHnFku6qaRuVFc0qfAQymseu6XJEs23NrDAhx2Zp43b3UX9+5geTZsFijF7dQ6232x1iyOgPI2yF8bq4bzCgNC40jm1Gta6lU/tsk+KMCKrd6QVhPnhvsLzYGX/RzlhM+pinzam9BmifELb5Oq6V5E2VAQCtlWwKLH+osCHB5ybWBF4h9ZF/Nd4uyjJxoDxYGsrfSVTtxkWuxJ1pan6YK+zLZm6R/76e7hT/SKZlcu4t7K3fuiUVNAMp6Tj4RQdA24/vdZiIa4xPlMWGEsuiAbSxYqkqS1DEgAVGi+HFbS2xKe4PEqFqy6TuyceNdPHAVk6Wx7u01wlOKWM9Dw/qeWFWKbsWreZaCS+xhz3nX1OdiUmEOrpIyuS1qLhVXWTUBnLJoEZg0c46V575Jr5b0eGeQIUz/ZITHd2a7AkhcWpHhANqB47h+Lsgcgah7rXhOi6OKSnd53MaKayF60PH99t2JgJIg3dJKC7kXi+1H89aUUWNr+lQ4KoYeKpT4buKO+mTqytWr7bE3gI5TWP3dJkOehTG9hRO8+H+Y1x84iLfaUHh+9hos319ZGtDLc4Asp9lL1wbuCUrNImjZ/UMkw4DXiVMKxootwVV//ZPLdkPoM7/XhhvUEprC+kz/g5W93Kl2OTM0Y1RrjcXlrZ58GT1TvS2sr6cB/haUzZS6sY0TZYF6awQmJuRSgWc6c/rW6qaJDUsSI/UWBr3m0v0hGBd2hdxH+NySsZHrO69FEDZt752GpXknEFyypDyj3z19/DHesXzbztiW9v5EzwYJiXYwq/HMa1//YKWsCTbsi8FpC7r9FOEplCjcoSbB4X0zP5N19TZ8bm8kVMcrBaUb2Sfb/GXEy4mbcZHinbhHUG85jWP5Uye710chjH3TiYdYkZ2aiweZU/Q5bOtoTyZa4SnFJGap/8pG5+WibqjkoYlZ3llX27gTUUX6ORSwMjhwdJc6TIIaLZclJWJG1Fw6PqpqHS/cByaII7LrjkiOo0GjHME2B4tkfCiYftAhKe/+KneNKZxZB4rOYBlqEWZ8NJx+Lsisgah7rXjDBaa3qSYrW0U/FTJxMeouwtPmH4Sa3SaNCYKaKvZeyXWj0seRiJ50u1C7zqSSs8dhYV67N0yBADfGZPQaKrYA0ewalVotgtTeSgpRbypQ0kiM5zODpt7W8I3zjLP4x9LeGyST/pI1sZbnEElIaVvXJVSvMKJTSZOK7UjD6MGLXvrO1/Gf/BPaES6sr5ZyZGJzYKahZy97q6w29y5jK/+vek4w4dd6UU9USu+7T+o1RO1qfH19Wie7PPPHBFlvbEAwmV7x+pR9jhj9mzKj9ZO9temVDdYNdvf8RomQl/yHE3xpRanlXivTNfyrpz1t9brDy/Shyp37I9w6OU0qzsjaeKhoU79oer5XZ4gftWX/psqGF5f90yFcHBrGsHvN2azZZZEPhl0bHEnlg5pPzanjGOfXpGgdbmEdNYjgW11PW827LUjxReblm1rqWAaFyJeTD1oFwepT4lxeI2rQ7nznRDuitcmmvcd3J0WThwECMZr2K86lcqh582EnxMTnNoc+/89fNw8qR9NcHtm+ww99gGZ8m35zvCFToJjNPuJGrNS/fd0HchoF6W++e/6VpEKW3SoRHSbTsWVq2j+rNf2WOxU50i9y3mDBkkxq40792s6PXTuIQmU4bJyqKfwJ1LMIfQS3+zgqzlAoGoH/YpX/PmrlRLmfeTwje2u3mb4F9snQeKDLucSPYtMsCHYJ2nrlJE9/jdJndnTgwslYwzT39rmjdGNZ0nU6d6mtSOhZv/DC9lBD/mKsEhZUi9wcrUzGfxNMrNPjNIQ+UmthFgzra5f2hmY+OmjNbxE19JFaoGxlSJOSI8do9/Ehdzv/7h14ZXSItkvcL9WL9I6BWFa9XN5UhkNJG74A3KHXXBbnLIKIV9gTR/ixN4tkfcG7dhhwrl+mxr6e3aiagchdIKv03SfQ92kgleUQh/9h93ubU0WpwlVLL/iBUOfA+vnoER/nPqv/IuArHybYH6AKDpyWskWpzH39MU81Un+23OrNBuQzTC/bjTG9l7mVseQ2Y1aMwUoRRnM2z7JFrnxGbHWWDUEHoZifdL/daTFtTxuJH5NN2uIf1+kylpH6XDAf5Ay34y0h4ywa1V+qVZmhZ4h1rIhzaQIuIu0wzCn/1bVQTeMB/5lk3ZvLOV4hZHwGhE2YveqvUw9KVE/087qNnZ7tKvN+/5Z9qQTApd5WPYFO1vfcc40UvWDqPqNW1kOKbvLGgNGBup4iNt+kF7t3ysQj+0hzuHR/ocx0Be7sf4FEC2TazY00SFaGvbFlG0Z2wu0rKUV45ib7bOr/IpsekdC2HeXBG4RIHABK7V7Zeg+uNftWkRR/+QttXcn2Jaa3j4ER1UN6JTLnbifMa/trtq5dsyvZhEX2ucDNs9istO+YRmdrCkIx0VkW7ahpGXuSV6S+QZaXH/fw/KX4+H16wJLhnFMWxwO8Q28BPzbtlhr5EZYtA0faDueKreK/5vD61phJVh2YP2LV0Sp9WJKsqFmu9CJV/yCUj8UONCGr8YdwpEnsN2lhXTyumhR4Fl1hS3Iro351bBGCRX8zbC1adwBvUA2Bik6TOXBLp54SzLHZZE1OyVQopFluT4TsWaznREU1bKtKd5masEe8o0VP+QKsW4g6bDZsMCr/hKaidZYDwx77K5kNgp6h0w31WuwKnq5v5ASoYtbF238zRCbczp+5Fne0TDIzalpru0fjFEjYTpbFP4KqA1xnZBK9/mPWhpRht8lHkXZyvlNP0OIDnCK+5Dv9QlQOIfXi2zHYj1asGrTm6oOTNTSA3S9DZ0y7VXWGjAmBmmBKf76YrJ3OwgIfRlJF4v9VdPWjBVm6T61fuwbqXDBTppx+ZXl64ysliLW6skq9AYTvWzuzZwgnaenete8x60tJjYrN0rW320vOB+s3FAl8D6367LEEGTEcreq3UPKHyappPw8gubQeu8xw0AAIBHgSh78yIW8CRA2QMn2He6h8os0BDdrezFNE3JZIkGYGskLCsNAAAAPDa178tL8o/8oKVA2QMH2AJ5CPvW0uXKnuryoZDqdPw+sO6oZZ0WAACAR+H2x0q/WC2gFFf/xoB9WwBlD+TQVeqY0tBalDJfyEtXm117LasKKGzVWjR+eL/ol7fGSeo5O4cGAADQPITXh/EvpUJy2rokEDwRUPZACp0XEdad6IPHxr4wyM2XXJCpl9KvIxY3eb5g/gSH4m4eQgAAADQRvtg6/HzWdRNo0FKg7AEAbQb1pNmv74jpB+bu0+zcEwAAAOg6oOwBAO1HXandNDJqT6+/9eEOHAAAAAgyUPYAAAAAAAAEASh7AAAAAAAAggCUPQAAAAAAAEEAyh4AAAAAAIAgAGUPAAAAAABAEICyBwAAAAAAIAhA2QMAAAAAABAEoOwBAAAAAAAIAlD2AAAAAAAABIF2VvbV7LvenpB6vNu+FucBAAAAAAAAVtp9zF65KmXmIlD2AAAAAAAAuNMJs3HySSh7AAAAAAAA3OkEZX/6SMq+mKDzfJIF8RMAAAAAAIAOBsoeyh4AAAAAAAQBKHsoewAAAAAAEAR8KPur7RmqgIWDmspVMRObfBYlP/uH/knulm7FZUIoi8uu69WT1MLQQG/PwMLupbjiT618mF4ef85WxEYHR02361wfby69HQzTR7FXfP4onkn+ZwzMXI5r/UJSPRPqndmpsnMqJBjaGwdGpmLb5zVy1hBU/ZjNXvF7bJBgpxZG9WBvnFiurObTH3iaRJ69XU6vL4eTRfEvAAAAAAAAWoK/Mfv67UlyhOral2NLqXxFoeeUX7mVYaJlRxKn7DehfltITdLL3szOv187uarszlHRHF5nMvcyN0+E/nD88De/v3KYGAuHIuOfSur9VIgfxsmLIuPr4i21s60ZqpgNY/b128PEK9MZQq2YmqCXmZT95T4NIXnjJXtWNbdE7hreOK+z/wp97yzoOXfFBHnIYk6E5zg5RO6Kxk+0QN/sL0UjM5lSjTy2rlQOkqMkwFD2AAAAAACgtfiejcOnxPy1XRG/GZdsBD26/ONGnCBnpsiZl8mTO/rrPE20+8jqT+VPvZSi3YDJTJldJuAe6yOxIyGTr3dmaU9A+81QDgxj9hzZ/Bw+cq8r+3o5Q7W+4Y3lrVFyFznzm//2pex5kLTvAyQ4hzH6Ij3M38gF01ntuwS/xRw2AAAAAAAAHpsGlb1VsN7+eE9l7vgXVfDz2TI2XascxWW3/6l9X9bP14sJOjz/KnXG/6lif7UPZa8cx+l8njdbF/w34Yp/NFgrCE3uS9krP9eGQpHRVFHrbFhexKX/UPzoWnwKoLGN2WIKAAAAAADAo/JAZf/n/BObGPN+n05fJzgo+8I6m6Run6Pyc43Np2fLWEsbL+jf8UPjiD3hXspeBMxtVoy/2TgadeW6nM8mZ9l8esPHgaucmC8U6h//sJY9LtNpOQAAAAAAALSWhyp7MVlFO++k7PkiV7vOFitiZ3eJTuavsDuruZeyd3yjjm9lf5XPxBaGng/OJLcLv5UT84soV/nUHF/yy46B6fRPycpgAAAAAAAAHo8mjdlrs87vN2YfXaNq3jh+b+R+yt7pjTr+5tnvLfSRy4aTJ+KrhPVFOneV873NpYl++l7/nwIAAAAAAABoBg+dZ7+7SGXu/J46RO00z94+650hhvx5x0DJx+i0ljHzKtt7Knsxg9/2RgN+lH1x1Tb1n78okee/qtl3C7vaAmKKUmB+hBKn4jcAAAAAAAAtoEFl/1JzGckob42Tk/qaVEdlr/rGGUmVxAmKcF+jnzz/RDXxi6S+XJVi1/F8Rr7JUY9yuEIFtz6UrhQTL6koT+TN0/Yvt5f+i5/iyt7WkTBS26eOMs3q/yRBX6QKd+reZ0gS4MjqT/ELAAAAAACAFtCgsg/19i1unbMhauXyKEbEunEjKqqE2dh8dDb7y6ynCcKf/cfdMvuXUmGu6/vnvxn0eb2SnYsQWSzcw5MHnm2vvOZbRC3vavJa7SfEDpiOv6scJpenmD/78Iec5qNGOV2jruWjk6vHFYWcrCvXZ1tLb9fUeTUV1q/oDb9NZg/yhzvJxJ5tgo16zcxn7q7+9vzrRiI2Rs6MrnM1Lxx3jiZyF3zk/q5MohCe264Yu0AAAAAAAAA8Mo3Oxtk83IlrW7rOJ3NsS1cO17jGwzZj3rwH7fiHzcOybaWpYdfYvuGFxF6pdsrn37NDG7m/3I/xGe3kOWxnWTGxnh6GIfarfPrDNN0Klz5tOvalqPumJNL/bHNGj8t2wS7sCVV1dSwLMN199q6YYq8mwcv+Vg5jY5mSuuEue8tSOm98CwAAAAAAAC3goStoAQAAAAAAAO0AlD0AAAAAAABBAMoeAAAAAACAIOBP2deViy/MPWV0NnNWpatRAQAAAAAAAO2ED2Uvtok1HralsQAAAAAAAIAnxfdsHAAAAAAAAEAbA2UPAAAAAABAEICyBwAAAAAAIAhA2QMAAAAAABAEoOwBAAAAAAAIAlD2AAAAAAAABAEoewAAAAAAAIIAlD0AAAAAAABBAMoeAAAAAACAIABlDwAAAAAAQBCAsgcAAAAAACAIQNkDAAAAAAAQBKDsAQAAAAAACAJQ9gAAAAAAAAQBKHsAAAAAAACCAJQ9AAAAAAAAQQDKHgAAAAAAgCAAZQ8AAAAAAEAQgLIHAAAAAAAgCEDZAwAAAAAAEASg7AEAAAAAAAgCUPYAAAAAAAAEASh7AAAAAAAAggCUPQAAAAAAAEEAyh4AAAAAAIAgAGUPAAAAAABAEICyBwAAAAAAIAhA2QMAAAAAABAEoOwBAAAAAAAIAlD2AAAAmsFNbj7U2xPqH3ozNvpmbGiA/N0bfk7/Hn0z0kf/9Sp1Jq4FAADwGEDZAwAAaALXO7M9ExuFG/7r9sd7quxXDhT++8/ZxovQwq74LwAAgEcByh4AAMDDqWbfvVr9KX78qRcTUaLsDVL+anvm5cZ5XfwCAADwGEDZAwAAeDBEuL/ZvNCEe2njRai3x3jm51p4MVcTPwAAADwKUPYAAPD4EF1LJ5r7OOZy1+KejqKu1GrqxBs+MyfU+yJVEr8J5guaTXV3zpaS8iOif1gAAIDAAWUPAACPD9G1N7e1y9wS15cTm+fkp35ULw42ptiS055kUdzSwYhJ9rFj8bsFKDWakoVPI1y+x/arhuS9rf0uZv4dY52r2eyVuAUAAIIHlD0AALSK8tYoU/YvPhkGszXoGtPe8Hp7K/ur3Ey0ty+Rdxt+r+cTNJqtXy+rHMZo8vaEln9I5v3c7i5SZb9bFb8BACB4QNkDAIAzV8Xs+vLU60E+lyb8fGzqw1r2tKLcayVo7fsy0529sSOZMGaCeGannYUnkc4RGoV3225Thvgk+3fblVavly2lXjJl/2brQpwxUfk63RNKFsQvAAAIIFD2AAAgo35bSE/3hSKj/26dlKtCyt9VCjvJmeeR8OuPPy7ZmUY4STDdGZrOyu8tEmUvF/3tgFI5TPAJLR7Knglo8yT71nC5PcWDl8iLM2bo7H8H0Q8AAMEAyh4AAGzUK7uL/T0DC5lf0sH16mF8pCc66yDQnVBHlKNrxmFj5eZWdBvomH17ru8sp1+zoXrtcFP2fJJ9xEFdPyLaJ5GZb4bvHspt7U78SbscHbpAGQAA/AFlDwAAVi4ykx7CvX57khzpGW7EQfvV9gyXxe/39Ung1dyMNoRP/27PWeBM2Q+MTMW20yteyl45itFoPsGmVIUk7368Mn4tKKxHtCF88ne7L2MAAICHAWUPAAgslb34OHU4Exn9d1+d860U1umUkiHpGlYOleCv3NeIUu7yiZe9418q4qcXylGcjyhPfdVvqe0t9LzcOBe/noJaMT3HVhEMTKfP1Chf5uZJukWXf9jUeSHppOwru+/HRt+MjT4Xo/t9w/Rn4uhW/N8HtfJR+sP0EMuyZ68XEjvF6wZm6pczb1jYQskT7a46/U6y9L2BMAAAQEcDZQ8ACCa178vh4fhhVcxuF/Kutr/CdKdlSoyR89SrHn97Kgld7k990sFj+mp9vo1yeRQb7u15wpn1RPgOR2YyZYXPUFf7GBdp7jvSPK2F4azsH0rl20JfaGRlp3TNkkP5nV99Gwm/Xiuoc2k8oF88WNi0+Tb12/PMbDg0linz3wAAEHyg7AEAQUTJx6IRppkrmQkq+LSB2+uDOPXc4jhSTkd5/Yrt2v6S35nxlexfTHfaDrt6dkTJJ7jPe//Hotu08sqXyZ6JrYv6H+U4TofttTS5K6ff0dvto92Ppex/b42HRhKn5mSvV7JzkXDc8+sJI5/UY208nLtwAAAQPKDsAQABhEhVMZpOJSNReMZp32zahpN4p6PXtsnul/srbKL5fLpkvquafWeaXeMI7QMwoflu60Jsn1Shy3CfckSZ9nnm94h2V07i9HuC0ZsNmzskCdsjKfvzTw7fSaiP//ihD2lPn0BTOJI4ErtTXZ9tzUSf9JMIAAC0HCh7AECQEYLPJO/o8Lmj2/jTpM3ludhRlR2m1ZkEqnT97Bp7muT+IkeNYpm8K5osNDCV/HEQvQ6zjs/Lw/Y4yr66O+fQQfLrL4h2sVgGGbsB9GR77w8AAABNBsoeABBguKPJSOzYIOxvcvMuI+WPo+wvMmPs9kjiVJwhUPfqRj85T4RwFjmxZVTWdLGBbLS7TZW9cMhjCVgxYcsvAAAINlD2AIDgwjdDNU/noMtezSrWBHWMI5mNE5vo7wn1j6eKZrFLJamPifL0MqbsfU0saS2i32L6mEBdypi7QypPMRtn+Ydn7+fnmuSTCAAAdB9Q9gCAwHL9bZbK0L+2dR1fL2cmIq5uEOkwP5t97gP34X8NbUT5gdskNXsFLaO4GqVXGjeWUo7iYQdX/Y+k7F1W0L5IWnpTErRPIm25zxcAALQOKHsAQGAR80wMyr6yMxtm3mBcoJNk/G1BRTe08qNxxaeD9hxR5hOWDMr+rpgY5m6FJDyWsidZ822hLzpm9Xr5duPc2+ulNl2qDT+JAABAS4GyBwAEl5v9JTogPZn6Scfgrw/iQ+47y3Lq5cxfkSGvoWLlNDkUmnTX6gp10lI9Wecjyr0r36vcbYvy5KtmDZx/ot7rwx9ydFuoWikzZ4/77cl/TdNdqN6MsW2kenuig/zn6D+G7yEPhu1UNfmMfUPoG15I7JVq7gmlMDc4v3PzLHl73mwWWPLWfLrABwCAwAFlDwAIMsqvXOKfkT6q/CLP5pKHv8V5D+i4de/QSk7dudbK9UFyNNo//81V1qqTv21Hmy3rrFdP0svjfO/YgcmlL0Wbnr79sSJ2lrUew5sX4prWo61esB1tsC4ZAACeBCh7AACQcVfO/jsWJko3fXRxpQ5hK9WL4+3E3/09AwuZkr+5+AAAAECrgLIHAABHlMtidn156g0f9e/tGRiZ+rCWPS57zBIBAAAAngIoewAAAAAAAIIAlD0AAAAAAABBAMoeAAAAAACAIABlDwAAAAAAQBCAsgcAAAAAACAIQNkDAAAAAAAQBKDsAQAAAAAACAJQ9gAAAAAAAAQBKHsAAAAAAACCAJQ9AAAAAAAAQQDKHgAAAAAAgCAAZQ8AAAAAAEAQgLIHAAAAAAAgCEDZAwAAAAAAEASg7AEAAAAAAAgCUPYAAAAAAAAEASh7AAAAAAAAggCUPQAAAAAAAEEAyh4AAAAAAIAgAGUPAAAAAABAEICyBwAAAAAAIAhA2QMAAAAAABAEoOwBAAAAAAAIAlD2AAAAAAAABAEoewAAAAAAAIIAlD0AAAAAAABBAMoeAAAAAACAIABlDwAAAAAAQBCAsgcAAAAAACAIQNkDAAAAAAAQBKDsAQAAAAAACAJQ9gAAAAAAAAQBKHsAAAAAAACCAJQ9AAAAAAAAQQDKHgAAAAAAgCAAZQ8AAAAAAEAQgLJ/KNc7sz2hXnG8274Wp9sfpbA+Fo6OJY5uxYkmUq/sLvb3DExnyuJEa3nMqDWfavadaj8WE7rMzQ/09v29dVEXJzqMq+0ZLV6h2eyVON0BPLEBu+NsMJ50bo74Idixc0Y5XRuNRkYTRzVxolN4gCUDAJzxVPbFhFbwtEMrgadJy78Sp/wfXcZd5UfsFU2BDqqbqrl5nmsr+81vD35u9LGHD6WfQhk9atQeB+WqlJmLWEyokOqnZ0Ij6V/iTOdRVyr78Rc0Fh2ltJ7WgH0gNRhf1JXr4+RQx+WITzrU3h5EdXeR2mpP6OOPTpP2hPtbMgDAAR9j9vXb852PrCXo7flnu2IZPiTtxFGS1KR9f2+cXCriZBfCOzmdVDeJge3V00fINTHkubB7KU60lseM2uORt5kQH7NfzFkLXYfBRwc6Smk9sQH7w24wfunAHGmAYMdOghizXy92agN8f0sGAEjwOxvnIjNJy15oYfdGnNGofV8OT3TshIFm0XnKXgaPRbIofjYVPm1pZqcqfgMLwTAhCU+utHgAkgXxMyh4Gwyf7WBPeSj79qUb68nHqvqc7B+AgON7nr1STLwkhaT3RdI8MEDPz2bbeWSrNUDZewFl7wGU/WMBZS9+q0DZty9Q9s0Dyh50KQ2soKVj87TGnDSuKjv/NDLelqvMWg2UvRdQ9h5A2T8WUPbitwqUffsCZd88oOxBl9KAsv9TL2cmSDnpDb9XFyZebs8Mb5zb5+FcFbPJhaEBenHPwMjUh80TrWgZ3RfM5XhJLiTVMz5qtOvjzaW3g6yP0T/0dzxbMvg/qZUPUwujz9lynOjg6D8b+ntFIecHbeNrpe0Yf050cCaVv3afTeT2ZIasbrrOq0GNDo5/2Fz9EDGtMCbPTC+P689M7hrjYsaYRKaqqrw1Svpav8Uv3iqIY4ZPoKIHea8aXzod89JwmUhwHn7LYYzOVT79YfJZlJ4PP59cSjummDGoPL6mUGmHvf/QkG1UtfBEnr1dTq8vh9kDje/SrjeepEGqlbIx9d65jROLxRliaj6cW4irYiY2rRt8bPvcx1I2kyWT3P/8kd4u0pyrE36YJWn99uJgY/41vzHy7PVC6tgcgfrt+V5yfpivvjUfhjS/Pt1O/DPC14n2DU+bMtRgDDQN69WTlCjOfRPx7C/zbF7P8HgoLeeCOTAZ2ymzlykXaozCz2dTecvzSVy2Yn/rcYntlGoiLsZk1A4SEvNL6VKiOC2JbG2G3YAtpYPb1fX3j6Nvxvix8t0aJEFTayRXg7FgfLh+qPWPIUeu8iluBqSOiklWdBheygqaNXM1DElNgqTZjHGtQq20a2gX5pM5UzEht2j1ofmY2fm/DNGZ3eVBMGaKKRFk9uZmpW7GIC7RMUeTps+G1TINEZGUF2eTcKwnLeVRzTK6Auf/NtSZaiLIGovqj3+FrY6++fjDmofGFJjN/q4WvrAUoKVpIbGnlSYfCUXT2WAwr42367hasikwXnlNkUkCd/u34VmJ3ZU106Vpko6P24IBQPvQiLKnK3XoYlli+rEjUpKru3Mjiby17mOreXrDc1vnVfavm1JmkVR8IyvfK+z/tBQdJmyeZGrFFOs2mNSbhXrlx8oIeVTsoKKQyqJe3f1AbhlJldh/74qJ4d4eUtmx19a4/4do/EQLYF2p7PHPDsns948z79eyB/nDLx9JaMl7x7+owbPj+WQCr3oMMaKfOKKzmTMm1pXKYWKMvFqvWdjiyJ7h+OFv9hRxQWT8U8n4VB1SjWZmWeCXRWXHOP9EU3LU8NlE+bU1pSaRcplbYrGbmfu4QuTO6Rp7Aq0ulWqeRsqS4LZYcEi+D4UiMxlRR18fxEkKhOdsy6lVlF/bM+y9xppUtFvuHwR82sbN/lJUDQ/J1oMkzUT1ydKoaUmR+Lq/Mre8unN0crC18pq1rxNbet6Tziq5bDh5QjRHXbn4ytLcfRkJu2V0Pc8Do93ibE/ksuphnFhyZHw9L4zqbIunmB5x7VFM9qkQ3UluJGqJ3XbDYxqJHWtWwy+IzHxl79cuoAVWg60wZhl6rb6dWePHH5oIu1HT/HMuNTcb+5I7Oc6l/ma9BZPle4aHIFNaRgwxZQVzc/eYFky2aj+ytFc6TEzOJLcPj4+yiUl2md6VJVR2yL1jq3le0MpZ5mfDXJylUk+rDWZn/v1I1EBhnRkD61JKDFhErXf0s17WLjLT4dcfs7yM22lijeTHYCQIfWMTNCJB0jvJ8b+T5KUnextTTLWYJ1uyzNUqMTUMMzsOpl2/LaTYaMKb2fn3aydXld05+szwOiuYrJgMxY9E+Ess/MPJwh39Sep2lnGkQaHvUso8/U3fh2vMVYMpH7U3mhLBnt1eVupqDFbqtyf0aeSlm7ufZpll5nfXuWWOpPKlzPvJpTQtL+l/2GXGHPfRlMjrSbU8js4tLK3nry9zTNBHVn+SyFXV8OiJIJ4cGtPdatXLmb8io/9un9tWynHUW16NvledYRA5Sxvc3iHNKtwTiq871xtoUTOH326c81wm+LNkv3ntLgkc7d+Cp3mUUsMG0+W1pVu5A+CJaUzZ//lz++M9K8nDGz92Zvu0wXsNKrloVXWolWSCmKNvqKZlCpKPNLgoe76K1zD5p5x5Q2/hTaCoEPW6WDmM0f+aNE09zyp9U+OkHLgMfVF8PdkaI9Lt6e35a9vQBtJaRsSO1RSWdkuthiwizEgpRZPxlVptEfiZ3p6XG+fiDDm38WIxp+XLSYJeoOq8/ZUBoshFRCpfp+m/PJU9y9OwKVg8BSwCzgR/b8PKnuDDNq6/kUdNG1d30IcbbpFETQ2SqUNyd7RC3qW3H8S86TWGuHIbM6a5FR42IV8o/JYxc+aa4ElhTlKZHQpzNSh78VlDHcoidx3F6V3ao0juk59vti74T+0CQ1Hl0+qsb+eddkMfhqehrr0I9XKalTg9Wz3DQ/FS9gRZwax84R+dZg06XjlcoQEw5Cx/OJM4HPoVy5QCjgEQLxXLhGr7H/tIAL6JJ9sNWPT6tGJLVNrfhsSx0cQaya/BWHFX9qTbxj+JMM6Y5UTXNGNjdmKujpSjGL3GPKhh5HJ7ilzwMnnCkuU8TTqQI6s/FVHjmXvIF5kxEgZee5N30bgYXsb/++KTseDJ8lFSXdgu82OlrsZghUeT9EP0QX3lJM5aRhJ3raTZyosfkxDX2OpJXh5f8LG0ein9OtIzvFbg9/HwmC2hQnu8epqTAj5lWSNnhaebqV6lPS7WKi19V7uvzgl1/ol2Ayyzcy2m69uSfeW1uyTwq+w9zeMnHRFL5PkPCqstzZ9SAWgnGlX2tOEcp8WAHBZhSuHVMZ8XYYQPLevnfag3K0o+RptVo2Cq8hEC2nKQ//9cGwpFRlN65SV7IK8vzGVSFGzHgurrydYY8TplJHagX0PqC36LqDjM0SeI5s12XoMno97anW0MxTfZWM6r1Jk4R7JAr4XVoEqrNl7JusaCwgWW8ZkEUUHrctaK/b1OLZYVH7bBHzUUP9JnLBDNYbhFEjV5UliqfklLIFF4Zkg3Ixzqn9/T3uXVnNSLCWrJepYJJBG3matSXB3uDb/eEC06wXKX/SHWVp83fuaJYRTeS9TPu6ShftIzPBRZI21FVjBllmCzItKFjtApH1YZZ3yUUwBkL1WRFhyW16S3s1a4q2QXF0wayEbTaqQGDMaCkynKEkQoNi0kFTb3ctnsIp0/0NCPssBDbguSchwn6WaW6Wr4mcyVVA7cE6KpupAF24+9NWClcmOwIoumJAq2HPdjEtLnEKTlUSBPdlY0SD25XlQut+cXHT+xqsiSV2uV9I+QDgnFe332UlbbX9LON1z1uea1lyRwtn8z/ipVOg1BLwukFvVnKgA8BY0r+z+3Yl8MfeBBgw1Uy2ofNshqLSqWmkjW7Bngg5F+at66cl3OZ5OzfKq0+YGyWkkiBRxwebItRkIEkGNgcml9+6RsUNv8C6at7uZjA24h4eOR6gj9eWokdqzwGv+FGFUmNU78UKuh1FSVVm2SpkKSL2IYW37Yo6Bif69Ti2XFj21c5cQH3FD/+Ie17HHZMpVT2grKksJa9Z+naN9pfk/LLK6DTdM/HKkrlbNc+sMkn/Dt2JwISzZlE0UScTe1oVTLJzvJGT5hV7vrhu3SRSxETRDejQzH1WlzVf4d39YA2wqvSxpaTnLk4aHIFYMZWUxlluBmRXeV873NpQk2Zcj0KKcAuCWvQ8HhH+57+wYmDeO1XjywRmrAYCw0ouwtIRGCTH442raDsudDEvKDX8y/GBg+NhpH9FVkwXYsNXJ787JSuTFYua+y13E2CScLl5ZHgUOyi8k/of6+CbePSyoO6SbMT+vjOSSUY+NVXGVxpDbTcNXnmtfeksCfsjcgNw8m/emZUOTZXDyzV/JYlQfAU3MPZS9qK1njKgqSpPbhZVL71Ctrk1xEA4Xf4l7zXuUzsYWh54Mzye3Cb+VE8kBZreRH2Xs+WRaj6+MNUUewo+/vzQKrHB0TUIRE/yxogwtNNjmkTmptJuC4mIsmC+Tv0saQpuEYDgKFImkqJLFouHLk2N/rpsmM+LSNq3xqji94YsfAdPqn3neStoKypLDF7q6Uehuh6x9Yi1Jh87/1aaYO1Eq51Q+Tz+jC4qOLatkjxZwsWRJxmbnWqydf4vPDg8/mktnTinJsvavy/aO+KKLG5oxGDX5pVRuz6x6ePtp3GJc0NJ30Co+8kbYii6m0TNmtiK4YXlt6O/hsYjl9UL4u24uzUwBkL1WRWQvjLh/7D/mX83RzI02pkRowGAsPUPZ+akU7/C5bkCRmY0U5/zQZ1j5y/mYTn4wzwSiyYDuWGvNlfq3UX3xl0ZTWb5KIe5mEUz0pLY8Ch2QnKMfxZ+RfxhrAEalVaJagnXdIKCcr1VTBt2ojluwjrx3fqOG78fI0D+Z0gQ/Z0CM6trLno/gD8EQ0Wdl7jNlrw/ySkuxV+3uNZ1/vLdCCx9c+MmQPlNVKXm2YryfLYsRRfpd208vjbIEav8BjzN4w1dUOH8qiS2ZPk0NinJ4Pq9NZ7+ef6Cg+OyngQZVWbZKmQhILMWbvmC8O2N/r1GJZacg2TMO0ejMgbQVlSSGr+uuVDDNjcjDXEIa5yBKUQoqujTZM3/dqTpwsWRJxm7lesYXX6kJDiiy5SMtEm3NyMKdMJuc/nmP26txilzTUT/oKj4NiMCErmLKoWa1IKaboMmh1xTBBUpydAiB7qYpTwansLMyvr7FPRh5qqWk1UgMGY+EByt44icI/DhJTjNl7lf3KF5a55GCecy6sw8yyYPuxtwasVG4MVmTRlNZvlhz3YxJO9aS0PAockp3Okl9cWF1nX4/f3XM2jm2g3SGhPMbs2Qyuhqs+17x2fKOGP2Xvr1KlKNWL4+2EGFF61cBXOwBaS3OVvbrozbw+hlBIUi2ru3CRlRxZs2dAtDROCxN59WGawMcfaFz4Iq+VJFLAiL8nW2JEnmn4skwRH0bpW/isU/MiP4qo022pZ+I3W+fwZiMVn9amiPAHhuNriWHr4jYRVFnVJmkqZPnC+xIeobJhf69Ti2XF2zZIfW3ZC1nMkdBeJ20FZUlhq/qZjw7DpHkvhFA2hoc/07wQzYhkeihDEnGrufI+oTrzisHvMtgidWT0Zs354zufP21ex0kQU2D1ULmkoXbST3jkjbQVWcGUWYLFisSQgbGs8eJsWrzuFADZS1WkBUdbhshXIetLGCU0r0ZqwGAsPEDZi8+DNjtxx0FiipVFthrPCF3xuZhznecgC7ZjqdEva8RK5cZgRRZNaf1mLi++TMKpnpSWR4E82UmtOM3Up/B7QSfci39JkVrFn9reAg2PXsQcEsrJSoUxs45Bw1Wfa157SAKCL2XvaR6FpHVhAF+dLM8LANqAByh7cwMlEL5xln8YhdfdES3PxpN8GMDU+tq9Xlgg9RRbP2pxtEmk2Pu1k6pkhEm29lFWK1naUQuysSvJky2VDn2m0XMChaYbH48XvnE051wMsV2A+aQEocwMS5q0GrPXvnZZtByyqk3SVPBYWBpgnqckBSxS9XJ7aWXf3Jbo2N8rWixPpeBtG7S+ts6QoSHXF/ZJW0FZUtiqfjYONPOlTH2o+UEy17OS/YucsTaQRrgTCet2zhYToljMVfb9xLrQkA29v0weOvi2I3BVqu9KwSDay3LSJQ3Vk37CQ5ArBjOygilJENWK1OdLBoMlfkL4w+0KQPZSFYm1mJYhKifMPavjTC2f9YY0DLYaybfBWBDmbStz0hyxhkT0XmxjvZWd5ZV9k1XoyCWmVuO9snpJviuu/rN5Ts8x1ftu60Kemhy+yNvUZ/bhVqUhK5UbgxVZNC2WyTGVF38m4VRPSsujQBYe+nFJmzB2l0/QpLM2SWZ4CphVrNoqqWtSCY4Jxa10yLxOmruv0U76tmQ/ee0qCegpJ/s34m0eJBOtLp5Zgju6TgLgqWlY2Su/92Pc0yL1c1yt2YqM8Gf/dqPAtcVNKTNn2/VDlbZiVuVd5TC5PMUEa/iD87ANaQbYl3fNFa5Spc6DmStroXdnPnMf57fnXzcSMTZxxTBQoZQ2mWOfydSp+t2N1LfHwnVuRj7twteTa99ZpRNdFj5xeVUbHUvsicWdzEO2YW6u8Gf/cVdsxVNhXn77578ZBK0D/MOIYZUnhX0VsTk8UUppFvihZJ57Ltep3x7G6FgFqbP01pR/ECApnGDuw5NJ7nKETd2moc2eVbnkrZ1tr0wY9qCxUC9r79XWtoovFaGRee7s+f2mvBH1tg1eX0dGE7kLbmN31Iu5XvlKo6YmxXiqqAWJTkNnxqxLeX2xFD8iz16Pjb4xbn5kRvSpXsW41iH5+GkjwZaYuw38sy8D5OHaFgE0PblzfWJCWsP/i5vrSOJY5LX4JvZuk3tpIHelknHm5FEfpNeXbvNjYIRuT2PaI0n4sx//JJKCu5QOvzaM9Ndvf/A0/CB8b1PqlQxrKV8kjviNfsJDfa3SkESW9pjPaRnSginmZhh7KfVbrqc1CSiM6mX8B4udcnmU+pSky05CC4bFKqIIh99S3+2HO8kEyxr1pSR5hVXrWAy4rlSO18ajvStGD1FXOSbU9Ew009QayafBWFFdMQ4vpPfyJ3ubS5+ZWBE5QoxWzxFJSISz8N6hlW2xOQmJxc7H8UXJhlac2j7LjuisdXsm8vyzDZKAPdHJ1WPxUuUyv/r3pNouEJuk79KO8HO6rZJl0zehHblTLOYufelvZoHGRLDZmx8rdTMGG2o01dqeYLNMirW8+DMJaT2plUdSp9k+x9UO1GRXW5MT6l//o3F87fobc3Gj7U4ggUt2UmMs6Nuw2Fol11Ij/Nmv7LHqlGYQ3fmE7qilXenbkn3ltZskoL/k9m/G0zx496xvcbPAs5tvIGBdBAJAG9GIsudq1XrIhuLMe9DOJ7cL9msu92N8ejTd+5BW32L2udMzOWx7vym+vybd7HNLf3JVXVLJ5xaT83fFFHtF3/BC9rcon/pBe+SiT68d8hERjyfLHqIcxd5snWv7O9K98ZbTlr0zzXvQkicfGvznuEEzwjIdhTmX4ItoNfhAiOHQY2fNSi3BlfO0cNdAp5jvFPVelmkP2jHr/pFGrO9VR3eIUBCLkNhmlge6YrTiYRvKYWwsUzJsjGrcQlUaNVmQxNiYdmhDQTelHwlW15uPPvPSZA3SZxOh1bbVvMwt0Wwl0VzTnVtbYJbMc5/N5tf2EWPHu+0Dibmyu1I8g7QNQZVCiqUqebvoNyqV/OYSXeVpPqLTxkFr8x60lrz2m4ae4XFMZAN+C6at/mH9WOViJ84XsYhkrP+pfFumQSLG8195nvzK2aZYy86ro6rtpcY6xxbTA0MsRCGyXCOLV5NrJC+DkQSAYCxKpIb5LVxp6Qe90fpSbbSSYNqD1mFLUYbtIfZhXfMetKa9yQlE6e4nmWo0HwNx7h2fYqpD2G6jYrI1PUhaye3Ny0rdjMGKNINUTawe1DKtVsSe6WUSFHs9abN8QwbZw2Par5dHxBJB3ahM8FjMpg/UvZBJs2XeGd07oSx70NLwWx2X+bVkr7zmV/GnySUBwWb/4rwRL/O4yIzFDqpiw121+bP3rwBoH+4zGweAYFKv0p2A2cco43CUIja1dWnv2wXlF90fkW6XaGx41E1e7ZO1AGgHro+So2xXadOnRXV3VQclCpqLUPbtX8sBANyBsgdAwPdkmdK8rBi4+EwUhttOtO0Bn5yaPLGPqvLddu2bRgPw5PAJ6KalNSq/NodCti2uwKMAZQ9AQICyB0DAP+XrHpx02BJel0312wXeNts2giH82hy17vsDQHvAZ5vIPOewRZPUn6/4DR4RKHsAAgKUPQAqfGtbtu75Wp3NolTLh+uTYcsS8DZFLEOki71+34oJRXWlcrq1MmxexwZAG1HdZasq6Zr4K7WUKdWLg7XxaMS4uhQ8Hkp5i83mZ3OiMIkcgE4Gyh4AA7XS7vry1Gu+Aoy2c89eT9OdZTtnFsv18VbsnzGxTpEcAyOj/ySzp5ipDNqYOttI+O8xtpCRHuHnY1P+nQqAB2Ff/WzxzQoA6CSg7AEAAAAAAAgCUPYAAAAAAAAEASh7AAAAAAAAggCUPQAAAAAAAEEAyh4AAAAAAIAgAGUPAAAAAABAEICyBwAAAAAAIAhA2QMAAAAAABAEoOwBAAAAAAAIAlD2AAAAAAAABAEoewAAAAAAAIIAlD0AAAAAAABBAMoeAAAAAACAIABlDwAAAAAAQBCAsgcAAAAAACAIQNkDAAAAAAAQBKDsAQAAAAAACAJQ9gAAAAAAAAQBKHsAAAAAAACCAJQ9AAAAAAAAQQDKHgAAAAAAgCAAZQ8AAAAAAEAQgLIHAAAAAAAgCEDZAwAAAAAAEASg7AEAAAAAAAgCUPYAAAAAAAAEASh7AAAAAAAAggCUPQAAAAAAAEEAyh4AAAAAAIAgAGUPAAAAAABAEICyBwAAAAAAIAhA2QMAAAAAABAEoOwBAAA8JZXv8akPuYr45YPL3NLf8R+X4hcAAAANKHsAAHgYP9fCod4eP8dc7lrc89hUs+9sbzce0cHRf5LZ06q4/OmofFvoi85mG5TplZ3Z8MDCbiN3FdYj1kRwOGa+PX2yAADA/YCyBwCAh1FXaje3tcvcEpeGE5vn5Kd+VC8ONqYG2L+SRXHL46PU6NuJbuZqdTRdNASpcr4ngtS3uHVxJ27RuN7/OBrtDb9OHt6IM4+E8nNtKBSJHSnidwMoh7FIz3CyYAu8I3csQfaWeYKMfy4ZEuS2dlU+TE33sX8lTsUdAADQcUDZAwBAMyhvjTJd+OJTSZwxcrbxItQbXm+dshecJrmQndmxjUPXK9nFfvpfqz7Wx/sldzURpbg63NuzmKuJ3w1yk5snqZ0sNtQtuMiMsai9Ssly6Tz1qicUWf0pfgIAQMcBZQ8A6Fauitn15anXg3wuTfj52NSHtexpRamL/zdE7bsYDJaPQNfziccWylJclD3hrpgg2pro40TeGGh1zP7jjytx5jGofJmkCvtM/LwHTIhPZn6Lnz64/fGexrcnFD+UdgjyJLlms48ZawAAeFSg7AEA3Uf9tpCe7gtFRv/dOilXhZS/qxR2kjPPI1TRNr468yTBJeO0w5TxIlH295p28jDclT3pkOzx6Toj0jHsR0TJx6K9PW+2LsTve8G+k4Tjpm6JG6x/ReP717Z8wS5NLgfRDwAAnQCUPQCgy6hXdhf7ewYWMr9kCq5ePYyP9DS8prOUeskkY3StIM5QlJtb0W2gmvIppnl4Kfs/l9tT7IJwC9cAEJTjeNhp5lIDsGSPxk98avESnRNFI2ucFlVXajX1/nzSkoMAANBZQNkDALqLi8ykh3Cv354kR3qGN879T8u52p5hkrHn/b4+a7yam9GG8Onfs7stn4zjrezZxwR6zaMq2rvK+XHxwrAet5CknmoSefHz3rBPJRGfa16vd2Z5aix9vxWnyMlvs9oQPv27df6LAACg+UDZAwA6kspefJx6d4mM/rtfERJcKayPhUO9Qy4jwVSCvzLPKpdxl0+87B3/4tfHunIU55Jx6qt+C53o8nLjXPx6IryVvbZeVnRCCkmaqs9ej/RZ7qrm0x+mh7iTH3rBQmKvVLN3fmql3eSCuGxgZOrDZiY13Tcw+CxqHFznnzjkXZ2GcpZq8VDvaKYsfruhHMZ44I0zpm53Fx/+6QAAANoFKHsAQOdR+74cHo4fVsXsdjEEW9tfYSrWZfiZrrn054xF6HJ/w/aqr3R9vo1yeRQb7u15gpn1ZhpQ9qq3x7vb2u/9GJtcpN9VF9ONhtaZLxo+ZynUG57bVsU3gy/Jjc5mSixHrlgihEbSpdvDf/t7BpJC2df2mYfQpD2bGs5ZHkFf6VxcJb0L40PqSuUgPvQk6x8AAOBxgLIHAHQadPEld4JeyUwY9N+fP9cHcTqR2nGknMpTvzKOqk+fM+Mr2b+YZLQdDex5pM5393/0pXzMjL+HsqeIk/pdfMErkfIr6nQj9cz8nj6zhTmr6e0xTLKpfJ2mZyy9KR5Z+/LZe+Qsdzb6btt7Co1jCj/FLCkAAHgcoOwBAB2GchwXo+m/t8apMlvY1SdwlzNvnEdwqbazybjL/ZXXkZ6Bkfl0yXwXVbfG2TWOiBFooi+3LsTORxU2pD3ma5LIo9KAsjeG1qbsCTflwmnZMP1GvVFfems/o01tNw/P81DZ5Ph9clascJAM/1vQ3JLOfCmL3al+s08KD/TPAwAA7QSUPQCgUzn/xEaITWqPDp87qlgqKC0SUHNwTg7r7kV0xrkfjzGnSe4R3zTbm7wrmiz4m8zziHgre3WOisnbo0zZM2rl4u6XtdXYwuibMTp1ntxoSCIxZm/IEbEzlGXM3kHZazSQs76VPV+za+lukSxusVMgAAB4VKDsAQAdCp/5HYkdG+Qf3ZfUeaT8cZS9uq2pyUMLHas2+sl5KjyVPXXaw6JvCq1E2dd+bk7xha3vN3fPKjWlYh+h5yuPe0Kz6TM6i0Yp51bYtHurJyIPZd9IzvpV9mzIn1xp6m7RaBr95AAAQKcDZQ8A6EyEb3LTvkJ02evEluMEGqoCJbNxYhP9PaH+8RRbG6pT3Z3zM1GeXkYlY3vucOSl7NWdql4lTo2htyp75efaEL0sMrOjpa5k7g2bRTMbW1+eGiZJSn3jzMe2TuxbuvK8c1L2DeUsV/aOKytUtA6M00wtAAAIBFD2AICOhLs7NG0mWi9nJiKuQ7B0MNi44tMN9+F/DeUoxiXjA/2gP8kKWppi9L9ha+Atyl71F2makm5Q9j83R99sFkSmeE+McR9obyxnPYb/BZpb0gbWNAMAQAcCZQ8A6EjEgkiD/qvszIYnti5cp7bTSTL+tqCiG1p56UWKuq2pP5fqLcdF2aueK3uGk4U7cU7FouzVOUtGtX13xH3jUGVP30JlOhPlr1Jn4hJn+PZY8q8cDeWskOxeW16Jift+umoAANDJQNkDADqTm/0lqiwnUz/pUO71QXzIfWdZTr2c+SsylLRMvLGinCaHQpPuKlCh/lWqJ+t8kn3vyvcq97iiPPmqWYZSo4GpfOOTbXpH00XhEIYelfO9zaXXdEVp+O3aiVnzsxuLaTYrnd9FYqTOxnkV22dX10qZxcHR16xj8G7r5MusmCrDfdpEB0ffjGnHfGwtc2B0qkPgU5gcdHYjOcsXOTiOxNcVGt+r/CqfZB/6+OOKpUANU3IAAMEEyh4A0Kkov3KJf+hWqT2hyLO55OFvcd4DtpvS0ErOtMWSgeuD5Gi0f/6bPjwt4eca94djO6zLcJ8IdaqM00HE9z/J7GnF1g+x3zibZRPlayUttXv7hhdSx9U/9cruIp1P3zcR/8GVd62UdnDtH369ZvwyUPkySU46TZ3ynbP8Y8JkxuECdQcx2+E5Lx8AADoTKHsAQPdxV87+OxYemFxKH11cqcO3SvXieDvxd3/PwILYQhU0BN+Adjh+aF4yq1RL2RU6uv/ik6HTw0f3H7ielS9ycFkzDQAAXQaUPQCgS1Eui9n15ak3Yhy6Z2Bk6sNa9tgybwT4ha98le/txdcHm9Yt3O4ukmQ37kXVMGxGvvuaaQAA6C6g7AEAADQB5TgeDvWGZcPwymnyBflXPG/6V2ljKNQ7/uXeA+4V6tjH33poAADoEqDsAQAANAXl/NMkEfdD/2ye/DbMcTpYG49a59kzlEJypCcaP7Se94VyRDoSI6s/HzSdBwAAAgaUPQAAgKZB5zglF0b5TlXkiA6O/r2ctvrGUamX0q8j0mF+D6jPzcjMlzJ0PQAAGIGyBwAA8HTcFVdf989IZ+c7wW4ZXfdwXQoAAF0IlD0AAIAnhXqdb0SlN3o9AAB0DVD2AAAAAAAABAEoewAAAAAAAIIAlD0AAAAAAABBAMoeAAAAAACAIABlDwAAAAAAQBCAsgcAAAAAACAIQNkDAAAAAAAQBKDsAQAAAAAACAJQ9gAAAAAAAAQBKHsAAAAAAACCAJQ9AAAAAAAAQQDKHgAAAAAAgCAAZQ8AAAAAAEAQgLIHAAAAAAAgCEDZAwAAAAAAEASg7AEAAAAAAAgCUPYAAAAAAAAEASh7AAAAAAAAggCUPQAAAAAAAEEAyh4AAAAAAIAgAGUPAAAAAABAEICyBwAAAAAAIAhA2QMAAAAAABAEoOwBAAAAAAAIAlD2AAAAAAAABAEoewAAAAAAAIIAlD0AAAAAAABBAMoeAAAAAACAIABlDwAAAAAAQBCAsgcAAAAAACAIQNkDAAAAAAAQBKDsn5xq9l1vT0g93m1fi/MSlNO10WhkNHFUEyeekkLSEOxkUZx9EMpJor8nOpb6qYgTAAAAAADAN1D2bYFyVcrMRbyUfXV3kSvpjz+aJe2vtmc0da4drr0LE3flLA92c5R9KfWSBmBmpypOAAAAAAAA30DZtw35pKeqFmP268Vmjmkrt5Xj5LjQ9JvnV409+3pntnnKXjmM0WAk8uI3AAAAAADwD5T9g+C6tjljzKfeyv7REDOCpr5WxAnfNFXZ/6l8ne4Jze5iyB4AAAAAoHGg7B9EwJT9PSLSXGX/5+da+OXGufgBAAAAAAAaAMr+QUDZN1nZV3MzsSOsnwUAAAAAuAcNKPvr063Y3yN9RMaFevuGp2M7pVpd/IuhXOwl54f7qc4bGJlPbsYmZrNX4n92rvObS28Hw+Ti6OD4h83VD5HEKTltdBSjzsrgkpcfZuFbK+US/4ggmY9kgV9xlU9/mHwWtfyXHIaw1Uq7yYWhAXaehjx3blyfelfW/ts3vJBIx8dZGISitRwGgXt9rEYwFHn2djl9bBXNhgv6h/5J7n7+SJ/gpOyNS13Va4xhoKlXK2VjPLKRZ3MbJw2odEdlf326raUwyfSldP7alOkGZV+/Pd+Jjz+nC2pJQqV/3oor/hQTaiB5yK+PN1Q7mYztlN10vEPiO3JVzMSmtaycim3rWWmwIhrNevUkpT55Ip79ZQ5FVTMblnfry2Gas4aIkMMQkovMWM/EljqTyWjDLF8IjjZmvDhZ0NIwOrZ6ig4OAAAAABrDr7Kv7MyGQ2OreSbXFOERZfyLPi37/NNIz3D88JLJkZtSZpFIN0dlX/u+HI7OZs740yqHiTEicIUGIv89Sr6gQsdwe/22kJqk6scgp5TT5FCoNzy3XSFas357khwhF4SNI76X2zNEnA0nT4iKqisXX0kUeokCuzBqU3bNUPyowm6rlbb4LYU79t96KTVs+O/Z1jwRZ4YwOIxYKwUSGC2C9ephnIQtMrOjJpd6Znw9rz2ZvtccQStKlcfRlAiXuSV2Y+Lr/src8urO0cnB1spr5q9G15qeSJW9Ulgn+RKZyZSujdEf/vjjkv2fIVIgsZ1dnFxK506OjzL/0tx0yL7N3U+zM7Gt3eP8bmqadRgisWM9x0x4Jb4VlpWj63na4TRkt54IN8XUBIvm51xqbjb2hYQ2l/qb9TGi8RMtFDf7S1Eaa/6cykFylKQwz2Ji2NwX0IecoYfDXfqMZcriN317ZlovDh42plT2lnmKzfz7MVu6LayzV8zlHGMKAAAAACDDp7Lno5WR1Z/i95/y1ig582brQvwurhKxYvRpohQTL3Wxbqa6O9fb89e2QXdSZWmQlfx15o6BdbKKTU4pRzF617LqEfL2x3vys9cg9cuZN+TMq1RJ/Oba0aL16fir1mn5uUa7HMZonZJeh/pBwEHZ034LEazGSSU8bKp85HeZOiHkkgPXMXvO5faU7ZqTBI2m6OFw7o5WaFI49qxsSJQ9i4UtkDT6phQTKfAyfqjfesu9c858M/QTeMhDIwnDUPTFZ5rUtn6RilfiW+D+9cPr2tN4dhssRKzQNahqQr2cppfptnr9jcRoOmvpvWhpXtqgKWBcDMDPhHpffNIMi3R0X83v8X6dl40R6nlh8Oyltf2PfaRDZUw9AAAAAAAf+FT2RItHegYWdjWlKCaHaDKLafHobKakzcGg8sVJ2TMdORI70LWLchRvUNnbr6lk/zKeEWrVGAYugrUzynGcaEejIKPwF/ERU/Z3eG7LMD+H6EV3ZV/J0IFhrYPB4YFhXaN6MUFH2V+lzsT/BNYIyuDJbr6GK1pzUkvi7opd2XNZzKdIGeEdKv28tG/DBbTpC4As5B5R9kp8C0SRh0P983vaSyWJwENrCpiagNpJfs1Q/EgflScdMz2QPAX0/uF5aiSW3qBuQ4ncF7eQcAoD8LYxCjdmx6gBAAAAAPih8RW0d5Xzvc2lCTaHQdciSmGdTRQhUuw5nedw7jpazEQYvbhnYHJpffukrPcHGH6UPR8YNuhj87g44Tz1itwihk4pXK1OZn6L3+ef6AXyg79IKa4O8zORZ3PxzF7JcZa5Rm1/SXuI7aAqUwzxxg+Ng+GEtlL21RzrudlH/dn3FpsOtih7iYC+h7L3SnxH6krlLJf+MMmXBzSq7P9c5cTMqFD/+Ie17HHZvJ5EjLgLsU6H5InJ8QRUrbG8Nap+6/C2MQqUPQAAAACagG9lX78931tbejv4bGI5fVC+LlvG7NkFO/FxvkaQHpHRf3P6/BAb18cbM2y1JT/6/t4s6EOzfpT9nz+X+yvD6piumGdvmMtOuCul3kbodGf2nAqbeD2U1Ld5sko6KWxZqr5INzq2sqe/QqJrrV8zbPCI2C9ombKvV3YX+0lEUj+1lLApexELu7IXr9MmvTyisie4Jr6dWim3+mHy2fPJpfTRRbVsTwRfyp5wlU/N8cXN7BiYNiwIZsKdnOQTck6TQ2z0vra3QK5kC23pmhNt8YAvG4OyBwAAAEAz8KfslWKKLsqMzGg7GTnp17pyXc5nk7PcHc0Lg4yWovwu7aaXRX9AV3j+lD3hLp/4D7uX+zDJ2/RTvZJhY8zkoM5V9kyeWMR4qlmVylGqF8fbCaH2XmmTxSW6VozZSzSxgE0ff0plLwJgDHbjY/bqLPDHVfYch8Q3oxRSdOWuYb2BJBH8KnuO6fOUMSn4xx86g7+QHBHj9Dzf6ScjPorPTvq1MSh7AAAAADQBX8qerSns7VnM6aPqXKhpq2BPky/0dakM7pdGKtrIvcZHEe6KCTrvQlM2/pQ9vWtsVR94tlGvZOcihonXVpSjOH2mvg7YSiFpnQ3PfATpKlCma7nsM67cNaPkY7TbY1rZSWmZsucvMklknuC9S9+1kWm+WsAWC7FIQA/84yl7z8Q3IboiC7s34oSaCLa1sB7KntxlfAiBeToyJ2blC3X1M5raiP2l+d5RTuK09xtbTw7F81qqedoYA8oeAAAAAE3Al7KXjDtanLQQiRYVnj1UmK6Seu6jIs/kI4VA1VV0TVU2fJGiSZPZXcew/sarxJFljr4BNjg986WsOE0K4n5LyEN0Jca4K67+s3mu0FCZfM4QmEK1jlib9S/3KkOCapmMVNlZXtmnN1IPofYPGi1T9je5+VBv+P2+3rni00uMnh/VWJguYzrVcvIxlb1H4psQqxeM4tiyopriT9mbpmxRaDgNjqEIv7foklmz41e+WJZcaUp2LxtjOCv7yxz19WlcvA4AAAAA4IAvZS8ky8v4DyYvlMuj1KckUYd0iJTLIS7RBhbSpxUqo+vK9XFyyCbfBVzkRccSe2JtovJreyZqmiLPta/wT8J8ii/9zRyiR5cN/nm0lY786B96Mzb6ZiGl7QmlL8HkR+TZa3KBaY8t5WxjnDwkOrl6zEJOY5df/XuS7xPENV/f4maBOybnHuUNPhNVMTcyT12559LvN6k4q1d+rLDwr2yfV9mNdBHCx/FFdeEB+5hAwiOcphMZfbYtnNAbI2ijdsBeRzpR2qwipZRmg+vjqaK+0LOWT9CukVOvhi53Dr/dKPCRaeGj3Z5Zwp/9+CfxZO50P/x6zeAyUjlPM8+V7zbPtXHu+u2PGI1L+EOOe3An1PZ5yJd3eUoyKl9Yr+Bl8tA0Ri7wTHwT4kvIqxjrO9FNEj5tJJjzTf2jjSxgdL4W6wW9SByxaPJO0f+/vft5aWN9+D7+zwgi2SQuSrsoLYUi4o0UiwULPbRgUaRYLFgQ+oWAi0DgFl0ELATPIlg4Ym+KCqUuKi4qeUC0N2IWfXRRUhAMFCIU5oFAn+vXJDOTmcwkak87vl/MokmTzMw1E+czV64fycHM+pHeqh9y9gbvPYb5TcNdu69/0Ehl99xl3vockw9LS+o+YSDzqeI5XvrHAbF47kYAAACaRexBax3ZvWNVa3WZR8vvpmVj+tTN4f8uVtVgIKel1bQ9rezgs+yaZ17POms7fX/58KSYM5ObXut70tREXoRj03UyeePh7ErprNE63JFyRELKv7ipn3QsyUdv7MYi30sfMiYbOZdeR3uJn+75QR+9XNqxs/VRYSj9sVKfWjVxa2giu37kTJau7ZzOf2wkRtcctPdMoTXUKjv5af2xpkh3GzvoV41tquHriywEfUPVWGSlr6lEry/+NeKOCYPVHMD1XfZwz0E7mXm77xigxrThqS+yrtq7SWMrJ35b7vtet/DCdxP3h2ndJr4+yeu39Sn5XnFo5nf+r7qfbCyqLt+nAK2t9FCh5Jih1m/mXUGWs6dRmbgjzd3VnWi9gs8xfQPjWNyN0FSdfeKe/80PAACAU8Rk//v5cSynue2f3frqun9Q1f+q3vT/VeTUtnIiWFc9qFUpqjb97vwEAAAA/OH+1GSvm/47Jyi1WVszIrhPv/ufafGCR/XBfByO/h7ocsw0BAAAAMTAn5rsdRsGn/Fnasf5+3Iy//9VjVIGvQPQCCr6u3uLAgAAAH+6PzXZW5/n+2STZdlnt2pndOvrfmFmQA4k8s3uX6v66Z7WO7xWjrcWRhKpoXrnRQAAACAe/th29sJJsZCeHNTdQOVyre++u4tntbS2MP3oXn0y0eSNe4/l7KSebo8AAADAn+9PTvYAAAAAbCR7AAAAIA5I9gAAAEAckOwBAACAOCDZAwAAAHFAsgcAAADigGQPAAAAxAHJHgAAAIgDkj0AAAAQByR7AAAAIA5I9gAAAEAckOwBAACAOCDZAwAAAHFAsgcAAADigGQPAAAAxAHJHgAAAIgDkj0AAAAQByR7AAAAIA5I9gAAAEAckOwBAACAOCDZAwAAAHFAsgcAAADigGQPAAAAxAHJHgAAAIgDkj0AAAAQByR7AAAAIA5I9gAAAEAckOwBAACAOCDZAwAAAHFAsgcAAADigGQPAAAAxAHJHgAAAIgDkj0AAAAQByR7AAAAIA5I9gAAAEAckOwBAACAOLjIZH/6dqyru8csT1dPzdMBvq1PXO/pfbJ8VDNPtMvanR9MJQcz21XzRHz4leR+pv5Md09mV73uSmnzhNnLNoqrK7tvno2Zk2Lu2UCv2MHUzdG/S5Z5Fn+KX/Olvsy11Mprz691XX9cODZPAAD+XRGS/W62flVovYy+rfy0KjvZAfkwLNnv5a6pdw3kv5hn2lRZe67X++pD/KK98KP8IX3XVZI16/RgaVQV9RVM9h2cMFallH+qTpI4JnurtDScGsl/sQ5fq29cd3bP/A/+HL/mS315a/m8KG8su3v68kR7APgtRE72/a/Wjk2doKlRrifOaqkwnhTPyGQv6NdHrLN/vl4+Z539wn5sqyp9SrKyoqLqFUz2nZ0w5lyNX7KvlXL9PV0vNuVd7Y/9uXvJxPh6yDcOv6lf86W+nLWYOvvJtW/mCQDAvytish9x/tjqTfbCj/1Mf5vJPgb0nl5eaiTZn1tsk/3n+UR3T2Ihpq2MrpY/OdkDAH4zkZL97ayrXtwn2f/8Wd2YJNlfMJL9ucU12ev9Mt84/NlI9gCAC9NJD1rfZN9Asr8oJPtzI9njt0eyBwBcmMtN9qefFif6ZcfHxK2R9EbZvMA1VoOr299pcWnq4c2EeD51c/jl0tzLpP916GRV9warr8hmHW1k9Rq7rg9MZJfSD8ZWTsz/+ageb+UmB2/JTgJijYPPFneaX1wtrWUn+67LdSVuDU3kiqc1ex89i9gSx/N2SwlzQdWLa3dqZ0cfFyfuqf3tTt64N5n75A5qYcneNfxL48P38/eHBs3y6oNv9ouy4y4BBes+EOWT/UJ65EZKPLzW9yy7Vjoz7647KeZf6hfIU2IqrwrTybe0g0+Y0B2Jmuz912uc7i6nn6ghaLp7evsfp9+Wqq7NDjvrHB+uXrB+2LrPtzwx7C+COjEyG401eg66XgLjmjwij+urfpReDV6180SVhVwtrab1NlwfSb/VnWwae5q4NZYrNp1bJ/srjj199HLJcTjcn187O3w7OywOXGpobtf+RbDdgnKcTu7FUf6Bp5zjpHL/sXLsr0PgtoXvV9j54/pSNzPnsFrEa+zjIrsY/Z/GyZCc+6xe7fxKur4sAWtpt8wdnKdi4BlYd44VAQCiu7xkv7SSHXmUXd36VFzLPVZXtbuZ+iW8Zh39M6aCS+PaU30/nUiNFQ5UHLTKW5kh8YLAC4bfIDxykJD+2a1vai3fS4Xn4jodnOxV34Cu5+tl9fLqp2yf+LTU7I7jkm4dLA6nehLjy4ff1cPPi+I1Cd1tUfBJ3uJFxwV9pXemyZP1KZUtHLtj7cntn1wzW1uUG9OdTH9yrD4s2YsIeFjQxTi58tXxxtrZVuauLArffY+w4x6tCrZ2Zg7EnaGpXFF/pvVlfUbuzkDjiIsnd8WKkqMFE2tOP87KwhxfrfeIbVXafidMlB2JkuxbH+XyW7HeobmiPi2PV1Rn8eE39dvUsLPu2+poqqdvdttsZGlZPOzqz+79UP/bTHdJ7B5IfyxbomRqVvljdlBs3sPFQ8db9H6F1NmrVQ8uFGWB1wvwwXJj0z0chbzy/tXoi6W1T8WtN69kqXYnpzZKW5mRUfmN3l7JjKiXjRS+mrcKqke7KsaKsygGZt7bKxT7sjGt3jg2+p9XK6WzvQV1S6b7/rZbUOr14gU74jg59s45KGrIKVc728uNyA14urT2emw0vSz21/5j5f4mtt62lvsVev6EJnvB+mb+gIyOv5oRNwa7speFWN1aRXzkcvOgN6dme8KSfbtl3sT6oo5Cy42Xzr0iAEBEl5bsu8fyXxqXxsOcHMDR1eGvVlR1ZvVrT2VtvKfrr1XHFU9eilpll2+rj1ybsT8nrhaZonkkWPuZO4GXHLMXjRFFrK20vESlt+3N/rGdFh+Ymt2yLz/W9qzaNTs7+ib7+ie70mTTZdVUrclrs2Y+vLH6CMleOtOjf05suCrID3MjzlTtFL7jXmEFq7fTdezUtVw8mZr+oOLyz++bIpokXOvQ67UjVGhpe0+YSDvidyzcQtara3btClHheHlQPHN/+cg8blk4egQbd9w8KgyJz3dnuwY9hOWwe3hwvRfO0tPPtE72ukrV8aU7LtwXzwy1GnrcFHJy9G1j88pvVPztHnPkeGtrRn54YwPU8XUWo6SKwtX/3nz+2IoaSqW6+apXrOtdpf2COvvwQm6Ao0j03t3Nlczj8FNO0H9D3LegR3/L9TbOmSjbFrRf4eePEJ7shZ2MfM3oP2qN3zdnrotbFH3m+73d/HlpmezbPzl96Q1rtfEXtCIAQBS/qp19UT3pClj6mtdI9urCM5D+2AgrImO1yi766uVI9vIDU2MFRyMQcf0IuuRYn+f7upODuUbnYJ2E6ms0gcaRDKzPi6pW0o6S50n21v5cf0/i3uJe/dObPy1Ssv9pfZrVtZWNi6RVTP8VWDUbuuNNwgrWvxxM9tIXb12YU+9dtx8msKroGV7a3hMm0o74HQuXsPWKG86kHNSv0brDk5laFY4+NLdf18OmooursV8O1nZafnjTD03VzSn381GS/em7sUT3tYmN+mv8IqCXt5Alv+PrKVgd1BJN5Xz4Wt3SN573+/wOCspvXzwRM/SUk7x/QxT3/kbbNv/9inD+CFGOizm3/V7j9/YIa2m/zP0Fb5hxUSsCAETxq5K9ftJ14fdeC1UQkReJrusjUwurO8euS7IP71XZ2lvQU/bIRsDpN+uHnngUpGadHhdXsmO6Ma6dlkwwbRWefPe0KfQorS7eVuV45212VDcWd36az+f7fU6tlJM1o3dzB+aJ6sakpwrfn/+ONwsr2IBy0KlOjbluCtN/kQUVobQDw1OrHfE7Fk5R1mv7UT7cWJp6cE1+YGMzWhWOKQHfpam4JDWWpd8+ql8GHMdd71ekzRZqVvlgPf9yRDf1bhHC/AvZ7/i6C1b94Oa3PeJL7X6v/0Fsu6DEW9TPgI7zXNfZ1xsIhZ5ySoRkH23bgk/OOv/zR/h3kn0HZe4rNNlf1IoAAFH8RsleOP20aAKuWnqfLO216GXVfFXW3dd0Jy25JAf/03Jio5NiIT3Zd+vmaHZ176u146rxNRfCVuEpINFGTfa1ys6b2Yn+mzfGsyu7ZetT06f5fL5/CNDVk4nZoqp4Lhf+atVoXmq1435aF2zrcpDP+2+2Q4TS9g1PYTvidyycIqxX7PvG/NTDmzceTOc/Hp8eN2Wm4MJp/g0hhC5Jzz5K9nbKBh6S3q/QT66W1udejtyQPUe3jyrHYUdB6DDZBxajfm9q3v5A/wTcdkEJP0q5h8l6Z5Kyamff1xifN/SUUyIk+2jbFpzsQ8+faJt64cm+kzL3E7xhxkWtCAAQxe+V7DXra2ktP22iUtBaBN+rsuCuwfUMxl93ujEpqzB1DzzFfQUKrIZs8N1T/zTZdPU9kTOqyga+umud0PxpPp8fEAK+r0+IV3ZPrn3/+fNgcbjR1thH2I4HCyrYgHIwdXWyoUto1XiE0m46YaLsSGiyD1mvtZ+7J241k6Z9s+CTmRS/wjElELj2JiF19o3m2hGSvbWXk33QHX2UoyTIDpN9SJ19WKuVtgtKq5ULar1i6e2fzGw4B7SJ9mtMhGQfbdsC/ppFOn+iHJcWAdrv7RHW0mGZNwneMOOiVgQAiOK3SfbiUvR83VVBr0c+ab5Y1nmuyrvZ255Eq0fP8N9OHZUaLVgEc4myO0OaC5KrB55bQKKNkuz16BmuDdaf5uyL6fP5QSHA2pmVHzj8Zn/tucr3gcJ33Cu0YP3LwdW1V7fDblGY4aXtDU+RdiQs2Yes1wRT55mpz7p6d+GWhWM647q6S7ZkFWV33uZOriaozW7ZWxme7Cvr6i3Ok0GfPI91L88AnSV7n+4K2l5WnpaDjf3xT8BtF5RQK6+MJx29CLxCTznJ8zdEc+9vtG3z36/w80cK+lK7XHiy76TM/YQm+4taEQAgik6Sffmfx/IvtTfJ2Xxznn6ydbJ3j1AhyGtG43f8Jp6rslhFyoxNYVMXM99OWk1dEgXvIA/m6uj5zJ/W7vyUHjlE71TTFav6flo+7wyYteO8bARc/3C/CsXmTsY+JRkcAg4Wb4sXp5K9pk1OgCg77hFasHo77yweOhs+HS8Piyf7500XYT12SlNhihw8NbMpPye0tD0nTLQdCU32rdfrU93oGZGpdeHoUUG672Y8x+TH/tyzpUO/46THxulzdzc8Ksjc7HwyPNmX1Pngynbllb+8Jdakw2Rvj41jD4WkmXGHnE/6J+AOCkr/vjH65liODeor9JQTPH9DNM/+Rto2//0KP3+k4C+1Q3CANn9MXHfmX5bkCDyu7WlaS/h+WYf5ycH7k/kD3wNgNG9Y+Z38Ma33uf33IcKK9haG5Aj9jt7wAIDOtJ3srZNSXl0hurpHMp/K1aYBiavvX8n/vTP7QY/wLdSsw79Vld6Dxb36Nf7Lkkx+Is1/Us1R9CU2NZTZONaDT6uRkl2j73lUP8ohF2Su0j/C6+vx9cn8rhkI/FQOcO69W7CVCw/kXoz+rca6rp0d/rOYSctKvsGFxtVFX6K6+l+t6FH21eDiwy/s5g1fVXjtTg5n1CDf2awZAcOkHDNeilUpFdJjw7KTa89wbl/vnanjfLqkp2upHqzmsrNqOLz5+hjPpiRT02bMe8Eq6TuE+uc46D1y1WH7ibTjLqEFq18gr+X2kPDfttPiWn59cs0Rqsrv1cjosjArOo2JvZ550HhNSGl7TpgoOyJOvLyquHWeeE1arFcP6yFPZnVkxX7lXmdNwycdqsMKRw+W35UamfukXiA/pDj3ZKQxPZOHPZ79zIbKrHJj5CjsIifZjWrEk2dbaVkXnhhfPaoGfI6p/r+b3lQbapW3Xi9mzK8ogfcDVkkX8khuVxeyVH6jQvyd7Fa9DGtnOxmVWZ8uH9nrN+PZP7SL+nupMO6eiKrx+eIgmnOgru2CUqNLyW0wS/LGvaHB+655oEJPueqm/hvi+Ir57W/otgXtV/j5I7T6UtvEa9TZ3pctnjaVh5wJRJ4My/KPiTgDD5bT4yPqvm4k99k+jn5rCdkvc9MrXpDdC9qw2nF9w+yPNV9M5z1kyIrMkFBiabrlAwC0qZ1kX/9D714ctTWmWqi+yDrFpneJ1+tqnsaS3Zd/3O8vH54Uc8/0ZI3X+p5M55snuTT8VnS8PJjePq1PnClnJM2uOcbU96oUc+PmlcN6sswf+zk1ckVv/+SKPXR3tbSeeTakGk+raWI/mhsPRQRH065aNvN9u1+fuNQ6WDJdga8PqAlNTUNktairV62yk9PvTd54OJ2Xs89aezk1eol4y9v/9dlBO0Dbi/cqWN2YdI19GSTajjeEFqzesKdLW3r2TfHvoDkmXROCDjW/Jqi0fU4YIWRHdDVqY/Gr7zSCj7J1ZPeOVS25ZWosv5uWrxQr/e9iNcpZ55590z0zqx/PHLTi9HCedc1fQ2eVsIO4N07rkVjqh+Pb+pQ8QOIz5+udE+r8CjnqN9pwz0E7kV3dc+yp9/Obfz1ot6C+lz5k1B2ye3H9bBV4yvntmql6byyNXQvetpb7FXb+hH2pJe9r9KY6uf4QyamsTVsstYjj2GItLcrc3GSK/wr4nSfgY9WtcnIws+06xVodXF1nf+3RmxZTLQAAIumkNQ5+T1EHu7xwJtm7mzQAl6dWkXNUyymr3XXkFT2Xc+sWR2iHuJFrUWcPAPjNkOzjolbKPXS3dP9lSPb4tXRXlkf1AWccjv4ekG3S3L2a0Sk5XYOn1wcA4HdGsv+TlZYGU9cm3sl8c/pucsY93eavQ7LHr6X77zqG3KmztmZ6ulJh8zkgEuuoMNbbGDUVAPAHINn/wcz4JKnZrS+rEzObTQ2nf4madaR7HDY1jQAuy8m6HFpUdbg/tXucW5XjrYWRhLvPLjpmFbPDme163yEAwB+BZP8nMx1Grw2nW061e3l8OlX7dQEELly1tLYw/eie7mcsluSNe4/lVLv/zg0uAAC/BZI9AAAAEAckewAAACAOSPYAAABAHJDsAQAAgDgg2QMAAABxQLIHAAAA4oBkDwAAAMQByR4AAACIA5I9AAAAEAckewAAACAOSPYAAABAHJDsAQAAgDgg2QMAAABxQLIHAAAA4oBkDwAAAMQByR4AAACIA5I9AAAAEAckewAAACAOSPYAAABAHJDsAQAAgDgg2QMAAABxQLIHAAAA4oBkDwAAAMQByR4AAACIA5I9AAAAEAckewAAACAOSPYAAABAHJDsAQAAgDgg2QO4BN/XJ7p7urqv9d0fGrw/1Hdd/LsncUv+e/D+QK/8r7u5A/NaAABwIUj2AC7e6duxrgeLe9/1o7MPL2Syn/lo6cc/DxZvd0+umf8FAAAXg2QP4MJVVp7enftsHvys7WdSItk7ovzJ6uidxcOaeQQAAC4EyR7ARRPB/f7SUT24lxZvd/d0OZ/5PJ94vl41DwAAwMUg2QO4aDWrWrUb3uiWOd09t3Ml81hwvwC/ox+l/LOR3G47h8nazz2czB9wZMPUyh/Sj6c2yuZha5QqgHaQ7AF0pLQ42K96xPZf6+p+vPLNPN3ENLJPfzKPf5HK+qjspxthSc3vmfdcvt2sd+3upbf/8VR+++hf/znjx/7cvWRfdr/dOGntZvtSQ3Nt3Q98nk80lYP/Mr5+at7j52S19RFP3BqayK7unZiX/2tq5bXn1xLjq2XHj1qtv0qdlCqAq4pkD6AjNav6/WwvPyRjU4twXCtmZK765f1l1eZVv+/n/ksFu9TshxPxsLGUd5dn7iXlfz1dbZUXL5beqpPi3H0dN185t+r0uFj4z5CMuamhzHbFvKXuZFNusPyvM/PMZamsjSe7Hiw3Wk+146gw0pUaC77Ta6LL5Nv6lCyQnq4HS4d2gailcvRx8ZEaW6kru2/e4ssccZGbddkO5T87PudraS33WA3KdG3izXFTRrYO/5b/2/ukw72OzNpbGBBn49YP81iK8FVqu1QBXFUkewCd28moFPViM7CWWTeyf+qoofyVrO20DHMBW6iH5mxdE3wpKitPdfrMNse4anF+UHY4To6+dbXW0I2a5HLJtyKn78YS5xmTtFbK3Wl/I4+XB9Xe3X7taLVVJwdT6kkstEz2tr2sLtuxlebq+a+rE+omoenniH11/ymXzK556jJYn+f7unsmNnzuzUK+Sp2VKoCrh2QPoGPHBVX3/OifwBbD5X8eixe4Gtn/Svq+ortnsHBsnnEpr/wVVhN8KVole6H8VmRr8b/uOlq7zn5ms6k6/wJZxbS4rzhf/+bqxqS4M0l/aqP1SPX9tCqQnvS237vULz+jbyPteKtkL/ZvNyuydVf33UzRuaJ6nf3SYRtb3a5y4UFPl/+oUOFfpQ5KFcAVRLIH0CnTlj3ZGODSSzeyT2aK5vEvpu8rxBKwATJhB4T+SxWS7E0FbXdPosWPIZej/GZErNc/Xkenfyp5sByti6hkaqwDO2zIOvWIW9U62Ytz0jTX6f/V465an2bFDZv/+Rb+VeqkVAFcQSR7AJ0q6v6g0x+C4qdpDPNvTUplOu+KkLfmqO21qmeWiXSyzn703WVWgfsLS/aNpBsUTy+JqlRucUCj0iU/UvhqHocxdzKeVubWd/tIyTr7lqnXISzZ1+/3kpfa8KaJtTOblFMv+/58FfpVktotVQBXEckeQIcOX9+VceT+8pF5oq689kKN9XFLdVGVQ77Ih5ff9dPNzJCl2j+Yp4T9uVS9Cl/8O2pevFDhyb7eqv4Sbzxq1unx/s5B2b7PsYeX+Wv1/LXCOj1HbD/TGNbG+RuFrMa2q/Dlv123Zy2EJvv6CEURG+53xvpa2tk9rtbL1pyN2R2/HwqCv0ou7ZUqgCuJZA/AT+3scCM7IYfh6+m6PpLZLpd3VwsbpUZSqcfTl0sr6RE96sjwy+W9C2w+Ujs7+rg09WRAfnjq5uCz7MpuO5nG7pTZ5WyLI/tinr9O+pzCk31jfEy98eph4tZQ33VPN0rrSBymezfNwJHXBx69XNrxS7Snn5amHuqXJW/cm8y8WZq5d+3GLXl8h9+YJK8bu7fKu7XKTn56WN2wJW5NF0rlo4/LhU9+B0WPZRmtAY21PSs33t3KXDYrd92SRRWe7Os3EuYeRh+Oa32qGJ0V+adF+/QTizoD10o+d6fV0nrmmXmZGrd0OffkWu8t+WmJWbs5v+7y4d9dO/JXqZ1SBXA1kewBNPlRyj1UAyx+lKGt+nlxWKUWV2uB+rAz3QMzb1Xi/7osA1P//N6F5A417HdX/6uVg4qsVK5Z5U/zw6nk4ELUQdZP3zVVe38vFcaToTWjl6+dZK9zvBwYsfwhrWp2Hcle9aoUoXNsTaXYaml5VFYMD2TcY5/rLrl9s9unsiTPDguqh+7LzeqXpcFUsp6ndc1xYJXwt82ZfnHzMFlQ6fZ0Y1p+iFh887dOz9GKem9B/7bT+P3E+radFuvqKMK2kezt8reqZ6cHS/rJRrJXA/KIwpz7rLbiRG1S05hFuktuYnz5UH01Tj/Oyh66/7V0+H175npPr91R13QR9u2uHf2r1E6pAriaSPYA3Kz9OZVgpt7XqyetrbRKHs5IYYadcQYdE1gdb+yc7MrZn91zDvstfFsdTUUdHsRuqu5d2mmDYe1k1a8WbSyTERqNtJ/sFdNEx/GM7vAqEmH+i/sZ5wAsenBPZ+dUM8mAd2hLXWL+cfpkXd8zOJqJm+Fc/PO3SavBO9igRiiSL/YunbVE6iDZK2bgy3qy1x1exRk+s2nOZ/sZR78Ru6+z42chszueoS11Qxr/7rPRv0ptlCqAK4pkD8Dl8PWAiBTusfkqa+MyZzjHGjfdEF3Vh3ZEu4BxJGVg8h32+zB3N1pVbr1TZnbLTFdU0XXVv0FbhnaSvWNzm5O9/CnjoHj4zbFH5o2OXNv8jJ1i3dXzZqv8+pWefXihqtVdo2HKHgviyYAbOb2K4HhdV900c1Q9XT4yR6q8NStOwqHORi1qI9m7zl5vsheqx/t7x469s9/YeE3zM/WD6/4W6K3y/T2kna9S5FIFcFWR7AE4mPpdd+Wi3VrAUTFpavETzuRhv+wCOiY6e096FLOtprytq6c3Z5CXT/4OqSg82debEjkPhE+y16zy4cfV/EJ26snQoO4a4dxNc0wdQdkcKU+dfXCyN+1S3DdFphtDq3EqI2XQ3axu1eM65cTdSCq717i3bEN4stet1cXi2h+fZC/Vzo521wsL8+lnQ4N2f4bGa+w6e8cnmZ8yPPelwcm+ra8SyR5ACJI9gAZ7wiD3iDGmtYCz46mpr3VFI3taqAtojXPuZF/vlOnKUiIvdtQp86KFJ3u76blrkES/Ovvy2n+GZNy8/jjztnh0YvnV0P8s/yPfeDu9WRaHq3a293pEvKVpHtbAZG9GbnGPTmNOlcDyjJpBjwpD6sNdY1DKPe10LP/QZF+/a3KfqE3JXhRUXk5f1ZUamsqvH349s74119D/tIpZedo/XTr8Lt5iHW28Us3uvZMuByf7tr5KJHsAIUj2ABrsQDm75YgZJns5A6WpEXclDDuiXcjo9S1b40TIfPaOdNii45KFJXu7JthTPd+U7Ctr42o3nR0SfJK9HEn99ov5zLOhGzJEJm88nJ5zDXOkmeH/m5K9aYvlbi7iV9PsojNo6DBE9oe7T7nzCEv29kxVd7Lu/qmeZG/tLahmaSnHTMA+bW9Ux4ans3MvH8thi+TYOJPpN0XZU9ktsHdye1+liKUK4Ooi2QNoMIHYNaK5iaGqsYT8t6xHNHHEGUxNI4S+yGPXtBbcg/auZ+AXP3bnzijtdlr5d3rQWtu6p6Y9KovNm+ztYT1d1b2NZF/58J+hmfdia2StsG8Lb4+AemU7fDsHD7XnCpCrlv9umoDJ5wzxYzc7CRgOshMhyf54WQ30lGzqnutO9vaGudoIOZL9Xn5oMC/ualThBN7eNJhj1/zKtr5KEUsVwBVGsgfQYJpYOKqK9aB+Ms2IXCdbbOvApCuVG9PumDB6UUNeCmrUy8Q976iXw69L4Wuod8p0Zd7fR6tkb33RI1d6R1cUvMnebrPhjNxHBT1ajkz2Yi0qpqv2Hq7Or/7057uyrGJa4zhSqR5G0zSyP1i83dwmXt91hE56Ze9C80o71irZV/TIlc0tkQR3srdPIecQ+/Ydl0r2Yi2yQFSyd3U3D6DvuHxOyHa+ShFLFcAVRrIH4GCGvByTM9jrRsOpoUEVhkR8FKkxYbeEUU23k6Mq95x+zA6mehL35r1V7OekZ6oy8ytd6wuYJ8jJqsrBVcrv1CjvIi/m99VYK2eNaVb/XXJY+rPqSXFO/6TQ/erDiR4NRi6nx8WVrGrYLcc1P3blOku+YC+vGmncX9oTr5f/LWKl+o3l6ZI9mHp28NbQoEyKdzObm5k7eoRQ2RpHvEzPBGyWJ9OZ/OqeJ/sGTYSkh7y8k90Ra9HN9MVHydsPkeytrXSyzzFokibiqVhji77Ultzlys6CbnbSM/O+oguh8yOly/a7uCGUH9jVPZT/LD/QLF9La/lptc3J4QVvaxm5MSebM40tkYVmWuPcmf2gSqlaWp4QZau+C6NvioWnZoYvPcxoQvxXvWzvT6YXlrecg+oIsuuIp0WTEf2rFFqqAECyB+BW3c+P25OVji/KCU2/baYfyEYpiXvZnUbDX+vo7eyw3bY449Nu+5fT4clvuYBOvRfCNJUJXNQMpttHTR0VTG29YzFtZhyTwnalbg6nV0XEt3bnZYRN3RzNm983Tt+/uuF+u71cm3jnqP+1immZ4P06xX5d1+eAnB5Vr+VgaVStt/f56pH3VkBX8wfPPFAfnca7NLXqic5uKhO0iPA9kV3dc44QapjaeseifktxTsMsbyz1d2F9Qp7zohA2dR/Z6sHSI9d764tnVrVy4YF40reJfNSvUkipAgDJHgDiTbWcSY4W3HnRtG7yZE1du3/+bseqpXhqdifuEVS3VTOT+9bVrNODVTlfr/tGRdfun6OB2FUpVQDnQbIHgBjTgyo2mnE76UlnnSO96KHrb3dec66o1vPNTXRiR/ct9h+eVc8/5eqOrCcWiNDhwd9VKVUA50KyB4AY041ARvyq4XVH3hHZp6JBTTd7rophVfGfmv5wAYOf/ub0TxxJv2p4ay/r03JGTfDsKfCIrk6pAjgXkj0AxNq3TdkyJDWS2Sid2jnT+rpfmBEp093OXpNDi/YMd9wiRw4r2TymZEz9KOUeinA/MJEvlu0+r1bleGthJOFtZ6/82M/09yQ6aJFzpUoVwDmQ7AEg7vQoQ0/0TFVy6e1X3Umbx4VUqpuvev2r+cPUjgsPevpmix02OPkT1azy7mrm2ZCeqUosiVtDj14uecfGqSstDaZ8q/mDXcFSBdApkj0AwKv8brK3Xw1zGZ2agqD3+boeNAZB5OBF18dWIrbJoVQBtINkDwDwIScHaKvViBpR/neZOuA39+OsGnHyB0oVQDtI9gAAAEAckOwBAACAOCDZAwAAAHFAsgcAAADigGQPAAAAxAHJHgAAAIgDkj0AAAAQByR7AAAAIA5I9gAAAEAckOwBAACAOCDZAwAAAHFAsgcAAADigGQPAAAAxAHJHgAAAIgDkj0AAAAQByR7AAAAIA5I9gAAAMCf7+fP/w/l0HaqINFB3QAAAABJRU5ErkJggg==)\n",
        "\n",
        "\n",
        "\n",
        "referencia: https://math.stackexchange.com/questions/3274790/notation-for-element-wise-multiplication-of-vector-and-matrix-columns"
      ]
    },
    {
      "cell_type": "code",
      "metadata": {
        "id": "kABHyAw7O7Qe"
      },
      "source": [
        "def cv_squared(x):\n",
        "  \"\"\"The squared coefficient of variation of a sample.\n",
        "  Useful as a loss to encourage a positive distribution to be more uniform.\n",
        "  Epsilons added for numerical stability.\n",
        "  Returns 0 for an empty Tensor.\n",
        "  Args:\n",
        "  x: a `Tensor`.\n",
        "  Returns:\n",
        "  a `Scalar`.\n",
        "  \"\"\"\n",
        "  eps = 1e-10\n",
        "  # if only num_experts = 1\n",
        "  if x.shape[0] == 1:\n",
        "    return torch.Tensor([0])\n",
        "  return x.float().var() / (x.float().mean()**2 + eps)"
      ],
      "execution_count": null,
      "outputs": []
    },
    {
      "cell_type": "code",
      "metadata": {
        "id": "EMStuSarPnqB"
      },
      "source": [
        ""
      ],
      "execution_count": null,
      "outputs": []
    },
    {
      "cell_type": "code",
      "metadata": {
        "id": "0OOjFu-0XGxJ"
      },
      "source": [
        "def train_MOE(model0, model1, model2, encoder_MOE, train_dataloader, eval_dataloader, val_dict, args, log):\n",
        "  lr = args.lr\n",
        "  num_epochs = args.num_epochs\n",
        "  device = args.device\n",
        "  eval_every = args.eval_every\n",
        "  path = os.path.join(args.save_dir, 'checkpoint')\n",
        "  num_visuals = args.num_visuals\n",
        "  save_dir = args.save_dir\n",
        "  #log = log\n",
        "  visualize_predictions = args.visualize_predictions\n",
        "\n",
        "  ii = 0  # RUIDO\n",
        "  suma=0  # RUIDO\n",
        "  \n",
        "  if not os.path.exists(path):\n",
        "    os.makedirs(path)\n",
        "\n",
        "  model0.to(device)      # los voy a poner en device antes de llamara a la función\n",
        "  model1.to(device)      # los voy a poner en device antes de llamara a la función\n",
        "  model2.to(device)      # los voy a poner en device antes de llamara a la función\n",
        "  encoder_MOE.to(device) # los voy a poner en device antes de llamara a la función\n",
        "  \n",
        "  #print(\"model0.device.type:\", model0.device.type)\n",
        "  #print(\"model1.device.type:\", model1.device.type)\n",
        "  #print(\"model2.device.type:\", model2.device.type)\n",
        "  #print(\"encoder_MOE.device.type:\", encoder_MOE.device.type)\n",
        "\n",
        "  #print(\"MEMORIA to.devide:\", GPUtil.showUtilization())\n",
        "\n",
        "  #https://discuss.pytorch.org/t/how-to-optimize-multi-models-parameter-in-one-optimizer/3603\n",
        "  # se listan los parámetros de los modelos y del encoder_MOE para que los actualice\n",
        "  # optim.AdamW(list(model1.parameters()) + list(model2.parameters())\n",
        "  #optim = AdamW(list(model0.parameters()) + list(model1.parameters()) + list(model2.parameters()) + list(encoder_MOE.parameters()), lr=lr)\n",
        "\n",
        "  optim = AdamW([\n",
        "                 {\"params\": list(model0.parameters()) + list(model1.parameters()) + list(model2.parameters())},\n",
        "                 {\"params\": encoder_MOE.parameters(), \"lr\": 0.0005}    \n",
        "                ],\n",
        "                lr=lr)\n",
        "\n",
        "\n",
        "  global_idx = 0\n",
        "  best_scores = {'F1': -1.0, 'EM': -1.0}\n",
        "  tbx = SummaryWriter(save_dir)\n",
        "\n",
        "  #start_logits = []   VER SI TENGO QUE INICIALIZAR VACÍO POR SI ACASO\n",
        "  #end_logits = []     VER SI TENGO QUE INICIALIZAR VACÍO POR SI ACASO\n",
        "  #outputs0 = []      VER SI TENGO QUE INICIALIZAR VACÍO POR SI ACASO\n",
        "  #outputs1 = []      VER SI TENGO QUE INICIALIZAR VACÍO POR SI ACASO\n",
        "  #outputs2 = []      VER SI TENGO QUE INICIALIZAR VACÍO POR SI ACASO\n",
        "  #salida_softmax = []      VER SI TENGO QUE INICIALIZAR VACÍO POR SI ACASO\n",
        "  #outputs = []      VER SI TENGO QUE INICIALIZAR VACÍO POR SI ACASO\n",
        "\n",
        "  for epoch_num in range(num_epochs):\n",
        "    log.info(f'Epoch: {epoch_num}')\n",
        "    with torch.enable_grad(), tqdm(total=len(train_dataloader.dataset)) as progress_bar:\n",
        "      for batch in train_dataloader:\n",
        "\n",
        "        #if ii > 0:    # RUIDO\n",
        "        #  suma=torch.tensor(suma_temp).to(device) # RUIDO\n",
        "        #  suma.detach() # RUIDO\n",
        "\n",
        "        optim.zero_grad()\n",
        "        model0.train()\n",
        "        model1.train()\n",
        "        model2.train()\n",
        "        encoder_MOE.train()\n",
        "\n",
        "        input_ids = batch['input_ids'].to(device)\n",
        "        attention_mask = batch['attention_mask'].to(device)\n",
        "        start_positions = batch['start_positions'].to(device)\n",
        "        end_positions = batch['end_positions'].to(device)\n",
        "        \n",
        "        \n",
        "        outputs0 = model0(input_ids, attention_mask=attention_mask)#,\n",
        "                                    #start_positions=start_positions, # sacarlos para que no calcule el LOSS en cada modelo, así ahorramos\n",
        "                                    #end_positions=end_positions)     # tiempo, ya que igual voy a tener que recalcular LOSS para el global\n",
        "        \n",
        "        outputs1 = model1(input_ids, attention_mask=attention_mask)#,\n",
        "                                    #start_positions=start_positions, # sacarlos para que no calcule el LOSS en cada modelo, así ahorramos\n",
        "                                    #end_positions=end_positions)     # tiempo, ya que igual voy a tener que recalcular LOSS para el global\n",
        "        \n",
        "        outputs2 = model2(input_ids, attention_mask=attention_mask)#,\n",
        "                                    #start_positions=start_positions, # sacarlos para que no calcule el LOSS en cada modelo, así ahorramos\n",
        "                                    #end_positions=end_positions)     # tiempo, ya que igual voy a tener que recalcular LOSS para el global\n",
        "        \n",
        "        salida_softmax = encoder_MOE(input_ids, attention_mask)\n",
        "\n",
        "\n",
        "      # Para poder pesar las salidas \"start\" y \"end\" que tira cada modelo (expertos) por la salida_softax del encoder_MOE aplico lo siguiente:\n",
        "      # https://math.stackexchange.com/questions/3274790/notation-for-element-wise-multiplication-of-vector-and-matrix-columns\n",
        "\n",
        "      # start_logits (torch.FloatTensor of shape (batch_size, sequence_length)) – Span-start scores (before SoftMax).\n",
        "      # end_logits (torch.FloatTensor of shape (batch_size, sequence_length)) – Span-end scores (before SoftMax).\n",
        "\n",
        "        start_logits = ((torch.diag(salida_softmax[:,0]) @ outputs0.start_logits) + \n",
        "                        (torch.diag(salida_softmax[:,1]) @ outputs1.start_logits) +\n",
        "                        (torch.diag(salida_softmax[:,2]) @ outputs2.start_logits))\n",
        "\n",
        "        end_logits = ((torch.diag(salida_softmax[:,0]) @ outputs0.end_logits) + \n",
        "                      (torch.diag(salida_softmax[:,1]) @ outputs1.end_logits) +\n",
        "                      (torch.diag(salida_softmax[:,2]) @ outputs2.end_logits))\n",
        "\n",
        "      #### HAY QUE RECALCULAR loss AHORA, PORQUE CAMBIAMOS start_logits y end_logits GLOBALES AL PESARLOS\n",
        "      ###\n",
        "        # https://huggingface.co/transformers/model_doc/distilbert.html\n",
        "        # https://huggingface.co/transformers/_modules/transformers/models/distilbert/modeling_distilbert.html#DistilBertForQuestionAnswering\n",
        "        # Return: loss (torch.FloatTensor of shape (1,), optional, returned when labels is provided) – \n",
        "        # Total span extraction loss is the sum of a Cross-Entropy for the start and end positions.\n",
        "        #   loss = outputs[0]\n",
        "\n",
        "        total_loss = None\n",
        "        if start_positions is not None and end_positions is not None:\n",
        "            # If we are on multi-GPU, split add a dimension\n",
        "            if len(start_positions.size()) > 1:\n",
        "                start_positions = start_positions.squeeze(-1)\n",
        "            if len(end_positions.size()) > 1:\n",
        "                end_positions = end_positions.squeeze(-1)\n",
        "            # sometimes the start/end positions are outside our model inputs, we ignore these terms\n",
        "            ignored_index = start_logits.size(1)\n",
        "            start_positions = start_positions.clamp(0, ignored_index)\n",
        "            end_positions = end_positions.clamp(0, ignored_index)\n",
        "\n",
        "            loss_fct = nn.CrossEntropyLoss(ignore_index=ignored_index)\n",
        "            start_loss = loss_fct(start_logits, start_positions)\n",
        "            end_loss = loss_fct(end_logits, end_positions)\n",
        "            total_loss = (start_loss + end_loss) / 2\n",
        "            #loss = total_loss\n",
        "      ###\n",
        "      ############################\n",
        "\n",
        "\n",
        "        #suma += salida_softmax.half().round().sum(0).detach()     # RUIDO\n",
        "        suma = salida_softmax.half().round().sum(0)     # RUIDO\n",
        "        suma.detach()    # RUIDO\n",
        "        #suma_temp = suma#.tolist()    # RUIDO   # antes sumábamos cómo se distribuían los maestros a lo largo del dataset\n",
        "                                                 # pero ahora lo hacemos en cada bacth, usando suma directamente\n",
        "     \n",
        "        ii +=1    # RUIDO\n",
        "      \n",
        "        aux_loss = cv_squared(suma)   # PÉRDIDA AUXILIAR PARA QUE TIENDA A USAR LA MISMA CANTIDAD DE VECES A TODOS LOS MAESTROS\n",
        "        #print(\"SUMA:\", suma)\n",
        "        #print(\"TOTAL_LOSS:\", total_loss)\n",
        "        #print(\"AUX LOSS:\", aux_loss)\n",
        "        loss = total_loss + (aux_loss * 0.1)\n",
        "        #print(\"LOSS:\", loss)\n",
        "        \n",
        "        del suma    # RUIDO\n",
        "        torch.cuda.empty_cache()    # RUIDO\n",
        "        \n",
        "        loss.backward()\n",
        "        optim.step()\n",
        "        progress_bar.update(len(input_ids))\n",
        "        progress_bar.set_postfix(epoch=epoch_num, NLL=loss.item())\n",
        "        tbx.add_scalar('train/NLL', loss.item(), global_idx)\n",
        "        if (global_idx % eval_every) == 0:\n",
        "          log.info(f'Evaluating at step {global_idx}...')\n",
        "          \n",
        "          # UTILIZAMOS NUESTRA PROPIA FUNCIÓN DE evaliuación\n",
        "          #def evaluate_MOE(model0, model1, model2, encoder_MOE, data_loader, data_dict, args, return_preds=False, split='validation'):\n",
        "          preds, curr_score = evaluate_MOE(model0, model1, model2, encoder_MOE, eval_dataloader, val_dict, args, return_preds=True)\n",
        "          \n",
        "          results_str = ', '.join(f'{k}: {v:05.2f}' for k, v in curr_score.items())\n",
        "          log.info('Visualizing in TensorBoard...')\n",
        "          for k, v in curr_score.items():\n",
        "            tbx.add_scalar(f'val/{k}', v, global_idx)\n",
        "          log.info(f'Eval {results_str}')\n",
        "          if visualize_predictions:\n",
        "              util.visualize(tbx,\n",
        "                            pred_dict=preds,\n",
        "                            gold_dict=val_dict,\n",
        "                            step=global_idx,\n",
        "                            split='val',\n",
        "                            num_visuals=num_visuals)\n",
        "          if curr_score['F1'] >= best_scores['F1']:\n",
        "              best_scores = curr_score\n",
        "              model0.save_pretrained(path + \"/model0\")   # guardo en carpetas, sino se sobreescribe al usar siempre \"pytorch_model.bin\"\n",
        "              model1.save_pretrained(path + \"/model1\")   # guardo en carpetas, sino se sobreescribe al usar siempre \"pytorch_model.bin\"\n",
        "              model2.save_pretrained(path + \"/model2\")   # guardo en carpetas, sino se sobreescribe al usar siempre \"pytorch_model.bin\"\n",
        "              torch.save(encoder_MOE.state_dict(), path + \"/encoder_MOE.pt\")  # con torch.save hay asignar el nombre de archivo\n",
        "\n",
        "        global_idx += 1\n",
        "      #print(\"SUMA_TEMP:\", suma_temp)\n",
        "        #print(\"MEMORIA en FOR batches:\", GPUtil.showUtilization())\n",
        "        \n",
        "  return best_scores"
      ],
      "execution_count": null,
      "outputs": []
    },
    {
      "cell_type": "code",
      "metadata": {
        "id": "e0BiwPOmaOey"
      },
      "source": [
        "def evaluate_MOE(model0, model1, model2, encoder_MOE, data_loader, data_dict, args, return_preds=False, split='validation'):\n",
        "    device = args.device\n",
        "    \n",
        "    model0.eval()\n",
        "    model1.eval()\n",
        "    model2.eval()\n",
        "    encoder_MOE.eval()\n",
        "    \n",
        "    #start_logits = []   VER SI TENGO QUE INICIALIZAR VACÍO POR SI ACASO\n",
        "    #end_logits = []     VER SI TENGO QUE INICIALIZAR VACÍO POR SI ACASO\n",
        "    #outputs0 = []      VER SI TENGO QUE INICIALIZAR VACÍO POR SI ACASO\n",
        "    #outputs1 = []      VER SI TENGO QUE INICIALIZAR VACÍO POR SI ACASO\n",
        "    #outputs2 = []      VER SI TENGO QUE INICIALIZAR VACÍO POR SI ACASO\n",
        "    #salida_softmax = []      VER SI TENGO QUE INICIALIZAR VACÍO POR SI ACASO\n",
        "    #outputs = []      VER SI TENGO QUE INICIALIZAR VACÍO POR SI ACASO\n",
        "\n",
        "    pred_dict = {}\n",
        "    all_start_logits = []\n",
        "    all_end_logits = []\n",
        "\n",
        "\n",
        "    with torch.no_grad(), \\\n",
        "            tqdm(total=len(data_loader.dataset)) as progress_bar:\n",
        "      for batch in data_loader:\n",
        "        # Setup for forward\n",
        "        input_ids = batch['input_ids'].to(device)\n",
        "        attention_mask = batch['attention_mask'].to(device)\n",
        "        batch_size = len(input_ids)\n",
        "        \n",
        "        # Forward\n",
        "        outputs0 = model0(input_ids, attention_mask=attention_mask)   # EN eval NO LE PASAMOS LAS REALES end_positions / start_positions\n",
        "        \n",
        "        outputs1 = model1(input_ids, attention_mask=attention_mask)   # EN eval NO LE PASAMOS LAS REALES end_positions / start_positions\n",
        "        \n",
        "        outputs2 = model2(input_ids, attention_mask=attention_mask)   # EN eval NO LE PASAMOS LAS REALES end_positions / start_positions\n",
        "        \n",
        "        salida_softmax = encoder_MOE(input_ids, attention_mask)\n",
        "\n",
        "\n",
        "      # Para poder pesar las salidas \"start\" y \"end\" que tira cada modelo (expertos) por la salida_softax del encoder_MOE aplico lo siguiente:\n",
        "      # https://math.stackexchange.com/questions/3274790/notation-for-element-wise-multiplication-of-vector-and-matrix-columns\n",
        "\n",
        "      # start_logits (torch.FloatTensor of shape (batch_size, sequence_length)) – Span-start scores (before SoftMax).\n",
        "      # end_logits (torch.FloatTensor of shape (batch_size, sequence_length)) – Span-end scores (before SoftMax).\n",
        "\n",
        "        start_logits = ((torch.diag(salida_softmax[:,0]) @ outputs0.start_logits) + \n",
        "                        (torch.diag(salida_softmax[:,1]) @ outputs1.start_logits) +\n",
        "                        (torch.diag(salida_softmax[:,2]) @ outputs2.start_logits))\n",
        "\n",
        "        end_logits = ((torch.diag(salida_softmax[:,0]) @ outputs0.end_logits) + \n",
        "                      (torch.diag(salida_softmax[:,1]) @ outputs1.end_logits) +\n",
        "                      (torch.diag(salida_softmax[:,2]) @ outputs2.end_logits))\n",
        "\n",
        "        # TODO: compute loss\n",
        "\n",
        "        all_start_logits.append(start_logits)\n",
        "        all_end_logits.append(end_logits)\n",
        "        progress_bar.update(batch_size)\n",
        "\n",
        "    # Get F1 and EM scores\n",
        "    start_logits = torch.cat(all_start_logits).cpu().numpy()\n",
        "    end_logits = torch.cat(all_end_logits).cpu().numpy()\n",
        "    preds = util.postprocess_qa_predictions(data_dict,\n",
        "                                            data_loader.dataset.encodings,\n",
        "                                            (start_logits, end_logits))\n",
        "    if split == 'validation':\n",
        "      results = util.eval_dicts(data_dict, preds)\n",
        "      results_list = [('F1', results['F1']),\n",
        "                      ('EM', results['EM'])]\n",
        "    else:\n",
        "      results_list = [('F1', -1.0),\n",
        "                      ('EM', -1.0)]\n",
        "    results = OrderedDict(results_list)\n",
        "    if return_preds:\n",
        "      return preds, results\n",
        "    return results\n",
        "  "
      ],
      "execution_count": null,
      "outputs": []
    },
    {
      "cell_type": "code",
      "metadata": {
        "colab": {
          "base_uri": "https://localhost:8080/"
        },
        "id": "OSAqmP53Eo1U",
        "outputId": "b051d335-147d-4aa9-b94b-0d6e954a0689"
      },
      "source": [
        "GPUtil.showUtilization()"
      ],
      "execution_count": null,
      "outputs": [
        {
          "output_type": "stream",
          "text": [
            "| ID | GPU | MEM |\n",
            "------------------\n",
            "|  0 |  0% |  0% |\n"
          ],
          "name": "stdout"
        }
      ]
    },
    {
      "cell_type": "markdown",
      "metadata": {
        "id": "3ty2NInVLfW8"
      },
      "source": [
        "### ENTRENAMIENTO y VALIDACIÓN"
      ]
    },
    {
      "cell_type": "markdown",
      "metadata": {
        "id": "awtAz0TXXJoY"
      },
      "source": [
        "Ahora, para poder instanciar nuestro instanciar nuestro encoder_MOE, necesitamos primero tener instanciados los modelos base y tokenizador base y definidos nuestros datasets de entrenamiento:"
      ]
    },
    {
      "cell_type": "code",
      "metadata": {
        "id": "nxKBjdf1TnHX"
      },
      "source": [
        "args = get_train_test_args()\n",
        "\n",
        "util.set_seed(args.seed)\n",
        "\n",
        "# python train.py --run-name baseline --do-train --train-datasets nat_questions,duorc\n",
        "\n",
        "######  Definimos si queremos realizar un nuevo entrenamiento  XXXXXXXXXXXX\n",
        "## si no es un nuevo entrenamiento tenemos que indicar en qué carpeta existente queremos seguir trabajando ###\n",
        "args.do_train = True   \n",
        "\n",
        "if args.do_train:\n",
        "  carpeta_deseada =\"\"\n",
        "else:\n",
        "  carpeta_deseada = 'checkpoint_MOE-04'        # indicar en qué carpeta existente queremos seguir trabajando                                           \n",
        "  #checkpoint_path = os.path.join(args.save_dir, carpeta_deseada, 'checkpoint') \n",
        "\n",
        "\n",
        "###### If you would like to create these from scratch, makesure to run train.pywith the ﬂag recompute_features.\n",
        "args.recompute_features = False\n",
        "\n",
        "\n",
        "######  Definimos los Dataset de ENTRENAMIENTO y las carpetas de ENTRENAMIENTO y VALIDACIÓN que vamos a utilizar  XXXXXXXXXXXX\n",
        "args.train_datasets = 'squad,nat_questions,newsqa,race,relation_extraction,duorc'\n",
        "#args.train_datasets = 'relation_extraction,duorc'\n",
        "\n",
        "######  Definimos el BATCH SIZE   XXXXXXXXXXXX\n",
        "args.batch_size = 8\n"
      ],
      "execution_count": null,
      "outputs": []
    },
    {
      "cell_type": "code",
      "metadata": {
        "colab": {
          "base_uri": "https://localhost:8080/"
        },
        "id": "McYJkVHNEz4F",
        "outputId": "d17b31be-8485-44b3-e0ad-88c4ba3229ba"
      },
      "source": [
        "GPUtil.showUtilization()"
      ],
      "execution_count": null,
      "outputs": [
        {
          "output_type": "stream",
          "text": [
            "| ID | GPU | MEM |\n",
            "------------------\n",
            "|  0 |  0% |  0% |\n"
          ],
          "name": "stdout"
        }
      ]
    },
    {
      "cell_type": "code",
      "metadata": {
        "colab": {
          "base_uri": "https://localhost:8080/"
        },
        "id": "w8AL11H4z7l9",
        "outputId": "1b438747-e9d2-4c98-dcc1-d52ea755d7de"
      },
      "source": [
        "######  Instanciamos los modelos base (\"expertos\")  XXXXXXXXXXXX\n",
        "model0 = DistilBertForQuestionAnswering.from_pretrained(\"distilbert-base-uncased\")\n",
        "model1 = DistilBertForQuestionAnswering.from_pretrained(\"distilbert-base-uncased\")\n",
        "model2 = DistilBertForQuestionAnswering.from_pretrained(\"distilbert-base-uncased\")\n",
        "\n",
        "\n",
        "######  Instanciamos el Tokenizador  XXXXXXXXXXXX\n",
        "tokenizer = DistilBertTokenizerFast.from_pretrained('distilbert-base-uncased')   \n",
        "\n",
        "\n",
        "#### ver memoria#\n",
        "GPUtil.showUtilization()\n",
        "####\n",
        "\n",
        "\n",
        "######  Armamos las carpetas de destino y archivo LOG  XXXXXXXXXXXX\n",
        "\n",
        "if not os.path.exists(args.save_dir):   # si no está creada, creo la carptea /save/\n",
        "  os.makedirs(args.save_dir)            \n",
        "\n",
        "if args.do_train:             # si es un nuevo entrenamiento creo una nueva carpeta\n",
        "  args.save_dir = util.get_save_dir(args.save_dir, 'checkpoint_MOE')    \n",
        "else: \n",
        "  args.save_dir = os.path.join(args.save_dir, carpeta_deseada) \n",
        "\n",
        "log = util.get_logger(args.save_dir, 'log_train')\n",
        "\n",
        "log.info(f'Args: {json.dumps(vars(args), indent=4, sort_keys=True)}')\n",
        "\n",
        "args.device = torch.device('cuda') if torch.cuda.is_available() else torch.device('cpu')   # ESTO NO HACERLO ANTES SINÓ TIRA ERROR el Log:\n",
        "                                                                                           # TypeError: Object of type device is not JSON serializable    \n",
        "#model0.to(args.device)      # los voy a poner en device antes de llamara a la función\n",
        "#model1.to(args.device)      # los voy a poner en device antes de llamara a la función\n",
        "#model2.to(args.device)      # los voy a poner en device antes de llamara a la función                                                                                \n",
        "\n",
        "######  Armamos los datasets de Entrenamiento y Validación  XXXXXXXXXXXX\n",
        "log.info(\"Preparing Training Data...\")\n",
        "\n",
        "train_dataset, _ = get_dataset(args, args.train_datasets, args.train_dir, tokenizer, 'train')\n",
        "\n",
        "log.info(\"Preparing Validation Data...\")\n",
        "\n",
        "val_dataset, val_dict = get_dataset(args, args.train_datasets, args.val_dir, tokenizer, 'val')\n",
        "\n",
        "train_loader = DataLoader(train_dataset,\n",
        "                          batch_size=args.batch_size,\n",
        "                          sampler=RandomSampler(train_dataset))\n",
        "\n",
        "val_loader = DataLoader(val_dataset,\n",
        "                        batch_size=args.batch_size,\n",
        "                        sampler=SequentialSampler(val_dataset))\n",
        "\n",
        "\n",
        "######  Instanciamos un Encoder_MOE  XXXXXXXXXXXX\n",
        "INPUT_DIM = len(tokenizer.vocab)\n",
        "ENC_SRC_LEN = len(train_loader.dataset.encodings['input_ids'][0])  # todos van a tener la misma longitud (tienen padding)\n",
        "HID_DIM = 256\n",
        "ENC_LAYERS = 1             # 3\n",
        "ENC_HEADS = 8              # 8 \n",
        "ENC_PF_DIM = 512\n",
        "ENC_CANT_EXPERTOS = 3\n",
        "ENC_DROPOUT = 0.1\n",
        "device = args.device\n",
        "\n",
        "  #def __init__(self, input_dim, src_len, hid_dim, n_layers, n_heads, pf_dim, cant_expertos, dropout, device, max_length = 400):\n",
        "encoder_MOE = Encoder_MOE(INPUT_DIM, \n",
        "                          ENC_SRC_LEN,\n",
        "                          HID_DIM, \n",
        "                          ENC_LAYERS, \n",
        "                          ENC_HEADS, \n",
        "                          ENC_PF_DIM, \n",
        "                          ENC_CANT_EXPERTOS,\n",
        "                          ENC_DROPOUT, \n",
        "                          device)\n",
        "\n"
      ],
      "execution_count": null,
      "outputs": [
        {
          "output_type": "stream",
          "text": [
            "Some weights of the model checkpoint at distilbert-base-uncased were not used when initializing DistilBertForQuestionAnswering: ['vocab_layer_norm.weight', 'vocab_projector.bias', 'vocab_transform.bias', 'vocab_transform.weight', 'vocab_projector.weight', 'vocab_layer_norm.bias']\n",
            "- This IS expected if you are initializing DistilBertForQuestionAnswering from the checkpoint of a model trained on another task or with another architecture (e.g. initializing a BertForSequenceClassification model from a BertForPreTraining model).\n",
            "- This IS NOT expected if you are initializing DistilBertForQuestionAnswering from the checkpoint of a model that you expect to be exactly identical (initializing a BertForSequenceClassification model from a BertForSequenceClassification model).\n",
            "Some weights of DistilBertForQuestionAnswering were not initialized from the model checkpoint at distilbert-base-uncased and are newly initialized: ['qa_outputs.bias', 'qa_outputs.weight']\n",
            "You should probably TRAIN this model on a down-stream task to be able to use it for predictions and inference.\n",
            "Some weights of the model checkpoint at distilbert-base-uncased were not used when initializing DistilBertForQuestionAnswering: ['vocab_layer_norm.weight', 'vocab_projector.bias', 'vocab_transform.bias', 'vocab_transform.weight', 'vocab_projector.weight', 'vocab_layer_norm.bias']\n",
            "- This IS expected if you are initializing DistilBertForQuestionAnswering from the checkpoint of a model trained on another task or with another architecture (e.g. initializing a BertForSequenceClassification model from a BertForPreTraining model).\n",
            "- This IS NOT expected if you are initializing DistilBertForQuestionAnswering from the checkpoint of a model that you expect to be exactly identical (initializing a BertForSequenceClassification model from a BertForSequenceClassification model).\n",
            "Some weights of DistilBertForQuestionAnswering were not initialized from the model checkpoint at distilbert-base-uncased and are newly initialized: ['qa_outputs.bias', 'qa_outputs.weight']\n",
            "You should probably TRAIN this model on a down-stream task to be able to use it for predictions and inference.\n",
            "Some weights of the model checkpoint at distilbert-base-uncased were not used when initializing DistilBertForQuestionAnswering: ['vocab_layer_norm.weight', 'vocab_projector.bias', 'vocab_transform.bias', 'vocab_transform.weight', 'vocab_projector.weight', 'vocab_layer_norm.bias']\n",
            "- This IS expected if you are initializing DistilBertForQuestionAnswering from the checkpoint of a model trained on another task or with another architecture (e.g. initializing a BertForSequenceClassification model from a BertForPreTraining model).\n",
            "- This IS NOT expected if you are initializing DistilBertForQuestionAnswering from the checkpoint of a model that you expect to be exactly identical (initializing a BertForSequenceClassification model from a BertForSequenceClassification model).\n",
            "Some weights of DistilBertForQuestionAnswering were not initialized from the model checkpoint at distilbert-base-uncased and are newly initialized: ['qa_outputs.bias', 'qa_outputs.weight']\n",
            "You should probably TRAIN this model on a down-stream task to be able to use it for predictions and inference.\n"
          ],
          "name": "stderr"
        },
        {
          "output_type": "stream",
          "text": [
            "| ID | GPU | MEM |\n",
            "------------------\n",
            "|  0 |  0% |  0% |\n",
            "[07.22.21 23:53:14] Args: {\n",
            "    \"batch_size\": 8,\n",
            "    \"do_eval\": false,\n",
            "    \"do_train\": true,\n",
            "    \"eval\": false,\n",
            "    \"eval_datasets\": \"race,relation_extraction,duorc\",\n",
            "    \"eval_dir\": \"datasets/oodomain_test\",\n",
            "    \"eval_every\": 5000,\n",
            "    \"lr\": 3e-05,\n",
            "    \"num_epochs\": 3,\n",
            "    \"num_visuals\": 10,\n",
            "    \"recompute_features\": false,\n",
            "    \"run_name\": \"multitask_distilbert\",\n",
            "    \"save_dir\": \"save/checkpoint_MOE-08\",\n",
            "    \"seed\": 42,\n",
            "    \"sub_file\": \"\",\n",
            "    \"train\": false,\n",
            "    \"train_datasets\": \"relation_extraction,duorc\",\n",
            "    \"train_dir\": \"datasets/indomain_train\",\n",
            "    \"val_dir\": \"datasets/indomain_val\",\n",
            "    \"visualize_predictions\": false\n",
            "}\n",
            "[07.22.21 23:53:14] Preparing Training Data...\n",
            "[07.22.21 23:53:14] Preparing Validation Data...\n"
          ],
          "name": "stdout"
        }
      ]
    },
    {
      "cell_type": "code",
      "metadata": {
        "id": "u6QJoOlYFWkF",
        "colab": {
          "base_uri": "https://localhost:8080/"
        },
        "outputId": "ac0fbeb4-e66b-4857-f0f5-ead7301c4ecc"
      },
      "source": [
        "GPUtil.showUtilization()"
      ],
      "execution_count": null,
      "outputs": [
        {
          "output_type": "stream",
          "text": [
            "| ID | GPU | MEM |\n",
            "------------------\n",
            "|  0 |  4% |  7% |\n"
          ],
          "name": "stdout"
        }
      ]
    },
    {
      "cell_type": "markdown",
      "metadata": {
        "id": "TvCMJpZyylET"
      },
      "source": [
        "...verificamos la cantidad de parámetros de los modelos y encoder_MOE:"
      ]
    },
    {
      "cell_type": "code",
      "metadata": {
        "id": "YxlV0qwKO5-7",
        "colab": {
          "base_uri": "https://localhost:8080/"
        },
        "outputId": "2893f445-78d5-4667-90fa-82ff8322dc56"
      },
      "source": [
        "def count_parameters(model):\n",
        "    return sum(p.numel() for p in model.parameters() if p.requires_grad)\n",
        "\n",
        "print(f'The model0 has {count_parameters(model0):,} trainable parameters')\n",
        "print(f'The model1 has {count_parameters(model1):,} trainable parameters')\n",
        "print(f'The model2 has {count_parameters(model2):,} trainable parameters')\n",
        "print(f'The encoder_MOE has {count_parameters(encoder_MOE):,} trainable parameters')"
      ],
      "execution_count": null,
      "outputs": [
        {
          "output_type": "stream",
          "text": [
            "The model0 has 66,364,418 trainable parameters\n",
            "The model1 has 66,364,418 trainable parameters\n",
            "The model2 has 66,364,418 trainable parameters\n",
            "The encoder_MOE has 9,498,500 trainable parameters\n"
          ],
          "name": "stdout"
        }
      ]
    },
    {
      "cell_type": "markdown",
      "metadata": {
        "id": "1HzBkwEMcLao"
      },
      "source": [
        "...e inicializar los pesos únicamente para los parámetros de nuestro \"encoder_MOE\":\n",
        "\n",
        "Xavier parece ser común entre los modelos de Transformer, así que lo usamos aquí. \n",
        "\n",
        "No aplicamos inicialización a los modelos Distilbert ya que en el entrenamiento Base contra el que queremos compararnos no lo aplican explícitamente (ver paper robustQA)."
      ]
    },
    {
      "cell_type": "code",
      "metadata": {
        "id": "IeizfB88RwPn"
      },
      "source": [
        "def initialize_weights(m):\n",
        "    if hasattr(m, 'weight') and m.weight.dim() > 1:\n",
        "        nn.init.xavier_uniform_(m.weight.data)"
      ],
      "execution_count": null,
      "outputs": []
    },
    {
      "cell_type": "code",
      "metadata": {
        "id": "ZiOkkkMsfjZ0"
      },
      "source": [
        "encoder_MOE.apply(initialize_weights);"
      ],
      "execution_count": null,
      "outputs": []
    },
    {
      "cell_type": "code",
      "metadata": {
        "id": "g-t5cmO3FhW8",
        "colab": {
          "base_uri": "https://localhost:8080/"
        },
        "outputId": "5855509f-e63e-4bbc-fafb-053da306df99"
      },
      "source": [
        "GPUtil.showUtilization()"
      ],
      "execution_count": null,
      "outputs": [
        {
          "output_type": "stream",
          "text": [
            "| ID | GPU | MEM |\n",
            "------------------\n",
            "|  0 |  0% |  7% |\n"
          ],
          "name": "stdout"
        }
      ]
    },
    {
      "cell_type": "code",
      "metadata": {
        "id": "BfyuTWsIFril"
      },
      "source": [
        "#If you did \"del some_object\"\n",
        "#follow it up with \"torch.cuda.empty_cache()\"\"\n",
        "#del train_dataset\n",
        "#torch.cuda.empty_cache()\n",
        "#GPUtil.showUtilization()\n",
        "#del val_dataset\n",
        "#torch.cuda.empty_cache()\n",
        "#GPUtil.showUtilization()"
      ],
      "execution_count": null,
      "outputs": []
    },
    {
      "cell_type": "markdown",
      "metadata": {
        "id": "o9zOxYQ48YzU"
      },
      "source": [
        "### LOOP de ENTRENAMIENTO (sólo se ejecuta si el \"flag\" -> args.do_train = True )\n",
        "\n",
        "...y, finalmente, llamamos a nuestra función de Entrenamiento: \"train_MOE\"."
      ]
    },
    {
      "cell_type": "markdown",
      "metadata": {
        "id": "MDbDcrLsQKN-"
      },
      "source": [
        "![moe.png](data:image/png;base64,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)\n",
        "\n"
      ]
    },
    {
      "cell_type": "code",
      "metadata": {
        "colab": {
          "base_uri": "https://localhost:8080/"
        },
        "id": "TrO-Lx42TiAW",
        "outputId": "99548192-eef7-4252-a0f8-f0d5d430932e"
      },
      "source": [
        "args.num_epochs = 3\n",
        "\n",
        "args.eval_every = (len(train_loader) -1)\n",
        "\n",
        "# LLAMAMOS A LA FUNCIÓN DE ENTRENAMIENTO y VALIDACIÓN train_MOE\n",
        "#def train_MOE(model0, model1, model2, encoder_MOE, train_dataloader, eval_dataloader, val_dict, args, log):\n",
        "if args.do_train:\n",
        "  best_scores = train_MOE(model0, model1, model2, encoder_MOE, train_loader, val_loader, val_dict, args, log)\n",
        "  best_scores"
      ],
      "execution_count": null,
      "outputs": [
        {
          "output_type": "stream",
          "text": [
            "\r  0%|          | 0/562 [00:00<?, ?it/s]"
          ],
          "name": "stderr"
        },
        {
          "output_type": "stream",
          "text": [
            "[07.22.21 23:55:21] Epoch: 0\n",
            "SUMA: tensor([0., 1., 7.], device='cuda:0', dtype=torch.float16)\n",
            "TOTAL_LOSS: tensor(5.9698, device='cuda:0', grad_fn=<DivBackward0>)\n",
            "AUX LOSS: tensor(2.0156, device='cuda:0')\n",
            "LOSS: tensor(7.9854, device='cuda:0', grad_fn=<AddBackward0>)\n"
          ],
          "name": "stdout"
        },
        {
          "output_type": "stream",
          "text": [
            "  1%|▏         | 8/562 [00:00<01:03,  8.75it/s, NLL=7.99, epoch=0]\n",
            "  0%|          | 0/539 [00:00<?, ?it/s]\u001b[A"
          ],
          "name": "stderr"
        },
        {
          "output_type": "stream",
          "text": [
            "[07.22.21 23:55:22] Evaluating at step 0...\n"
          ],
          "name": "stdout"
        },
        {
          "output_type": "stream",
          "text": [
            "\n",
            "  1%|▏         | 8/539 [00:00<00:16, 31.31it/s]\u001b[A\n",
            "  3%|▎         | 16/539 [00:00<00:17, 30.49it/s]\u001b[A\n",
            "  4%|▍         | 24/539 [00:00<00:17, 30.01it/s]\u001b[A\n",
            "  6%|▌         | 32/539 [00:01<00:17, 29.33it/s]\u001b[A\n",
            "  7%|▋         | 40/539 [00:01<00:16, 29.41it/s]\u001b[A\n",
            "  9%|▉         | 48/539 [00:01<00:16, 29.35it/s]\u001b[A\n",
            " 10%|█         | 56/539 [00:01<00:16, 28.95it/s]\u001b[A\n",
            " 12%|█▏        | 64/539 [00:02<00:16, 28.93it/s]\u001b[A\n",
            " 13%|█▎        | 72/539 [00:02<00:16, 29.05it/s]\u001b[A\n",
            " 15%|█▍        | 80/539 [00:02<00:15, 29.00it/s]\u001b[A\n",
            " 16%|█▋        | 88/539 [00:03<00:15, 28.80it/s]\u001b[A\n",
            " 18%|█▊        | 96/539 [00:03<00:15, 28.88it/s]\u001b[A\n",
            " 19%|█▉        | 104/539 [00:03<00:15, 28.98it/s]\u001b[A\n",
            " 21%|██        | 112/539 [00:03<00:14, 28.95it/s]\u001b[A\n",
            " 22%|██▏       | 120/539 [00:04<00:14, 28.89it/s]\u001b[A\n",
            " 24%|██▎       | 128/539 [00:04<00:14, 28.93it/s]\u001b[A\n",
            " 25%|██▌       | 136/539 [00:04<00:13, 28.90it/s]\u001b[A\n",
            " 27%|██▋       | 144/539 [00:04<00:13, 28.66it/s]\u001b[A\n",
            " 28%|██▊       | 152/539 [00:05<00:13, 28.55it/s]\u001b[A\n",
            " 30%|██▉       | 160/539 [00:05<00:13, 28.64it/s]\u001b[A\n",
            " 31%|███       | 168/539 [00:05<00:12, 28.58it/s]\u001b[A\n",
            " 33%|███▎      | 176/539 [00:06<00:12, 28.49it/s]\u001b[A\n",
            " 34%|███▍      | 184/539 [00:06<00:12, 28.40it/s]\u001b[A\n",
            " 36%|███▌      | 192/539 [00:06<00:12, 28.44it/s]\u001b[A\n",
            " 37%|███▋      | 200/539 [00:06<00:11, 28.30it/s]\u001b[A\n",
            " 39%|███▊      | 208/539 [00:07<00:11, 28.26it/s]\u001b[A\n",
            " 40%|████      | 216/539 [00:07<00:11, 28.31it/s]\u001b[A\n",
            " 42%|████▏     | 224/539 [00:07<00:11, 28.32it/s]\u001b[A\n",
            " 43%|████▎     | 232/539 [00:08<00:10, 28.27it/s]\u001b[A\n",
            " 45%|████▍     | 240/539 [00:08<00:10, 28.14it/s]\u001b[A\n",
            " 46%|████▌     | 248/539 [00:08<00:10, 28.19it/s]\u001b[A\n",
            " 47%|████▋     | 256/539 [00:08<00:10, 28.09it/s]\u001b[A\n",
            " 49%|████▉     | 264/539 [00:09<00:09, 28.11it/s]\u001b[A\n",
            " 50%|█████     | 272/539 [00:09<00:09, 28.07it/s]\u001b[A\n",
            " 52%|█████▏    | 280/539 [00:09<00:09, 28.22it/s]\u001b[A\n",
            " 53%|█████▎    | 288/539 [00:10<00:08, 28.11it/s]\u001b[A\n",
            " 55%|█████▍    | 296/539 [00:10<00:08, 28.06it/s]\u001b[A\n",
            " 56%|█████▋    | 304/539 [00:10<00:08, 28.11it/s]\u001b[A\n",
            " 58%|█████▊    | 312/539 [00:10<00:08, 28.01it/s]\u001b[A\n",
            " 59%|█████▉    | 320/539 [00:11<00:07, 28.05it/s]\u001b[A\n",
            " 61%|██████    | 328/539 [00:11<00:07, 28.10it/s]\u001b[A\n",
            " 62%|██████▏   | 336/539 [00:11<00:07, 28.14it/s]\u001b[A\n",
            " 64%|██████▍   | 344/539 [00:12<00:06, 28.17it/s]\u001b[A\n",
            " 65%|██████▌   | 352/539 [00:12<00:06, 28.15it/s]\u001b[A\n",
            " 67%|██████▋   | 360/539 [00:12<00:06, 28.06it/s]\u001b[A\n",
            " 68%|██████▊   | 368/539 [00:12<00:06, 28.08it/s]\u001b[A\n",
            " 70%|██████▉   | 376/539 [00:13<00:05, 28.05it/s]\u001b[A\n",
            " 71%|███████   | 384/539 [00:13<00:05, 28.03it/s]\u001b[A\n",
            " 73%|███████▎  | 392/539 [00:13<00:05, 27.93it/s]\u001b[A\n",
            " 74%|███████▍  | 400/539 [00:14<00:04, 27.95it/s]\u001b[A\n",
            " 76%|███████▌  | 408/539 [00:14<00:04, 28.00it/s]\u001b[A\n",
            " 77%|███████▋  | 416/539 [00:14<00:04, 28.00it/s]\u001b[A\n",
            " 79%|███████▊  | 424/539 [00:14<00:04, 28.05it/s]\u001b[A\n",
            " 80%|████████  | 432/539 [00:15<00:03, 28.08it/s]\u001b[A\n",
            " 82%|████████▏ | 440/539 [00:15<00:03, 28.11it/s]\u001b[A\n",
            " 83%|████████▎ | 448/539 [00:15<00:03, 28.00it/s]\u001b[A\n",
            " 85%|████████▍ | 456/539 [00:16<00:02, 27.98it/s]\u001b[A\n",
            " 86%|████████▌ | 464/539 [00:16<00:02, 27.96it/s]\u001b[A\n",
            " 88%|████████▊ | 472/539 [00:16<00:02, 28.01it/s]\u001b[A\n",
            " 89%|████████▉ | 480/539 [00:16<00:02, 27.95it/s]\u001b[A\n",
            " 91%|█████████ | 488/539 [00:17<00:01, 27.90it/s]\u001b[A\n",
            " 92%|█████████▏| 496/539 [00:17<00:01, 27.77it/s]\u001b[A\n",
            " 94%|█████████▎| 504/539 [00:17<00:01, 27.87it/s]\u001b[A\n",
            " 95%|█████████▍| 512/539 [00:18<00:00, 27.89it/s]\u001b[A\n",
            " 96%|█████████▋| 520/539 [00:18<00:00, 27.84it/s]\u001b[A\n",
            " 98%|█████████▊| 528/539 [00:18<00:00, 27.82it/s]\u001b[A\n",
            " 99%|█████████▉| 536/539 [00:18<00:00, 27.86it/s]\u001b[A\n",
            "100%|██████████| 539/539 [00:19<00:00, 28.27it/s]\n",
            "\n",
            "  0%|          | 0/254 [00:00<?, ?it/s]\u001b[A\n",
            " 64%|██████▍   | 163/254 [00:00<00:00, 1619.31it/s]\u001b[A\n",
            "100%|██████████| 254/254 [00:00<00:00, 1164.93it/s]\n",
            "  1%|▏         | 8/562 [00:20<01:03,  8.75it/s, NLL=7.99, epoch=0]"
          ],
          "name": "stderr"
        },
        {
          "output_type": "stream",
          "text": [
            "[07.22.21 23:55:42] Visualizing in TensorBoard...\n",
            "[07.22.21 23:55:42] Eval F1: 07.12, EM: 00.79\n",
            "SUMA: tensor([2., 2., 4.], device='cuda:0', dtype=torch.float16)\n",
            "TOTAL_LOSS: tensor(5.9767, device='cuda:0', grad_fn=<DivBackward0>)\n",
            "AUX LOSS: tensor(0.1875, device='cuda:0')\n",
            "LOSS: tensor(6.1642, device='cuda:0', grad_fn=<AddBackward0>)\n"
          ],
          "name": "stdout"
        },
        {
          "output_type": "stream",
          "text": [
            "  3%|▎         | 16/562 [00:25<09:09,  1.01s/it, NLL=6.16, epoch=0]"
          ],
          "name": "stderr"
        },
        {
          "output_type": "stream",
          "text": [
            "SUMA: tensor([3., 2., 3.], device='cuda:0', dtype=torch.float16)\n",
            "TOTAL_LOSS: tensor(5.8812, device='cuda:0', grad_fn=<DivBackward0>)\n",
            "AUX LOSS: tensor(0.0469, device='cuda:0')\n",
            "LOSS: tensor(5.9281, device='cuda:0', grad_fn=<AddBackward0>)\n"
          ],
          "name": "stdout"
        },
        {
          "output_type": "stream",
          "text": [
            "  4%|▍         | 24/562 [00:26<06:35,  1.36it/s, NLL=5.93, epoch=0]"
          ],
          "name": "stderr"
        },
        {
          "output_type": "stream",
          "text": [
            "SUMA: tensor([5., 0., 3.], device='cuda:0', dtype=torch.float16)\n",
            "TOTAL_LOSS: tensor(5.8439, device='cuda:0', grad_fn=<DivBackward0>)\n",
            "AUX LOSS: tensor(0.8906, device='cuda:0')\n",
            "LOSS: tensor(6.7345, device='cuda:0', grad_fn=<AddBackward0>)\n"
          ],
          "name": "stdout"
        },
        {
          "output_type": "stream",
          "text": [
            "  6%|▌         | 32/562 [00:27<04:50,  1.83it/s, NLL=6.73, epoch=0]"
          ],
          "name": "stderr"
        },
        {
          "output_type": "stream",
          "text": [
            "SUMA: tensor([2., 1., 5.], device='cuda:0', dtype=torch.float16)\n",
            "TOTAL_LOSS: tensor(5.8227, device='cuda:0', grad_fn=<DivBackward0>)\n",
            "AUX LOSS: tensor(0.6094, device='cuda:0')\n",
            "LOSS: tensor(6.4320, device='cuda:0', grad_fn=<AddBackward0>)\n"
          ],
          "name": "stdout"
        },
        {
          "output_type": "stream",
          "text": [
            "  7%|▋         | 40/562 [00:28<03:37,  2.40it/s, NLL=6.43, epoch=0]"
          ],
          "name": "stderr"
        },
        {
          "output_type": "stream",
          "text": [
            "SUMA: tensor([5., 1., 2.], device='cuda:0', dtype=torch.float16)\n",
            "TOTAL_LOSS: tensor(5.7513, device='cuda:0', grad_fn=<DivBackward0>)\n",
            "AUX LOSS: tensor(0.6094, device='cuda:0')\n",
            "LOSS: tensor(6.3607, device='cuda:0', grad_fn=<AddBackward0>)\n"
          ],
          "name": "stdout"
        },
        {
          "output_type": "stream",
          "text": [
            "  9%|▊         | 48/562 [00:29<02:46,  3.09it/s, NLL=6.36, epoch=0]"
          ],
          "name": "stderr"
        },
        {
          "output_type": "stream",
          "text": [
            "SUMA: tensor([3., 3., 2.], device='cuda:0', dtype=torch.float16)\n",
            "TOTAL_LOSS: tensor(5.8117, device='cuda:0', grad_fn=<DivBackward0>)\n",
            "AUX LOSS: tensor(0.0469, device='cuda:0')\n",
            "LOSS: tensor(5.8585, device='cuda:0', grad_fn=<AddBackward0>)\n"
          ],
          "name": "stdout"
        },
        {
          "output_type": "stream",
          "text": [
            " 10%|▉         | 56/562 [00:29<02:11,  3.86it/s, NLL=5.86, epoch=0]"
          ],
          "name": "stderr"
        },
        {
          "output_type": "stream",
          "text": [
            "SUMA: tensor([3., 1., 4.], device='cuda:0', dtype=torch.float16)\n",
            "TOTAL_LOSS: tensor(5.5001, device='cuda:0', grad_fn=<DivBackward0>)\n",
            "AUX LOSS: tensor(0.3281, device='cuda:0')\n",
            "LOSS: tensor(5.8282, device='cuda:0', grad_fn=<AddBackward0>)\n"
          ],
          "name": "stdout"
        },
        {
          "output_type": "stream",
          "text": [
            " 11%|█▏        | 64/562 [00:30<01:46,  4.68it/s, NLL=5.83, epoch=0]"
          ],
          "name": "stderr"
        },
        {
          "output_type": "stream",
          "text": [
            "SUMA: tensor([2., 1., 5.], device='cuda:0', dtype=torch.float16)\n",
            "TOTAL_LOSS: tensor(5.4987, device='cuda:0', grad_fn=<DivBackward0>)\n",
            "AUX LOSS: tensor(0.6094, device='cuda:0')\n",
            "LOSS: tensor(6.1080, device='cuda:0', grad_fn=<AddBackward0>)\n"
          ],
          "name": "stdout"
        },
        {
          "output_type": "stream",
          "text": [
            " 13%|█▎        | 72/562 [00:31<01:29,  5.49it/s, NLL=6.11, epoch=0]"
          ],
          "name": "stderr"
        },
        {
          "output_type": "stream",
          "text": [
            "SUMA: tensor([3., 3., 2.], device='cuda:0', dtype=torch.float16)\n",
            "TOTAL_LOSS: tensor(5.5240, device='cuda:0', grad_fn=<DivBackward0>)\n",
            "AUX LOSS: tensor(0.0469, device='cuda:0')\n",
            "LOSS: tensor(5.5709, device='cuda:0', grad_fn=<AddBackward0>)\n"
          ],
          "name": "stdout"
        },
        {
          "output_type": "stream",
          "text": [
            " 14%|█▍        | 80/562 [00:32<01:16,  6.26it/s, NLL=5.57, epoch=0]"
          ],
          "name": "stderr"
        },
        {
          "output_type": "stream",
          "text": [
            "SUMA: tensor([2., 0., 6.], device='cuda:0', dtype=torch.float16)\n",
            "TOTAL_LOSS: tensor(5.2705, device='cuda:0', grad_fn=<DivBackward0>)\n",
            "AUX LOSS: tensor(1.3125, device='cuda:0')\n",
            "LOSS: tensor(6.5830, device='cuda:0', grad_fn=<AddBackward0>)\n"
          ],
          "name": "stdout"
        },
        {
          "output_type": "stream",
          "text": [
            " 16%|█▌        | 88/562 [00:33<01:08,  6.95it/s, NLL=6.58, epoch=0]"
          ],
          "name": "stderr"
        },
        {
          "output_type": "stream",
          "text": [
            "SUMA: tensor([2., 2., 4.], device='cuda:0', dtype=torch.float16)\n",
            "TOTAL_LOSS: tensor(5.4373, device='cuda:0', grad_fn=<DivBackward0>)\n",
            "AUX LOSS: tensor(0.1875, device='cuda:0')\n",
            "LOSS: tensor(5.6248, device='cuda:0', grad_fn=<AddBackward0>)\n"
          ],
          "name": "stdout"
        },
        {
          "output_type": "stream",
          "text": [
            " 17%|█▋        | 96/562 [00:34<01:02,  7.49it/s, NLL=5.62, epoch=0]"
          ],
          "name": "stderr"
        },
        {
          "output_type": "stream",
          "text": [
            "SUMA: tensor([3., 0., 5.], device='cuda:0', dtype=torch.float16)\n",
            "TOTAL_LOSS: tensor(4.8011, device='cuda:0', grad_fn=<DivBackward0>)\n",
            "AUX LOSS: tensor(0.8906, device='cuda:0')\n",
            "LOSS: tensor(5.6917, device='cuda:0', grad_fn=<AddBackward0>)\n"
          ],
          "name": "stdout"
        },
        {
          "output_type": "stream",
          "text": [
            " 19%|█▊        | 104/562 [00:35<00:57,  7.96it/s, NLL=5.69, epoch=0]"
          ],
          "name": "stderr"
        },
        {
          "output_type": "stream",
          "text": [
            "SUMA: tensor([4., 2., 2.], device='cuda:0', dtype=torch.float16)\n",
            "TOTAL_LOSS: tensor(4.9213, device='cuda:0', grad_fn=<DivBackward0>)\n",
            "AUX LOSS: tensor(0.1875, device='cuda:0')\n",
            "LOSS: tensor(5.1088, device='cuda:0', grad_fn=<AddBackward0>)\n"
          ],
          "name": "stdout"
        },
        {
          "output_type": "stream",
          "text": [
            " 20%|█▉        | 112/562 [00:35<00:54,  8.29it/s, NLL=5.11, epoch=0]"
          ],
          "name": "stderr"
        },
        {
          "output_type": "stream",
          "text": [
            "SUMA: tensor([2., 1., 5.], device='cuda:0', dtype=torch.float16)\n",
            "TOTAL_LOSS: tensor(5.1271, device='cuda:0', grad_fn=<DivBackward0>)\n",
            "AUX LOSS: tensor(0.6094, device='cuda:0')\n",
            "LOSS: tensor(5.7365, device='cuda:0', grad_fn=<AddBackward0>)\n"
          ],
          "name": "stdout"
        },
        {
          "output_type": "stream",
          "text": [
            " 21%|██▏       | 120/562 [00:36<00:51,  8.55it/s, NLL=5.74, epoch=0]"
          ],
          "name": "stderr"
        },
        {
          "output_type": "stream",
          "text": [
            "SUMA: tensor([2., 2., 4.], device='cuda:0', dtype=torch.float16)\n",
            "TOTAL_LOSS: tensor(5.1785, device='cuda:0', grad_fn=<DivBackward0>)\n",
            "AUX LOSS: tensor(0.1875, device='cuda:0')\n",
            "LOSS: tensor(5.3660, device='cuda:0', grad_fn=<AddBackward0>)\n"
          ],
          "name": "stdout"
        },
        {
          "output_type": "stream",
          "text": [
            " 23%|██▎       | 128/562 [00:37<00:49,  8.75it/s, NLL=5.37, epoch=0]"
          ],
          "name": "stderr"
        },
        {
          "output_type": "stream",
          "text": [
            "SUMA: tensor([4., 1., 3.], device='cuda:0', dtype=torch.float16)\n",
            "TOTAL_LOSS: tensor(4.3314, device='cuda:0', grad_fn=<DivBackward0>)\n",
            "AUX LOSS: tensor(0.3281, device='cuda:0')\n",
            "LOSS: tensor(4.6595, device='cuda:0', grad_fn=<AddBackward0>)\n"
          ],
          "name": "stdout"
        },
        {
          "output_type": "stream",
          "text": [
            " 24%|██▍       | 136/562 [00:38<00:47,  8.89it/s, NLL=4.66, epoch=0]"
          ],
          "name": "stderr"
        },
        {
          "output_type": "stream",
          "text": [
            "SUMA: tensor([4., 1., 3.], device='cuda:0', dtype=torch.float16)\n",
            "TOTAL_LOSS: tensor(4.6222, device='cuda:0', grad_fn=<DivBackward0>)\n",
            "AUX LOSS: tensor(0.3281, device='cuda:0')\n",
            "LOSS: tensor(4.9503, device='cuda:0', grad_fn=<AddBackward0>)\n"
          ],
          "name": "stdout"
        },
        {
          "output_type": "stream",
          "text": [
            " 26%|██▌       | 144/562 [00:39<00:46,  9.00it/s, NLL=4.95, epoch=0]"
          ],
          "name": "stderr"
        },
        {
          "output_type": "stream",
          "text": [
            "SUMA: tensor([3., 3., 2.], device='cuda:0', dtype=torch.float16)\n",
            "TOTAL_LOSS: tensor(4.2154, device='cuda:0', grad_fn=<DivBackward0>)\n",
            "AUX LOSS: tensor(0.0469, device='cuda:0')\n",
            "LOSS: tensor(4.2623, device='cuda:0', grad_fn=<AddBackward0>)\n"
          ],
          "name": "stdout"
        },
        {
          "output_type": "stream",
          "text": [
            " 27%|██▋       | 152/562 [00:40<00:45,  9.07it/s, NLL=4.26, epoch=0]"
          ],
          "name": "stderr"
        },
        {
          "output_type": "stream",
          "text": [
            "SUMA: tensor([0., 2., 6.], device='cuda:0', dtype=torch.float16)\n",
            "TOTAL_LOSS: tensor(3.9863, device='cuda:0', grad_fn=<DivBackward0>)\n",
            "AUX LOSS: tensor(1.3125, device='cuda:0')\n",
            "LOSS: tensor(5.2988, device='cuda:0', grad_fn=<AddBackward0>)\n"
          ],
          "name": "stdout"
        },
        {
          "output_type": "stream",
          "text": [
            " 28%|██▊       | 160/562 [00:41<00:44,  9.10it/s, NLL=5.3, epoch=0] "
          ],
          "name": "stderr"
        },
        {
          "output_type": "stream",
          "text": [
            "SUMA: tensor([4., 1., 3.], device='cuda:0', dtype=torch.float16)\n",
            "TOTAL_LOSS: tensor(3.9121, device='cuda:0', grad_fn=<DivBackward0>)\n",
            "AUX LOSS: tensor(0.3281, device='cuda:0')\n",
            "LOSS: tensor(4.2402, device='cuda:0', grad_fn=<AddBackward0>)\n"
          ],
          "name": "stdout"
        },
        {
          "output_type": "stream",
          "text": [
            " 30%|██▉       | 168/562 [00:42<00:43,  9.11it/s, NLL=4.24, epoch=0]"
          ],
          "name": "stderr"
        },
        {
          "output_type": "stream",
          "text": [
            "SUMA: tensor([5., 1., 2.], device='cuda:0', dtype=torch.float16)\n",
            "TOTAL_LOSS: tensor(3.5630, device='cuda:0', grad_fn=<DivBackward0>)\n",
            "AUX LOSS: tensor(0.6094, device='cuda:0')\n",
            "LOSS: tensor(4.1724, device='cuda:0', grad_fn=<AddBackward0>)\n"
          ],
          "name": "stdout"
        },
        {
          "output_type": "stream",
          "text": [
            " 31%|███▏      | 176/562 [00:42<00:42,  9.14it/s, NLL=4.17, epoch=0]"
          ],
          "name": "stderr"
        },
        {
          "output_type": "stream",
          "text": [
            "SUMA: tensor([4., 1., 3.], device='cuda:0', dtype=torch.float16)\n",
            "TOTAL_LOSS: tensor(4.1819, device='cuda:0', grad_fn=<DivBackward0>)\n",
            "AUX LOSS: tensor(0.3281, device='cuda:0')\n",
            "LOSS: tensor(4.5100, device='cuda:0', grad_fn=<AddBackward0>)\n"
          ],
          "name": "stdout"
        },
        {
          "output_type": "stream",
          "text": [
            " 33%|███▎      | 184/562 [00:43<00:41,  9.14it/s, NLL=4.51, epoch=0]"
          ],
          "name": "stderr"
        },
        {
          "output_type": "stream",
          "text": [
            "SUMA: tensor([3., 1., 4.], device='cuda:0', dtype=torch.float16)\n",
            "TOTAL_LOSS: tensor(3.7013, device='cuda:0', grad_fn=<DivBackward0>)\n",
            "AUX LOSS: tensor(0.3281, device='cuda:0')\n",
            "LOSS: tensor(4.0294, device='cuda:0', grad_fn=<AddBackward0>)\n"
          ],
          "name": "stdout"
        },
        {
          "output_type": "stream",
          "text": [
            " 34%|███▍      | 192/562 [00:44<00:40,  9.15it/s, NLL=4.03, epoch=0]"
          ],
          "name": "stderr"
        },
        {
          "output_type": "stream",
          "text": [
            "SUMA: tensor([2., 0., 6.], device='cuda:0', dtype=torch.float16)\n",
            "TOTAL_LOSS: tensor(3.1168, device='cuda:0', grad_fn=<DivBackward0>)\n",
            "AUX LOSS: tensor(1.3125, device='cuda:0')\n",
            "LOSS: tensor(4.4293, device='cuda:0', grad_fn=<AddBackward0>)\n"
          ],
          "name": "stdout"
        },
        {
          "output_type": "stream",
          "text": [
            " 36%|███▌      | 200/562 [00:45<00:39,  9.15it/s, NLL=4.43, epoch=0]"
          ],
          "name": "stderr"
        },
        {
          "output_type": "stream",
          "text": [
            "SUMA: tensor([1., 3., 4.], device='cuda:0', dtype=torch.float16)\n",
            "TOTAL_LOSS: tensor(5.0885, device='cuda:0', grad_fn=<DivBackward0>)\n",
            "AUX LOSS: tensor(0.3281, device='cuda:0')\n",
            "LOSS: tensor(5.4167, device='cuda:0', grad_fn=<AddBackward0>)\n"
          ],
          "name": "stdout"
        },
        {
          "output_type": "stream",
          "text": [
            " 37%|███▋      | 208/562 [00:46<00:38,  9.14it/s, NLL=5.42, epoch=0]"
          ],
          "name": "stderr"
        },
        {
          "output_type": "stream",
          "text": [
            "SUMA: tensor([4., 1., 3.], device='cuda:0', dtype=torch.float16)\n",
            "TOTAL_LOSS: tensor(2.9706, device='cuda:0', grad_fn=<DivBackward0>)\n",
            "AUX LOSS: tensor(0.3281, device='cuda:0')\n",
            "LOSS: tensor(3.2988, device='cuda:0', grad_fn=<AddBackward0>)\n"
          ],
          "name": "stdout"
        },
        {
          "output_type": "stream",
          "text": [
            " 38%|███▊      | 216/562 [00:47<00:37,  9.14it/s, NLL=3.3, epoch=0] "
          ],
          "name": "stderr"
        },
        {
          "output_type": "stream",
          "text": [
            "SUMA: tensor([2., 1., 5.], device='cuda:0', dtype=torch.float16)\n",
            "TOTAL_LOSS: tensor(4.5070, device='cuda:0', grad_fn=<DivBackward0>)\n",
            "AUX LOSS: tensor(0.6094, device='cuda:0')\n",
            "LOSS: tensor(5.1164, device='cuda:0', grad_fn=<AddBackward0>)\n"
          ],
          "name": "stdout"
        },
        {
          "output_type": "stream",
          "text": [
            " 40%|███▉      | 224/562 [00:48<00:36,  9.17it/s, NLL=5.12, epoch=0]"
          ],
          "name": "stderr"
        },
        {
          "output_type": "stream",
          "text": [
            "SUMA: tensor([2., 0., 6.], device='cuda:0', dtype=torch.float16)\n",
            "TOTAL_LOSS: tensor(3.6008, device='cuda:0', grad_fn=<DivBackward0>)\n",
            "AUX LOSS: tensor(1.3125, device='cuda:0')\n",
            "LOSS: tensor(4.9133, device='cuda:0', grad_fn=<AddBackward0>)\n"
          ],
          "name": "stdout"
        },
        {
          "output_type": "stream",
          "text": [
            " 41%|████▏     | 232/562 [00:49<00:36,  9.15it/s, NLL=4.91, epoch=0]"
          ],
          "name": "stderr"
        },
        {
          "output_type": "stream",
          "text": [
            "SUMA: tensor([4., 1., 3.], device='cuda:0', dtype=torch.float16)\n",
            "TOTAL_LOSS: tensor(2.0372, device='cuda:0', grad_fn=<DivBackward0>)\n",
            "AUX LOSS: tensor(0.3281, device='cuda:0')\n",
            "LOSS: tensor(2.3654, device='cuda:0', grad_fn=<AddBackward0>)\n"
          ],
          "name": "stdout"
        },
        {
          "output_type": "stream",
          "text": [
            " 43%|████▎     | 240/562 [00:49<00:35,  9.14it/s, NLL=2.37, epoch=0]"
          ],
          "name": "stderr"
        },
        {
          "output_type": "stream",
          "text": [
            "SUMA: tensor([3., 1., 4.], device='cuda:0', dtype=torch.float16)\n",
            "TOTAL_LOSS: tensor(2.3872, device='cuda:0', grad_fn=<DivBackward0>)\n",
            "AUX LOSS: tensor(0.3281, device='cuda:0')\n",
            "LOSS: tensor(2.7153, device='cuda:0', grad_fn=<AddBackward0>)\n"
          ],
          "name": "stdout"
        },
        {
          "output_type": "stream",
          "text": [
            " 44%|████▍     | 248/562 [00:50<00:34,  9.12it/s, NLL=2.72, epoch=0]"
          ],
          "name": "stderr"
        },
        {
          "output_type": "stream",
          "text": [
            "SUMA: tensor([3., 3., 2.], device='cuda:0', dtype=torch.float16)\n",
            "TOTAL_LOSS: tensor(4.4282, device='cuda:0', grad_fn=<DivBackward0>)\n",
            "AUX LOSS: tensor(0.0469, device='cuda:0')\n",
            "LOSS: tensor(4.4750, device='cuda:0', grad_fn=<AddBackward0>)\n"
          ],
          "name": "stdout"
        },
        {
          "output_type": "stream",
          "text": [
            " 46%|████▌     | 256/562 [00:51<00:33,  9.12it/s, NLL=4.48, epoch=0]"
          ],
          "name": "stderr"
        },
        {
          "output_type": "stream",
          "text": [
            "SUMA: tensor([1., 2., 5.], device='cuda:0', dtype=torch.float16)\n",
            "TOTAL_LOSS: tensor(3.6943, device='cuda:0', grad_fn=<DivBackward0>)\n",
            "AUX LOSS: tensor(0.6094, device='cuda:0')\n",
            "LOSS: tensor(4.3037, device='cuda:0', grad_fn=<AddBackward0>)\n"
          ],
          "name": "stdout"
        },
        {
          "output_type": "stream",
          "text": [
            " 47%|████▋     | 264/562 [00:52<00:32,  9.09it/s, NLL=4.3, epoch=0] "
          ],
          "name": "stderr"
        },
        {
          "output_type": "stream",
          "text": [
            "SUMA: tensor([3., 1., 4.], device='cuda:0', dtype=torch.float16)\n",
            "TOTAL_LOSS: tensor(3.0112, device='cuda:0', grad_fn=<DivBackward0>)\n",
            "AUX LOSS: tensor(0.3281, device='cuda:0')\n",
            "LOSS: tensor(3.3393, device='cuda:0', grad_fn=<AddBackward0>)\n"
          ],
          "name": "stdout"
        },
        {
          "output_type": "stream",
          "text": [
            " 48%|████▊     | 272/562 [00:53<00:31,  9.09it/s, NLL=3.34, epoch=0]"
          ],
          "name": "stderr"
        },
        {
          "output_type": "stream",
          "text": [
            "SUMA: tensor([3., 2., 3.], device='cuda:0', dtype=torch.float16)\n",
            "TOTAL_LOSS: tensor(4.3003, device='cuda:0', grad_fn=<DivBackward0>)\n",
            "AUX LOSS: tensor(0.0469, device='cuda:0')\n",
            "LOSS: tensor(4.3472, device='cuda:0', grad_fn=<AddBackward0>)\n"
          ],
          "name": "stdout"
        },
        {
          "output_type": "stream",
          "text": [
            " 50%|████▉     | 280/562 [00:54<00:31,  9.07it/s, NLL=4.35, epoch=0]"
          ],
          "name": "stderr"
        },
        {
          "output_type": "stream",
          "text": [
            "SUMA: tensor([1., 0., 7.], device='cuda:0', dtype=torch.float16)\n",
            "TOTAL_LOSS: tensor(2.4367, device='cuda:0', grad_fn=<DivBackward0>)\n",
            "AUX LOSS: tensor(2.0156, device='cuda:0')\n",
            "LOSS: tensor(4.4523, device='cuda:0', grad_fn=<AddBackward0>)\n"
          ],
          "name": "stdout"
        },
        {
          "output_type": "stream",
          "text": [
            " 51%|█████     | 288/562 [00:55<00:30,  9.05it/s, NLL=4.45, epoch=0]"
          ],
          "name": "stderr"
        },
        {
          "output_type": "stream",
          "text": [
            "SUMA: tensor([4., 0., 4.], device='cuda:0', dtype=torch.float16)\n",
            "TOTAL_LOSS: tensor(3.0054, device='cuda:0', grad_fn=<DivBackward0>)\n",
            "AUX LOSS: tensor(0.7500, device='cuda:0')\n",
            "LOSS: tensor(3.7554, device='cuda:0', grad_fn=<AddBackward0>)\n"
          ],
          "name": "stdout"
        },
        {
          "output_type": "stream",
          "text": [
            " 53%|█████▎    | 296/562 [00:56<00:29,  9.05it/s, NLL=3.76, epoch=0]"
          ],
          "name": "stderr"
        },
        {
          "output_type": "stream",
          "text": [
            "SUMA: tensor([2., 1., 5.], device='cuda:0', dtype=torch.float16)\n",
            "TOTAL_LOSS: tensor(2.8365, device='cuda:0', grad_fn=<DivBackward0>)\n",
            "AUX LOSS: tensor(0.6094, device='cuda:0')\n",
            "LOSS: tensor(3.4459, device='cuda:0', grad_fn=<AddBackward0>)\n"
          ],
          "name": "stdout"
        },
        {
          "output_type": "stream",
          "text": [
            " 54%|█████▍    | 304/562 [00:57<00:28,  9.06it/s, NLL=3.45, epoch=0]"
          ],
          "name": "stderr"
        },
        {
          "output_type": "stream",
          "text": [
            "SUMA: tensor([1., 2., 5.], device='cuda:0', dtype=torch.float16)\n",
            "TOTAL_LOSS: tensor(2.3095, device='cuda:0', grad_fn=<DivBackward0>)\n",
            "AUX LOSS: tensor(0.6094, device='cuda:0')\n",
            "LOSS: tensor(2.9189, device='cuda:0', grad_fn=<AddBackward0>)\n"
          ],
          "name": "stdout"
        },
        {
          "output_type": "stream",
          "text": [
            " 56%|█████▌    | 312/562 [00:57<00:27,  9.07it/s, NLL=2.92, epoch=0]"
          ],
          "name": "stderr"
        },
        {
          "output_type": "stream",
          "text": [
            "SUMA: tensor([2., 1., 5.], device='cuda:0', dtype=torch.float16)\n",
            "TOTAL_LOSS: tensor(3.2023, device='cuda:0', grad_fn=<DivBackward0>)\n",
            "AUX LOSS: tensor(0.6094, device='cuda:0')\n",
            "LOSS: tensor(3.8117, device='cuda:0', grad_fn=<AddBackward0>)\n"
          ],
          "name": "stdout"
        },
        {
          "output_type": "stream",
          "text": [
            " 57%|█████▋    | 320/562 [00:58<00:26,  9.05it/s, NLL=3.81, epoch=0]"
          ],
          "name": "stderr"
        },
        {
          "output_type": "stream",
          "text": [
            "SUMA: tensor([2., 2., 4.], device='cuda:0', dtype=torch.float16)\n",
            "TOTAL_LOSS: tensor(3.2288, device='cuda:0', grad_fn=<DivBackward0>)\n",
            "AUX LOSS: tensor(0.1875, device='cuda:0')\n",
            "LOSS: tensor(3.4163, device='cuda:0', grad_fn=<AddBackward0>)\n"
          ],
          "name": "stdout"
        },
        {
          "output_type": "stream",
          "text": [
            " 58%|█████▊    | 328/562 [00:59<00:25,  9.06it/s, NLL=3.42, epoch=0]"
          ],
          "name": "stderr"
        },
        {
          "output_type": "stream",
          "text": [
            "SUMA: tensor([2., 2., 4.], device='cuda:0', dtype=torch.float16)\n",
            "TOTAL_LOSS: tensor(5.0337, device='cuda:0', grad_fn=<DivBackward0>)\n",
            "AUX LOSS: tensor(0.1875, device='cuda:0')\n",
            "LOSS: tensor(5.2212, device='cuda:0', grad_fn=<AddBackward0>)\n"
          ],
          "name": "stdout"
        },
        {
          "output_type": "stream",
          "text": [
            " 60%|█████▉    | 336/562 [01:00<00:24,  9.04it/s, NLL=5.22, epoch=0]"
          ],
          "name": "stderr"
        },
        {
          "output_type": "stream",
          "text": [
            "SUMA: tensor([3., 1., 4.], device='cuda:0', dtype=torch.float16)\n",
            "TOTAL_LOSS: tensor(4.1243, device='cuda:0', grad_fn=<DivBackward0>)\n",
            "AUX LOSS: tensor(0.3281, device='cuda:0')\n",
            "LOSS: tensor(4.4524, device='cuda:0', grad_fn=<AddBackward0>)\n"
          ],
          "name": "stdout"
        },
        {
          "output_type": "stream",
          "text": [
            " 61%|██████    | 344/562 [01:01<00:24,  9.05it/s, NLL=4.45, epoch=0]"
          ],
          "name": "stderr"
        },
        {
          "output_type": "stream",
          "text": [
            "SUMA: tensor([2., 1., 5.], device='cuda:0', dtype=torch.float16)\n",
            "TOTAL_LOSS: tensor(2.7630, device='cuda:0', grad_fn=<DivBackward0>)\n",
            "AUX LOSS: tensor(0.6094, device='cuda:0')\n",
            "LOSS: tensor(3.3724, device='cuda:0', grad_fn=<AddBackward0>)\n"
          ],
          "name": "stdout"
        },
        {
          "output_type": "stream",
          "text": [
            " 63%|██████▎   | 352/562 [01:02<00:23,  9.05it/s, NLL=3.37, epoch=0]"
          ],
          "name": "stderr"
        },
        {
          "output_type": "stream",
          "text": [
            "SUMA: tensor([3., 1., 4.], device='cuda:0', dtype=torch.float16)\n",
            "TOTAL_LOSS: tensor(2.7879, device='cuda:0', grad_fn=<DivBackward0>)\n",
            "AUX LOSS: tensor(0.3281, device='cuda:0')\n",
            "LOSS: tensor(3.1160, device='cuda:0', grad_fn=<AddBackward0>)\n"
          ],
          "name": "stdout"
        },
        {
          "output_type": "stream",
          "text": [
            " 64%|██████▍   | 360/562 [01:03<00:22,  9.04it/s, NLL=3.12, epoch=0]"
          ],
          "name": "stderr"
        },
        {
          "output_type": "stream",
          "text": [
            "SUMA: tensor([3., 1., 4.], device='cuda:0', dtype=torch.float16)\n",
            "TOTAL_LOSS: tensor(4.2591, device='cuda:0', grad_fn=<DivBackward0>)\n",
            "AUX LOSS: tensor(0.3281, device='cuda:0')\n",
            "LOSS: tensor(4.5872, device='cuda:0', grad_fn=<AddBackward0>)\n"
          ],
          "name": "stdout"
        },
        {
          "output_type": "stream",
          "text": [
            " 65%|██████▌   | 368/562 [01:04<00:21,  9.05it/s, NLL=4.59, epoch=0]"
          ],
          "name": "stderr"
        },
        {
          "output_type": "stream",
          "text": [
            "SUMA: tensor([1., 2., 5.], device='cuda:0', dtype=torch.float16)\n",
            "TOTAL_LOSS: tensor(2.0635, device='cuda:0', grad_fn=<DivBackward0>)\n",
            "AUX LOSS: tensor(0.6094, device='cuda:0')\n",
            "LOSS: tensor(2.6729, device='cuda:0', grad_fn=<AddBackward0>)\n"
          ],
          "name": "stdout"
        },
        {
          "output_type": "stream",
          "text": [
            " 67%|██████▋   | 376/562 [01:04<00:20,  9.04it/s, NLL=2.67, epoch=0]"
          ],
          "name": "stderr"
        },
        {
          "output_type": "stream",
          "text": [
            "SUMA: tensor([3., 2., 3.], device='cuda:0', dtype=torch.float16)\n",
            "TOTAL_LOSS: tensor(3.3230, device='cuda:0', grad_fn=<DivBackward0>)\n",
            "AUX LOSS: tensor(0.0469, device='cuda:0')\n",
            "LOSS: tensor(3.3698, device='cuda:0', grad_fn=<AddBackward0>)\n"
          ],
          "name": "stdout"
        },
        {
          "output_type": "stream",
          "text": [
            " 68%|██████▊   | 384/562 [01:05<00:19,  9.01it/s, NLL=3.37, epoch=0]"
          ],
          "name": "stderr"
        },
        {
          "output_type": "stream",
          "text": [
            "SUMA: tensor([0., 1., 7.], device='cuda:0', dtype=torch.float16)\n",
            "TOTAL_LOSS: tensor(3.5495, device='cuda:0', grad_fn=<DivBackward0>)\n",
            "AUX LOSS: tensor(2.0156, device='cuda:0')\n",
            "LOSS: tensor(5.5651, device='cuda:0', grad_fn=<AddBackward0>)\n"
          ],
          "name": "stdout"
        },
        {
          "output_type": "stream",
          "text": [
            " 70%|██████▉   | 392/562 [01:06<00:18,  9.04it/s, NLL=5.57, epoch=0]"
          ],
          "name": "stderr"
        },
        {
          "output_type": "stream",
          "text": [
            "SUMA: tensor([4., 0., 4.], device='cuda:0', dtype=torch.float16)\n",
            "TOTAL_LOSS: tensor(2.6500, device='cuda:0', grad_fn=<DivBackward0>)\n",
            "AUX LOSS: tensor(0.7500, device='cuda:0')\n",
            "LOSS: tensor(3.4000, device='cuda:0', grad_fn=<AddBackward0>)\n"
          ],
          "name": "stdout"
        },
        {
          "output_type": "stream",
          "text": [
            " 71%|███████   | 400/562 [01:07<00:17,  9.01it/s, NLL=3.4, epoch=0] "
          ],
          "name": "stderr"
        },
        {
          "output_type": "stream",
          "text": [
            "SUMA: tensor([3., 1., 4.], device='cuda:0', dtype=torch.float16)\n",
            "TOTAL_LOSS: tensor(1.7387, device='cuda:0', grad_fn=<DivBackward0>)\n",
            "AUX LOSS: tensor(0.3281, device='cuda:0')\n",
            "LOSS: tensor(2.0668, device='cuda:0', grad_fn=<AddBackward0>)\n"
          ],
          "name": "stdout"
        },
        {
          "output_type": "stream",
          "text": [
            " 73%|███████▎  | 408/562 [01:08<00:17,  9.01it/s, NLL=2.07, epoch=0]"
          ],
          "name": "stderr"
        },
        {
          "output_type": "stream",
          "text": [
            "SUMA: tensor([2., 1., 5.], device='cuda:0', dtype=torch.float16)\n",
            "TOTAL_LOSS: tensor(3.9896, device='cuda:0', grad_fn=<DivBackward0>)\n",
            "AUX LOSS: tensor(0.6094, device='cuda:0')\n",
            "LOSS: tensor(4.5989, device='cuda:0', grad_fn=<AddBackward0>)\n"
          ],
          "name": "stdout"
        },
        {
          "output_type": "stream",
          "text": [
            " 74%|███████▍  | 416/562 [01:09<00:16,  9.00it/s, NLL=4.6, epoch=0] "
          ],
          "name": "stderr"
        },
        {
          "output_type": "stream",
          "text": [
            "SUMA: tensor([1., 2., 5.], device='cuda:0', dtype=torch.float16)\n",
            "TOTAL_LOSS: tensor(2.7595, device='cuda:0', grad_fn=<DivBackward0>)\n",
            "AUX LOSS: tensor(0.6094, device='cuda:0')\n",
            "LOSS: tensor(3.3689, device='cuda:0', grad_fn=<AddBackward0>)\n"
          ],
          "name": "stdout"
        },
        {
          "output_type": "stream",
          "text": [
            " 75%|███████▌  | 424/562 [01:10<00:15,  9.00it/s, NLL=3.37, epoch=0]"
          ],
          "name": "stderr"
        },
        {
          "output_type": "stream",
          "text": [
            "SUMA: tensor([0., 1., 7.], device='cuda:0', dtype=torch.float16)\n",
            "TOTAL_LOSS: tensor(3.4580, device='cuda:0', grad_fn=<DivBackward0>)\n",
            "AUX LOSS: tensor(2.0156, device='cuda:0')\n",
            "LOSS: tensor(5.4737, device='cuda:0', grad_fn=<AddBackward0>)\n"
          ],
          "name": "stdout"
        },
        {
          "output_type": "stream",
          "text": [
            " 77%|███████▋  | 432/562 [01:11<00:14,  8.99it/s, NLL=5.47, epoch=0]"
          ],
          "name": "stderr"
        },
        {
          "output_type": "stream",
          "text": [
            "SUMA: tensor([0., 1., 7.], device='cuda:0', dtype=torch.float16)\n",
            "TOTAL_LOSS: tensor(1.9227, device='cuda:0', grad_fn=<DivBackward0>)\n",
            "AUX LOSS: tensor(2.0156, device='cuda:0')\n",
            "LOSS: tensor(3.9384, device='cuda:0', grad_fn=<AddBackward0>)\n"
          ],
          "name": "stdout"
        },
        {
          "output_type": "stream",
          "text": [
            " 78%|███████▊  | 440/562 [01:12<00:13,  8.97it/s, NLL=3.94, epoch=0]"
          ],
          "name": "stderr"
        },
        {
          "output_type": "stream",
          "text": [
            "SUMA: tensor([3., 1., 4.], device='cuda:0', dtype=torch.float16)\n",
            "TOTAL_LOSS: tensor(3.8167, device='cuda:0', grad_fn=<DivBackward0>)\n",
            "AUX LOSS: tensor(0.3281, device='cuda:0')\n",
            "LOSS: tensor(4.1448, device='cuda:0', grad_fn=<AddBackward0>)\n"
          ],
          "name": "stdout"
        },
        {
          "output_type": "stream",
          "text": [
            " 80%|███████▉  | 448/562 [01:12<00:12,  8.97it/s, NLL=4.14, epoch=0]"
          ],
          "name": "stderr"
        },
        {
          "output_type": "stream",
          "text": [
            "SUMA: tensor([1., 4., 3.], device='cuda:0', dtype=torch.float16)\n",
            "TOTAL_LOSS: tensor(4.0425, device='cuda:0', grad_fn=<DivBackward0>)\n",
            "AUX LOSS: tensor(0.3281, device='cuda:0')\n",
            "LOSS: tensor(4.3707, device='cuda:0', grad_fn=<AddBackward0>)\n"
          ],
          "name": "stdout"
        },
        {
          "output_type": "stream",
          "text": [
            " 81%|████████  | 456/562 [01:13<00:11,  8.99it/s, NLL=4.37, epoch=0]"
          ],
          "name": "stderr"
        },
        {
          "output_type": "stream",
          "text": [
            "SUMA: tensor([5., 1., 2.], device='cuda:0', dtype=torch.float16)\n",
            "TOTAL_LOSS: tensor(1.8376, device='cuda:0', grad_fn=<DivBackward0>)\n",
            "AUX LOSS: tensor(0.6094, device='cuda:0')\n",
            "LOSS: tensor(2.4470, device='cuda:0', grad_fn=<AddBackward0>)\n"
          ],
          "name": "stdout"
        },
        {
          "output_type": "stream",
          "text": [
            " 83%|████████▎ | 464/562 [01:14<00:10,  9.00it/s, NLL=2.45, epoch=0]"
          ],
          "name": "stderr"
        },
        {
          "output_type": "stream",
          "text": [
            "SUMA: tensor([4., 0., 4.], device='cuda:0', dtype=torch.float16)\n",
            "TOTAL_LOSS: tensor(2.0839, device='cuda:0', grad_fn=<DivBackward0>)\n",
            "AUX LOSS: tensor(0.7500, device='cuda:0')\n",
            "LOSS: tensor(2.8339, device='cuda:0', grad_fn=<AddBackward0>)\n"
          ],
          "name": "stdout"
        },
        {
          "output_type": "stream",
          "text": [
            " 84%|████████▍ | 472/562 [01:15<00:09,  9.01it/s, NLL=2.83, epoch=0]"
          ],
          "name": "stderr"
        },
        {
          "output_type": "stream",
          "text": [
            "SUMA: tensor([3., 2., 3.], device='cuda:0', dtype=torch.float16)\n",
            "TOTAL_LOSS: tensor(2.7267, device='cuda:0', grad_fn=<DivBackward0>)\n",
            "AUX LOSS: tensor(0.0469, device='cuda:0')\n",
            "LOSS: tensor(2.7736, device='cuda:0', grad_fn=<AddBackward0>)\n"
          ],
          "name": "stdout"
        },
        {
          "output_type": "stream",
          "text": [
            " 85%|████████▌ | 480/562 [01:16<00:09,  8.99it/s, NLL=2.77, epoch=0]"
          ],
          "name": "stderr"
        },
        {
          "output_type": "stream",
          "text": [
            "SUMA: tensor([1., 0., 7.], device='cuda:0', dtype=torch.float16)\n",
            "TOTAL_LOSS: tensor(3.8470, device='cuda:0', grad_fn=<DivBackward0>)\n",
            "AUX LOSS: tensor(2.0156, device='cuda:0')\n",
            "LOSS: tensor(5.8626, device='cuda:0', grad_fn=<AddBackward0>)\n"
          ],
          "name": "stdout"
        },
        {
          "output_type": "stream",
          "text": [
            " 87%|████████▋ | 488/562 [01:17<00:08,  8.96it/s, NLL=5.86, epoch=0]"
          ],
          "name": "stderr"
        },
        {
          "output_type": "stream",
          "text": [
            "SUMA: tensor([3., 1., 4.], device='cuda:0', dtype=torch.float16)\n",
            "TOTAL_LOSS: tensor(2.6275, device='cuda:0', grad_fn=<DivBackward0>)\n",
            "AUX LOSS: tensor(0.3281, device='cuda:0')\n",
            "LOSS: tensor(2.9556, device='cuda:0', grad_fn=<AddBackward0>)\n"
          ],
          "name": "stdout"
        },
        {
          "output_type": "stream",
          "text": [
            " 88%|████████▊ | 496/562 [01:18<00:07,  8.96it/s, NLL=2.96, epoch=0]"
          ],
          "name": "stderr"
        },
        {
          "output_type": "stream",
          "text": [
            "SUMA: tensor([4., 1., 3.], device='cuda:0', dtype=torch.float16)\n",
            "TOTAL_LOSS: tensor(2.3727, device='cuda:0', grad_fn=<DivBackward0>)\n",
            "AUX LOSS: tensor(0.3281, device='cuda:0')\n",
            "LOSS: tensor(2.7009, device='cuda:0', grad_fn=<AddBackward0>)\n"
          ],
          "name": "stdout"
        },
        {
          "output_type": "stream",
          "text": [
            " 90%|████████▉ | 504/562 [01:19<00:06,  8.97it/s, NLL=2.7, epoch=0] "
          ],
          "name": "stderr"
        },
        {
          "output_type": "stream",
          "text": [
            "SUMA: tensor([2., 3., 3.], device='cuda:0', dtype=torch.float16)\n",
            "TOTAL_LOSS: tensor(2.7379, device='cuda:0', grad_fn=<DivBackward0>)\n",
            "AUX LOSS: tensor(0.0469, device='cuda:0')\n",
            "LOSS: tensor(2.7848, device='cuda:0', grad_fn=<AddBackward0>)\n"
          ],
          "name": "stdout"
        },
        {
          "output_type": "stream",
          "text": [
            " 91%|█████████ | 512/562 [01:20<00:05,  8.95it/s, NLL=2.78, epoch=0]"
          ],
          "name": "stderr"
        },
        {
          "output_type": "stream",
          "text": [
            "SUMA: tensor([2., 4., 2.], device='cuda:0', dtype=torch.float16)\n",
            "TOTAL_LOSS: tensor(3.2395, device='cuda:0', grad_fn=<DivBackward0>)\n",
            "AUX LOSS: tensor(0.1875, device='cuda:0')\n",
            "LOSS: tensor(3.4270, device='cuda:0', grad_fn=<AddBackward0>)\n"
          ],
          "name": "stdout"
        },
        {
          "output_type": "stream",
          "text": [
            " 93%|█████████▎| 520/562 [01:21<00:04,  8.96it/s, NLL=3.43, epoch=0]"
          ],
          "name": "stderr"
        },
        {
          "output_type": "stream",
          "text": [
            "SUMA: tensor([2., 2., 4.], device='cuda:0', dtype=torch.float16)\n",
            "TOTAL_LOSS: tensor(1.6126, device='cuda:0', grad_fn=<DivBackward0>)\n",
            "AUX LOSS: tensor(0.1875, device='cuda:0')\n",
            "LOSS: tensor(1.8001, device='cuda:0', grad_fn=<AddBackward0>)\n"
          ],
          "name": "stdout"
        },
        {
          "output_type": "stream",
          "text": [
            " 94%|█████████▍| 528/562 [01:21<00:03,  8.95it/s, NLL=1.8, epoch=0] "
          ],
          "name": "stderr"
        },
        {
          "output_type": "stream",
          "text": [
            "SUMA: tensor([5., 1., 2.], device='cuda:0', dtype=torch.float16)\n",
            "TOTAL_LOSS: tensor(2.9952, device='cuda:0', grad_fn=<DivBackward0>)\n",
            "AUX LOSS: tensor(0.6094, device='cuda:0')\n",
            "LOSS: tensor(3.6046, device='cuda:0', grad_fn=<AddBackward0>)\n"
          ],
          "name": "stdout"
        },
        {
          "output_type": "stream",
          "text": [
            " 95%|█████████▌| 536/562 [01:22<00:02,  8.93it/s, NLL=3.6, epoch=0]"
          ],
          "name": "stderr"
        },
        {
          "output_type": "stream",
          "text": [
            "SUMA: tensor([2., 0., 6.], device='cuda:0', dtype=torch.float16)\n",
            "TOTAL_LOSS: tensor(1.2771, device='cuda:0', grad_fn=<DivBackward0>)\n",
            "AUX LOSS: tensor(1.3125, device='cuda:0')\n",
            "LOSS: tensor(2.5896, device='cuda:0', grad_fn=<AddBackward0>)\n"
          ],
          "name": "stdout"
        },
        {
          "output_type": "stream",
          "text": [
            " 97%|█████████▋| 544/562 [01:23<00:02,  8.94it/s, NLL=2.59, epoch=0]"
          ],
          "name": "stderr"
        },
        {
          "output_type": "stream",
          "text": [
            "SUMA: tensor([2., 0., 6.], device='cuda:0', dtype=torch.float16)\n",
            "TOTAL_LOSS: tensor(3.2291, device='cuda:0', grad_fn=<DivBackward0>)\n",
            "AUX LOSS: tensor(1.3125, device='cuda:0')\n",
            "LOSS: tensor(4.5416, device='cuda:0', grad_fn=<AddBackward0>)\n"
          ],
          "name": "stdout"
        },
        {
          "output_type": "stream",
          "text": [
            " 98%|█████████▊| 552/562 [01:24<00:01,  8.94it/s, NLL=4.54, epoch=0]"
          ],
          "name": "stderr"
        },
        {
          "output_type": "stream",
          "text": [
            "SUMA: tensor([2., 2., 4.], device='cuda:0', dtype=torch.float16)\n",
            "TOTAL_LOSS: tensor(2.5823, device='cuda:0', grad_fn=<DivBackward0>)\n",
            "AUX LOSS: tensor(0.1875, device='cuda:0')\n",
            "LOSS: tensor(2.7698, device='cuda:0', grad_fn=<AddBackward0>)\n"
          ],
          "name": "stdout"
        },
        {
          "output_type": "stream",
          "text": [
            "100%|█████████▉| 560/562 [01:25<00:00,  8.92it/s, NLL=2.77, epoch=0]"
          ],
          "name": "stderr"
        },
        {
          "output_type": "stream",
          "text": [
            "SUMA: tensor([0., 0., 2.], device='cuda:0', dtype=torch.float16)\n",
            "TOTAL_LOSS: tensor(0.3815, device='cuda:0', grad_fn=<DivBackward0>)\n",
            "AUX LOSS: tensor(3.0000, device='cuda:0')\n",
            "LOSS: tensor(3.3815, device='cuda:0', grad_fn=<AddBackward0>)\n"
          ],
          "name": "stdout"
        },
        {
          "output_type": "stream",
          "text": [
            "100%|██████████| 562/562 [01:25<00:00,  7.19it/s, NLL=3.38, epoch=0]\n",
            "  0%|          | 0/539 [00:00<?, ?it/s]\u001b[A"
          ],
          "name": "stderr"
        },
        {
          "output_type": "stream",
          "text": [
            "[07.22.21 23:56:47] Evaluating at step 70...\n"
          ],
          "name": "stdout"
        },
        {
          "output_type": "stream",
          "text": [
            "\n",
            "  1%|▏         | 8/539 [00:00<00:18, 29.34it/s]\u001b[A\n",
            "  3%|▎         | 16/539 [00:00<00:18, 28.77it/s]\u001b[A\n",
            "  4%|▍         | 24/539 [00:00<00:18, 27.23it/s]\u001b[A\n",
            "  6%|▌         | 32/539 [00:01<00:18, 27.20it/s]\u001b[A\n",
            "  7%|▋         | 40/539 [00:01<00:18, 27.35it/s]\u001b[A\n",
            "  9%|▉         | 48/539 [00:01<00:18, 26.97it/s]\u001b[A\n",
            " 10%|█         | 56/539 [00:02<00:18, 26.69it/s]\u001b[A\n",
            " 12%|█▏        | 64/539 [00:02<00:17, 26.94it/s]\u001b[A\n",
            " 13%|█▎        | 72/539 [00:02<00:17, 26.89it/s]\u001b[A\n",
            " 15%|█▍        | 80/539 [00:02<00:17, 26.53it/s]\u001b[A\n",
            " 16%|█▋        | 88/539 [00:03<00:16, 26.75it/s]\u001b[A\n",
            " 18%|█▊        | 96/539 [00:03<00:16, 26.87it/s]\u001b[A\n",
            " 19%|█▉        | 104/539 [00:03<00:16, 26.61it/s]\u001b[A\n",
            " 21%|██        | 112/539 [00:04<00:16, 26.66it/s]\u001b[A\n",
            " 22%|██▏       | 120/539 [00:04<00:15, 26.81it/s]\u001b[A\n",
            " 24%|██▎       | 128/539 [00:04<00:15, 26.65it/s]\u001b[A\n",
            " 25%|██▌       | 136/539 [00:05<00:15, 26.31it/s]\u001b[A\n",
            " 27%|██▋       | 144/539 [00:05<00:14, 26.38it/s]\u001b[A\n",
            " 28%|██▊       | 152/539 [00:05<00:14, 26.26it/s]\u001b[A\n",
            " 30%|██▉       | 160/539 [00:06<00:14, 26.06it/s]\u001b[A\n",
            " 31%|███       | 168/539 [00:06<00:14, 26.03it/s]\u001b[A\n",
            " 33%|███▎      | 176/539 [00:06<00:13, 26.07it/s]\u001b[A\n",
            " 34%|███▍      | 184/539 [00:06<00:13, 25.92it/s]\u001b[A\n",
            " 36%|███▌      | 192/539 [00:07<00:13, 26.03it/s]\u001b[A\n",
            " 37%|███▋      | 200/539 [00:07<00:13, 26.05it/s]\u001b[A\n",
            " 39%|███▊      | 208/539 [00:07<00:12, 25.93it/s]\u001b[A\n",
            " 40%|████      | 216/539 [00:08<00:12, 25.95it/s]\u001b[A\n",
            " 42%|████▏     | 224/539 [00:08<00:12, 26.05it/s]\u001b[A\n",
            " 43%|████▎     | 232/539 [00:08<00:11, 26.00it/s]\u001b[A\n",
            " 45%|████▍     | 240/539 [00:09<00:11, 26.00it/s]\u001b[A\n",
            " 46%|████▌     | 248/539 [00:09<00:11, 26.00it/s]\u001b[A\n",
            " 47%|████▋     | 256/539 [00:09<00:10, 25.77it/s]\u001b[A\n",
            " 49%|████▉     | 264/539 [00:10<00:10, 25.94it/s]\u001b[A\n",
            " 50%|█████     | 272/539 [00:10<00:10, 26.00it/s]\u001b[A\n",
            " 52%|█████▏    | 280/539 [00:10<00:09, 25.98it/s]\u001b[A\n",
            " 53%|█████▎    | 288/539 [00:10<00:09, 25.92it/s]\u001b[A\n",
            " 55%|█████▍    | 296/539 [00:11<00:09, 25.91it/s]\u001b[A\n",
            " 56%|█████▋    | 304/539 [00:11<00:09, 25.90it/s]\u001b[A\n",
            " 58%|█████▊    | 312/539 [00:11<00:08, 25.83it/s]\u001b[A\n",
            " 59%|█████▉    | 320/539 [00:12<00:08, 25.87it/s]\u001b[A\n",
            " 61%|██████    | 328/539 [00:12<00:08, 25.88it/s]\u001b[A\n",
            " 62%|██████▏   | 336/539 [00:12<00:07, 25.89it/s]\u001b[A\n",
            " 64%|██████▍   | 344/539 [00:13<00:07, 25.88it/s]\u001b[A\n",
            " 65%|██████▌   | 352/539 [00:13<00:07, 25.79it/s]\u001b[A\n",
            " 67%|██████▋   | 360/539 [00:13<00:06, 25.78it/s]\u001b[A\n",
            " 68%|██████▊   | 368/539 [00:14<00:06, 25.82it/s]\u001b[A\n",
            " 70%|██████▉   | 376/539 [00:14<00:06, 25.79it/s]\u001b[A\n",
            " 71%|███████   | 384/539 [00:14<00:06, 25.78it/s]\u001b[A\n",
            " 73%|███████▎  | 392/539 [00:14<00:05, 25.79it/s]\u001b[A\n",
            " 74%|███████▍  | 400/539 [00:15<00:05, 25.81it/s]\u001b[A\n",
            " 76%|███████▌  | 408/539 [00:15<00:05, 25.71it/s]\u001b[A\n",
            " 77%|███████▋  | 416/539 [00:15<00:04, 25.75it/s]\u001b[A\n",
            " 79%|███████▊  | 424/539 [00:16<00:04, 25.77it/s]\u001b[A\n",
            " 80%|████████  | 432/539 [00:16<00:04, 25.74it/s]\u001b[A\n",
            " 82%|████████▏ | 440/539 [00:16<00:03, 25.73it/s]\u001b[A\n",
            " 83%|████████▎ | 448/539 [00:17<00:03, 25.76it/s]\u001b[A\n",
            " 85%|████████▍ | 456/539 [00:17<00:03, 25.70it/s]\u001b[A\n",
            " 86%|████████▌ | 464/539 [00:17<00:02, 25.68it/s]\u001b[A\n",
            " 88%|████████▊ | 472/539 [00:18<00:02, 25.70it/s]\u001b[A\n",
            " 89%|████████▉ | 480/539 [00:18<00:02, 25.66it/s]\u001b[A\n",
            " 91%|█████████ | 488/539 [00:18<00:01, 25.57it/s]\u001b[A\n",
            " 92%|█████████▏| 496/539 [00:19<00:01, 25.62it/s]\u001b[A\n",
            " 94%|█████████▎| 504/539 [00:19<00:01, 25.60it/s]\u001b[A\n",
            " 95%|█████████▍| 512/539 [00:19<00:01, 25.54it/s]\u001b[A\n",
            " 96%|█████████▋| 520/539 [00:19<00:00, 25.61it/s]\u001b[A\n",
            " 98%|█████████▊| 528/539 [00:20<00:00, 25.57it/s]\u001b[A\n",
            " 99%|█████████▉| 536/539 [00:20<00:00, 25.51it/s]\u001b[A\n",
            "100%|██████████| 539/539 [00:20<00:00, 25.99it/s]\n",
            "\n",
            "  0%|          | 0/254 [00:00<?, ?it/s]\u001b[A\n",
            " 61%|██████    | 155/254 [00:00<00:00, 1531.90it/s]\u001b[A\n",
            "100%|██████████| 254/254 [00:00<00:00, 1077.19it/s]\n",
            "100%|██████████| 562/562 [01:46<00:00,  7.19it/s, NLL=3.38, epoch=0]"
          ],
          "name": "stderr"
        },
        {
          "output_type": "stream",
          "text": [
            "[07.22.21 23:57:08] Visualizing in TensorBoard...\n",
            "[07.22.21 23:57:08] Eval F1: 22.95, EM: 12.20\n"
          ],
          "name": "stdout"
        },
        {
          "output_type": "stream",
          "text": [
            "\r100%|██████████| 562/562 [01:52<00:00,  4.98it/s, NLL=3.38, epoch=0]\n"
          ],
          "name": "stderr"
        }
      ]
    },
    {
      "cell_type": "code",
      "metadata": {
        "colab": {
          "base_uri": "https://localhost:8080/"
        },
        "id": "M4S05rKXV0kM",
        "outputId": "c02025c8-5bc2-4e4b-9bf6-3fdc578d10a7"
      },
      "source": [
        "GPUtil.showUtilization()"
      ],
      "execution_count": null,
      "outputs": [
        {
          "output_type": "stream",
          "text": [
            "| ID | GPU | MEM |\n",
            "------------------\n",
            "|  0 | 50% | 72% |\n"
          ],
          "name": "stdout"
        }
      ]
    },
    {
      "cell_type": "code",
      "metadata": {
        "colab": {
          "base_uri": "https://localhost:8080/"
        },
        "id": "vGv9Odb0bEH7",
        "outputId": "cbbe304b-4097-4783-f133-d6f9b5c72005"
      },
      "source": [
        "# PRUEBAS ENCODER_MOE\n",
        "# para ver cómo se eligieron los maestros\n",
        "\n",
        "encoder_MOE.eval()\n",
        "\n",
        "suma=0\n",
        "i=0\n",
        "for XX in val_loader:\n",
        "  #print(type(XX))    \n",
        "  #print(XX.keys())\n",
        "  #print(len(XX))     \n",
        "  if i > 0:\n",
        "    suma=torch.tensor(suma_temp).to(device)\n",
        "    suma.detach()\n",
        "  input_ids = XX['input_ids'].to(device)\n",
        "  attention_mask = XX['attention_mask'].to(device)\n",
        "  salida_softmax = encoder_MOE(input_ids, attention_mask).to(device)\n",
        "\n",
        "  input_ids.detach(), attention_mask.detach(), attention_mask.detach()\n",
        "\n",
        "  suma += salida_softmax.half().round().sum(0)\n",
        "  suma.detach()\n",
        "  suma_temp = suma#.tolist()\n",
        "  \n",
        "  print((suma_temp))\n",
        "  print((cv_squared(suma_temp)))\n",
        "\n",
        "  del input_ids, attention_mask, salida_softmax, suma\n",
        "  torch.cuda.empty_cache()\n",
        "  i +=1\n",
        "\n",
        "print(suma_temp)"
      ],
      "execution_count": null,
      "outputs": [
        {
          "output_type": "stream",
          "text": [
            "tensor([4., 1., 3.], device='cuda:0', dtype=torch.float16)\n",
            "tensor(0.3281, device='cuda:0')\n",
            "tensor([8., 3., 5.], device='cuda:0', dtype=torch.float16)\n",
            "tensor(0.2227, device='cuda:0')\n",
            "tensor([11.,  6.,  7.], device='cuda:0', dtype=torch.float16)\n",
            "tensor(0.1094, device='cuda:0')\n",
            "tensor([16.,  7.,  9.], device='cuda:0', dtype=torch.float16)\n",
            "tensor(0.1963, device='cuda:0')\n"
          ],
          "name": "stdout"
        },
        {
          "output_type": "stream",
          "text": [
            "/usr/local/lib/python3.7/dist-packages/ipykernel_launcher.py:13: UserWarning: To copy construct from a tensor, it is recommended to use sourceTensor.clone().detach() or sourceTensor.clone().detach().requires_grad_(True), rather than torch.tensor(sourceTensor).\n",
            "  del sys.path[0]\n"
          ],
          "name": "stderr"
        },
        {
          "output_type": "stream",
          "text": [
            "tensor([21.,  8., 11.], device='cuda:0', dtype=torch.float16)\n",
            "tensor(0.2606, device='cuda:0')\n",
            "tensor([23., 14., 11.], device='cuda:0', dtype=torch.float16)\n",
            "tensor(0.1523, device='cuda:0')\n",
            "tensor([26., 15., 15.], device='cuda:0', dtype=torch.float16)\n",
            "tensor(0.1158, device='cuda:0')\n",
            "tensor([29., 17., 18.], device='cuda:0', dtype=torch.float16)\n",
            "tensor(0.0974, device='cuda:0')\n",
            "tensor([33., 21., 18.], device='cuda:0', dtype=torch.float16)\n",
            "tensor(0.1094, device='cuda:0')\n",
            "tensor([37., 25., 18.], device='cuda:0', dtype=torch.float16)\n",
            "tensor(0.1298, device='cuda:0')\n",
            "tensor([44., 26., 18.], device='cuda:0', dtype=torch.float16)\n",
            "tensor(0.2061, device='cuda:0')\n",
            "tensor([49., 29., 18.], device='cuda:0', dtype=torch.float16)\n",
            "tensor(0.2412, device='cuda:0')\n",
            "tensor([56., 30., 18.], device='cuda:0', dtype=torch.float16)\n",
            "tensor(0.3140, device='cuda:0')\n",
            "tensor([60., 30., 22.], device='cuda:0', dtype=torch.float16)\n",
            "tensor(0.2879, device='cuda:0')\n",
            "tensor([63., 33., 24.], device='cuda:0', dtype=torch.float16)\n",
            "tensor(0.2606, device='cuda:0')\n",
            "tensor([68., 35., 25.], device='cuda:0', dtype=torch.float16)\n",
            "tensor(0.2781, device='cuda:0')\n",
            "tensor([70., 35., 31.], device='cuda:0', dtype=torch.float16)\n",
            "tensor(0.2240, device='cuda:0')\n",
            "tensor([73., 35., 36.], device='cuda:0', dtype=torch.float16)\n",
            "tensor(0.2036, device='cuda:0')\n",
            "tensor([76., 35., 41.], device='cuda:0', dtype=torch.float16)\n",
            "tensor(0.1910, device='cuda:0')\n",
            "tensor([78., 35., 47.], device='cuda:0', dtype=torch.float16)\n",
            "tensor(0.1731, device='cuda:0')\n",
            "tensor([83., 35., 50.], device='cuda:0', dtype=torch.float16)\n",
            "tensor(0.1923, device='cuda:0')\n",
            "tensor([86., 35., 55.], device='cuda:0', dtype=torch.float16)\n",
            "tensor(0.1919, device='cuda:0')\n",
            "tensor([88., 35., 61.], device='cuda:0', dtype=torch.float16)\n",
            "tensor(0.1867, device='cuda:0')\n",
            "tensor([89., 35., 68.], device='cuda:0', dtype=torch.float16)\n",
            "tensor(0.1809, device='cuda:0')\n",
            "tensor([93., 35., 72.], device='cuda:0', dtype=torch.float16)\n",
            "tensor(0.1940, device='cuda:0')\n",
            "tensor([96., 36., 76.], device='cuda:0', dtype=torch.float16)\n",
            "tensor(0.1942, device='cuda:0')\n",
            "tensor([98., 36., 82.], device='cuda:0', dtype=torch.float16)\n",
            "tensor(0.1998, device='cuda:0')\n",
            "tensor([98., 36., 90.], device='cuda:0', dtype=torch.float16)\n",
            "tensor(0.2040, device='cuda:0')\n",
            "tensor([99., 36., 97.], device='cuda:0', dtype=torch.float16)\n",
            "tensor(0.2144, device='cuda:0')\n",
            "tensor([100.,  36., 104.], device='cuda:0', dtype=torch.float16)\n",
            "tensor(0.2275, device='cuda:0')\n",
            "tensor([100.,  36., 112.], device='cuda:0', dtype=torch.float16)\n",
            "tensor(0.2443, device='cuda:0')\n",
            "tensor([101.,  36., 119.], device='cuda:0', dtype=torch.float16)\n",
            "tensor(0.2618, device='cuda:0')\n",
            "tensor([101.,  36., 127.], device='cuda:0', dtype=torch.float16)\n",
            "tensor(0.2837, device='cuda:0')\n",
            "tensor([103.,  36., 133.], device='cuda:0', dtype=torch.float16)\n",
            "tensor(0.3000, device='cuda:0')\n",
            "tensor([105.,  36., 139.], device='cuda:0', dtype=torch.float16)\n",
            "tensor(0.3162, device='cuda:0')\n",
            "tensor([108.,  36., 144.], device='cuda:0', dtype=torch.float16)\n",
            "tensor(0.3281, device='cuda:0')\n",
            "tensor([110.,  36., 150.], device='cuda:0', dtype=torch.float16)\n",
            "tensor(0.3436, device='cuda:0')\n",
            "tensor([110.,  38., 156.], device='cuda:0', dtype=torch.float16)\n",
            "tensor(0.3445, device='cuda:0')\n",
            "tensor([113.,  39., 160.], device='cuda:0', dtype=torch.float16)\n",
            "tensor(0.3440, device='cuda:0')\n",
            "tensor([114.,  40., 166.], device='cuda:0', dtype=torch.float16)\n",
            "tensor(0.3524, device='cuda:0')\n",
            "tensor([115.,  41., 172.], device='cuda:0', dtype=torch.float16)\n",
            "tensor(0.3609, device='cuda:0')\n",
            "tensor([116.,  42., 178.], device='cuda:0', dtype=torch.float16)\n",
            "tensor(0.3696, device='cuda:0')\n",
            "tensor([117.,  42., 185.], device='cuda:0', dtype=torch.float16)\n",
            "tensor(0.3891, device='cuda:0')\n",
            "tensor([118.,  43., 191.], device='cuda:0', dtype=torch.float16)\n",
            "tensor(0.3978, device='cuda:0')\n",
            "tensor([121.,  43., 196.], device='cuda:0', dtype=torch.float16)\n",
            "tensor(0.4065, device='cuda:0')\n",
            "tensor([124.,  44., 200.], device='cuda:0', dtype=torch.float16)\n",
            "tensor(0.4044, device='cuda:0')\n",
            "tensor([126.,  46., 204.], device='cuda:0', dtype=torch.float16)\n",
            "tensor(0.3973, device='cuda:0')\n",
            "tensor([127.,  46., 211.], device='cuda:0', dtype=torch.float16)\n",
            "tensor(0.4155, device='cuda:0')\n",
            "tensor([128.,  46., 218.], device='cuda:0', dtype=torch.float16)\n",
            "tensor(0.4335, device='cuda:0')\n",
            "tensor([129.,  47., 224.], device='cuda:0', dtype=torch.float16)\n",
            "tensor(0.4414, device='cuda:0')\n",
            "tensor([129.,  48., 231.], device='cuda:0', dtype=torch.float16)\n",
            "tensor(0.4546, device='cuda:0')\n",
            "tensor([131.,  48., 237.], device='cuda:0', dtype=torch.float16)\n",
            "tensor(0.4667, device='cuda:0')\n",
            "tensor([134.,  48., 242.], device='cuda:0', dtype=torch.float16)\n",
            "tensor(0.4731, device='cuda:0')\n",
            "tensor([134.,  49., 249.], device='cuda:0', dtype=torch.float16)\n",
            "tensor(0.4859, device='cuda:0')\n",
            "tensor([137.,  50., 253.], device='cuda:0', dtype=torch.float16)\n",
            "tensor(0.4822, device='cuda:0')\n",
            "tensor([141.,  50., 257.], device='cuda:0', dtype=torch.float16)\n",
            "tensor(0.4827, device='cuda:0')\n",
            "tensor([146.,  50., 260.], device='cuda:0', dtype=torch.float16)\n",
            "tensor(0.4784, device='cuda:0')\n",
            "tensor([152.,  50., 262.], device='cuda:0', dtype=torch.float16)\n",
            "tensor(0.4699, device='cuda:0')\n",
            "tensor([154.,  50., 268.], device='cuda:0', dtype=torch.float16)\n",
            "tensor(0.4803, device='cuda:0')\n",
            "tensor([155.,  50., 275.], device='cuda:0', dtype=torch.float16)\n",
            "tensor(0.4951, device='cuda:0')\n",
            "tensor([156.,  50., 282.], device='cuda:0', dtype=torch.float16)\n",
            "tensor(0.5098, device='cuda:0')\n",
            "tensor([158.,  51., 287.], device='cuda:0', dtype=torch.float16)\n",
            "tensor(0.5109, device='cuda:0')\n",
            "tensor([160.,  52., 292.], device='cuda:0', dtype=torch.float16)\n",
            "tensor(0.5119, device='cuda:0')\n",
            "tensor([163.,  53., 296.], device='cuda:0', dtype=torch.float16)\n",
            "tensor(0.5083, device='cuda:0')\n",
            "tensor([165.,  54., 301.], device='cuda:0', dtype=torch.float16)\n",
            "tensor(0.5094, device='cuda:0')\n",
            "tensor([167.,  55., 306.], device='cuda:0', dtype=torch.float16)\n",
            "tensor(0.5104, device='cuda:0')\n",
            "tensor([169.,  55., 312.], device='cuda:0', dtype=torch.float16)\n",
            "tensor(0.5195, device='cuda:0')\n",
            "tensor([169.,  55., 315.], device='cuda:0', dtype=torch.float16)\n",
            "tensor(0.5262, device='cuda:0')\n",
            "tensor([169.,  55., 315.], device='cuda:0', dtype=torch.float16)\n"
          ],
          "name": "stdout"
        }
      ]
    },
    {
      "cell_type": "code",
      "metadata": {
        "id": "cFJmBh3REWsy"
      },
      "source": [
        ""
      ],
      "execution_count": null,
      "outputs": []
    },
    {
      "cell_type": "code",
      "metadata": {
        "id": "FvlMhW7YEWvv"
      },
      "source": [
        ""
      ],
      "execution_count": null,
      "outputs": []
    },
    {
      "cell_type": "code",
      "metadata": {
        "id": "l7RZTvg2EWxL"
      },
      "source": [
        ""
      ],
      "execution_count": null,
      "outputs": []
    },
    {
      "cell_type": "code",
      "metadata": {
        "id": "BrVYNtkNanLb"
      },
      "source": [
        ""
      ],
      "execution_count": null,
      "outputs": []
    },
    {
      "cell_type": "code",
      "metadata": {
        "id": "LtLZKYCaanIe"
      },
      "source": [
        ""
      ],
      "execution_count": null,
      "outputs": []
    },
    {
      "cell_type": "code",
      "metadata": {
        "id": "MJUwrJMBanF0"
      },
      "source": [
        ""
      ],
      "execution_count": null,
      "outputs": []
    },
    {
      "cell_type": "markdown",
      "metadata": {
        "id": "AvplwSJ7vEby"
      },
      "source": [
        "### VALIDACIÓN CON MODELOS PREENTRENADOS\n",
        "Ahora, para poder validar nuestro modelos vamos a utilizar las instancias de los modelos base generadas más arriba para cargarles los pesos que hemos guardado en la carpeta_deseada.También necesitamos generar nuestros datasets de validación.\n",
        "\n",
        "...finalmente, llamamos a nuestra función de Testeo: \"evaluate_MOE\"."
      ]
    },
    {
      "cell_type": "code",
      "metadata": {
        "id": "PQx5XHZ2v6hf"
      },
      "source": [
        "args = get_train_test_args()\n",
        "\n",
        "util.set_seed(args.seed)"
      ],
      "execution_count": null,
      "outputs": []
    },
    {
      "cell_type": "code",
      "metadata": {
        "id": "s6a6a8SRvjG9"
      },
      "source": [
        "# python train.py --do-eval --eval-dir datasets/oodomain_val --eval-datasets race,relation_extraction,duorc\n",
        "args.do_train = False  # los seteo por si acaso \n",
        "args.do_eval = True    # los seteo por si acaso \n",
        "\n",
        "#save_dir_temp = args.save_dir   # guardamos la carpeta de trabajo actual (sea un nuevo entrenamiento o una carpeta existente)\n",
        "#args = get_train_test_args()\n",
        "#args.save_dir = save_dir_temp\n",
        "\n",
        "######  Definimos las carpetas donde buscar nuestros modelos que hemos guardado en entrenamientos anteriores y queremos testear\n",
        "carpeta_deseada = 'checkpoint_MOE-03'        # indicar en qué carpeta existente DONDE SE ENCUENTRAN LOS MODELOS\n",
        "checkpoint_path = os.path.join(args.save_dir, carpeta_deseada, 'checkpoint') \n",
        "args.save_dir = os.path.join(args.save_dir, carpeta_deseada) \n",
        "\n",
        "###### If you would like to create these from scratch, make sure to run train.py with the ﬂag recompute_features.\n",
        "args.recompute_features = False\n",
        "\n",
        "######  Definimos los Dataset de VALIDACIÓN --- SON LOS MISMOS CON LOS QUE SE ENTRENÓ\n",
        "args.train_datasets = 'race,relation_extraction,duorc'\n",
        "#args.train_datasets = 'squad,nat_questions,newsqa'\n",
        "\n",
        "######  Definimos el BATCH SIZE   XXXXXXXXXXXX\n",
        "args.batch_size = 8\n",
        "\n"
      ],
      "execution_count": null,
      "outputs": []
    },
    {
      "cell_type": "code",
      "metadata": {
        "id": "PszWXyXu8Cp4"
      },
      "source": [
        ""
      ],
      "execution_count": null,
      "outputs": []
    },
    {
      "cell_type": "code",
      "metadata": {
        "colab": {
          "base_uri": "https://localhost:8080/",
          "height": 35
        },
        "id": "VrenWRu7wVoA",
        "outputId": "74767127-fa7c-4692-8be5-bdacc1fae8a3"
      },
      "source": [
        "checkpoint_path"
      ],
      "execution_count": null,
      "outputs": [
        {
          "output_type": "execute_result",
          "data": {
            "application/vnd.google.colaboratory.intrinsic+json": {
              "type": "string"
            },
            "text/plain": [
              "'save/checkpoint_MOE-03/checkpoint'"
            ]
          },
          "metadata": {
            "tags": []
          },
          "execution_count": 21
        }
      ]
    },
    {
      "cell_type": "code",
      "metadata": {
        "colab": {
          "base_uri": "https://localhost:8080/",
          "height": 35
        },
        "id": "InMZewYMwXyf",
        "outputId": "93150c93-bff3-4244-c7f3-8809f8962bad"
      },
      "source": [
        "args.save_dir"
      ],
      "execution_count": null,
      "outputs": [
        {
          "output_type": "execute_result",
          "data": {
            "application/vnd.google.colaboratory.intrinsic+json": {
              "type": "string"
            },
            "text/plain": [
              "'save/checkpoint_MOE-03'"
            ]
          },
          "metadata": {
            "tags": []
          },
          "execution_count": 22
        }
      ]
    },
    {
      "cell_type": "code",
      "metadata": {
        "colab": {
          "base_uri": "https://localhost:8080/",
          "height": 35
        },
        "id": "TwZ1c0JO0sBp",
        "outputId": "6f29697a-ff42-4168-d771-6ba3e125d82e"
      },
      "source": [
        "args.val_dir"
      ],
      "execution_count": null,
      "outputs": [
        {
          "output_type": "execute_result",
          "data": {
            "application/vnd.google.colaboratory.intrinsic+json": {
              "type": "string"
            },
            "text/plain": [
              "'datasets/indomain_val'"
            ]
          },
          "metadata": {
            "tags": []
          },
          "execution_count": 23
        }
      ]
    },
    {
      "cell_type": "code",
      "metadata": {
        "id": "6b2YRDd_1JK6"
      },
      "source": [
        "#args.val_dir =\"datasets/oodomain_val\""
      ],
      "execution_count": null,
      "outputs": []
    },
    {
      "cell_type": "markdown",
      "metadata": {
        "id": "pvmBm212wsLR"
      },
      "source": [
        "Cargamos nuestros \"mejores\" parámetros y evaluamos en los dataset de Testeo."
      ]
    },
    {
      "cell_type": "code",
      "metadata": {
        "colab": {
          "base_uri": "https://localhost:8080/",
          "height": 634,
          "referenced_widgets": [
            "c3bba6f0075549bd856241eef5e23420",
            "1f9a8d9c4c234ad49de2d2c6aa2a9dd6",
            "203ddab93109475aa13911d61938e059",
            "1649ca5bdaf94d698f1059c15edcb6f2",
            "02a09973e937437ea13207cca6e4761c",
            "f30283c646364db0aaa7f4170c461703",
            "235eab6f90de4fa7bce60def3c3fa9ec",
            "8000c322496445f986d0a44a223d10d6",
            "97a43697b0724e8b9c054b9544318abf",
            "3a08ef88d45c48f795595ac58ce6772e",
            "975cb96843d442a3acbbfbef7dddb709",
            "7c93aab83f6a473b9f264ae38a72e271",
            "49fc4090e96a487c8a5c4489620ee8fe",
            "43ac4902ed5b4f37b4cc13fefe54192a",
            "eaa4d22b46ed41fa889fbf746d62562b",
            "bc99d1544f004f22b30f38b32f782dc6",
            "dab42e88c18c4541b9d3f2b903408ce4",
            "602843fbdb48408baee45ec43d32e75c",
            "b0b36ff9f36747aea52df2f6b25c5795",
            "08d41d8d62e94c22b3f467aadc12735d",
            "c27d853e27a14a52815160e8c339c6cd",
            "d795bc7975f645ee969b079fb208f45d",
            "e14ff834d75849e5813b4a24358007f6",
            "2de829083eae4c55a677c2419adf6025",
            "03ec58b44aa043a083f244f28d6ea706",
            "6a56d9b9c5944c17a5a11bb5e199d5fd",
            "b52cdaab40b949e2804caf2e74e28bb2",
            "d69e0934013e4afb8bb608c3d56fe625",
            "cb3d98ab4b5545e0b5f364ca67af78d4",
            "aca7bf56fa554e69a581ff58568ff7b2",
            "64dd221ad7644e4ea496c6f1f5eb8364",
            "0f235714952940b4b3ed988629da001d",
            "2c0aefe506b949daacd25c95dcd2cf36",
            "aae6274080c74669b15c4921f52a6bac",
            "826d69014c8244029dc31ad1f349a471",
            "e7f50a3d5d0c457288a6a4e35175379d",
            "175ac080cf8f460aae28b579ee766ca5",
            "2cae086af4e8415782c83e949f1bc4da",
            "972a00c8cb8745c49354b23f189c60f4",
            "a0b486d03f8b4d8b97ba0ec20acc8349"
          ]
        },
        "id": "6gUikCQewsLR",
        "outputId": "ef0abcfe-fcba-4294-9822-1ad99bb25454"
      },
      "source": [
        "######  Instanciamos los modelos base (\"expertos\")  XXXXXXXXXXXX\n",
        "#### estos ya viene instanciado de arriban (estemos en un nuevo entrenamiento o no)  \n",
        "model0 = DistilBertForQuestionAnswering.from_pretrained(\"distilbert-base-uncased\")\n",
        "model1 = DistilBertForQuestionAnswering.from_pretrained(\"distilbert-base-uncased\")\n",
        "model2 = DistilBertForQuestionAnswering.from_pretrained(\"distilbert-base-uncased\")\n",
        "\n",
        "\n",
        "######  Instanciamos el Tokenizador  XXXXXXXXXXXX\n",
        "#este ya viene instanciado de arriban (estemos en un nuevo entrenamiento o no)  \n",
        "tokenizer = DistilBertTokenizerFast.from_pretrained('distilbert-base-uncased')   \n",
        "\n",
        "\n",
        "######  Armamos las carpetas de destino y archivo LOG  XXXXXXXXXXXX\n",
        "#la carpeta ya la venimos arrastrando de más arriba\n",
        "split_name = 'validation'\n",
        "log = util.get_logger(args.save_dir, f'log_{split_name}')\n",
        "\n",
        "args.device = torch.device('cuda') if torch.cuda.is_available() else torch.device('cpu')   # ESTO NO HACERLO ANTES SINÓ TIRA ERROR el Log:\n",
        "                                                                                           # TypeError: Object of type device is not JSON serializable    \n",
        "\n",
        "######  Armamos los datasets de VALIDACIÓN  XXXXXXXXXXXX\n",
        "log.info(\"Preparing Validation Data...\")\n",
        "\n",
        "val_dataset, val_dict = get_dataset(args, args.train_datasets, args.val_dir, tokenizer, split_name)\n",
        "\n",
        "val_loader = DataLoader(val_dataset,\n",
        "                        batch_size=args.batch_size,\n",
        "                        sampler=SequentialSampler(val_dataset))\n",
        "\n",
        "\n",
        "######  Instanciamos un Encoder_MOE  XXXXXXXXXXXX\n",
        "INPUT_DIM = len(tokenizer.vocab)\n",
        "ENC_SRC_LEN = len(val_loader.dataset.encodings['input_ids'][0])  # todos van a tener la misma longitud (tienen padding)\n",
        "HID_DIM = 256\n",
        "ENC_LAYERS = 3\n",
        "ENC_HEADS = 8\n",
        "ENC_PF_DIM = 512\n",
        "ENC_CANT_EXPERTOS = 3\n",
        "ENC_DROPOUT = 0.1\n",
        "device = args.device\n",
        "\n",
        "  #def __init__(self, input_dim, src_len, hid_dim, n_layers, n_heads, pf_dim, cant_expertos, dropout, device, max_length = 400):\n",
        "encoder_MOE = Encoder_MOE(INPUT_DIM, \n",
        "                          ENC_SRC_LEN,\n",
        "                          HID_DIM, \n",
        "                          ENC_LAYERS, \n",
        "                          ENC_HEADS, \n",
        "                          ENC_PF_DIM, \n",
        "                          ENC_CANT_EXPERTOS,\n",
        "                          ENC_DROPOUT, \n",
        "                          device)\n",
        "\n",
        "\n",
        "######  Cargamos los modelos guardados en los modelos base   XXXXXXXXXXXX\n",
        "model0 = DistilBertForQuestionAnswering.from_pretrained(checkpoint_path + \"/model0\")  # cargo desde la carpeta correspondiente\n",
        "model1 = DistilBertForQuestionAnswering.from_pretrained(checkpoint_path + \"/model1\")  # cargo desde la carpeta correspondiente\n",
        "model2 = DistilBertForQuestionAnswering.from_pretrained(checkpoint_path + \"/model2\")  # cargo desde la carpeta correspondiente\n",
        "\n",
        "encoder_MOE.load_state_dict(torch.load(checkpoint_path + \"/encoder_MOE.pt\"))  # cargo desde el archivo correspondiente\n",
        "\n",
        "\n",
        "model0.to(args.device)\n",
        "model1.to(args.device)\n",
        "model2.to(args.device)\n",
        "encoder_MOE.to(args.device)\n",
        "\n",
        "\n",
        "#def evaluate_MOE(model0, model1, model2, encoder_MOE, data_loader, data_dict, args, return_preds=False, split='validation'):\n",
        "val_preds, val_scores = evaluate_MOE(model0, model1, model2, encoder_MOE, val_loader,\n",
        "                                     val_dict, \n",
        "                                     args,\n",
        "                                     return_preds=True,\n",
        "                                     split=split_name)\n",
        "\n",
        "results_str = ', '.join(f'{k}: {v:05.2f}' for k, v in val_scores.items())\n",
        "\n",
        "log.info(f'Eval {results_str}')\n",
        "\n",
        "# Write submission file\n",
        "#sub_path = os.path.join(args.save_dir, split_name + '_' + args.sub_file)\n",
        "#log.info(f'Writing submission file to {sub_path}...')\n",
        "#with open(sub_path, 'w', newline='', encoding='utf-8') as csv_fh:\n",
        "#  csv_writer = csv.writer(csv_fh, delimiter=',')\n",
        "#  csv_writer.writerow(['Id', 'Predicted'])\n",
        "#  for uuid in sorted(eval_preds):\n",
        "#    csv_writer.writerow([uuid, eval_preds[uuid]])"
      ],
      "execution_count": null,
      "outputs": [
        {
          "output_type": "display_data",
          "data": {
            "application/vnd.jupyter.widget-view+json": {
              "model_id": "c3bba6f0075549bd856241eef5e23420",
              "version_minor": 0,
              "version_major": 2
            },
            "text/plain": [
              "HBox(children=(FloatProgress(value=0.0, description='Downloading', max=442.0, style=ProgressStyle(description_…"
            ]
          },
          "metadata": {
            "tags": []
          }
        },
        {
          "output_type": "stream",
          "text": [
            "\n"
          ],
          "name": "stdout"
        },
        {
          "output_type": "display_data",
          "data": {
            "application/vnd.jupyter.widget-view+json": {
              "model_id": "97a43697b0724e8b9c054b9544318abf",
              "version_minor": 0,
              "version_major": 2
            },
            "text/plain": [
              "HBox(children=(FloatProgress(value=0.0, description='Downloading', max=267967963.0, style=ProgressStyle(descri…"
            ]
          },
          "metadata": {
            "tags": []
          }
        },
        {
          "output_type": "stream",
          "text": [
            "\n"
          ],
          "name": "stdout"
        },
        {
          "output_type": "stream",
          "text": [
            "Some weights of the model checkpoint at distilbert-base-uncased were not used when initializing DistilBertForQuestionAnswering: ['vocab_layer_norm.weight', 'vocab_projector.weight', 'vocab_transform.bias', 'vocab_layer_norm.bias', 'vocab_projector.bias', 'vocab_transform.weight']\n",
            "- This IS expected if you are initializing DistilBertForQuestionAnswering from the checkpoint of a model trained on another task or with another architecture (e.g. initializing a BertForSequenceClassification model from a BertForPreTraining model).\n",
            "- This IS NOT expected if you are initializing DistilBertForQuestionAnswering from the checkpoint of a model that you expect to be exactly identical (initializing a BertForSequenceClassification model from a BertForSequenceClassification model).\n",
            "Some weights of DistilBertForQuestionAnswering were not initialized from the model checkpoint at distilbert-base-uncased and are newly initialized: ['qa_outputs.bias', 'qa_outputs.weight']\n",
            "You should probably TRAIN this model on a down-stream task to be able to use it for predictions and inference.\n",
            "Some weights of the model checkpoint at distilbert-base-uncased were not used when initializing DistilBertForQuestionAnswering: ['vocab_layer_norm.weight', 'vocab_projector.weight', 'vocab_transform.bias', 'vocab_layer_norm.bias', 'vocab_projector.bias', 'vocab_transform.weight']\n",
            "- This IS expected if you are initializing DistilBertForQuestionAnswering from the checkpoint of a model trained on another task or with another architecture (e.g. initializing a BertForSequenceClassification model from a BertForPreTraining model).\n",
            "- This IS NOT expected if you are initializing DistilBertForQuestionAnswering from the checkpoint of a model that you expect to be exactly identical (initializing a BertForSequenceClassification model from a BertForSequenceClassification model).\n",
            "Some weights of DistilBertForQuestionAnswering were not initialized from the model checkpoint at distilbert-base-uncased and are newly initialized: ['qa_outputs.bias', 'qa_outputs.weight']\n",
            "You should probably TRAIN this model on a down-stream task to be able to use it for predictions and inference.\n",
            "Some weights of the model checkpoint at distilbert-base-uncased were not used when initializing DistilBertForQuestionAnswering: ['vocab_layer_norm.weight', 'vocab_projector.weight', 'vocab_transform.bias', 'vocab_layer_norm.bias', 'vocab_projector.bias', 'vocab_transform.weight']\n",
            "- This IS expected if you are initializing DistilBertForQuestionAnswering from the checkpoint of a model trained on another task or with another architecture (e.g. initializing a BertForSequenceClassification model from a BertForPreTraining model).\n",
            "- This IS NOT expected if you are initializing DistilBertForQuestionAnswering from the checkpoint of a model that you expect to be exactly identical (initializing a BertForSequenceClassification model from a BertForSequenceClassification model).\n",
            "Some weights of DistilBertForQuestionAnswering were not initialized from the model checkpoint at distilbert-base-uncased and are newly initialized: ['qa_outputs.bias', 'qa_outputs.weight']\n",
            "You should probably TRAIN this model on a down-stream task to be able to use it for predictions and inference.\n"
          ],
          "name": "stderr"
        },
        {
          "output_type": "display_data",
          "data": {
            "application/vnd.jupyter.widget-view+json": {
              "model_id": "dab42e88c18c4541b9d3f2b903408ce4",
              "version_minor": 0,
              "version_major": 2
            },
            "text/plain": [
              "HBox(children=(FloatProgress(value=0.0, description='Downloading', max=231508.0, style=ProgressStyle(descripti…"
            ]
          },
          "metadata": {
            "tags": []
          }
        },
        {
          "output_type": "stream",
          "text": [
            "\n"
          ],
          "name": "stdout"
        },
        {
          "output_type": "display_data",
          "data": {
            "application/vnd.jupyter.widget-view+json": {
              "model_id": "03ec58b44aa043a083f244f28d6ea706",
              "version_minor": 0,
              "version_major": 2
            },
            "text/plain": [
              "HBox(children=(FloatProgress(value=0.0, description='Downloading', max=466062.0, style=ProgressStyle(descripti…"
            ]
          },
          "metadata": {
            "tags": []
          }
        },
        {
          "output_type": "stream",
          "text": [
            "\n"
          ],
          "name": "stdout"
        },
        {
          "output_type": "display_data",
          "data": {
            "application/vnd.jupyter.widget-view+json": {
              "model_id": "2c0aefe506b949daacd25c95dcd2cf36",
              "version_minor": 0,
              "version_major": 2
            },
            "text/plain": [
              "HBox(children=(FloatProgress(value=0.0, description='Downloading', max=28.0, style=ProgressStyle(description_w…"
            ]
          },
          "metadata": {
            "tags": []
          }
        },
        {
          "output_type": "stream",
          "text": [
            "\n",
            "[07.22.21 22:05:18] Preparing Validation Data...\n"
          ],
          "name": "stdout"
        },
        {
          "output_type": "stream",
          "text": [
            "100%|██████████| 721/721 [00:25<00:00, 28.05it/s]\n",
            "100%|██████████| 382/382 [00:00<00:00, 1478.78it/s]"
          ],
          "name": "stderr"
        },
        {
          "output_type": "stream",
          "text": [
            "[07.22.21 22:06:10] Eval F1: 48.33, EM: 33.51\n"
          ],
          "name": "stdout"
        },
        {
          "output_type": "stream",
          "text": [
            "\n"
          ],
          "name": "stderr"
        }
      ]
    },
    {
      "cell_type": "code",
      "metadata": {
        "id": "YeTQb907QEm2"
      },
      "source": [
        ""
      ],
      "execution_count": null,
      "outputs": []
    },
    {
      "cell_type": "code",
      "metadata": {
        "id": "eGsUQ3-yQEkJ"
      },
      "source": [
        ""
      ],
      "execution_count": null,
      "outputs": []
    },
    {
      "cell_type": "code",
      "metadata": {
        "id": "_ZTZxBm3QEhR"
      },
      "source": [
        ""
      ],
      "execution_count": null,
      "outputs": []
    },
    {
      "cell_type": "code",
      "metadata": {
        "id": "f7CO0VvSQEe0"
      },
      "source": [
        ""
      ],
      "execution_count": null,
      "outputs": []
    },
    {
      "cell_type": "code",
      "metadata": {
        "id": "dj-U-Vx2QEcZ"
      },
      "source": [
        ""
      ],
      "execution_count": null,
      "outputs": []
    },
    {
      "cell_type": "code",
      "metadata": {
        "id": "kRs2GNc1QEaR"
      },
      "source": [
        ""
      ],
      "execution_count": null,
      "outputs": []
    },
    {
      "cell_type": "code",
      "metadata": {
        "id": "24lKgXeRQEX1"
      },
      "source": [
        ""
      ],
      "execution_count": null,
      "outputs": []
    },
    {
      "cell_type": "code",
      "metadata": {
        "id": "faH55D4iQEVL"
      },
      "source": [
        ""
      ],
      "execution_count": null,
      "outputs": []
    },
    {
      "cell_type": "code",
      "metadata": {
        "id": "AiJXzePRQESy"
      },
      "source": [
        ""
      ],
      "execution_count": null,
      "outputs": []
    },
    {
      "cell_type": "markdown",
      "metadata": {
        "id": "8-CVnb9XL4DF"
      },
      "source": [
        "### TESTEO\n",
        "Ahora, para poder testear nuestro modelos vamos a utilizar las instancias de los modelos base generadas más arriba para cargarles los pesos que hemos guardado en la carpeta_deseada.También necesitamos generar nuestros datasets de testeo.\n",
        "\n",
        "...finalmente, llamamos a nuestra función de Testeo: \"evaluate_MOE\"."
      ]
    },
    {
      "cell_type": "markdown",
      "metadata": {
        "id": "c8OHqO0I-nlA"
      },
      "source": [
        "![moe_test.png](data:image/png;base64,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)"
      ]
    },
    {
      "cell_type": "code",
      "metadata": {
        "id": "QYUT4qdI-XQo"
      },
      "source": [
        "# python train.py --do-eval --eval-dir datasets/oodomain_val --eval-datasets race,relation_extraction,duorc\n",
        "args.do_train = False  # los seteo por si acaso \n",
        "args.do_eval = True    # los seteo por si acaso \n",
        "\n",
        "#save_dir_temp = args.save_dir   # guardamos la carpeta de trabajo actual (sea un nuevo entrenamiento o una carpeta existente)\n",
        "#args = get_train_test_args()\n",
        "#args.save_dir = save_dir_temp\n",
        "\n",
        "######  Definimos las carpetas donde buscar nuestros modelos que hemos guardado en entrenamientos anteriores y queremos testear\n",
        "checkpoint_path = os.path.join(args.save_dir, 'checkpoint') \n",
        "\n",
        "\n",
        "###### If you would like to create these from scratch, make sure to run train.py with the ﬂag recompute_features.\n",
        "args.recompute_features = False\n",
        "\n",
        "\n",
        "######  Definimos los Dataset de TESTEO \n",
        "args.eval_datasets = 'race,relation_extraction,duorc'\n",
        "#args.eval_datasets = 'relation_extraction'\n",
        "\n"
      ],
      "execution_count": null,
      "outputs": []
    },
    {
      "cell_type": "markdown",
      "metadata": {
        "id": "cy8CXrHd-Z4Y"
      },
      "source": [
        "Cargamos nuestros \"mejores\" parámetros y evaluamos en los dataset de Testeo."
      ]
    },
    {
      "cell_type": "code",
      "metadata": {
        "colab": {
          "base_uri": "https://localhost:8080/",
          "height": 413
        },
        "id": "N8mdTjsx-Aur",
        "outputId": "979ace82-9670-4c28-db65-79073042e3ba"
      },
      "source": [
        "######  Instanciamos los modelos base (\"expertos\")  XXXXXXXXXXXX\n",
        "#### estos ya viene instanciado de arriban (estemos en un nuevo entrenamiento o no)  \n",
        "#model0 = DistilBertForQuestionAnswering.from_pretrained(\"distilbert-base-uncased\")\n",
        "#model1 = DistilBertForQuestionAnswering.from_pretrained(\"distilbert-base-uncased\")\n",
        "#model2 = DistilBertForQuestionAnswering.from_pretrained(\"distilbert-base-uncased\")\n",
        "\n",
        "\n",
        "######  Instanciamos el Tokenizador  XXXXXXXXXXXX\n",
        "#este ya viene instanciado de arriban (estemos en un nuevo entrenamiento o no)  \n",
        "#tokenizer = DistilBertTokenizerFast.from_pretrained('distilbert-base-uncased')   \n",
        "\n",
        "\n",
        "######  Armamos las carpetas de destino y archivo LOG  XXXXXXXXXXXX\n",
        "#la carpeta ya la venimos arrastrando de más arriba\n",
        "split_name = 'test' if 'test' in args.eval_dir else 'validation'\n",
        "log = util.get_logger(args.save_dir, f'log_{split_name}')\n",
        "\n",
        "\n",
        "######  Cargamos los modelos guardados en los modelos base   XXXXXXXXXXXX\n",
        "model0 = DistilBertForQuestionAnswering.from_pretrained(checkpoint_path + \"/model0\")  # cargo desde la carpeta correspondiente\n",
        "model1 = DistilBertForQuestionAnswering.from_pretrained(checkpoint_path + \"/model1\")  # cargo desde la carpeta correspondiente\n",
        "model2 = DistilBertForQuestionAnswering.from_pretrained(checkpoint_path + \"/model2\")  # cargo desde la carpeta correspondiente\n",
        "\n",
        "encoder_MOE.load_state_dict(torch.load(checkpoint_path + \"/encoder_MOE.pt\"))  # cargo desde el archivo correspondiente\n",
        "\n",
        "#args.device = torch.device('cuda') if torch.cuda.is_available() else torch.device('cpu')   # ESTO NO HACERLO ANTES SINÓ TIRA ERROR el Log:\n",
        "                                                                                           # TypeError: Object of type device is not JSON serializable    \n",
        "model0.to(args.device)\n",
        "model1.to(args.device)\n",
        "model2.to(args.device)\n",
        "encoder_MOE.to(args.device)\n",
        "\n",
        "######  Armamos los datasets de Testeo (evaluación)  XXXXXXXXXXXX\n",
        "eval_dataset, eval_dict = get_dataset(args, args.eval_datasets, args.eval_dir, tokenizer, split_name)\n",
        "\n",
        "eval_loader = DataLoader(eval_dataset,\n",
        "                         batch_size=args.batch_size,\n",
        "                         sampler=SequentialSampler(eval_dataset))\n",
        "\n",
        "#def evaluate_MOE(model0, model1, model2, encoder_MOE, data_loader, data_dict, args, return_preds=False, split='validation'):\n",
        "eval_preds, eval_scores = evaluate_MOE(model0, model1, model2, encoder_MOE, eval_loader,\n",
        "                                       eval_dict, \n",
        "                                       args,\n",
        "                                       return_preds=True,\n",
        "                                       split=split_name)\n",
        "\n",
        "results_str = ', '.join(f'{k}: {v:05.2f}' for k, v in eval_scores.items())\n",
        "\n",
        "log.info(f'Eval {results_str}')\n",
        "\n",
        "# Write submission file\n",
        "#sub_path = os.path.join(args.save_dir, split_name + '_' + args.sub_file)\n",
        "#log.info(f'Writing submission file to {sub_path}...')\n",
        "#with open(sub_path, 'w', newline='', encoding='utf-8') as csv_fh:\n",
        "#  csv_writer = csv.writer(csv_fh, delimiter=',')\n",
        "#  csv_writer.writerow(['Id', 'Predicted'])\n",
        "#  for uuid in sorted(eval_preds):\n",
        "#    csv_writer.writerow([uuid, eval_preds[uuid]])"
      ],
      "execution_count": null,
      "outputs": [
        {
          "output_type": "stream",
          "text": [
            " 23%|██▎       | 608/2694 [26:31<1:31:01,  2.62s/it]\n"
          ],
          "name": "stderr"
        },
        {
          "output_type": "error",
          "ename": "KeyboardInterrupt",
          "evalue": "ignored",
          "traceback": [
            "\u001b[0;31m---------------------------------------------------------------------------\u001b[0m",
            "\u001b[0;31mKeyboardInterrupt\u001b[0m                         Traceback (most recent call last)",
            "\u001b[0;32m<ipython-input-24-805e46a1b328>\u001b[0m in \u001b[0;36m<module>\u001b[0;34m()\u001b[0m\n\u001b[1;32m     43\u001b[0m                                        \u001b[0margs\u001b[0m\u001b[0;34m,\u001b[0m\u001b[0;34m\u001b[0m\u001b[0;34m\u001b[0m\u001b[0m\n\u001b[1;32m     44\u001b[0m                                        \u001b[0mreturn_preds\u001b[0m\u001b[0;34m=\u001b[0m\u001b[0;32mTrue\u001b[0m\u001b[0;34m,\u001b[0m\u001b[0;34m\u001b[0m\u001b[0;34m\u001b[0m\u001b[0m\n\u001b[0;32m---> 45\u001b[0;31m                                        split=split_name)\n\u001b[0m\u001b[1;32m     46\u001b[0m \u001b[0;34m\u001b[0m\u001b[0m\n\u001b[1;32m     47\u001b[0m \u001b[0mresults_str\u001b[0m \u001b[0;34m=\u001b[0m \u001b[0;34m', '\u001b[0m\u001b[0;34m.\u001b[0m\u001b[0mjoin\u001b[0m\u001b[0;34m(\u001b[0m\u001b[0;34mf'{k}: {v:05.2f}'\u001b[0m \u001b[0;32mfor\u001b[0m \u001b[0mk\u001b[0m\u001b[0;34m,\u001b[0m \u001b[0mv\u001b[0m \u001b[0;32min\u001b[0m \u001b[0meval_scores\u001b[0m\u001b[0;34m.\u001b[0m\u001b[0mitems\u001b[0m\u001b[0;34m(\u001b[0m\u001b[0;34m)\u001b[0m\u001b[0;34m)\u001b[0m\u001b[0;34m\u001b[0m\u001b[0;34m\u001b[0m\u001b[0m\n",
            "\u001b[0;32m<ipython-input-14-9f9d22e1a5df>\u001b[0m in \u001b[0;36mevaluate_MOE\u001b[0;34m(model0, model1, model2, encoder_MOE, data_loader, data_dict, args, return_preds, split)\u001b[0m\n\u001b[1;32m     30\u001b[0m         \u001b[0moutputs0\u001b[0m \u001b[0;34m=\u001b[0m \u001b[0mmodel0\u001b[0m\u001b[0;34m(\u001b[0m\u001b[0minput_ids\u001b[0m\u001b[0;34m,\u001b[0m \u001b[0mattention_mask\u001b[0m\u001b[0;34m=\u001b[0m\u001b[0mattention_mask\u001b[0m\u001b[0;34m)\u001b[0m   \u001b[0;31m# EN eval NO LE PASAMOS LAS REALES end_positions / start_positions\u001b[0m\u001b[0;34m\u001b[0m\u001b[0;34m\u001b[0m\u001b[0m\n\u001b[1;32m     31\u001b[0m \u001b[0;34m\u001b[0m\u001b[0m\n\u001b[0;32m---> 32\u001b[0;31m         \u001b[0moutputs1\u001b[0m \u001b[0;34m=\u001b[0m \u001b[0mmodel1\u001b[0m\u001b[0;34m(\u001b[0m\u001b[0minput_ids\u001b[0m\u001b[0;34m,\u001b[0m \u001b[0mattention_mask\u001b[0m\u001b[0;34m=\u001b[0m\u001b[0mattention_mask\u001b[0m\u001b[0;34m)\u001b[0m   \u001b[0;31m# EN eval NO LE PASAMOS LAS REALES end_positions / start_positions\u001b[0m\u001b[0;34m\u001b[0m\u001b[0;34m\u001b[0m\u001b[0m\n\u001b[0m\u001b[1;32m     33\u001b[0m \u001b[0;34m\u001b[0m\u001b[0m\n\u001b[1;32m     34\u001b[0m         \u001b[0moutputs2\u001b[0m \u001b[0;34m=\u001b[0m \u001b[0mmodel2\u001b[0m\u001b[0;34m(\u001b[0m\u001b[0minput_ids\u001b[0m\u001b[0;34m,\u001b[0m \u001b[0mattention_mask\u001b[0m\u001b[0;34m=\u001b[0m\u001b[0mattention_mask\u001b[0m\u001b[0;34m)\u001b[0m   \u001b[0;31m# EN eval NO LE PASAMOS LAS REALES end_positions / start_positions\u001b[0m\u001b[0;34m\u001b[0m\u001b[0;34m\u001b[0m\u001b[0m\n",
            "\u001b[0;32m/usr/local/lib/python3.7/dist-packages/torch/nn/modules/module.py\u001b[0m in \u001b[0;36m_call_impl\u001b[0;34m(self, *input, **kwargs)\u001b[0m\n\u001b[1;32m   1049\u001b[0m         if not (self._backward_hooks or self._forward_hooks or self._forward_pre_hooks or _global_backward_hooks\n\u001b[1;32m   1050\u001b[0m                 or _global_forward_hooks or _global_forward_pre_hooks):\n\u001b[0;32m-> 1051\u001b[0;31m             \u001b[0;32mreturn\u001b[0m \u001b[0mforward_call\u001b[0m\u001b[0;34m(\u001b[0m\u001b[0;34m*\u001b[0m\u001b[0minput\u001b[0m\u001b[0;34m,\u001b[0m \u001b[0;34m**\u001b[0m\u001b[0mkwargs\u001b[0m\u001b[0;34m)\u001b[0m\u001b[0;34m\u001b[0m\u001b[0;34m\u001b[0m\u001b[0m\n\u001b[0m\u001b[1;32m   1052\u001b[0m         \u001b[0;31m# Do not call functions when jit is used\u001b[0m\u001b[0;34m\u001b[0m\u001b[0;34m\u001b[0m\u001b[0;34m\u001b[0m\u001b[0m\n\u001b[1;32m   1053\u001b[0m         \u001b[0mfull_backward_hooks\u001b[0m\u001b[0;34m,\u001b[0m \u001b[0mnon_full_backward_hooks\u001b[0m \u001b[0;34m=\u001b[0m \u001b[0;34m[\u001b[0m\u001b[0;34m]\u001b[0m\u001b[0;34m,\u001b[0m \u001b[0;34m[\u001b[0m\u001b[0;34m]\u001b[0m\u001b[0;34m\u001b[0m\u001b[0;34m\u001b[0m\u001b[0m\n",
            "\u001b[0;32m/usr/local/lib/python3.7/dist-packages/transformers/models/distilbert/modeling_distilbert.py\u001b[0m in \u001b[0;36mforward\u001b[0;34m(self, input_ids, attention_mask, head_mask, inputs_embeds, start_positions, end_positions, output_attentions, output_hidden_states, return_dict)\u001b[0m\n\u001b[1;32m    722\u001b[0m             \u001b[0moutput_attentions\u001b[0m\u001b[0;34m=\u001b[0m\u001b[0moutput_attentions\u001b[0m\u001b[0;34m,\u001b[0m\u001b[0;34m\u001b[0m\u001b[0;34m\u001b[0m\u001b[0m\n\u001b[1;32m    723\u001b[0m             \u001b[0moutput_hidden_states\u001b[0m\u001b[0;34m=\u001b[0m\u001b[0moutput_hidden_states\u001b[0m\u001b[0;34m,\u001b[0m\u001b[0;34m\u001b[0m\u001b[0;34m\u001b[0m\u001b[0m\n\u001b[0;32m--> 724\u001b[0;31m             \u001b[0mreturn_dict\u001b[0m\u001b[0;34m=\u001b[0m\u001b[0mreturn_dict\u001b[0m\u001b[0;34m,\u001b[0m\u001b[0;34m\u001b[0m\u001b[0;34m\u001b[0m\u001b[0m\n\u001b[0m\u001b[1;32m    725\u001b[0m         )\n\u001b[1;32m    726\u001b[0m         \u001b[0mhidden_states\u001b[0m \u001b[0;34m=\u001b[0m \u001b[0mdistilbert_output\u001b[0m\u001b[0;34m[\u001b[0m\u001b[0;36m0\u001b[0m\u001b[0;34m]\u001b[0m  \u001b[0;31m# (bs, max_query_len, dim)\u001b[0m\u001b[0;34m\u001b[0m\u001b[0;34m\u001b[0m\u001b[0m\n",
            "\u001b[0;32m/usr/local/lib/python3.7/dist-packages/torch/nn/modules/module.py\u001b[0m in \u001b[0;36m_call_impl\u001b[0;34m(self, *input, **kwargs)\u001b[0m\n\u001b[1;32m   1049\u001b[0m         if not (self._backward_hooks or self._forward_hooks or self._forward_pre_hooks or _global_backward_hooks\n\u001b[1;32m   1050\u001b[0m                 or _global_forward_hooks or _global_forward_pre_hooks):\n\u001b[0;32m-> 1051\u001b[0;31m             \u001b[0;32mreturn\u001b[0m \u001b[0mforward_call\u001b[0m\u001b[0;34m(\u001b[0m\u001b[0;34m*\u001b[0m\u001b[0minput\u001b[0m\u001b[0;34m,\u001b[0m \u001b[0;34m**\u001b[0m\u001b[0mkwargs\u001b[0m\u001b[0;34m)\u001b[0m\u001b[0;34m\u001b[0m\u001b[0;34m\u001b[0m\u001b[0m\n\u001b[0m\u001b[1;32m   1052\u001b[0m         \u001b[0;31m# Do not call functions when jit is used\u001b[0m\u001b[0;34m\u001b[0m\u001b[0;34m\u001b[0m\u001b[0;34m\u001b[0m\u001b[0m\n\u001b[1;32m   1053\u001b[0m         \u001b[0mfull_backward_hooks\u001b[0m\u001b[0;34m,\u001b[0m \u001b[0mnon_full_backward_hooks\u001b[0m \u001b[0;34m=\u001b[0m \u001b[0;34m[\u001b[0m\u001b[0;34m]\u001b[0m\u001b[0;34m,\u001b[0m \u001b[0;34m[\u001b[0m\u001b[0;34m]\u001b[0m\u001b[0;34m\u001b[0m\u001b[0;34m\u001b[0m\u001b[0m\n",
            "\u001b[0;32m/usr/local/lib/python3.7/dist-packages/transformers/models/distilbert/modeling_distilbert.py\u001b[0m in \u001b[0;36mforward\u001b[0;34m(self, input_ids, attention_mask, head_mask, inputs_embeds, output_attentions, output_hidden_states, return_dict)\u001b[0m\n\u001b[1;32m    485\u001b[0m             \u001b[0moutput_attentions\u001b[0m\u001b[0;34m=\u001b[0m\u001b[0moutput_attentions\u001b[0m\u001b[0;34m,\u001b[0m\u001b[0;34m\u001b[0m\u001b[0;34m\u001b[0m\u001b[0m\n\u001b[1;32m    486\u001b[0m             \u001b[0moutput_hidden_states\u001b[0m\u001b[0;34m=\u001b[0m\u001b[0moutput_hidden_states\u001b[0m\u001b[0;34m,\u001b[0m\u001b[0;34m\u001b[0m\u001b[0;34m\u001b[0m\u001b[0m\n\u001b[0;32m--> 487\u001b[0;31m             \u001b[0mreturn_dict\u001b[0m\u001b[0;34m=\u001b[0m\u001b[0mreturn_dict\u001b[0m\u001b[0;34m,\u001b[0m\u001b[0;34m\u001b[0m\u001b[0;34m\u001b[0m\u001b[0m\n\u001b[0m\u001b[1;32m    488\u001b[0m         )\n\u001b[1;32m    489\u001b[0m \u001b[0;34m\u001b[0m\u001b[0m\n",
            "\u001b[0;32m/usr/local/lib/python3.7/dist-packages/torch/nn/modules/module.py\u001b[0m in \u001b[0;36m_call_impl\u001b[0;34m(self, *input, **kwargs)\u001b[0m\n\u001b[1;32m   1049\u001b[0m         if not (self._backward_hooks or self._forward_hooks or self._forward_pre_hooks or _global_backward_hooks\n\u001b[1;32m   1050\u001b[0m                 or _global_forward_hooks or _global_forward_pre_hooks):\n\u001b[0;32m-> 1051\u001b[0;31m             \u001b[0;32mreturn\u001b[0m \u001b[0mforward_call\u001b[0m\u001b[0;34m(\u001b[0m\u001b[0;34m*\u001b[0m\u001b[0minput\u001b[0m\u001b[0;34m,\u001b[0m \u001b[0;34m**\u001b[0m\u001b[0mkwargs\u001b[0m\u001b[0;34m)\u001b[0m\u001b[0;34m\u001b[0m\u001b[0;34m\u001b[0m\u001b[0m\n\u001b[0m\u001b[1;32m   1052\u001b[0m         \u001b[0;31m# Do not call functions when jit is used\u001b[0m\u001b[0;34m\u001b[0m\u001b[0;34m\u001b[0m\u001b[0;34m\u001b[0m\u001b[0m\n\u001b[1;32m   1053\u001b[0m         \u001b[0mfull_backward_hooks\u001b[0m\u001b[0;34m,\u001b[0m \u001b[0mnon_full_backward_hooks\u001b[0m \u001b[0;34m=\u001b[0m \u001b[0;34m[\u001b[0m\u001b[0;34m]\u001b[0m\u001b[0;34m,\u001b[0m \u001b[0;34m[\u001b[0m\u001b[0;34m]\u001b[0m\u001b[0;34m\u001b[0m\u001b[0;34m\u001b[0m\u001b[0m\n",
            "\u001b[0;32m/usr/local/lib/python3.7/dist-packages/transformers/models/distilbert/modeling_distilbert.py\u001b[0m in \u001b[0;36mforward\u001b[0;34m(self, x, attn_mask, head_mask, output_attentions, output_hidden_states, return_dict)\u001b[0m\n\u001b[1;32m    305\u001b[0m \u001b[0;34m\u001b[0m\u001b[0m\n\u001b[1;32m    306\u001b[0m             layer_outputs = layer_module(\n\u001b[0;32m--> 307\u001b[0;31m                 \u001b[0mx\u001b[0m\u001b[0;34m=\u001b[0m\u001b[0mhidden_state\u001b[0m\u001b[0;34m,\u001b[0m \u001b[0mattn_mask\u001b[0m\u001b[0;34m=\u001b[0m\u001b[0mattn_mask\u001b[0m\u001b[0;34m,\u001b[0m \u001b[0mhead_mask\u001b[0m\u001b[0;34m=\u001b[0m\u001b[0mhead_mask\u001b[0m\u001b[0;34m[\u001b[0m\u001b[0mi\u001b[0m\u001b[0;34m]\u001b[0m\u001b[0;34m,\u001b[0m \u001b[0moutput_attentions\u001b[0m\u001b[0;34m=\u001b[0m\u001b[0moutput_attentions\u001b[0m\u001b[0;34m\u001b[0m\u001b[0;34m\u001b[0m\u001b[0m\n\u001b[0m\u001b[1;32m    308\u001b[0m             )\n\u001b[1;32m    309\u001b[0m             \u001b[0mhidden_state\u001b[0m \u001b[0;34m=\u001b[0m \u001b[0mlayer_outputs\u001b[0m\u001b[0;34m[\u001b[0m\u001b[0;34m-\u001b[0m\u001b[0;36m1\u001b[0m\u001b[0;34m]\u001b[0m\u001b[0;34m\u001b[0m\u001b[0;34m\u001b[0m\u001b[0m\n",
            "\u001b[0;32m/usr/local/lib/python3.7/dist-packages/torch/nn/modules/module.py\u001b[0m in \u001b[0;36m_call_impl\u001b[0;34m(self, *input, **kwargs)\u001b[0m\n\u001b[1;32m   1049\u001b[0m         if not (self._backward_hooks or self._forward_hooks or self._forward_pre_hooks or _global_backward_hooks\n\u001b[1;32m   1050\u001b[0m                 or _global_forward_hooks or _global_forward_pre_hooks):\n\u001b[0;32m-> 1051\u001b[0;31m             \u001b[0;32mreturn\u001b[0m \u001b[0mforward_call\u001b[0m\u001b[0;34m(\u001b[0m\u001b[0;34m*\u001b[0m\u001b[0minput\u001b[0m\u001b[0;34m,\u001b[0m \u001b[0;34m**\u001b[0m\u001b[0mkwargs\u001b[0m\u001b[0;34m)\u001b[0m\u001b[0;34m\u001b[0m\u001b[0;34m\u001b[0m\u001b[0m\n\u001b[0m\u001b[1;32m   1052\u001b[0m         \u001b[0;31m# Do not call functions when jit is used\u001b[0m\u001b[0;34m\u001b[0m\u001b[0;34m\u001b[0m\u001b[0;34m\u001b[0m\u001b[0m\n\u001b[1;32m   1053\u001b[0m         \u001b[0mfull_backward_hooks\u001b[0m\u001b[0;34m,\u001b[0m \u001b[0mnon_full_backward_hooks\u001b[0m \u001b[0;34m=\u001b[0m \u001b[0;34m[\u001b[0m\u001b[0;34m]\u001b[0m\u001b[0;34m,\u001b[0m \u001b[0;34m[\u001b[0m\u001b[0;34m]\u001b[0m\u001b[0;34m\u001b[0m\u001b[0;34m\u001b[0m\u001b[0m\n",
            "\u001b[0;32m/usr/local/lib/python3.7/dist-packages/transformers/models/distilbert/modeling_distilbert.py\u001b[0m in \u001b[0;36mforward\u001b[0;34m(self, x, attn_mask, head_mask, output_attentions)\u001b[0m\n\u001b[1;32m    252\u001b[0m             \u001b[0mmask\u001b[0m\u001b[0;34m=\u001b[0m\u001b[0mattn_mask\u001b[0m\u001b[0;34m,\u001b[0m\u001b[0;34m\u001b[0m\u001b[0;34m\u001b[0m\u001b[0m\n\u001b[1;32m    253\u001b[0m             \u001b[0mhead_mask\u001b[0m\u001b[0;34m=\u001b[0m\u001b[0mhead_mask\u001b[0m\u001b[0;34m,\u001b[0m\u001b[0;34m\u001b[0m\u001b[0;34m\u001b[0m\u001b[0m\n\u001b[0;32m--> 254\u001b[0;31m             \u001b[0moutput_attentions\u001b[0m\u001b[0;34m=\u001b[0m\u001b[0moutput_attentions\u001b[0m\u001b[0;34m,\u001b[0m\u001b[0;34m\u001b[0m\u001b[0;34m\u001b[0m\u001b[0m\n\u001b[0m\u001b[1;32m    255\u001b[0m         )\n\u001b[1;32m    256\u001b[0m         \u001b[0;32mif\u001b[0m \u001b[0moutput_attentions\u001b[0m\u001b[0;34m:\u001b[0m\u001b[0;34m\u001b[0m\u001b[0;34m\u001b[0m\u001b[0m\n",
            "\u001b[0;32m/usr/local/lib/python3.7/dist-packages/torch/nn/modules/module.py\u001b[0m in \u001b[0;36m_call_impl\u001b[0;34m(self, *input, **kwargs)\u001b[0m\n\u001b[1;32m   1049\u001b[0m         if not (self._backward_hooks or self._forward_hooks or self._forward_pre_hooks or _global_backward_hooks\n\u001b[1;32m   1050\u001b[0m                 or _global_forward_hooks or _global_forward_pre_hooks):\n\u001b[0;32m-> 1051\u001b[0;31m             \u001b[0;32mreturn\u001b[0m \u001b[0mforward_call\u001b[0m\u001b[0;34m(\u001b[0m\u001b[0;34m*\u001b[0m\u001b[0minput\u001b[0m\u001b[0;34m,\u001b[0m \u001b[0;34m**\u001b[0m\u001b[0mkwargs\u001b[0m\u001b[0;34m)\u001b[0m\u001b[0;34m\u001b[0m\u001b[0;34m\u001b[0m\u001b[0m\n\u001b[0m\u001b[1;32m   1052\u001b[0m         \u001b[0;31m# Do not call functions when jit is used\u001b[0m\u001b[0;34m\u001b[0m\u001b[0;34m\u001b[0m\u001b[0;34m\u001b[0m\u001b[0m\n\u001b[1;32m   1053\u001b[0m         \u001b[0mfull_backward_hooks\u001b[0m\u001b[0;34m,\u001b[0m \u001b[0mnon_full_backward_hooks\u001b[0m \u001b[0;34m=\u001b[0m \u001b[0;34m[\u001b[0m\u001b[0;34m]\u001b[0m\u001b[0;34m,\u001b[0m \u001b[0;34m[\u001b[0m\u001b[0;34m]\u001b[0m\u001b[0;34m\u001b[0m\u001b[0;34m\u001b[0m\u001b[0m\n",
            "\u001b[0;32m/usr/local/lib/python3.7/dist-packages/transformers/models/distilbert/modeling_distilbert.py\u001b[0m in \u001b[0;36mforward\u001b[0;34m(self, query, key, value, mask, head_mask, output_attentions)\u001b[0m\n\u001b[1;32m    177\u001b[0m         \u001b[0mq\u001b[0m \u001b[0;34m=\u001b[0m \u001b[0mshape\u001b[0m\u001b[0;34m(\u001b[0m\u001b[0mself\u001b[0m\u001b[0;34m.\u001b[0m\u001b[0mq_lin\u001b[0m\u001b[0;34m(\u001b[0m\u001b[0mquery\u001b[0m\u001b[0;34m)\u001b[0m\u001b[0;34m)\u001b[0m  \u001b[0;31m# (bs, n_heads, q_length, dim_per_head)\u001b[0m\u001b[0;34m\u001b[0m\u001b[0;34m\u001b[0m\u001b[0m\n\u001b[1;32m    178\u001b[0m         \u001b[0mk\u001b[0m \u001b[0;34m=\u001b[0m \u001b[0mshape\u001b[0m\u001b[0;34m(\u001b[0m\u001b[0mself\u001b[0m\u001b[0;34m.\u001b[0m\u001b[0mk_lin\u001b[0m\u001b[0;34m(\u001b[0m\u001b[0mkey\u001b[0m\u001b[0;34m)\u001b[0m\u001b[0;34m)\u001b[0m  \u001b[0;31m# (bs, n_heads, k_length, dim_per_head)\u001b[0m\u001b[0;34m\u001b[0m\u001b[0;34m\u001b[0m\u001b[0m\n\u001b[0;32m--> 179\u001b[0;31m         \u001b[0mv\u001b[0m \u001b[0;34m=\u001b[0m \u001b[0mshape\u001b[0m\u001b[0;34m(\u001b[0m\u001b[0mself\u001b[0m\u001b[0;34m.\u001b[0m\u001b[0mv_lin\u001b[0m\u001b[0;34m(\u001b[0m\u001b[0mvalue\u001b[0m\u001b[0;34m)\u001b[0m\u001b[0;34m)\u001b[0m  \u001b[0;31m# (bs, n_heads, k_length, dim_per_head)\u001b[0m\u001b[0;34m\u001b[0m\u001b[0;34m\u001b[0m\u001b[0m\n\u001b[0m\u001b[1;32m    180\u001b[0m \u001b[0;34m\u001b[0m\u001b[0m\n\u001b[1;32m    181\u001b[0m         \u001b[0mq\u001b[0m \u001b[0;34m=\u001b[0m \u001b[0mq\u001b[0m \u001b[0;34m/\u001b[0m \u001b[0mmath\u001b[0m\u001b[0;34m.\u001b[0m\u001b[0msqrt\u001b[0m\u001b[0;34m(\u001b[0m\u001b[0mdim_per_head\u001b[0m\u001b[0;34m)\u001b[0m  \u001b[0;31m# (bs, n_heads, q_length, dim_per_head)\u001b[0m\u001b[0;34m\u001b[0m\u001b[0;34m\u001b[0m\u001b[0m\n",
            "\u001b[0;32m/usr/local/lib/python3.7/dist-packages/torch/nn/modules/module.py\u001b[0m in \u001b[0;36m_call_impl\u001b[0;34m(self, *input, **kwargs)\u001b[0m\n\u001b[1;32m   1049\u001b[0m         if not (self._backward_hooks or self._forward_hooks or self._forward_pre_hooks or _global_backward_hooks\n\u001b[1;32m   1050\u001b[0m                 or _global_forward_hooks or _global_forward_pre_hooks):\n\u001b[0;32m-> 1051\u001b[0;31m             \u001b[0;32mreturn\u001b[0m \u001b[0mforward_call\u001b[0m\u001b[0;34m(\u001b[0m\u001b[0;34m*\u001b[0m\u001b[0minput\u001b[0m\u001b[0;34m,\u001b[0m \u001b[0;34m**\u001b[0m\u001b[0mkwargs\u001b[0m\u001b[0;34m)\u001b[0m\u001b[0;34m\u001b[0m\u001b[0;34m\u001b[0m\u001b[0m\n\u001b[0m\u001b[1;32m   1052\u001b[0m         \u001b[0;31m# Do not call functions when jit is used\u001b[0m\u001b[0;34m\u001b[0m\u001b[0;34m\u001b[0m\u001b[0;34m\u001b[0m\u001b[0m\n\u001b[1;32m   1053\u001b[0m         \u001b[0mfull_backward_hooks\u001b[0m\u001b[0;34m,\u001b[0m \u001b[0mnon_full_backward_hooks\u001b[0m \u001b[0;34m=\u001b[0m \u001b[0;34m[\u001b[0m\u001b[0;34m]\u001b[0m\u001b[0;34m,\u001b[0m \u001b[0;34m[\u001b[0m\u001b[0;34m]\u001b[0m\u001b[0;34m\u001b[0m\u001b[0;34m\u001b[0m\u001b[0m\n",
            "\u001b[0;32m/usr/local/lib/python3.7/dist-packages/torch/nn/modules/linear.py\u001b[0m in \u001b[0;36mforward\u001b[0;34m(self, input)\u001b[0m\n\u001b[1;32m     94\u001b[0m \u001b[0;34m\u001b[0m\u001b[0m\n\u001b[1;32m     95\u001b[0m     \u001b[0;32mdef\u001b[0m \u001b[0mforward\u001b[0m\u001b[0;34m(\u001b[0m\u001b[0mself\u001b[0m\u001b[0;34m,\u001b[0m \u001b[0minput\u001b[0m\u001b[0;34m:\u001b[0m \u001b[0mTensor\u001b[0m\u001b[0;34m)\u001b[0m \u001b[0;34m->\u001b[0m \u001b[0mTensor\u001b[0m\u001b[0;34m:\u001b[0m\u001b[0;34m\u001b[0m\u001b[0;34m\u001b[0m\u001b[0m\n\u001b[0;32m---> 96\u001b[0;31m         \u001b[0;32mreturn\u001b[0m \u001b[0mF\u001b[0m\u001b[0;34m.\u001b[0m\u001b[0mlinear\u001b[0m\u001b[0;34m(\u001b[0m\u001b[0minput\u001b[0m\u001b[0;34m,\u001b[0m \u001b[0mself\u001b[0m\u001b[0;34m.\u001b[0m\u001b[0mweight\u001b[0m\u001b[0;34m,\u001b[0m \u001b[0mself\u001b[0m\u001b[0;34m.\u001b[0m\u001b[0mbias\u001b[0m\u001b[0;34m)\u001b[0m\u001b[0;34m\u001b[0m\u001b[0;34m\u001b[0m\u001b[0m\n\u001b[0m\u001b[1;32m     97\u001b[0m \u001b[0;34m\u001b[0m\u001b[0m\n\u001b[1;32m     98\u001b[0m     \u001b[0;32mdef\u001b[0m \u001b[0mextra_repr\u001b[0m\u001b[0;34m(\u001b[0m\u001b[0mself\u001b[0m\u001b[0;34m)\u001b[0m \u001b[0;34m->\u001b[0m \u001b[0mstr\u001b[0m\u001b[0;34m:\u001b[0m\u001b[0;34m\u001b[0m\u001b[0;34m\u001b[0m\u001b[0m\n",
            "\u001b[0;32m/usr/local/lib/python3.7/dist-packages/torch/nn/functional.py\u001b[0m in \u001b[0;36mlinear\u001b[0;34m(input, weight, bias)\u001b[0m\n\u001b[1;32m   1845\u001b[0m     \u001b[0;32mif\u001b[0m \u001b[0mhas_torch_function_variadic\u001b[0m\u001b[0;34m(\u001b[0m\u001b[0minput\u001b[0m\u001b[0;34m,\u001b[0m \u001b[0mweight\u001b[0m\u001b[0;34m)\u001b[0m\u001b[0;34m:\u001b[0m\u001b[0;34m\u001b[0m\u001b[0;34m\u001b[0m\u001b[0m\n\u001b[1;32m   1846\u001b[0m         \u001b[0;32mreturn\u001b[0m \u001b[0mhandle_torch_function\u001b[0m\u001b[0;34m(\u001b[0m\u001b[0mlinear\u001b[0m\u001b[0;34m,\u001b[0m \u001b[0;34m(\u001b[0m\u001b[0minput\u001b[0m\u001b[0;34m,\u001b[0m \u001b[0mweight\u001b[0m\u001b[0;34m)\u001b[0m\u001b[0;34m,\u001b[0m \u001b[0minput\u001b[0m\u001b[0;34m,\u001b[0m \u001b[0mweight\u001b[0m\u001b[0;34m,\u001b[0m \u001b[0mbias\u001b[0m\u001b[0;34m=\u001b[0m\u001b[0mbias\u001b[0m\u001b[0;34m)\u001b[0m\u001b[0;34m\u001b[0m\u001b[0;34m\u001b[0m\u001b[0m\n\u001b[0;32m-> 1847\u001b[0;31m     \u001b[0;32mreturn\u001b[0m \u001b[0mtorch\u001b[0m\u001b[0;34m.\u001b[0m\u001b[0m_C\u001b[0m\u001b[0;34m.\u001b[0m\u001b[0m_nn\u001b[0m\u001b[0;34m.\u001b[0m\u001b[0mlinear\u001b[0m\u001b[0;34m(\u001b[0m\u001b[0minput\u001b[0m\u001b[0;34m,\u001b[0m \u001b[0mweight\u001b[0m\u001b[0;34m,\u001b[0m \u001b[0mbias\u001b[0m\u001b[0;34m)\u001b[0m\u001b[0;34m\u001b[0m\u001b[0;34m\u001b[0m\u001b[0m\n\u001b[0m\u001b[1;32m   1848\u001b[0m \u001b[0;34m\u001b[0m\u001b[0m\n\u001b[1;32m   1849\u001b[0m \u001b[0;34m\u001b[0m\u001b[0m\n",
            "\u001b[0;31mKeyboardInterrupt\u001b[0m: "
          ]
        }
      ]
    },
    {
      "cell_type": "markdown",
      "metadata": {
        "id": "_u9y16gJOLAW"
      },
      "source": [
        "### Seguimiento del progreso en TENSORBOARD"
      ]
    },
    {
      "cell_type": "markdown",
      "metadata": {
        "id": "6x80GyOMc2hs"
      },
      "source": [
        "Si estamos trabajando en Google Colab debemos instalar ***ngrok***. Esta herramienta nos permite exponer a internet una URL generada dinámicamente, la cual apunta a un servicio web que se está ejecutando en el localhost de alguna máquina. \n",
        "\n",
        "Para acceder a la página que nos muestra el enlace de Tensorboard que por defecto apunta al puerto local 6006 de nuestra máquina local, en lugar de al puerto de la máquina virtual que nos provee Google donde está corriendo el servicio. "
      ]
    },
    {
      "cell_type": "code",
      "metadata": {
        "colab": {
          "base_uri": "https://localhost:8080/"
        },
        "id": "TPGEi2FErV_o",
        "outputId": "fac5b9eb-cb0b-4510-d27b-49e58374d082"
      },
      "source": [
        "!wget https://bin.equinox.io/c/4VmDzA7iaHb/ngrok-stable-linux-amd64.zip\n",
        "!unzip ngrok-stable-linux-amd64.zip"
      ],
      "execution_count": null,
      "outputs": [
        {
          "output_type": "stream",
          "text": [
            "--2021-07-15 21:18:05--  https://bin.equinox.io/c/4VmDzA7iaHb/ngrok-stable-linux-amd64.zip\n",
            "Resolving bin.equinox.io (bin.equinox.io)... 3.211.204.50, 52.45.37.112, 52.4.53.8, ...\n",
            "Connecting to bin.equinox.io (bin.equinox.io)|3.211.204.50|:443... connected.\n",
            "HTTP request sent, awaiting response... 200 OK\n",
            "Length: 13832437 (13M) [application/octet-stream]\n",
            "Saving to: ‘ngrok-stable-linux-amd64.zip’\n",
            "\n",
            "ngrok-stable-linux- 100%[===================>]  13.19M  33.1MB/s    in 0.4s    \n",
            "\n",
            "2021-07-15 21:18:06 (33.1 MB/s) - ‘ngrok-stable-linux-amd64.zip’ saved [13832437/13832437]\n",
            "\n",
            "Archive:  ngrok-stable-linux-amd64.zip\n",
            "replace ngrok? [y]es, [n]o, [A]ll, [N]one, [r]ename: y\n",
            "  inflating: ngrok                   \n"
          ],
          "name": "stdout"
        }
      ]
    },
    {
      "cell_type": "markdown",
      "metadata": {
        "id": "sQQhz165eoI4"
      },
      "source": [
        "La siguiente celda contienen el código necesario para crear el tunel entre el puerto 6006 de la máquina virtual y una url dinámica creada en el momento."
      ]
    },
    {
      "cell_type": "code",
      "metadata": {
        "colab": {
          "base_uri": "https://localhost:8080/"
        },
        "id": "21a0Uh1esa4L",
        "outputId": "300ca3b8-d68c-438c-faf3-519621b65c3f"
      },
      "source": [
        "#import os\n",
        "LOG_DIR = \"save\"         # va a buscar todos los archivos que haya en las subcarpetas dentro de save\n",
        "\n",
        "os.makedirs(LOG_DIR, exist_ok=True)\n",
        "get_ipython().system_raw(\n",
        "    'tensorboard --logdir {} --host 0.0.0.0 --port 6006 &'\n",
        "    .format(LOG_DIR))\n",
        "\n",
        "get_ipython().system_raw('./ngrok http 6006 &')\n",
        "! curl -s http://localhost:4040/api/tunnels | python3 -c \\\n",
        "    \"import sys, json; print(json.load(sys.stdin)['tunnels'][0]['public_url'])\""
      ],
      "execution_count": null,
      "outputs": [
        {
          "output_type": "stream",
          "text": [
            "https://d0afca7b084c.ngrok.io\n"
          ],
          "name": "stdout"
        }
      ]
    },
    {
      "cell_type": "markdown",
      "metadata": {
        "id": "jMC7qwowfEp0"
      },
      "source": [
        "En el caso que al ejecutar la celda anterior te largue un error en lugar de una url, simplemente vuelve a ejecutarla hasta que funcione.\n",
        "\n",
        "Si todo salió bien, en este momento deberíamos poder hacer click en el enlace que arrojó la celda anterior y nos derivará a una página vacía con un mensaje de error que indica que no se pudo conectar al puerto. Esto quiere decir que el tunel fue creado correctamente, pero no hay ningún servicio corriendo en el puerto al que conecta.\n",
        "\n",
        "Para correr el servicio, vamos a ejecutar la siguiente celda que que inicia el proceso de Tensorboard y, luego, volver a ingresar a la url que nos arrojó ngrok.\n",
        "\n"
      ]
    },
    {
      "cell_type": "code",
      "metadata": {
        "id": "bDXl5o55s3Rs",
        "colab": {
          "base_uri": "https://localhost:8080/"
        },
        "outputId": "c55e90bd-2ea9-49df-82cc-f7cd622c5b06"
      },
      "source": [
        "!tensorboard --logdir save # Start TensorBoard"
      ],
      "execution_count": null,
      "outputs": [
        {
          "output_type": "stream",
          "text": [
            "2021-07-15 21:18:35.308074: I tensorflow/stream_executor/platform/default/dso_loader.cc:53] Successfully opened dynamic library libcudart.so.11.0\n",
            "\n",
            "NOTE: Using experimental fast data loading logic. To disable, pass\n",
            "    \"--load_fast=false\" and report issues on GitHub. More details:\n",
            "    https://github.com/tensorflow/tensorboard/issues/4784\n",
            "\n",
            "Serving TensorBoard on localhost; to expose to the network, use a proxy or pass --bind_all\n",
            "TensorBoard 2.5.0 at http://localhost:6006/ (Press CTRL+C to quit)\n",
            "WARNING:tensorflow:FailedPreconditionError: save/baseline-02/checkpoint; Is a directory\n",
            "W0715 21:19:09.671992 140148311799552 checkpoint_management.py:295] FailedPreconditionError: save/baseline-02/checkpoint; Is a directory\n",
            "WARNING:tensorflow:save/baseline-02/checkpoint: Checkpoint ignored\n",
            "W0715 21:19:09.672298 140148311799552 checkpoint_management.py:296] save/baseline-02/checkpoint: Checkpoint ignored\n",
            "WARNING:tensorflow:FailedPreconditionError: save/baseline-01/checkpoint; Is a directory\n",
            "W0715 21:19:09.674258 140148311799552 checkpoint_management.py:295] FailedPreconditionError: save/baseline-01/checkpoint; Is a directory\n",
            "WARNING:tensorflow:save/baseline-01/checkpoint: Checkpoint ignored\n",
            "W0715 21:19:09.674405 140148311799552 checkpoint_management.py:296] save/baseline-01/checkpoint: Checkpoint ignored\n",
            "WARNING:tensorflow:FailedPreconditionError: save/checkpoint_MOE-01/checkpoint; Is a directory\n",
            "W0715 21:19:09.676425 140148311799552 checkpoint_management.py:295] FailedPreconditionError: save/checkpoint_MOE-01/checkpoint; Is a directory\n",
            "WARNING:tensorflow:save/checkpoint_MOE-01/checkpoint: Checkpoint ignored\n",
            "W0715 21:19:09.676657 140148311799552 checkpoint_management.py:296] save/checkpoint_MOE-01/checkpoint: Checkpoint ignored\n",
            "WARNING:tensorflow:FailedPreconditionError: save/checkpoint_MOE-10/checkpoint; Is a directory\n",
            "W0715 21:19:09.678739 140148311799552 checkpoint_management.py:295] FailedPreconditionError: save/checkpoint_MOE-10/checkpoint; Is a directory\n",
            "WARNING:tensorflow:save/checkpoint_MOE-10/checkpoint: Checkpoint ignored\n",
            "W0715 21:19:09.679030 140148311799552 checkpoint_management.py:296] save/checkpoint_MOE-10/checkpoint: Checkpoint ignored\n",
            "^C\n"
          ],
          "name": "stdout"
        }
      ]
    },
    {
      "cell_type": "code",
      "metadata": {
        "id": "jxUuwMDhCSEb"
      },
      "source": [
        "#val_dataset, val_dict"
      ],
      "execution_count": null,
      "outputs": []
    },
    {
      "cell_type": "code",
      "metadata": {
        "id": "8yt96B2UFXHk"
      },
      "source": [
        ""
      ],
      "execution_count": null,
      "outputs": []
    },
    {
      "cell_type": "code",
      "metadata": {
        "id": "I_SPCy2QFXKD"
      },
      "source": [
        ""
      ],
      "execution_count": null,
      "outputs": []
    },
    {
      "cell_type": "code",
      "metadata": {
        "id": "Ec9ip2UDFXNG"
      },
      "source": [
        "  "
      ],
      "execution_count": null,
      "outputs": []
    },
    {
      "cell_type": "code",
      "metadata": {
        "id": "EZ5UFdecFXOz"
      },
      "source": [
        "# PRUEBAS ENCODER_MOE"
      ],
      "execution_count": null,
      "outputs": []
    },
    {
      "cell_type": "code",
      "metadata": {
        "colab": {
          "base_uri": "https://localhost:8080/"
        },
        "id": "xo1iYCNvFZCz",
        "outputId": "5759f269-74a2-4e45-d370-ec0fcb1d8bcf"
      },
      "source": [
        "# para ver cómo son los tensores que usamos\n",
        "for XX in val_loader:\n",
        "  print(type(XX))    \n",
        "  print(XX.keys())\n",
        "  print(len(XX))     \n",
        "  break"
      ],
      "execution_count": null,
      "outputs": [
        {
          "output_type": "stream",
          "text": [
            "<class 'dict'>\n",
            "dict_keys(['input_ids', 'attention_mask'])\n",
            "2\n"
          ],
          "name": "stdout"
        }
      ]
    },
    {
      "cell_type": "code",
      "metadata": {
        "colab": {
          "base_uri": "https://localhost:8080/"
        },
        "id": "hKDuxpVaGNMN",
        "outputId": "287a593e-be4c-4226-979c-89bebe8ed4ad"
      },
      "source": [
        "encoder_MOE.eval()"
      ],
      "execution_count": null,
      "outputs": [
        {
          "output_type": "execute_result",
          "data": {
            "text/plain": [
              "Encoder_MOE(\n",
              "  (dropout): Dropout(p=0.1, inplace=False)\n",
              "  (embedding): Embedding(30522, 256)\n",
              "  (pos_encoding): Embedding(400, 256)\n",
              "  (EncoderBlocks): Sequential(\n",
              "    (block0): EncoderBlock(\n",
              "      (attention): MultiHeadAttentionLayer(\n",
              "        (fc_q): Linear(in_features=256, out_features=256, bias=True)\n",
              "        (fc_k): Linear(in_features=256, out_features=256, bias=True)\n",
              "        (fc_v): Linear(in_features=256, out_features=256, bias=True)\n",
              "        (fc_o): Linear(in_features=256, out_features=256, bias=True)\n",
              "        (dropout): Dropout(p=0.1, inplace=False)\n",
              "      )\n",
              "      (norm1): LayerNorm((256,), eps=1e-05, elementwise_affine=True)\n",
              "      (dropout): Dropout(p=0.1, inplace=False)\n",
              "      (norm2): LayerNorm((256,), eps=1e-05, elementwise_affine=True)\n",
              "      (ffd): PositionwiseFeedforwardLayer(\n",
              "        (fc_1): Linear(in_features=256, out_features=512, bias=True)\n",
              "        (fc_2): Linear(in_features=512, out_features=256, bias=True)\n",
              "        (dropout): Dropout(p=0.1, inplace=False)\n",
              "      )\n",
              "    )\n",
              "    (block1): EncoderBlock(\n",
              "      (attention): MultiHeadAttentionLayer(\n",
              "        (fc_q): Linear(in_features=256, out_features=256, bias=True)\n",
              "        (fc_k): Linear(in_features=256, out_features=256, bias=True)\n",
              "        (fc_v): Linear(in_features=256, out_features=256, bias=True)\n",
              "        (fc_o): Linear(in_features=256, out_features=256, bias=True)\n",
              "        (dropout): Dropout(p=0.1, inplace=False)\n",
              "      )\n",
              "      (norm1): LayerNorm((256,), eps=1e-05, elementwise_affine=True)\n",
              "      (dropout): Dropout(p=0.1, inplace=False)\n",
              "      (norm2): LayerNorm((256,), eps=1e-05, elementwise_affine=True)\n",
              "      (ffd): PositionwiseFeedforwardLayer(\n",
              "        (fc_1): Linear(in_features=256, out_features=512, bias=True)\n",
              "        (fc_2): Linear(in_features=512, out_features=256, bias=True)\n",
              "        (dropout): Dropout(p=0.1, inplace=False)\n",
              "      )\n",
              "    )\n",
              "    (block2): EncoderBlock(\n",
              "      (attention): MultiHeadAttentionLayer(\n",
              "        (fc_q): Linear(in_features=256, out_features=256, bias=True)\n",
              "        (fc_k): Linear(in_features=256, out_features=256, bias=True)\n",
              "        (fc_v): Linear(in_features=256, out_features=256, bias=True)\n",
              "        (fc_o): Linear(in_features=256, out_features=256, bias=True)\n",
              "        (dropout): Dropout(p=0.1, inplace=False)\n",
              "      )\n",
              "      (norm1): LayerNorm((256,), eps=1e-05, elementwise_affine=True)\n",
              "      (dropout): Dropout(p=0.1, inplace=False)\n",
              "      (norm2): LayerNorm((256,), eps=1e-05, elementwise_affine=True)\n",
              "      (ffd): PositionwiseFeedforwardLayer(\n",
              "        (fc_1): Linear(in_features=256, out_features=512, bias=True)\n",
              "        (fc_2): Linear(in_features=512, out_features=256, bias=True)\n",
              "        (dropout): Dropout(p=0.1, inplace=False)\n",
              "      )\n",
              "    )\n",
              "  )\n",
              "  (fc_out1): Linear(in_features=256, out_features=3, bias=True)\n",
              "  (fc_out2): Linear(in_features=384, out_features=1, bias=True)\n",
              ")"
            ]
          },
          "metadata": {
            "tags": []
          },
          "execution_count": 25
        }
      ]
    },
    {
      "cell_type": "code",
      "metadata": {
        "colab": {
          "base_uri": "https://localhost:8080/"
        },
        "id": "fnAI9FygGziR",
        "outputId": "4d6eda22-b91b-4b0c-cdec-8c44fe099894"
      },
      "source": [
        "XX.keys()"
      ],
      "execution_count": null,
      "outputs": [
        {
          "output_type": "execute_result",
          "data": {
            "text/plain": [
              "dict_keys(['input_ids', 'attention_mask'])"
            ]
          },
          "metadata": {
            "tags": []
          },
          "execution_count": 26
        }
      ]
    },
    {
      "cell_type": "code",
      "metadata": {
        "colab": {
          "base_uri": "https://localhost:8080/"
        },
        "id": "JcYXVG4EGfX3",
        "outputId": "291e9d97-2ffe-40d7-cf06-028962756e60"
      },
      "source": [
        "XX['input_ids']"
      ],
      "execution_count": null,
      "outputs": [
        {
          "output_type": "execute_result",
          "data": {
            "text/plain": [
              "tensor([[ 101, 2029, 5088,  ...,    0,    0,    0],\n",
              "        [ 101, 2029, 5088,  ...,    0,    0,    0],\n",
              "        [ 101, 2073, 2106,  ...,    0,    0,    0],\n",
              "        ...,\n",
              "        [ 101, 2054, 2001,  ...,    0,    0,    0],\n",
              "        [ 101, 2054, 2154,  ...,    0,    0,    0],\n",
              "        [ 101, 2054, 2003,  ...,    0,    0,    0]])"
            ]
          },
          "metadata": {
            "tags": []
          },
          "execution_count": 27
        }
      ]
    },
    {
      "cell_type": "code",
      "metadata": {
        "colab": {
          "base_uri": "https://localhost:8080/"
        },
        "id": "Y3kSv4e0GxRR",
        "outputId": "a12a9929-3d37-4c45-f26c-2ece52b8c367"
      },
      "source": [
        "XX['attention_mask']"
      ],
      "execution_count": null,
      "outputs": [
        {
          "output_type": "execute_result",
          "data": {
            "text/plain": [
              "tensor([[1, 1, 1,  ..., 0, 0, 0],\n",
              "        [1, 1, 1,  ..., 0, 0, 0],\n",
              "        [1, 1, 1,  ..., 0, 0, 0],\n",
              "        ...,\n",
              "        [1, 1, 1,  ..., 0, 0, 0],\n",
              "        [1, 1, 1,  ..., 0, 0, 0],\n",
              "        [1, 1, 1,  ..., 0, 0, 0]])"
            ]
          },
          "metadata": {
            "tags": []
          },
          "execution_count": 28
        }
      ]
    },
    {
      "cell_type": "code",
      "metadata": {
        "id": "D5B2PKhNGfaZ"
      },
      "source": [
        "input_ids = XX['input_ids'].to(device)\n",
        "attention_mask = XX['attention_mask'].to(device)"
      ],
      "execution_count": null,
      "outputs": []
    },
    {
      "cell_type": "code",
      "metadata": {
        "id": "UZwKhLYJGfdf"
      },
      "source": [
        ""
      ],
      "execution_count": null,
      "outputs": []
    },
    {
      "cell_type": "code",
      "metadata": {
        "id": "yoiX7nhtGffj"
      },
      "source": [
        "salida_softmax = encoder_MOE(input_ids, attention_mask)"
      ],
      "execution_count": null,
      "outputs": []
    },
    {
      "cell_type": "code",
      "metadata": {
        "colab": {
          "base_uri": "https://localhost:8080/"
        },
        "id": "ZrHQemkRGfhq",
        "outputId": "26ad50a2-eb64-4cf1-f115-72813877a391"
      },
      "source": [
        "salida_softmax"
      ],
      "execution_count": null,
      "outputs": [
        {
          "output_type": "execute_result",
          "data": {
            "text/plain": [
              "tensor([[8.4006e-12, 5.2597e-12, 1.0000e+00],\n",
              "        [8.5322e-12, 5.2139e-12, 1.0000e+00],\n",
              "        [8.4911e-12, 7.4982e-12, 1.0000e+00],\n",
              "        [8.8323e-12, 7.2467e-12, 1.0000e+00],\n",
              "        [5.4804e-12, 7.8797e-12, 1.0000e+00],\n",
              "        [6.6381e-12, 7.7797e-12, 1.0000e+00],\n",
              "        [8.0416e-12, 6.8953e-12, 1.0000e+00],\n",
              "        [5.4199e-12, 5.4501e-12, 1.0000e+00]], device='cuda:0',\n",
              "       grad_fn=<SoftmaxBackward>)"
            ]
          },
          "metadata": {
            "tags": []
          },
          "execution_count": 31
        }
      ]
    },
    {
      "cell_type": "code",
      "metadata": {
        "colab": {
          "base_uri": "https://localhost:8080/"
        },
        "id": "YDPBVQ2aomvr",
        "outputId": "c7ff01da-67a3-4d5d-9688-b4782b9e5171"
      },
      "source": [
        "salida_softmax.half().sum(0)"
      ],
      "execution_count": null,
      "outputs": [
        {
          "output_type": "execute_result",
          "data": {
            "text/plain": [
              "tensor([0., 0., 8.], device='cuda:0', dtype=torch.float16,\n",
              "       grad_fn=<SumBackward1>)"
            ]
          },
          "metadata": {
            "tags": []
          },
          "execution_count": 37
        }
      ]
    },
    {
      "cell_type": "code",
      "metadata": {
        "id": "Hm0MnLuKrPMy"
      },
      "source": [
        "y=0"
      ],
      "execution_count": null,
      "outputs": []
    },
    {
      "cell_type": "code",
      "metadata": {
        "id": "au1MvtuTR0z5"
      },
      "source": [
        "y += salida_softmax.half().sum(0)"
      ],
      "execution_count": null,
      "outputs": []
    },
    {
      "cell_type": "code",
      "metadata": {
        "colab": {
          "base_uri": "https://localhost:8080/"
        },
        "id": "Z5qduy1GIibc",
        "outputId": "eeb0682e-2715-4685-8917-edd9021a0056"
      },
      "source": [
        "y"
      ],
      "execution_count": null,
      "outputs": [
        {
          "output_type": "execute_result",
          "data": {
            "text/plain": [
              "tensor([ 0.,  0., 16.], device='cuda:0', dtype=torch.float16,\n",
              "       grad_fn=<AddBackward0>)"
            ]
          },
          "metadata": {
            "tags": []
          },
          "execution_count": 49
        }
      ]
    },
    {
      "cell_type": "code",
      "metadata": {
        "colab": {
          "base_uri": "https://localhost:8080/"
        },
        "id": "4Nl-uXDHgh1e",
        "outputId": "eba720c7-14c3-4752-c213-9f371f18a708"
      },
      "source": [
        "device = torch.device('cuda') if torch.cuda.is_available() else torch.device('cpu')\n",
        "encoder_MOE.to(device)"
      ],
      "execution_count": null,
      "outputs": [
        {
          "output_type": "execute_result",
          "data": {
            "text/plain": [
              "Encoder_MOE(\n",
              "  (dropout): Dropout(p=0.1, inplace=False)\n",
              "  (embedding): Embedding(30522, 256)\n",
              "  (pos_encoding): Embedding(400, 256)\n",
              "  (EncoderBlocks): Sequential(\n",
              "    (block0): EncoderBlock(\n",
              "      (attention): MultiHeadAttentionLayer(\n",
              "        (fc_q): Linear(in_features=256, out_features=256, bias=True)\n",
              "        (fc_k): Linear(in_features=256, out_features=256, bias=True)\n",
              "        (fc_v): Linear(in_features=256, out_features=256, bias=True)\n",
              "        (fc_o): Linear(in_features=256, out_features=256, bias=True)\n",
              "        (dropout): Dropout(p=0.1, inplace=False)\n",
              "      )\n",
              "      (norm1): LayerNorm((256,), eps=1e-05, elementwise_affine=True)\n",
              "      (dropout): Dropout(p=0.1, inplace=False)\n",
              "      (norm2): LayerNorm((256,), eps=1e-05, elementwise_affine=True)\n",
              "      (ffd): PositionwiseFeedforwardLayer(\n",
              "        (fc_1): Linear(in_features=256, out_features=512, bias=True)\n",
              "        (fc_2): Linear(in_features=512, out_features=256, bias=True)\n",
              "        (dropout): Dropout(p=0.1, inplace=False)\n",
              "      )\n",
              "    )\n",
              "    (block1): EncoderBlock(\n",
              "      (attention): MultiHeadAttentionLayer(\n",
              "        (fc_q): Linear(in_features=256, out_features=256, bias=True)\n",
              "        (fc_k): Linear(in_features=256, out_features=256, bias=True)\n",
              "        (fc_v): Linear(in_features=256, out_features=256, bias=True)\n",
              "        (fc_o): Linear(in_features=256, out_features=256, bias=True)\n",
              "        (dropout): Dropout(p=0.1, inplace=False)\n",
              "      )\n",
              "      (norm1): LayerNorm((256,), eps=1e-05, elementwise_affine=True)\n",
              "      (dropout): Dropout(p=0.1, inplace=False)\n",
              "      (norm2): LayerNorm((256,), eps=1e-05, elementwise_affine=True)\n",
              "      (ffd): PositionwiseFeedforwardLayer(\n",
              "        (fc_1): Linear(in_features=256, out_features=512, bias=True)\n",
              "        (fc_2): Linear(in_features=512, out_features=256, bias=True)\n",
              "        (dropout): Dropout(p=0.1, inplace=False)\n",
              "      )\n",
              "    )\n",
              "    (block2): EncoderBlock(\n",
              "      (attention): MultiHeadAttentionLayer(\n",
              "        (fc_q): Linear(in_features=256, out_features=256, bias=True)\n",
              "        (fc_k): Linear(in_features=256, out_features=256, bias=True)\n",
              "        (fc_v): Linear(in_features=256, out_features=256, bias=True)\n",
              "        (fc_o): Linear(in_features=256, out_features=256, bias=True)\n",
              "        (dropout): Dropout(p=0.1, inplace=False)\n",
              "      )\n",
              "      (norm1): LayerNorm((256,), eps=1e-05, elementwise_affine=True)\n",
              "      (dropout): Dropout(p=0.1, inplace=False)\n",
              "      (norm2): LayerNorm((256,), eps=1e-05, elementwise_affine=True)\n",
              "      (ffd): PositionwiseFeedforwardLayer(\n",
              "        (fc_1): Linear(in_features=256, out_features=512, bias=True)\n",
              "        (fc_2): Linear(in_features=512, out_features=256, bias=True)\n",
              "        (dropout): Dropout(p=0.1, inplace=False)\n",
              "      )\n",
              "    )\n",
              "  )\n",
              "  (fc_out1): Linear(in_features=256, out_features=3, bias=True)\n",
              "  (fc_out2): Linear(in_features=384, out_features=1, bias=True)\n",
              ")"
            ]
          },
          "metadata": {
            "tags": []
          },
          "execution_count": 64
        }
      ]
    },
    {
      "cell_type": "code",
      "metadata": {
        "id": "aStvtB_YrTC8"
      },
      "source": [
        "len(val_loader)"
      ],
      "execution_count": null,
      "outputs": []
    },
    {
      "cell_type": "code",
      "metadata": {
        "colab": {
          "base_uri": "https://localhost:8080/",
          "height": 395
        },
        "id": "vOU5WrVdGfkF",
        "outputId": "5b5cae6d-005b-4021-ed28-25fd61b13b29"
      },
      "source": [
        "suma=0\n",
        "i=0\n",
        "for XX in val_loader:\n",
        "  #print(type(XX))    \n",
        "  #print(XX.keys())\n",
        "  #print(len(XX))     \n",
        "  input_ids = XX['input_ids']\n",
        "  attention_mask = XX['attention_mask'].to(device)\n",
        "  salida_softmax = encoder_MOE(input_ids, attention_mask)\n",
        "  suma += salida_softmax.half().sum(0)\n",
        "  if i == 100:\n",
        "    break\n",
        "  i +=1\n",
        "  #print(salida_softmax)\n",
        "  "
      ],
      "execution_count": null,
      "outputs": [
        {
          "output_type": "error",
          "ename": "RuntimeError",
          "evalue": "ignored",
          "traceback": [
            "\u001b[0;31m---------------------------------------------------------------------------\u001b[0m",
            "\u001b[0;31mRuntimeError\u001b[0m                              Traceback (most recent call last)",
            "\u001b[0;32m<ipython-input-52-c4250248277e>\u001b[0m in \u001b[0;36m<module>\u001b[0;34m()\u001b[0m\n\u001b[1;32m      7\u001b[0m   \u001b[0minput_ids\u001b[0m \u001b[0;34m=\u001b[0m \u001b[0mXX\u001b[0m\u001b[0;34m[\u001b[0m\u001b[0;34m'input_ids'\u001b[0m\u001b[0;34m]\u001b[0m\u001b[0;34m.\u001b[0m\u001b[0mto\u001b[0m\u001b[0;34m(\u001b[0m\u001b[0mdevice\u001b[0m\u001b[0;34m)\u001b[0m\u001b[0;34m\u001b[0m\u001b[0;34m\u001b[0m\u001b[0m\n\u001b[1;32m      8\u001b[0m   \u001b[0mattention_mask\u001b[0m \u001b[0;34m=\u001b[0m \u001b[0mXX\u001b[0m\u001b[0;34m[\u001b[0m\u001b[0;34m'attention_mask'\u001b[0m\u001b[0;34m]\u001b[0m\u001b[0;34m.\u001b[0m\u001b[0mto\u001b[0m\u001b[0;34m(\u001b[0m\u001b[0mdevice\u001b[0m\u001b[0;34m)\u001b[0m\u001b[0;34m\u001b[0m\u001b[0;34m\u001b[0m\u001b[0m\n\u001b[0;32m----> 9\u001b[0;31m   \u001b[0msalida_softmax\u001b[0m \u001b[0;34m=\u001b[0m \u001b[0mencoder_MOE\u001b[0m\u001b[0;34m(\u001b[0m\u001b[0minput_ids\u001b[0m\u001b[0;34m,\u001b[0m \u001b[0mattention_mask\u001b[0m\u001b[0;34m)\u001b[0m\u001b[0;34m\u001b[0m\u001b[0;34m\u001b[0m\u001b[0m\n\u001b[0m\u001b[1;32m     10\u001b[0m   \u001b[0msuma\u001b[0m \u001b[0;34m+=\u001b[0m \u001b[0msalida_softmax\u001b[0m\u001b[0;34m.\u001b[0m\u001b[0mhalf\u001b[0m\u001b[0;34m(\u001b[0m\u001b[0;34m)\u001b[0m\u001b[0;34m.\u001b[0m\u001b[0msum\u001b[0m\u001b[0;34m(\u001b[0m\u001b[0;36m0\u001b[0m\u001b[0;34m)\u001b[0m\u001b[0;34m\u001b[0m\u001b[0;34m\u001b[0m\u001b[0m\n\u001b[1;32m     11\u001b[0m   \u001b[0;32mif\u001b[0m \u001b[0mi\u001b[0m \u001b[0;34m==\u001b[0m \u001b[0;36m100\u001b[0m\u001b[0;34m:\u001b[0m\u001b[0;34m\u001b[0m\u001b[0;34m\u001b[0m\u001b[0m\n",
            "\u001b[0;32m/usr/local/lib/python3.7/dist-packages/torch/nn/modules/module.py\u001b[0m in \u001b[0;36m_call_impl\u001b[0;34m(self, *input, **kwargs)\u001b[0m\n\u001b[1;32m   1049\u001b[0m         if not (self._backward_hooks or self._forward_hooks or self._forward_pre_hooks or _global_backward_hooks\n\u001b[1;32m   1050\u001b[0m                 or _global_forward_hooks or _global_forward_pre_hooks):\n\u001b[0;32m-> 1051\u001b[0;31m             \u001b[0;32mreturn\u001b[0m \u001b[0mforward_call\u001b[0m\u001b[0;34m(\u001b[0m\u001b[0;34m*\u001b[0m\u001b[0minput\u001b[0m\u001b[0;34m,\u001b[0m \u001b[0;34m**\u001b[0m\u001b[0mkwargs\u001b[0m\u001b[0;34m)\u001b[0m\u001b[0;34m\u001b[0m\u001b[0;34m\u001b[0m\u001b[0m\n\u001b[0m\u001b[1;32m   1052\u001b[0m         \u001b[0;31m# Do not call functions when jit is used\u001b[0m\u001b[0;34m\u001b[0m\u001b[0;34m\u001b[0m\u001b[0;34m\u001b[0m\u001b[0m\n\u001b[1;32m   1053\u001b[0m         \u001b[0mfull_backward_hooks\u001b[0m\u001b[0;34m,\u001b[0m \u001b[0mnon_full_backward_hooks\u001b[0m \u001b[0;34m=\u001b[0m \u001b[0;34m[\u001b[0m\u001b[0;34m]\u001b[0m\u001b[0;34m,\u001b[0m \u001b[0;34m[\u001b[0m\u001b[0;34m]\u001b[0m\u001b[0;34m\u001b[0m\u001b[0;34m\u001b[0m\u001b[0m\n",
            "\u001b[0;32m<ipython-input-12-04a48c88522a>\u001b[0m in \u001b[0;36mforward\u001b[0;34m(self, src, src_mask)\u001b[0m\n\u001b[1;32m     72\u001b[0m \u001b[0;34m\u001b[0m\u001b[0m\n\u001b[1;32m     73\u001b[0m         \u001b[0;32mfor\u001b[0m \u001b[0mblk\u001b[0m \u001b[0;32min\u001b[0m \u001b[0mself\u001b[0m\u001b[0;34m.\u001b[0m\u001b[0mEncoderBlocks\u001b[0m\u001b[0;34m:\u001b[0m\u001b[0;34m\u001b[0m\u001b[0;34m\u001b[0m\u001b[0m\n\u001b[0;32m---> 74\u001b[0;31m             \u001b[0msrc\u001b[0m \u001b[0;34m=\u001b[0m \u001b[0mblk\u001b[0m\u001b[0;34m(\u001b[0m\u001b[0msrc\u001b[0m\u001b[0;34m,\u001b[0m \u001b[0msrc_mask\u001b[0m\u001b[0;34m)\u001b[0m\u001b[0;34m\u001b[0m\u001b[0;34m\u001b[0m\u001b[0m\n\u001b[0m\u001b[1;32m     75\u001b[0m \u001b[0;34m\u001b[0m\u001b[0m\n\u001b[1;32m     76\u001b[0m         \u001b[0;32mpass\u001b[0m\u001b[0;34m\u001b[0m\u001b[0;34m\u001b[0m\u001b[0m\n",
            "\u001b[0;32m/usr/local/lib/python3.7/dist-packages/torch/nn/modules/module.py\u001b[0m in \u001b[0;36m_call_impl\u001b[0;34m(self, *input, **kwargs)\u001b[0m\n\u001b[1;32m   1049\u001b[0m         if not (self._backward_hooks or self._forward_hooks or self._forward_pre_hooks or _global_backward_hooks\n\u001b[1;32m   1050\u001b[0m                 or _global_forward_hooks or _global_forward_pre_hooks):\n\u001b[0;32m-> 1051\u001b[0;31m             \u001b[0;32mreturn\u001b[0m \u001b[0mforward_call\u001b[0m\u001b[0;34m(\u001b[0m\u001b[0;34m*\u001b[0m\u001b[0minput\u001b[0m\u001b[0;34m,\u001b[0m \u001b[0;34m**\u001b[0m\u001b[0mkwargs\u001b[0m\u001b[0;34m)\u001b[0m\u001b[0;34m\u001b[0m\u001b[0;34m\u001b[0m\u001b[0m\n\u001b[0m\u001b[1;32m   1052\u001b[0m         \u001b[0;31m# Do not call functions when jit is used\u001b[0m\u001b[0;34m\u001b[0m\u001b[0;34m\u001b[0m\u001b[0;34m\u001b[0m\u001b[0m\n\u001b[1;32m   1053\u001b[0m         \u001b[0mfull_backward_hooks\u001b[0m\u001b[0;34m,\u001b[0m \u001b[0mnon_full_backward_hooks\u001b[0m \u001b[0;34m=\u001b[0m \u001b[0;34m[\u001b[0m\u001b[0;34m]\u001b[0m\u001b[0;34m,\u001b[0m \u001b[0;34m[\u001b[0m\u001b[0;34m]\u001b[0m\u001b[0;34m\u001b[0m\u001b[0;34m\u001b[0m\u001b[0m\n",
            "\u001b[0;32m<ipython-input-10-b81f06758e42>\u001b[0m in \u001b[0;36mforward\u001b[0;34m(self, src, src_mask)\u001b[0m\n\u001b[1;32m     29\u001b[0m         \u001b[0;31m#src_mask = [batch size, 1, 1, src len]\u001b[0m\u001b[0;34m\u001b[0m\u001b[0;34m\u001b[0m\u001b[0;34m\u001b[0m\u001b[0m\n\u001b[1;32m     30\u001b[0m \u001b[0;34m\u001b[0m\u001b[0m\n\u001b[0;32m---> 31\u001b[0;31m         \u001b[0msrc_att\u001b[0m\u001b[0;34m,\u001b[0m \u001b[0matt\u001b[0m \u001b[0;34m=\u001b[0m \u001b[0mself\u001b[0m\u001b[0;34m.\u001b[0m\u001b[0mattention\u001b[0m\u001b[0;34m(\u001b[0m\u001b[0msrc\u001b[0m\u001b[0;34m,\u001b[0m \u001b[0msrc\u001b[0m\u001b[0;34m,\u001b[0m \u001b[0msrc\u001b[0m\u001b[0;34m,\u001b[0m \u001b[0msrc_mask\u001b[0m\u001b[0;34m)\u001b[0m\u001b[0;34m\u001b[0m\u001b[0;34m\u001b[0m\u001b[0m\n\u001b[0m\u001b[1;32m     32\u001b[0m         \u001b[0msrc_att_drop\u001b[0m \u001b[0;34m=\u001b[0m \u001b[0mself\u001b[0m\u001b[0;34m.\u001b[0m\u001b[0mdropout\u001b[0m\u001b[0;34m(\u001b[0m\u001b[0msrc_att\u001b[0m\u001b[0;34m)\u001b[0m\u001b[0;34m\u001b[0m\u001b[0;34m\u001b[0m\u001b[0m\n\u001b[1;32m     33\u001b[0m         \u001b[0msrc_att_drop_res\u001b[0m \u001b[0;34m=\u001b[0m \u001b[0msrc_att_drop\u001b[0m \u001b[0;34m+\u001b[0m \u001b[0msrc\u001b[0m \u001b[0;31m# LA CONEXIÓN RESIDUAL ES SUMAR LA ENTRADA A LA SALIDA\u001b[0m\u001b[0;34m\u001b[0m\u001b[0;34m\u001b[0m\u001b[0m\n",
            "\u001b[0;32m/usr/local/lib/python3.7/dist-packages/torch/nn/modules/module.py\u001b[0m in \u001b[0;36m_call_impl\u001b[0;34m(self, *input, **kwargs)\u001b[0m\n\u001b[1;32m   1049\u001b[0m         if not (self._backward_hooks or self._forward_hooks or self._forward_pre_hooks or _global_backward_hooks\n\u001b[1;32m   1050\u001b[0m                 or _global_forward_hooks or _global_forward_pre_hooks):\n\u001b[0;32m-> 1051\u001b[0;31m             \u001b[0;32mreturn\u001b[0m \u001b[0mforward_call\u001b[0m\u001b[0;34m(\u001b[0m\u001b[0;34m*\u001b[0m\u001b[0minput\u001b[0m\u001b[0;34m,\u001b[0m \u001b[0;34m**\u001b[0m\u001b[0mkwargs\u001b[0m\u001b[0;34m)\u001b[0m\u001b[0;34m\u001b[0m\u001b[0;34m\u001b[0m\u001b[0m\n\u001b[0m\u001b[1;32m   1052\u001b[0m         \u001b[0;31m# Do not call functions when jit is used\u001b[0m\u001b[0;34m\u001b[0m\u001b[0;34m\u001b[0m\u001b[0;34m\u001b[0m\u001b[0m\n\u001b[1;32m   1053\u001b[0m         \u001b[0mfull_backward_hooks\u001b[0m\u001b[0;34m,\u001b[0m \u001b[0mnon_full_backward_hooks\u001b[0m \u001b[0;34m=\u001b[0m \u001b[0;34m[\u001b[0m\u001b[0;34m]\u001b[0m\u001b[0;34m,\u001b[0m \u001b[0;34m[\u001b[0m\u001b[0;34m]\u001b[0m\u001b[0;34m\u001b[0m\u001b[0;34m\u001b[0m\u001b[0m\n",
            "\u001b[0;32m<ipython-input-8-c109d2cbd0f3>\u001b[0m in \u001b[0;36mforward\u001b[0;34m(self, query, key, value, mask)\u001b[0m\n\u001b[1;32m     44\u001b[0m         \u001b[0;31m#V = [batch size, n heads, value len, head dim]\u001b[0m\u001b[0;34m\u001b[0m\u001b[0;34m\u001b[0m\u001b[0;34m\u001b[0m\u001b[0m\n\u001b[1;32m     45\u001b[0m \u001b[0;34m\u001b[0m\u001b[0m\n\u001b[0;32m---> 46\u001b[0;31m         \u001b[0menergy\u001b[0m \u001b[0;34m=\u001b[0m \u001b[0mtorch\u001b[0m\u001b[0;34m.\u001b[0m\u001b[0mmatmul\u001b[0m\u001b[0;34m(\u001b[0m\u001b[0mQ\u001b[0m\u001b[0;34m,\u001b[0m \u001b[0mK\u001b[0m\u001b[0;34m.\u001b[0m\u001b[0mpermute\u001b[0m\u001b[0;34m(\u001b[0m\u001b[0;36m0\u001b[0m\u001b[0;34m,\u001b[0m \u001b[0;36m1\u001b[0m\u001b[0;34m,\u001b[0m \u001b[0;36m3\u001b[0m\u001b[0;34m,\u001b[0m \u001b[0;36m2\u001b[0m\u001b[0;34m)\u001b[0m\u001b[0;34m)\u001b[0m \u001b[0;34m/\u001b[0m \u001b[0mself\u001b[0m\u001b[0;34m.\u001b[0m\u001b[0mscale\u001b[0m\u001b[0;34m\u001b[0m\u001b[0;34m\u001b[0m\u001b[0m\n\u001b[0m\u001b[1;32m     47\u001b[0m \u001b[0;34m\u001b[0m\u001b[0m\n\u001b[1;32m     48\u001b[0m         \u001b[0;31m#energy = [batch size, n heads, query len, key len]\u001b[0m\u001b[0;34m\u001b[0m\u001b[0;34m\u001b[0m\u001b[0;34m\u001b[0m\u001b[0m\n",
            "\u001b[0;31mRuntimeError\u001b[0m: CUDA out of memory. Tried to allocate 36.00 MiB (GPU 0; 14.76 GiB total capacity; 13.17 GiB already allocated; 17.75 MiB free; 13.69 GiB reserved in total by PyTorch)"
          ]
        }
      ]
    },
    {
      "cell_type": "code",
      "metadata": {
        "id": "fch5dV_zGfmZ"
      },
      "source": [
        ""
      ],
      "execution_count": null,
      "outputs": []
    }
  ]
}