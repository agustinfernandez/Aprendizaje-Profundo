{
  "nbformat": 4,
  "nbformat_minor": 0,
  "metadata": {
    "accelerator": "GPU",
    "colab": {
      "name": "tp2para entregar.ipynb",
      "provenance": [],
      "collapsed_sections": [
        "lElEdn8dcPiS"
      ]
    },
    "kernelspec": {
      "display_name": "env",
      "language": "python",
      "name": "env"
    },
    "language_info": {
      "codemirror_mode": {
        "name": "ipython",
        "version": 3
      },
      "file_extension": ".py",
      "mimetype": "text/x-python",
      "name": "python",
      "nbconvert_exporter": "python",
      "pygments_lexer": "ipython3",
      "version": "3.6.12"
    }
  },
  "cells": [
    {
      "cell_type": "markdown",
      "metadata": {
        "id": "j4fz0O8qrJtu"
      },
      "source": [
        "# Integrantes\n",
        "\n",
        "-Martín Kondratzky\n",
        "\n",
        "-Agustín Fernández\n",
        "\n",
        "# Librerias & Datos"
      ]
    },
    {
      "cell_type": "code",
      "metadata": {
        "id": "VE355vrLTP7N"
      },
      "source": [
        "import torch\n"
      ],
      "execution_count": null,
      "outputs": []
    },
    {
      "cell_type": "code",
      "metadata": {
        "colab": {
          "base_uri": "https://localhost:8080/"
        },
        "id": "yRTYgNTtj6oP",
        "outputId": "314f9c82-b88c-4897-b558-be13f54bf57b"
      },
      "source": [
        "#!pip install d2l\n",
        "#!mkdir ~/.kaggle\n",
        "#!touch ~/.kaggle/kaggle.json\n",
        "#!pip install pycountry_convert\n",
        "\n",
        "import torch\n",
        "from torch import nn\n",
        "import pandas as pd\n",
        "import numpy as np\n",
        "from d2l import torch as d2l\n",
        "import json\n",
        "#from google.colab import files\n",
        "import pycountry_convert as pc\n",
        "from IPython import display\n",
        "from torch.optim import lr_scheduler\n",
        "\n",
        "\n",
        "#api_token = {\"username\":\"k0ndr4\",\"key\":\"9ec1191895c870bb0505c7918e027ba7\"}\n",
        "#with open('/root/.kaggle/kaggle.json', 'w') as file:\n",
        "#    json.dump(api_token, file)\n",
        "\n",
        "#!chmod 600 ~/.kaggle/kaggle.json\n",
        "#!kaggle competitions download -c tp-n2-aprendizaje-profundo-2021-by-datitos-v2\n",
        "#!unzip fifa2021_test.csv.zip\n",
        "#!unzip fifa2021_training.csv.zip\n",
        "\n",
        "# Cargamos archivos \n",
        "train_data = pd.read_csv('fifa2021_training.csv')\n",
        "test_data = pd.read_csv('fifa2021_test.csv')\n",
        "print(train_data.shape)\n",
        "print(test_data.shape)"
      ],
      "execution_count": null,
      "outputs": [
        {
          "output_type": "stream",
          "text": [
            "(13921, 53)\n",
            "(5909, 52)\n"
          ],
          "name": "stdout"
        }
      ]
    },
    {
      "cell_type": "markdown",
      "metadata": {
        "id": "pIvwjpJxvQR9"
      },
      "source": [
        "# Preprocesamiento"
      ]
    },
    {
      "cell_type": "code",
      "metadata": {
        "colab": {
          "base_uri": "https://localhost:8080/",
          "height": 296
        },
        "id": "kUnNILpppBM8",
        "outputId": "265f6f72-5d02-400e-bdb2-d1070a79695b"
      },
      "source": [
        "#Agregamos una columna de continentes. Esto lo hicimos creyendo que la diferencia física por regiones podía ser un factor importante a la hora de reconocer\n",
        "#el posicionamiento de los jugadores en el campo.  \n",
        "\n",
        "def country_to_continent(country_name):\n",
        "    try:\n",
        "        country_alpha2 = pc.country_name_to_country_alpha2(country_name)\n",
        "        country_continent_code = pc.country_alpha2_to_continent_code(country_alpha2)\n",
        "        country_continent_name = pc.convert_continent_code_to_continent_name(country_continent_code)\n",
        "        return country_continent_name\n",
        "    except:\n",
        "        d = {'Korea Republic': 'Asia',\n",
        "             'Wales': 'Europe',\n",
        "             'Bosnia & Herzegovina': 'Europe'}\n",
        "        pass#return d[country_name]\n",
        "\n",
        "# Example\n",
        "country_name = 'England'\n",
        "print(country_to_continent(country_name))\n",
        "\n",
        "#Concatenamos data sets y eliminamos columnas que no aportan información\n",
        "all_features = pd.concat((train_data.iloc[:, :-1], test_data))\n",
        "all_features['Continent'] = [country_to_continent(i) for i in all_features['Natinality'].values]\n",
        "\n",
        "features_to_drop = ['ID',\n",
        "                    'Name',\n",
        "                    'Club',\n",
        "                    'BirthDate',\n",
        "                    'Club_KitNumber',\n",
        "                    'Club_JoinedClub',\n",
        "                    'Club_ContractLength',\n",
        "                    'Natinality',\n",
        "                    ]\n",
        "\n",
        "all_features = all_features.drop(features_to_drop, axis=1)\n",
        "all_features.head()\n",
        "\n",
        "#Visualizamos tipos de datos de nuestro data frame\n",
        "#all_features.dtypes\n",
        "\n",
        "#Contabilizamos valores nulos\n",
        "#all_features.isna().sum()"
      ],
      "execution_count": null,
      "outputs": [
        {
          "output_type": "stream",
          "text": [
            "None\n"
          ],
          "name": "stdout"
        },
        {
          "output_type": "execute_result",
          "data": {
            "text/html": [
              "<div>\n",
              "<style scoped>\n",
              "    .dataframe tbody tr th:only-of-type {\n",
              "        vertical-align: middle;\n",
              "    }\n",
              "\n",
              "    .dataframe tbody tr th {\n",
              "        vertical-align: top;\n",
              "    }\n",
              "\n",
              "    .dataframe thead th {\n",
              "        text-align: right;\n",
              "    }\n",
              "</style>\n",
              "<table border=\"1\" class=\"dataframe\">\n",
              "  <thead>\n",
              "    <tr style=\"text-align: right;\">\n",
              "      <th></th>\n",
              "      <th>Overal</th>\n",
              "      <th>Potential</th>\n",
              "      <th>Height</th>\n",
              "      <th>Weight</th>\n",
              "      <th>PreferredFoot</th>\n",
              "      <th>Age</th>\n",
              "      <th>PlayerWorkRate</th>\n",
              "      <th>WeakFoot</th>\n",
              "      <th>SkillMoves</th>\n",
              "      <th>Value</th>\n",
              "      <th>...</th>\n",
              "      <th>Curve</th>\n",
              "      <th>FKAcc</th>\n",
              "      <th>Penalties</th>\n",
              "      <th>Volleys</th>\n",
              "      <th>GKDiving</th>\n",
              "      <th>GKHandling</th>\n",
              "      <th>GKKicking</th>\n",
              "      <th>GKReflexes</th>\n",
              "      <th>Sex</th>\n",
              "      <th>Continent</th>\n",
              "    </tr>\n",
              "  </thead>\n",
              "  <tbody>\n",
              "    <tr>\n",
              "      <th>0</th>\n",
              "      <td>64</td>\n",
              "      <td>73</td>\n",
              "      <td>188</td>\n",
              "      <td>79</td>\n",
              "      <td>R</td>\n",
              "      <td>22</td>\n",
              "      <td>Medium/Medium</td>\n",
              "      <td>3</td>\n",
              "      <td>2</td>\n",
              "      <td>1200000.0</td>\n",
              "      <td>...</td>\n",
              "      <td>39</td>\n",
              "      <td>33</td>\n",
              "      <td>43</td>\n",
              "      <td>41</td>\n",
              "      <td>13</td>\n",
              "      <td>10</td>\n",
              "      <td>13</td>\n",
              "      <td>12</td>\n",
              "      <td>Male</td>\n",
              "      <td>Europe</td>\n",
              "    </tr>\n",
              "    <tr>\n",
              "      <th>1</th>\n",
              "      <td>67</td>\n",
              "      <td>70</td>\n",
              "      <td>172</td>\n",
              "      <td>64</td>\n",
              "      <td>R</td>\n",
              "      <td>25</td>\n",
              "      <td>High/Medium</td>\n",
              "      <td>3</td>\n",
              "      <td>3</td>\n",
              "      <td>1400000.0</td>\n",
              "      <td>...</td>\n",
              "      <td>64</td>\n",
              "      <td>61</td>\n",
              "      <td>65</td>\n",
              "      <td>59</td>\n",
              "      <td>12</td>\n",
              "      <td>9</td>\n",
              "      <td>6</td>\n",
              "      <td>15</td>\n",
              "      <td>Male</td>\n",
              "      <td>Europe</td>\n",
              "    </tr>\n",
              "    <tr>\n",
              "      <th>2</th>\n",
              "      <td>68</td>\n",
              "      <td>68</td>\n",
              "      <td>173</td>\n",
              "      <td>70</td>\n",
              "      <td>L</td>\n",
              "      <td>28</td>\n",
              "      <td>Medium/Medium</td>\n",
              "      <td>2</td>\n",
              "      <td>2</td>\n",
              "      <td>1100000.0</td>\n",
              "      <td>...</td>\n",
              "      <td>58</td>\n",
              "      <td>34</td>\n",
              "      <td>49</td>\n",
              "      <td>46</td>\n",
              "      <td>15</td>\n",
              "      <td>6</td>\n",
              "      <td>15</td>\n",
              "      <td>16</td>\n",
              "      <td>Male</td>\n",
              "      <td>North America</td>\n",
              "    </tr>\n",
              "    <tr>\n",
              "      <th>3</th>\n",
              "      <td>63</td>\n",
              "      <td>70</td>\n",
              "      <td>190</td>\n",
              "      <td>76</td>\n",
              "      <td>L</td>\n",
              "      <td>22</td>\n",
              "      <td>Medium/High</td>\n",
              "      <td>3</td>\n",
              "      <td>2</td>\n",
              "      <td>900000.0</td>\n",
              "      <td>...</td>\n",
              "      <td>25</td>\n",
              "      <td>29</td>\n",
              "      <td>48</td>\n",
              "      <td>39</td>\n",
              "      <td>9</td>\n",
              "      <td>12</td>\n",
              "      <td>11</td>\n",
              "      <td>6</td>\n",
              "      <td>Male</td>\n",
              "      <td>South America</td>\n",
              "    </tr>\n",
              "    <tr>\n",
              "      <th>4</th>\n",
              "      <td>69</td>\n",
              "      <td>72</td>\n",
              "      <td>178</td>\n",
              "      <td>68</td>\n",
              "      <td>R</td>\n",
              "      <td>25</td>\n",
              "      <td>High/Medium</td>\n",
              "      <td>3</td>\n",
              "      <td>3</td>\n",
              "      <td>1800000.0</td>\n",
              "      <td>...</td>\n",
              "      <td>56</td>\n",
              "      <td>43</td>\n",
              "      <td>56</td>\n",
              "      <td>53</td>\n",
              "      <td>8</td>\n",
              "      <td>11</td>\n",
              "      <td>10</td>\n",
              "      <td>15</td>\n",
              "      <td>Male</td>\n",
              "      <td>South America</td>\n",
              "    </tr>\n",
              "  </tbody>\n",
              "</table>\n",
              "<p>5 rows × 45 columns</p>\n",
              "</div>"
            ],
            "text/plain": [
              "   Overal  Potential  Height  Weight PreferredFoot  Age PlayerWorkRate  \\\n",
              "0      64         73     188      79             R   22  Medium/Medium   \n",
              "1      67         70     172      64             R   25    High/Medium   \n",
              "2      68         68     173      70             L   28  Medium/Medium   \n",
              "3      63         70     190      76             L   22    Medium/High   \n",
              "4      69         72     178      68             R   25    High/Medium   \n",
              "\n",
              "   WeakFoot  SkillMoves      Value  ...  Curve  FKAcc  Penalties  Volleys  \\\n",
              "0         3           2  1200000.0  ...     39     33         43       41   \n",
              "1         3           3  1400000.0  ...     64     61         65       59   \n",
              "2         2           2  1100000.0  ...     58     34         49       46   \n",
              "3         3           2   900000.0  ...     25     29         48       39   \n",
              "4         3           3  1800000.0  ...     56     43         56       53   \n",
              "\n",
              "   GKDiving  GKHandling  GKKicking  GKReflexes   Sex      Continent  \n",
              "0        13          10         13          12  Male         Europe  \n",
              "1        12           9          6          15  Male         Europe  \n",
              "2        15           6         15          16  Male  North America  \n",
              "3         9          12         11           6  Male  South America  \n",
              "4         8          11         10          15  Male  South America  \n",
              "\n",
              "[5 rows x 45 columns]"
            ]
          },
          "metadata": {
            "tags": []
          },
          "execution_count": 3
        }
      ]
    },
    {
      "cell_type": "code",
      "metadata": {
        "colab": {
          "base_uri": "https://localhost:8080/",
          "height": 244
        },
        "id": "_z-bodVYpCPy",
        "outputId": "20bf0b1c-044d-41ba-b20f-c7c489e92d58"
      },
      "source": [
        "#Estandarizamos valores numéricos\n",
        "numeric_features = all_features.dtypes[all_features.dtypes != 'object'].index\n",
        "all_features[numeric_features].isna().sum()\n",
        "\n",
        "all_features[numeric_features] = all_features[numeric_features].apply(lambda x: (x - x.mean()) / (x.std()))\n",
        "all_features[numeric_features] = all_features[numeric_features].fillna(all_features[numeric_features].mean())\n",
        "\n",
        "# `Dummy_na=True` considers \"na\" (missing value) as a valid feature value, and creates an indicator feature for it\n",
        "all_features = pd.get_dummies(all_features, dummy_na=True)\n",
        "\n",
        "#all_features.shape\n",
        "all_features.head()"
      ],
      "execution_count": null,
      "outputs": [
        {
          "output_type": "execute_result",
          "data": {
            "text/html": [
              "<div>\n",
              "<style scoped>\n",
              "    .dataframe tbody tr th:only-of-type {\n",
              "        vertical-align: middle;\n",
              "    }\n",
              "\n",
              "    .dataframe tbody tr th {\n",
              "        vertical-align: top;\n",
              "    }\n",
              "\n",
              "    .dataframe thead th {\n",
              "        text-align: right;\n",
              "    }\n",
              "</style>\n",
              "<table border=\"1\" class=\"dataframe\">\n",
              "  <thead>\n",
              "    <tr style=\"text-align: right;\">\n",
              "      <th></th>\n",
              "      <th>Overal</th>\n",
              "      <th>Potential</th>\n",
              "      <th>Height</th>\n",
              "      <th>Weight</th>\n",
              "      <th>Age</th>\n",
              "      <th>WeakFoot</th>\n",
              "      <th>SkillMoves</th>\n",
              "      <th>Value</th>\n",
              "      <th>Wage</th>\n",
              "      <th>BallControl</th>\n",
              "      <th>...</th>\n",
              "      <th>Sex_Female</th>\n",
              "      <th>Sex_Male</th>\n",
              "      <th>Sex_nan</th>\n",
              "      <th>Continent_Africa</th>\n",
              "      <th>Continent_Asia</th>\n",
              "      <th>Continent_Europe</th>\n",
              "      <th>Continent_North America</th>\n",
              "      <th>Continent_Oceania</th>\n",
              "      <th>Continent_South America</th>\n",
              "      <th>Continent_nan</th>\n",
              "    </tr>\n",
              "  </thead>\n",
              "  <tbody>\n",
              "    <tr>\n",
              "      <th>0</th>\n",
              "      <td>-0.336304</td>\n",
              "      <td>0.223299</td>\n",
              "      <td>0.981364</td>\n",
              "      <td>0.567831</td>\n",
              "      <td>-0.776243</td>\n",
              "      <td>0.053378</td>\n",
              "      <td>-0.498472</td>\n",
              "      <td>-0.259597</td>\n",
              "      <td>-0.404799</td>\n",
              "      <td>0.161472</td>\n",
              "      <td>...</td>\n",
              "      <td>0</td>\n",
              "      <td>1</td>\n",
              "      <td>0</td>\n",
              "      <td>0</td>\n",
              "      <td>0</td>\n",
              "      <td>1</td>\n",
              "      <td>0</td>\n",
              "      <td>0</td>\n",
              "      <td>0</td>\n",
              "      <td>0</td>\n",
              "    </tr>\n",
              "    <tr>\n",
              "      <th>1</th>\n",
              "      <td>0.066724</td>\n",
              "      <td>-0.239964</td>\n",
              "      <td>-1.286506</td>\n",
              "      <td>-1.483312</td>\n",
              "      <td>-0.144030</td>\n",
              "      <td>0.053378</td>\n",
              "      <td>0.764264</td>\n",
              "      <td>-0.239724</td>\n",
              "      <td>-0.331185</td>\n",
              "      <td>0.397767</td>\n",
              "      <td>...</td>\n",
              "      <td>0</td>\n",
              "      <td>1</td>\n",
              "      <td>0</td>\n",
              "      <td>0</td>\n",
              "      <td>0</td>\n",
              "      <td>1</td>\n",
              "      <td>0</td>\n",
              "      <td>0</td>\n",
              "      <td>0</td>\n",
              "      <td>0</td>\n",
              "    </tr>\n",
              "    <tr>\n",
              "      <th>2</th>\n",
              "      <td>0.201067</td>\n",
              "      <td>-0.548806</td>\n",
              "      <td>-1.144764</td>\n",
              "      <td>-0.662855</td>\n",
              "      <td>0.488182</td>\n",
              "      <td>-1.420827</td>\n",
              "      <td>-0.498472</td>\n",
              "      <td>-0.269533</td>\n",
              "      <td>-0.327095</td>\n",
              "      <td>0.161472</td>\n",
              "      <td>...</td>\n",
              "      <td>0</td>\n",
              "      <td>1</td>\n",
              "      <td>0</td>\n",
              "      <td>0</td>\n",
              "      <td>0</td>\n",
              "      <td>0</td>\n",
              "      <td>1</td>\n",
              "      <td>0</td>\n",
              "      <td>0</td>\n",
              "      <td>0</td>\n",
              "    </tr>\n",
              "    <tr>\n",
              "      <th>3</th>\n",
              "      <td>-0.470647</td>\n",
              "      <td>-0.239964</td>\n",
              "      <td>1.264848</td>\n",
              "      <td>0.157602</td>\n",
              "      <td>-0.776243</td>\n",
              "      <td>0.053378</td>\n",
              "      <td>-0.498472</td>\n",
              "      <td>-0.289405</td>\n",
              "      <td>-0.392530</td>\n",
              "      <td>-1.374449</td>\n",
              "      <td>...</td>\n",
              "      <td>0</td>\n",
              "      <td>1</td>\n",
              "      <td>0</td>\n",
              "      <td>0</td>\n",
              "      <td>0</td>\n",
              "      <td>0</td>\n",
              "      <td>0</td>\n",
              "      <td>0</td>\n",
              "      <td>1</td>\n",
              "      <td>0</td>\n",
              "    </tr>\n",
              "    <tr>\n",
              "      <th>4</th>\n",
              "      <td>0.335410</td>\n",
              "      <td>0.068878</td>\n",
              "      <td>-0.436055</td>\n",
              "      <td>-0.936340</td>\n",
              "      <td>-0.144030</td>\n",
              "      <td>0.053378</td>\n",
              "      <td>0.764264</td>\n",
              "      <td>-0.199979</td>\n",
              "      <td>-0.204405</td>\n",
              "      <td>0.574989</td>\n",
              "      <td>...</td>\n",
              "      <td>0</td>\n",
              "      <td>1</td>\n",
              "      <td>0</td>\n",
              "      <td>0</td>\n",
              "      <td>0</td>\n",
              "      <td>0</td>\n",
              "      <td>0</td>\n",
              "      <td>0</td>\n",
              "      <td>1</td>\n",
              "      <td>0</td>\n",
              "    </tr>\n",
              "  </tbody>\n",
              "</table>\n",
              "<p>5 rows × 64 columns</p>\n",
              "</div>"
            ],
            "text/plain": [
              "     Overal  Potential    Height    Weight       Age  WeakFoot  SkillMoves  \\\n",
              "0 -0.336304   0.223299  0.981364  0.567831 -0.776243  0.053378   -0.498472   \n",
              "1  0.066724  -0.239964 -1.286506 -1.483312 -0.144030  0.053378    0.764264   \n",
              "2  0.201067  -0.548806 -1.144764 -0.662855  0.488182 -1.420827   -0.498472   \n",
              "3 -0.470647  -0.239964  1.264848  0.157602 -0.776243  0.053378   -0.498472   \n",
              "4  0.335410   0.068878 -0.436055 -0.936340 -0.144030  0.053378    0.764264   \n",
              "\n",
              "      Value      Wage  BallControl  ...  Sex_Female  Sex_Male  Sex_nan  \\\n",
              "0 -0.259597 -0.404799     0.161472  ...           0         1        0   \n",
              "1 -0.239724 -0.331185     0.397767  ...           0         1        0   \n",
              "2 -0.269533 -0.327095     0.161472  ...           0         1        0   \n",
              "3 -0.289405 -0.392530    -1.374449  ...           0         1        0   \n",
              "4 -0.199979 -0.204405     0.574989  ...           0         1        0   \n",
              "\n",
              "   Continent_Africa  Continent_Asia  Continent_Europe  \\\n",
              "0                 0               0                 1   \n",
              "1                 0               0                 1   \n",
              "2                 0               0                 0   \n",
              "3                 0               0                 0   \n",
              "4                 0               0                 0   \n",
              "\n",
              "   Continent_North America  Continent_Oceania  Continent_South America  \\\n",
              "0                        0                  0                        0   \n",
              "1                        0                  0                        0   \n",
              "2                        1                  0                        0   \n",
              "3                        0                  0                        1   \n",
              "4                        0                  0                        1   \n",
              "\n",
              "   Continent_nan  \n",
              "0              0  \n",
              "1              0  \n",
              "2              0  \n",
              "3              0  \n",
              "4              0  \n",
              "\n",
              "[5 rows x 64 columns]"
            ]
          },
          "metadata": {
            "tags": []
          },
          "execution_count": 4
        }
      ]
    },
    {
      "cell_type": "code",
      "metadata": {
        "colab": {
          "base_uri": "https://localhost:8080/"
        },
        "id": "j0Cgafxyu0P8",
        "outputId": "bb45bb04-4579-434a-fb7d-4c7670b0781d"
      },
      "source": [
        "print(train_data['Position'].value_counts())\n",
        "# Convierto la predicción a un número\n",
        "train_data.Position = train_data.Position.astype('category')\n",
        "print(train_data[['Position']])\n",
        "dtype = pd.CategoricalDtype(['DEF', 'FWD', 'GK', 'MID'], ordered=False)\n",
        "train_data['Position'] = train_data.Position.cat.codes\n",
        "#print(train_data[['Position']])"
      ],
      "execution_count": null,
      "outputs": [
        {
          "output_type": "stream",
          "text": [
            "MID    5071\n",
            "DEF    4585\n",
            "FWD    2715\n",
            "GK     1550\n",
            "Name: Position, dtype: int64\n",
            "      Position\n",
            "0          MID\n",
            "1          MID\n",
            "2          DEF\n",
            "3          DEF\n",
            "4          MID\n",
            "5          MID\n",
            "6           GK\n",
            "7          FWD\n",
            "8          MID\n",
            "9          DEF\n",
            "10         MID\n",
            "11         DEF\n",
            "12         MID\n",
            "13         DEF\n",
            "14         MID\n",
            "15         MID\n",
            "16          GK\n",
            "17         DEF\n",
            "18         DEF\n",
            "19         DEF\n",
            "20         MID\n",
            "21         MID\n",
            "22         DEF\n",
            "23         MID\n",
            "24         MID\n",
            "25          GK\n",
            "26         MID\n",
            "27         DEF\n",
            "28         FWD\n",
            "29         DEF\n",
            "...        ...\n",
            "13891      FWD\n",
            "13892       GK\n",
            "13893      DEF\n",
            "13894      MID\n",
            "13895      DEF\n",
            "13896      MID\n",
            "13897       GK\n",
            "13898      DEF\n",
            "13899      FWD\n",
            "13900       GK\n",
            "13901      DEF\n",
            "13902      DEF\n",
            "13903      DEF\n",
            "13904      DEF\n",
            "13905      DEF\n",
            "13906      DEF\n",
            "13907      DEF\n",
            "13908      DEF\n",
            "13909      MID\n",
            "13910      FWD\n",
            "13911      FWD\n",
            "13912      DEF\n",
            "13913      FWD\n",
            "13914      MID\n",
            "13915      FWD\n",
            "13916      MID\n",
            "13917      MID\n",
            "13918      MID\n",
            "13919      DEF\n",
            "13920      FWD\n",
            "\n",
            "[13921 rows x 1 columns]\n"
          ],
          "name": "stdout"
        }
      ]
    },
    {
      "cell_type": "code",
      "metadata": {
        "colab": {
          "base_uri": "https://localhost:8080/"
        },
        "id": "PRhH4I5Nu74_",
        "outputId": "79713497-b3e6-4529-f54d-8003c48b3bca"
      },
      "source": [
        "#Convertimos a Tensores\n",
        "n_train = train_data.shape[0]\n",
        "train_features = torch.tensor(all_features[:n_train].values, dtype=torch.float32)\n",
        "train_labels = torch.tensor(train_data.Position.values, dtype=torch.long)#.reshape(-1, 1), dtype=torch.float32)\n",
        "test_features = torch.tensor(all_features[n_train:].values, dtype=torch.float32)\n",
        "\n",
        "#Dividimos en Set de train y validación\n",
        "\n",
        "from sklearn.model_selection import train_test_split\n",
        "X_train, X_test, Y_train, Y_test = train_test_split (train_features, train_labels, train_size=0.95)\n",
        "Y_train"
      ],
      "execution_count": null,
      "outputs": [
        {
          "output_type": "execute_result",
          "data": {
            "text/plain": [
              "tensor([2, 0, 3,  ..., 1, 0, 3])"
            ]
          },
          "metadata": {
            "tags": []
          },
          "execution_count": 6
        }
      ]
    },
    {
      "cell_type": "markdown",
      "metadata": {
        "id": "wLXEXrf0R2Re"
      },
      "source": [
        "# Funciones auxiliares"
      ]
    },
    {
      "cell_type": "code",
      "metadata": {
        "id": "C__7xFzEN7hS"
      },
      "source": [
        "#Definimos acumulador\n",
        "\n",
        "class Accumulator:\n",
        "    \"\"\"For accumulating sums over `n` variables.\"\"\"\n",
        "    def __init__(self, n):\n",
        "        self.data = [0.0] * n\n",
        "\n",
        "    def add(self, *args):\n",
        "        self.data = [a + float(b) for a, b in zip(self.data, args)]\n",
        "\n",
        "    def reset(self):\n",
        "        self.data = [0.0] * len(self.data)\n",
        "\n",
        "    def __getitem__(self, idx):\n",
        "        return self.data[idx]\n",
        "        \n",
        "def get_labels(labels):\n",
        "    \"\"\"Return text labels for the Fashion-MNIST dataset.\"\"\"\n",
        "    text_labels = ['DEF', 'FWD', 'GK', 'MID']\n",
        "    return [text_labels[int(i)] for i in labels]\n",
        "  \n",
        "#print(get_labels([0,1,2,3]))\n",
        "\n",
        "#Definimos clase para plotear\n",
        "\n",
        "class Animator:\n",
        "    \"\"\"For plotting data in animation.\"\"\"\n",
        "    def __init__(self, xlabel=None, ylabel=None, legend=None, xlim=None,\n",
        "                 ylim=None, xscale='linear', yscale='linear',\n",
        "                 fmts=('-', 'm--', 'g-.', 'r:'), nrows=1, ncols=1,\n",
        "                 figsize=(10, 7)):\n",
        "        # Incrementally plot multiple lines\n",
        "        if legend is None:\n",
        "            legend = []\n",
        "        d2l.use_svg_display()\n",
        "        self.fig, self.axes = d2l.plt.subplots(nrows, ncols, figsize=figsize)\n",
        "        if nrows * ncols == 1:\n",
        "            self.axes = [self.axes, ]\n",
        "        # Use a lambda function to capture arguments\n",
        "        self.config_axes = lambda: d2l.set_axes(\n",
        "            self.axes[0], xlabel, ylabel, xlim, ylim, xscale, yscale, legend)\n",
        "        self.X, self.Y, self.fmts = None, None, fmts\n",
        "\n",
        "    def add(self, x, y):\n",
        "        # Add multiple data points into the figure\n",
        "        if not hasattr(y, \"__len__\"):\n",
        "            y = [y]\n",
        "        n = len(y)\n",
        "        if not hasattr(x, \"__len__\"):\n",
        "            x = [x] * n\n",
        "        if not self.X:\n",
        "            self.X = [[] for _ in range(n)]\n",
        "        if not self.Y:\n",
        "            self.Y = [[] for _ in range(n)]\n",
        "        for i, (a, b) in enumerate(zip(x, y)):\n",
        "            if a is not None and b is not None:\n",
        "                self.X[i].append(a)\n",
        "                self.Y[i].append(b)\n",
        "        self.axes[0].cla()\n",
        "        for x, y, fmt in zip(self.X, self.Y, self.fmts):\n",
        "            self.axes[0].plot(x, y, fmt)\n",
        "        self.config_axes()\n",
        "        display.display(self.fig)\n",
        "        display.clear_output(wait=True)\n",
        "\n",
        "# TODO: Reescribir para que use la métrica adecuada\n",
        "from sklearn.metrics import balanced_accuracy_score\n",
        "\n",
        "#Función de accuracy\n",
        "def accuracy(y_hat, y):\n",
        "    \"\"\"Compute the number of correct predictions.\"\"\"\n",
        "    if len(y_hat.shape) > 1 and y_hat.shape[1] > 1:\n",
        "        y_hat = y_hat.argmax(axis=1)\n",
        "    cmp = y_hat.type(y.dtype) == y\n",
        "    return float(cmp.type(y.dtype).sum())\n",
        "\n",
        "def bal_accuracy(y_hat, y):\n",
        "    \"\"\"Compute the number of correct predictions.\"\"\"\n",
        "    if len(y_hat.shape) > 1 and y_hat.shape[1] > 1:\n",
        "        y_hat = y_hat.argmax(axis=1)\n",
        "    return balanced_accuracy_score(y, y_hat)\n",
        "    \n",
        "def evaluate_accuracy(net, data_iter, loss):\n",
        "    \"\"\"Compute the accuracy for a model on a dataset.\"\"\"\n",
        "    if isinstance(net, torch.nn.Module):\n",
        "        net.eval()  # Set the model to evaluation mode\n",
        "    metric = Accumulator(4)  # No. of correct predictions, loss, no. of predictions\n",
        "    for X, y in data_iter:\n",
        "        l = loss(net(X), y)\n",
        "        metric.add(accuracy(net(X), y), l.sum(), y.numel(), bal_accuracy(net(X), y))\n",
        "    #acc = metric[3] balanced\n",
        "    acc = metric[0] / metric[2]\n",
        "    loss = metric[1]# / metric[2]\n",
        "    return acc, loss\n",
        "  \n",
        "\n",
        "#def evaluate_loss(net, data_iter, loss): #@save\n",
        "#    \"\"\"Evaluate the loss of a model on the given dataset.\"\"\"\n",
        "#    metric = d2l.Accumulator(2) # Sum of losses, no. of examples\n",
        "#    for X, y in data_iter:\n",
        "#      l = loss(net(X), y)\n",
        "#      metric.add(l.sum(), l.size)\n",
        "#    return metric[0] / metric[1]\n",
        "\n"
      ],
      "execution_count": null,
      "outputs": []
    },
    {
      "cell_type": "markdown",
      "metadata": {
        "id": "GMPZMyI7TP76"
      },
      "source": [
        "# Scheduler"
      ]
    },
    {
      "cell_type": "code",
      "metadata": {
        "id": "jgMuGdZpTP8C"
      },
      "source": [
        "class SquareRootScheduler:\n",
        "    def __init__(self, lr=0.1):\n",
        "        self.lr = lr\n",
        "\n",
        "    def __call__(self, num_update):\n",
        "        return self.lr * pow(num_update + 1.0, -0.5)\n",
        "\n",
        "scheduler = SquareRootScheduler(lr=0.1)"
      ],
      "execution_count": null,
      "outputs": []
    },
    {
      "cell_type": "code",
      "metadata": {
        "id": "eUhxV6yXSZHf"
      },
      "source": [
        "#Función de entrenamiento\n",
        "\n",
        "def train(net, train_features, train_labels, test_features, test_labels,\n",
        "          num_epochs, learning_rate, weight_decay, batch_size, scheduler=None):\n",
        "    train_ls, test_ls = [], []\n",
        "    animator = Animator(xlabel='epoch', ylabel = 'loss', xlim=[1, num_epochs], ylim=[0., 1],\n",
        "                        legend=['train acc', 'test acc', 'train loss', 'test loss'])\n",
        "\n",
        "    train_iter = d2l.load_array((train_features, train_labels), batch_size)\n",
        "    # The Adam optimization algorithm is used here\n",
        "    optimizer = torch.optim.Adam(net.parameters(),\n",
        "                                 lr = learning_rate,\n",
        "                                 weight_decay = weight_decay,\n",
        "                                 )\n",
        "    for epoch in range(num_epochs):\n",
        "        for X, y in train_iter:\n",
        "            optimizer.zero_grad()\n",
        "            l = loss(net(X), y)\n",
        "            l.backward()\n",
        "            optimizer.step()\n",
        "        #print(f'*** iteración {epoch} ***')\n",
        "        train_accuracy, train_loss = evaluate_accuracy(net, train_iter, loss)\n",
        "        #print('Accuracy train', accuracy)\n",
        "        train_ls.append(train_accuracy)\n",
        "        if test_labels is not None:\n",
        "            test_iter = d2l.load_array((test_features, test_labels), batch_size)\n",
        "            test_accuracy, test_loss = evaluate_accuracy(net, test_iter, loss)\n",
        "            #print('Accuracy test', test_accuracy)\n",
        "            test_ls.append(test_accuracy)\n",
        "            animator.add(epoch + 1, (train_accuracy, test_accuracy, train_loss, test_loss))\n",
        "            \n",
        "        if scheduler:\n",
        "            #if scheduler.__module__ == lr_scheduler.__name__:\n",
        "            #    # Using PyTorch In-Built scheduler\n",
        "            #    scheduler.step()\n",
        "            #else:\n",
        "            #    # Using custom defined scheduler\n",
        "            #    for param_group in trainer.param_groups:\n",
        "            learning_rate = scheduler(epoch)\n",
        "    return train_ls, test_ls"
      ],
      "execution_count": null,
      "outputs": []
    },
    {
      "cell_type": "markdown",
      "metadata": {
        "id": "I8ku9viLvJzx"
      },
      "source": [
        "# Training"
      ]
    },
    {
      "cell_type": "code",
      "metadata": {
        "id": "gEKuqQlavC_M"
      },
      "source": [
        "# Inicialización de Xavier\n",
        "def xavier(m):\n",
        "    if type(m) == nn.Linear:\n",
        "        nn.init.xavier_uniform_(m.weight)\n",
        "\n",
        "#Definimos estructura de bloque para insertar en nuestra red\n",
        "\n",
        "def block1(n_neuronas):\n",
        "    return nn.Sequential(nn.Linear(n_neuronas, n_neuronas), \n",
        "                         nn.PReLU(),\n",
        "                         nn.Dropout(dropout))\n",
        "\n",
        "#Contruímos nuestra red\n",
        "\n",
        "def get_net(n_blocks, n_neuronas, dropout):\n",
        "    modules = []\n",
        "    modules.extend([nn.Linear(in_features, 64),\n",
        "                    nn.PReLU(),\n",
        "                    nn.Dropout(0.1),\n",
        "                    nn.Linear(64, n_neuronas),\n",
        "                    nn.PReLU(),\n",
        "                    nn.Dropout(dropout)])\n",
        "    \n",
        "    \n",
        "    for i in range(n_blocks):\n",
        "        # Nested here\n",
        "        modules.append(block1(n_neuronas))\n",
        "    modules.extend([nn.Linear(n_neuronas, 256),\n",
        "                    nn.PReLU(),\n",
        "                    #nn.Dropout(dropout),\n",
        "                    #nn.Linear(256, 128),\n",
        "                    #nn.PReLU(),\n",
        "                    #nn.Dropout(dropout),\n",
        "                    nn.Linear(256, out_features)])\n",
        "    net = nn.Sequential(*modules)\n",
        "    [net[i].apply(xavier) for i in range(len(net))]\n",
        "    return net\n",
        "\n",
        "def get_1hidden_net(n_neuronas, dropout):\n",
        "    modules = []\n",
        "    modules.extend([nn.Linear(in_features, n_neuronas),\n",
        "                    nn.PReLU(),\n",
        "                    nn.Dropout(dropout),\n",
        "                    nn.Linear(n_neuronas, out_features)])\n",
        "    net = nn.Sequential(*modules)\n",
        "    [net[i].apply(xavier) for i in range(len(net))]\n",
        "    return net"
      ],
      "execution_count": null,
      "outputs": []
    },
    {
      "cell_type": "code",
      "metadata": {
        "colab": {
          "base_uri": "https://localhost:8080/"
        },
        "id": "VSdFEF3EO9y1",
        "outputId": "d2f71134-b6e5-486d-9d2c-5cc9233fe412"
      },
      "source": [
        "#Entrada y salida de nuestra red\n",
        "in_features = train_features.shape[1]\n",
        "out_features = 4 #'DEF', 'FWD', 'GK', 'MID'\n",
        "\n",
        "#Definimos función de pérdida\n",
        "loss = nn.CrossEntropyLoss()\n",
        "#nSamples = [4585, 2715, 10000, 5071]\n",
        "#normedWeights = [1 - (x / sum(nSamples)) for x in nSamples]\n",
        "#normedWeights = torch.tensor(normedWeights, dtype=torch.float32)\n",
        "#print(normedWeights)\n",
        "#loss = nn.CrossEntropyLoss(weight=normedWeights)\n",
        "\n",
        "#Definimos hiperparátros\n",
        "n_blocks = 4\n",
        "n_neuronas = 1024\n",
        "dropout = 0.5\n",
        "\n",
        "#Instanciamos \n",
        "\n",
        "net = get_net(n_blocks, n_neuronas, dropout)\n",
        "\n",
        "#Corremos nuestro modelo\n",
        "\n",
        "train(net, \n",
        "      X_train, \n",
        "      Y_train, \n",
        "      X_test, \n",
        "      test_labels=Y_test,\n",
        "      num_epochs=60, \n",
        "      learning_rate=0.0005,#0.002, \n",
        "      weight_decay=0.01, \n",
        "      batch_size=4096,\n",
        "      #scheduler=scheduler\n",
        "     )"
      ],
      "execution_count": null,
      "outputs": [
        {
          "output_type": "execute_result",
          "data": {
            "text/plain": [
              "([0.7116606170598911,\n",
              "  0.7859951603145795,\n",
              "  0.8294767090139141,\n",
              "  0.852994555353902,\n",
              "  0.854053236539625,\n",
              "  0.8709921355111918,\n",
              "  0.8729582577132486,\n",
              "  0.8799909255898367,\n",
              "  0.8808983666061706,\n",
              "  0.8820326678765881,\n",
              "  0.8865698729582577,\n",
              "  0.8831669691470054,\n",
              "  0.8905777374470659,\n",
              "  0.8874016938898972,\n",
              "  0.8832425892317,\n",
              "  0.8825620084694494,\n",
              "  0.8877041742286751,\n",
              "  0.890426497277677,\n",
              "  0.8926950998185118,\n",
              "  0.8949637023593466,\n",
              "  0.8939050211736237,\n",
              "  0.8945856019358742,\n",
              "  0.890426497277677,\n",
              "  0.895644283121597,\n",
              "  0.8933756805807622,\n",
              "  0.8897459165154264,\n",
              "  0.8949637023593466,\n",
              "  0.8908802177858439,\n",
              "  0.896854204476709,\n",
              "  0.8967785843920145,\n",
              "  0.8967785843920145,\n",
              "  0.8983666061705989,\n",
              "  0.8943587416817906,\n",
              "  0.8900483968542044,\n",
              "  0.8923169993950393,\n",
              "  0.8917876588021778,\n",
              "  0.8975347852389595,\n",
              "  0.890124016938899,\n",
              "  0.8991228070175439,\n",
              "  0.8990471869328494,\n",
              "  0.8958711433756806,\n",
              "  0.8925438596491229,\n",
              "  0.8979885057471264,\n",
              "  0.9004839685420448,\n",
              "  0.8980641258318209,\n",
              "  0.896400483968542,\n",
              "  0.8986690865093769,\n",
              "  0.9010133091349062,\n",
              "  0.9001058681185723,\n",
              "  0.8985178463399879,\n",
              "  0.9013157894736842,\n",
              "  0.9011645493042952,\n",
              "  0.8996521476104054,\n",
              "  0.9012401693889898,\n",
              "  0.9023744706594071,\n",
              "  0.8987447065940714,\n",
              "  0.8957955232909861,\n",
              "  0.8910314579552329,\n",
              "  0.8963248638838476,\n",
              "  0.9017695099818511],\n",
              " [0.6915351506456241,\n",
              "  0.763271162123386,\n",
              "  0.8134863701578192,\n",
              "  0.8436154949784792,\n",
              "  0.8593974175035868,\n",
              "  0.8479196556671449,\n",
              "  0.8479196556671449,\n",
              "  0.860832137733142,\n",
              "  0.8493543758967002,\n",
              "  0.8651362984218077,\n",
              "  0.8593974175035868,\n",
              "  0.8593974175035868,\n",
              "  0.866571018651363,\n",
              "  0.8766140602582496,\n",
              "  0.860832137733142,\n",
              "  0.8651362984218077,\n",
              "  0.8622668579626973,\n",
              "  0.8579626972740315,\n",
              "  0.8622668579626973,\n",
              "  0.8708751793400287,\n",
              "  0.8780487804878049,\n",
              "  0.866571018651363,\n",
              "  0.8622668579626973,\n",
              "  0.8708751793400287,\n",
              "  0.8766140602582496,\n",
              "  0.8723098995695839,\n",
              "  0.8680057388809183,\n",
              "  0.8651362984218077,\n",
              "  0.8723098995695839,\n",
              "  0.8708751793400287,\n",
              "  0.8780487804878049,\n",
              "  0.8794835007173601,\n",
              "  0.8637015781922525,\n",
              "  0.8637015781922525,\n",
              "  0.8708751793400287,\n",
              "  0.8794835007173601,\n",
              "  0.8809182209469153,\n",
              "  0.8550932568149211,\n",
              "  0.8809182209469153,\n",
              "  0.8794835007173601,\n",
              "  0.8694404591104734,\n",
              "  0.866571018651363,\n",
              "  0.8680057388809183,\n",
              "  0.8780487804878049,\n",
              "  0.8737446197991392,\n",
              "  0.8751793400286944,\n",
              "  0.8780487804878049,\n",
              "  0.8794835007173601,\n",
              "  0.8780487804878049,\n",
              "  0.8737446197991392,\n",
              "  0.8823529411764706,\n",
              "  0.8780487804878049,\n",
              "  0.8737446197991392,\n",
              "  0.8794835007173601,\n",
              "  0.8794835007173601,\n",
              "  0.8780487804878049,\n",
              "  0.8651362984218077,\n",
              "  0.860832137733142,\n",
              "  0.8708751793400287,\n",
              "  0.8823529411764706])"
            ]
          },
          "metadata": {
            "tags": []
          },
          "execution_count": 33
        },
        {
          "output_type": "display_data",
          "data": {
            "image/svg+xml": "<?xml version=\"1.0\" encoding=\"utf-8\" standalone=\"no\"?>\n<!DOCTYPE svg PUBLIC \"-//W3C//DTD SVG 1.1//EN\"\n  \"http://www.w3.org/Graphics/SVG/1.1/DTD/svg11.dtd\">\n<!-- Created with matplotlib (https://matplotlib.org/) -->\n<svg height=\"429.075469pt\" version=\"1.1\" viewBox=\"0 0 615.34375 429.075469\" width=\"615.34375pt\" xmlns=\"http://www.w3.org/2000/svg\" xmlns:xlink=\"http://www.w3.org/1999/xlink\">\n <defs>\n  <style type=\"text/css\">\n*{stroke-linecap:butt;stroke-linejoin:round;}\n  </style>\n </defs>\n <g id=\"figure_1\">\n  <g id=\"patch_1\">\n   <path d=\"M 0 429.075469 \nL 615.34375 429.075469 \nL 615.34375 0 \nL 0 0 \nz\n\" style=\"fill:none;\"/>\n  </g>\n  <g id=\"axes_1\">\n   <g id=\"patch_2\">\n    <path d=\"M 43.78125 391.519219 \nL 601.78125 391.519219 \nL 601.78125 10.999219 \nL 43.78125 10.999219 \nz\n\" style=\"fill:#ffffff;\"/>\n   </g>\n   <g id=\"matplotlib.axis_1\">\n    <g id=\"xtick_1\">\n     <g id=\"line2d_1\">\n      <path clip-path=\"url(#p6aecfa3a9a)\" d=\"M 128.899894 391.519219 \nL 128.899894 10.999219 \n\" style=\"fill:none;stroke:#b0b0b0;stroke-linecap:square;stroke-width:0.8;\"/>\n     </g>\n     <g id=\"line2d_2\">\n      <defs>\n       <path d=\"M 0 0 \nL 0 3.5 \n\" id=\"m5ffcb459f5\" style=\"stroke:#000000;stroke-width:0.8;\"/>\n      </defs>\n      <g>\n       <use style=\"stroke:#000000;stroke-width:0.8;\" x=\"128.899894\" xlink:href=\"#m5ffcb459f5\" y=\"391.519219\"/>\n      </g>\n     </g>\n     <g id=\"text_1\">\n      <!-- 10 -->\n      <defs>\n       <path d=\"M 12.40625 8.296875 \nL 28.515625 8.296875 \nL 28.515625 63.921875 \nL 10.984375 60.40625 \nL 10.984375 69.390625 \nL 28.421875 72.90625 \nL 38.28125 72.90625 \nL 38.28125 8.296875 \nL 54.390625 8.296875 \nL 54.390625 0 \nL 12.40625 0 \nz\n\" id=\"DejaVuSans-49\"/>\n       <path d=\"M 31.78125 66.40625 \nQ 24.171875 66.40625 20.328125 58.90625 \nQ 16.5 51.421875 16.5 36.375 \nQ 16.5 21.390625 20.328125 13.890625 \nQ 24.171875 6.390625 31.78125 6.390625 \nQ 39.453125 6.390625 43.28125 13.890625 \nQ 47.125 21.390625 47.125 36.375 \nQ 47.125 51.421875 43.28125 58.90625 \nQ 39.453125 66.40625 31.78125 66.40625 \nz\nM 31.78125 74.21875 \nQ 44.046875 74.21875 50.515625 64.515625 \nQ 56.984375 54.828125 56.984375 36.375 \nQ 56.984375 17.96875 50.515625 8.265625 \nQ 44.046875 -1.421875 31.78125 -1.421875 \nQ 19.53125 -1.421875 13.0625 8.265625 \nQ 6.59375 17.96875 6.59375 36.375 \nQ 6.59375 54.828125 13.0625 64.515625 \nQ 19.53125 74.21875 31.78125 74.21875 \nz\n\" id=\"DejaVuSans-48\"/>\n      </defs>\n      <g transform=\"translate(122.537394 406.117656)scale(0.1 -0.1)\">\n       <use xlink:href=\"#DejaVuSans-49\"/>\n       <use x=\"63.623047\" xlink:href=\"#DejaVuSans-48\"/>\n      </g>\n     </g>\n    </g>\n    <g id=\"xtick_2\">\n     <g id=\"line2d_3\">\n      <path clip-path=\"url(#p6aecfa3a9a)\" d=\"M 223.476165 391.519219 \nL 223.476165 10.999219 \n\" style=\"fill:none;stroke:#b0b0b0;stroke-linecap:square;stroke-width:0.8;\"/>\n     </g>\n     <g id=\"line2d_4\">\n      <g>\n       <use style=\"stroke:#000000;stroke-width:0.8;\" x=\"223.476165\" xlink:href=\"#m5ffcb459f5\" y=\"391.519219\"/>\n      </g>\n     </g>\n     <g id=\"text_2\">\n      <!-- 20 -->\n      <defs>\n       <path d=\"M 19.1875 8.296875 \nL 53.609375 8.296875 \nL 53.609375 0 \nL 7.328125 0 \nL 7.328125 8.296875 \nQ 12.9375 14.109375 22.625 23.890625 \nQ 32.328125 33.6875 34.8125 36.53125 \nQ 39.546875 41.84375 41.421875 45.53125 \nQ 43.3125 49.21875 43.3125 52.78125 \nQ 43.3125 58.59375 39.234375 62.25 \nQ 35.15625 65.921875 28.609375 65.921875 \nQ 23.96875 65.921875 18.8125 64.3125 \nQ 13.671875 62.703125 7.8125 59.421875 \nL 7.8125 69.390625 \nQ 13.765625 71.78125 18.9375 73 \nQ 24.125 74.21875 28.421875 74.21875 \nQ 39.75 74.21875 46.484375 68.546875 \nQ 53.21875 62.890625 53.21875 53.421875 \nQ 53.21875 48.921875 51.53125 44.890625 \nQ 49.859375 40.875 45.40625 35.40625 \nQ 44.1875 33.984375 37.640625 27.21875 \nQ 31.109375 20.453125 19.1875 8.296875 \nz\n\" id=\"DejaVuSans-50\"/>\n      </defs>\n      <g transform=\"translate(217.113665 406.117656)scale(0.1 -0.1)\">\n       <use xlink:href=\"#DejaVuSans-50\"/>\n       <use x=\"63.623047\" xlink:href=\"#DejaVuSans-48\"/>\n      </g>\n     </g>\n    </g>\n    <g id=\"xtick_3\">\n     <g id=\"line2d_5\">\n      <path clip-path=\"url(#p6aecfa3a9a)\" d=\"M 318.052436 391.519219 \nL 318.052436 10.999219 \n\" style=\"fill:none;stroke:#b0b0b0;stroke-linecap:square;stroke-width:0.8;\"/>\n     </g>\n     <g id=\"line2d_6\">\n      <g>\n       <use style=\"stroke:#000000;stroke-width:0.8;\" x=\"318.052436\" xlink:href=\"#m5ffcb459f5\" y=\"391.519219\"/>\n      </g>\n     </g>\n     <g id=\"text_3\">\n      <!-- 30 -->\n      <defs>\n       <path d=\"M 40.578125 39.3125 \nQ 47.65625 37.796875 51.625 33 \nQ 55.609375 28.21875 55.609375 21.1875 \nQ 55.609375 10.40625 48.1875 4.484375 \nQ 40.765625 -1.421875 27.09375 -1.421875 \nQ 22.515625 -1.421875 17.65625 -0.515625 \nQ 12.796875 0.390625 7.625 2.203125 \nL 7.625 11.71875 \nQ 11.71875 9.328125 16.59375 8.109375 \nQ 21.484375 6.890625 26.8125 6.890625 \nQ 36.078125 6.890625 40.9375 10.546875 \nQ 45.796875 14.203125 45.796875 21.1875 \nQ 45.796875 27.640625 41.28125 31.265625 \nQ 36.765625 34.90625 28.71875 34.90625 \nL 20.21875 34.90625 \nL 20.21875 43.015625 \nL 29.109375 43.015625 \nQ 36.375 43.015625 40.234375 45.921875 \nQ 44.09375 48.828125 44.09375 54.296875 \nQ 44.09375 59.90625 40.109375 62.90625 \nQ 36.140625 65.921875 28.71875 65.921875 \nQ 24.65625 65.921875 20.015625 65.03125 \nQ 15.375 64.15625 9.8125 62.3125 \nL 9.8125 71.09375 \nQ 15.4375 72.65625 20.34375 73.4375 \nQ 25.25 74.21875 29.59375 74.21875 \nQ 40.828125 74.21875 47.359375 69.109375 \nQ 53.90625 64.015625 53.90625 55.328125 \nQ 53.90625 49.265625 50.4375 45.09375 \nQ 46.96875 40.921875 40.578125 39.3125 \nz\n\" id=\"DejaVuSans-51\"/>\n      </defs>\n      <g transform=\"translate(311.689936 406.117656)scale(0.1 -0.1)\">\n       <use xlink:href=\"#DejaVuSans-51\"/>\n       <use x=\"63.623047\" xlink:href=\"#DejaVuSans-48\"/>\n      </g>\n     </g>\n    </g>\n    <g id=\"xtick_4\">\n     <g id=\"line2d_7\">\n      <path clip-path=\"url(#p6aecfa3a9a)\" d=\"M 412.628708 391.519219 \nL 412.628708 10.999219 \n\" style=\"fill:none;stroke:#b0b0b0;stroke-linecap:square;stroke-width:0.8;\"/>\n     </g>\n     <g id=\"line2d_8\">\n      <g>\n       <use style=\"stroke:#000000;stroke-width:0.8;\" x=\"412.628708\" xlink:href=\"#m5ffcb459f5\" y=\"391.519219\"/>\n      </g>\n     </g>\n     <g id=\"text_4\">\n      <!-- 40 -->\n      <defs>\n       <path d=\"M 37.796875 64.3125 \nL 12.890625 25.390625 \nL 37.796875 25.390625 \nz\nM 35.203125 72.90625 \nL 47.609375 72.90625 \nL 47.609375 25.390625 \nL 58.015625 25.390625 \nL 58.015625 17.1875 \nL 47.609375 17.1875 \nL 47.609375 0 \nL 37.796875 0 \nL 37.796875 17.1875 \nL 4.890625 17.1875 \nL 4.890625 26.703125 \nz\n\" id=\"DejaVuSans-52\"/>\n      </defs>\n      <g transform=\"translate(406.266208 406.117656)scale(0.1 -0.1)\">\n       <use xlink:href=\"#DejaVuSans-52\"/>\n       <use x=\"63.623047\" xlink:href=\"#DejaVuSans-48\"/>\n      </g>\n     </g>\n    </g>\n    <g id=\"xtick_5\">\n     <g id=\"line2d_9\">\n      <path clip-path=\"url(#p6aecfa3a9a)\" d=\"M 507.204979 391.519219 \nL 507.204979 10.999219 \n\" style=\"fill:none;stroke:#b0b0b0;stroke-linecap:square;stroke-width:0.8;\"/>\n     </g>\n     <g id=\"line2d_10\">\n      <g>\n       <use style=\"stroke:#000000;stroke-width:0.8;\" x=\"507.204979\" xlink:href=\"#m5ffcb459f5\" y=\"391.519219\"/>\n      </g>\n     </g>\n     <g id=\"text_5\">\n      <!-- 50 -->\n      <defs>\n       <path d=\"M 10.796875 72.90625 \nL 49.515625 72.90625 \nL 49.515625 64.59375 \nL 19.828125 64.59375 \nL 19.828125 46.734375 \nQ 21.96875 47.46875 24.109375 47.828125 \nQ 26.265625 48.1875 28.421875 48.1875 \nQ 40.625 48.1875 47.75 41.5 \nQ 54.890625 34.8125 54.890625 23.390625 \nQ 54.890625 11.625 47.5625 5.09375 \nQ 40.234375 -1.421875 26.90625 -1.421875 \nQ 22.3125 -1.421875 17.546875 -0.640625 \nQ 12.796875 0.140625 7.71875 1.703125 \nL 7.71875 11.625 \nQ 12.109375 9.234375 16.796875 8.0625 \nQ 21.484375 6.890625 26.703125 6.890625 \nQ 35.15625 6.890625 40.078125 11.328125 \nQ 45.015625 15.765625 45.015625 23.390625 \nQ 45.015625 31 40.078125 35.4375 \nQ 35.15625 39.890625 26.703125 39.890625 \nQ 22.75 39.890625 18.8125 39.015625 \nQ 14.890625 38.140625 10.796875 36.28125 \nz\n\" id=\"DejaVuSans-53\"/>\n      </defs>\n      <g transform=\"translate(500.842479 406.117656)scale(0.1 -0.1)\">\n       <use xlink:href=\"#DejaVuSans-53\"/>\n       <use x=\"63.623047\" xlink:href=\"#DejaVuSans-48\"/>\n      </g>\n     </g>\n    </g>\n    <g id=\"xtick_6\">\n     <g id=\"line2d_11\">\n      <path clip-path=\"url(#p6aecfa3a9a)\" d=\"M 601.78125 391.519219 \nL 601.78125 10.999219 \n\" style=\"fill:none;stroke:#b0b0b0;stroke-linecap:square;stroke-width:0.8;\"/>\n     </g>\n     <g id=\"line2d_12\">\n      <g>\n       <use style=\"stroke:#000000;stroke-width:0.8;\" x=\"601.78125\" xlink:href=\"#m5ffcb459f5\" y=\"391.519219\"/>\n      </g>\n     </g>\n     <g id=\"text_6\">\n      <!-- 60 -->\n      <defs>\n       <path d=\"M 33.015625 40.375 \nQ 26.375 40.375 22.484375 35.828125 \nQ 18.609375 31.296875 18.609375 23.390625 \nQ 18.609375 15.53125 22.484375 10.953125 \nQ 26.375 6.390625 33.015625 6.390625 \nQ 39.65625 6.390625 43.53125 10.953125 \nQ 47.40625 15.53125 47.40625 23.390625 \nQ 47.40625 31.296875 43.53125 35.828125 \nQ 39.65625 40.375 33.015625 40.375 \nz\nM 52.59375 71.296875 \nL 52.59375 62.3125 \nQ 48.875 64.0625 45.09375 64.984375 \nQ 41.3125 65.921875 37.59375 65.921875 \nQ 27.828125 65.921875 22.671875 59.328125 \nQ 17.53125 52.734375 16.796875 39.40625 \nQ 19.671875 43.65625 24.015625 45.921875 \nQ 28.375 48.1875 33.59375 48.1875 \nQ 44.578125 48.1875 50.953125 41.515625 \nQ 57.328125 34.859375 57.328125 23.390625 \nQ 57.328125 12.15625 50.6875 5.359375 \nQ 44.046875 -1.421875 33.015625 -1.421875 \nQ 20.359375 -1.421875 13.671875 8.265625 \nQ 6.984375 17.96875 6.984375 36.375 \nQ 6.984375 53.65625 15.1875 63.9375 \nQ 23.390625 74.21875 37.203125 74.21875 \nQ 40.921875 74.21875 44.703125 73.484375 \nQ 48.484375 72.75 52.59375 71.296875 \nz\n\" id=\"DejaVuSans-54\"/>\n      </defs>\n      <g transform=\"translate(595.41875 406.117656)scale(0.1 -0.1)\">\n       <use xlink:href=\"#DejaVuSans-54\"/>\n       <use x=\"63.623047\" xlink:href=\"#DejaVuSans-48\"/>\n      </g>\n     </g>\n    </g>\n    <g id=\"text_7\">\n     <!-- epoch -->\n     <defs>\n      <path d=\"M 56.203125 29.59375 \nL 56.203125 25.203125 \nL 14.890625 25.203125 \nQ 15.484375 15.921875 20.484375 11.0625 \nQ 25.484375 6.203125 34.421875 6.203125 \nQ 39.59375 6.203125 44.453125 7.46875 \nQ 49.3125 8.734375 54.109375 11.28125 \nL 54.109375 2.78125 \nQ 49.265625 0.734375 44.1875 -0.34375 \nQ 39.109375 -1.421875 33.890625 -1.421875 \nQ 20.796875 -1.421875 13.15625 6.1875 \nQ 5.515625 13.8125 5.515625 26.8125 \nQ 5.515625 40.234375 12.765625 48.109375 \nQ 20.015625 56 32.328125 56 \nQ 43.359375 56 49.78125 48.890625 \nQ 56.203125 41.796875 56.203125 29.59375 \nz\nM 47.21875 32.234375 \nQ 47.125 39.59375 43.09375 43.984375 \nQ 39.0625 48.390625 32.421875 48.390625 \nQ 24.90625 48.390625 20.390625 44.140625 \nQ 15.875 39.890625 15.1875 32.171875 \nz\n\" id=\"DejaVuSans-101\"/>\n      <path d=\"M 18.109375 8.203125 \nL 18.109375 -20.796875 \nL 9.078125 -20.796875 \nL 9.078125 54.6875 \nL 18.109375 54.6875 \nL 18.109375 46.390625 \nQ 20.953125 51.265625 25.265625 53.625 \nQ 29.59375 56 35.59375 56 \nQ 45.5625 56 51.78125 48.09375 \nQ 58.015625 40.1875 58.015625 27.296875 \nQ 58.015625 14.40625 51.78125 6.484375 \nQ 45.5625 -1.421875 35.59375 -1.421875 \nQ 29.59375 -1.421875 25.265625 0.953125 \nQ 20.953125 3.328125 18.109375 8.203125 \nz\nM 48.6875 27.296875 \nQ 48.6875 37.203125 44.609375 42.84375 \nQ 40.53125 48.484375 33.40625 48.484375 \nQ 26.265625 48.484375 22.1875 42.84375 \nQ 18.109375 37.203125 18.109375 27.296875 \nQ 18.109375 17.390625 22.1875 11.75 \nQ 26.265625 6.109375 33.40625 6.109375 \nQ 40.53125 6.109375 44.609375 11.75 \nQ 48.6875 17.390625 48.6875 27.296875 \nz\n\" id=\"DejaVuSans-112\"/>\n      <path d=\"M 30.609375 48.390625 \nQ 23.390625 48.390625 19.1875 42.75 \nQ 14.984375 37.109375 14.984375 27.296875 \nQ 14.984375 17.484375 19.15625 11.84375 \nQ 23.34375 6.203125 30.609375 6.203125 \nQ 37.796875 6.203125 41.984375 11.859375 \nQ 46.1875 17.53125 46.1875 27.296875 \nQ 46.1875 37.015625 41.984375 42.703125 \nQ 37.796875 48.390625 30.609375 48.390625 \nz\nM 30.609375 56 \nQ 42.328125 56 49.015625 48.375 \nQ 55.71875 40.765625 55.71875 27.296875 \nQ 55.71875 13.875 49.015625 6.21875 \nQ 42.328125 -1.421875 30.609375 -1.421875 \nQ 18.84375 -1.421875 12.171875 6.21875 \nQ 5.515625 13.875 5.515625 27.296875 \nQ 5.515625 40.765625 12.171875 48.375 \nQ 18.84375 56 30.609375 56 \nz\n\" id=\"DejaVuSans-111\"/>\n      <path d=\"M 48.78125 52.59375 \nL 48.78125 44.1875 \nQ 44.96875 46.296875 41.140625 47.34375 \nQ 37.3125 48.390625 33.40625 48.390625 \nQ 24.65625 48.390625 19.8125 42.84375 \nQ 14.984375 37.3125 14.984375 27.296875 \nQ 14.984375 17.28125 19.8125 11.734375 \nQ 24.65625 6.203125 33.40625 6.203125 \nQ 37.3125 6.203125 41.140625 7.25 \nQ 44.96875 8.296875 48.78125 10.40625 \nL 48.78125 2.09375 \nQ 45.015625 0.34375 40.984375 -0.53125 \nQ 36.96875 -1.421875 32.421875 -1.421875 \nQ 20.0625 -1.421875 12.78125 6.34375 \nQ 5.515625 14.109375 5.515625 27.296875 \nQ 5.515625 40.671875 12.859375 48.328125 \nQ 20.21875 56 33.015625 56 \nQ 37.15625 56 41.109375 55.140625 \nQ 45.0625 54.296875 48.78125 52.59375 \nz\n\" id=\"DejaVuSans-99\"/>\n      <path d=\"M 54.890625 33.015625 \nL 54.890625 0 \nL 45.90625 0 \nL 45.90625 32.71875 \nQ 45.90625 40.484375 42.875 44.328125 \nQ 39.84375 48.1875 33.796875 48.1875 \nQ 26.515625 48.1875 22.3125 43.546875 \nQ 18.109375 38.921875 18.109375 30.90625 \nL 18.109375 0 \nL 9.078125 0 \nL 9.078125 75.984375 \nL 18.109375 75.984375 \nL 18.109375 46.1875 \nQ 21.34375 51.125 25.703125 53.5625 \nQ 30.078125 56 35.796875 56 \nQ 45.21875 56 50.046875 50.171875 \nQ 54.890625 44.34375 54.890625 33.015625 \nz\n\" id=\"DejaVuSans-104\"/>\n     </defs>\n     <g transform=\"translate(307.553125 419.795781)scale(0.1 -0.1)\">\n      <use xlink:href=\"#DejaVuSans-101\"/>\n      <use x=\"61.523438\" xlink:href=\"#DejaVuSans-112\"/>\n      <use x=\"125\" xlink:href=\"#DejaVuSans-111\"/>\n      <use x=\"186.181641\" xlink:href=\"#DejaVuSans-99\"/>\n      <use x=\"241.162109\" xlink:href=\"#DejaVuSans-104\"/>\n     </g>\n    </g>\n   </g>\n   <g id=\"matplotlib.axis_2\">\n    <g id=\"ytick_1\">\n     <g id=\"line2d_13\">\n      <path clip-path=\"url(#p6aecfa3a9a)\" d=\"M 43.78125 391.519219 \nL 601.78125 391.519219 \n\" style=\"fill:none;stroke:#b0b0b0;stroke-linecap:square;stroke-width:0.8;\"/>\n     </g>\n     <g id=\"line2d_14\">\n      <defs>\n       <path d=\"M 0 0 \nL -3.5 0 \n\" id=\"maaf42b0305\" style=\"stroke:#000000;stroke-width:0.8;\"/>\n      </defs>\n      <g>\n       <use style=\"stroke:#000000;stroke-width:0.8;\" x=\"43.78125\" xlink:href=\"#maaf42b0305\" y=\"391.519219\"/>\n      </g>\n     </g>\n     <g id=\"text_8\">\n      <!-- 0.0 -->\n      <defs>\n       <path d=\"M 10.6875 12.40625 \nL 21 12.40625 \nL 21 0 \nL 10.6875 0 \nz\n\" id=\"DejaVuSans-46\"/>\n      </defs>\n      <g transform=\"translate(20.878125 395.318437)scale(0.1 -0.1)\">\n       <use xlink:href=\"#DejaVuSans-48\"/>\n       <use x=\"63.623047\" xlink:href=\"#DejaVuSans-46\"/>\n       <use x=\"95.410156\" xlink:href=\"#DejaVuSans-48\"/>\n      </g>\n     </g>\n    </g>\n    <g id=\"ytick_2\">\n     <g id=\"line2d_15\">\n      <path clip-path=\"url(#p6aecfa3a9a)\" d=\"M 43.78125 315.415219 \nL 601.78125 315.415219 \n\" style=\"fill:none;stroke:#b0b0b0;stroke-linecap:square;stroke-width:0.8;\"/>\n     </g>\n     <g id=\"line2d_16\">\n      <g>\n       <use style=\"stroke:#000000;stroke-width:0.8;\" x=\"43.78125\" xlink:href=\"#maaf42b0305\" y=\"315.415219\"/>\n      </g>\n     </g>\n     <g id=\"text_9\">\n      <!-- 0.2 -->\n      <g transform=\"translate(20.878125 319.214437)scale(0.1 -0.1)\">\n       <use xlink:href=\"#DejaVuSans-48\"/>\n       <use x=\"63.623047\" xlink:href=\"#DejaVuSans-46\"/>\n       <use x=\"95.410156\" xlink:href=\"#DejaVuSans-50\"/>\n      </g>\n     </g>\n    </g>\n    <g id=\"ytick_3\">\n     <g id=\"line2d_17\">\n      <path clip-path=\"url(#p6aecfa3a9a)\" d=\"M 43.78125 239.311219 \nL 601.78125 239.311219 \n\" style=\"fill:none;stroke:#b0b0b0;stroke-linecap:square;stroke-width:0.8;\"/>\n     </g>\n     <g id=\"line2d_18\">\n      <g>\n       <use style=\"stroke:#000000;stroke-width:0.8;\" x=\"43.78125\" xlink:href=\"#maaf42b0305\" y=\"239.311219\"/>\n      </g>\n     </g>\n     <g id=\"text_10\">\n      <!-- 0.4 -->\n      <g transform=\"translate(20.878125 243.110437)scale(0.1 -0.1)\">\n       <use xlink:href=\"#DejaVuSans-48\"/>\n       <use x=\"63.623047\" xlink:href=\"#DejaVuSans-46\"/>\n       <use x=\"95.410156\" xlink:href=\"#DejaVuSans-52\"/>\n      </g>\n     </g>\n    </g>\n    <g id=\"ytick_4\">\n     <g id=\"line2d_19\">\n      <path clip-path=\"url(#p6aecfa3a9a)\" d=\"M 43.78125 163.207219 \nL 601.78125 163.207219 \n\" style=\"fill:none;stroke:#b0b0b0;stroke-linecap:square;stroke-width:0.8;\"/>\n     </g>\n     <g id=\"line2d_20\">\n      <g>\n       <use style=\"stroke:#000000;stroke-width:0.8;\" x=\"43.78125\" xlink:href=\"#maaf42b0305\" y=\"163.207219\"/>\n      </g>\n     </g>\n     <g id=\"text_11\">\n      <!-- 0.6 -->\n      <g transform=\"translate(20.878125 167.006437)scale(0.1 -0.1)\">\n       <use xlink:href=\"#DejaVuSans-48\"/>\n       <use x=\"63.623047\" xlink:href=\"#DejaVuSans-46\"/>\n       <use x=\"95.410156\" xlink:href=\"#DejaVuSans-54\"/>\n      </g>\n     </g>\n    </g>\n    <g id=\"ytick_5\">\n     <g id=\"line2d_21\">\n      <path clip-path=\"url(#p6aecfa3a9a)\" d=\"M 43.78125 87.103219 \nL 601.78125 87.103219 \n\" style=\"fill:none;stroke:#b0b0b0;stroke-linecap:square;stroke-width:0.8;\"/>\n     </g>\n     <g id=\"line2d_22\">\n      <g>\n       <use style=\"stroke:#000000;stroke-width:0.8;\" x=\"43.78125\" xlink:href=\"#maaf42b0305\" y=\"87.103219\"/>\n      </g>\n     </g>\n     <g id=\"text_12\">\n      <!-- 0.8 -->\n      <defs>\n       <path d=\"M 31.78125 34.625 \nQ 24.75 34.625 20.71875 30.859375 \nQ 16.703125 27.09375 16.703125 20.515625 \nQ 16.703125 13.921875 20.71875 10.15625 \nQ 24.75 6.390625 31.78125 6.390625 \nQ 38.8125 6.390625 42.859375 10.171875 \nQ 46.921875 13.96875 46.921875 20.515625 \nQ 46.921875 27.09375 42.890625 30.859375 \nQ 38.875 34.625 31.78125 34.625 \nz\nM 21.921875 38.8125 \nQ 15.578125 40.375 12.03125 44.71875 \nQ 8.5 49.078125 8.5 55.328125 \nQ 8.5 64.0625 14.71875 69.140625 \nQ 20.953125 74.21875 31.78125 74.21875 \nQ 42.671875 74.21875 48.875 69.140625 \nQ 55.078125 64.0625 55.078125 55.328125 \nQ 55.078125 49.078125 51.53125 44.71875 \nQ 48 40.375 41.703125 38.8125 \nQ 48.828125 37.15625 52.796875 32.3125 \nQ 56.78125 27.484375 56.78125 20.515625 \nQ 56.78125 9.90625 50.3125 4.234375 \nQ 43.84375 -1.421875 31.78125 -1.421875 \nQ 19.734375 -1.421875 13.25 4.234375 \nQ 6.78125 9.90625 6.78125 20.515625 \nQ 6.78125 27.484375 10.78125 32.3125 \nQ 14.796875 37.15625 21.921875 38.8125 \nz\nM 18.3125 54.390625 \nQ 18.3125 48.734375 21.84375 45.5625 \nQ 25.390625 42.390625 31.78125 42.390625 \nQ 38.140625 42.390625 41.71875 45.5625 \nQ 45.3125 48.734375 45.3125 54.390625 \nQ 45.3125 60.0625 41.71875 63.234375 \nQ 38.140625 66.40625 31.78125 66.40625 \nQ 25.390625 66.40625 21.84375 63.234375 \nQ 18.3125 60.0625 18.3125 54.390625 \nz\n\" id=\"DejaVuSans-56\"/>\n      </defs>\n      <g transform=\"translate(20.878125 90.902437)scale(0.1 -0.1)\">\n       <use xlink:href=\"#DejaVuSans-48\"/>\n       <use x=\"63.623047\" xlink:href=\"#DejaVuSans-46\"/>\n       <use x=\"95.410156\" xlink:href=\"#DejaVuSans-56\"/>\n      </g>\n     </g>\n    </g>\n    <g id=\"ytick_6\">\n     <g id=\"line2d_23\">\n      <path clip-path=\"url(#p6aecfa3a9a)\" d=\"M 43.78125 10.999219 \nL 601.78125 10.999219 \n\" style=\"fill:none;stroke:#b0b0b0;stroke-linecap:square;stroke-width:0.8;\"/>\n     </g>\n     <g id=\"line2d_24\">\n      <g>\n       <use style=\"stroke:#000000;stroke-width:0.8;\" x=\"43.78125\" xlink:href=\"#maaf42b0305\" y=\"10.999219\"/>\n      </g>\n     </g>\n     <g id=\"text_13\">\n      <!-- 1.0 -->\n      <g transform=\"translate(20.878125 14.798437)scale(0.1 -0.1)\">\n       <use xlink:href=\"#DejaVuSans-49\"/>\n       <use x=\"63.623047\" xlink:href=\"#DejaVuSans-46\"/>\n       <use x=\"95.410156\" xlink:href=\"#DejaVuSans-48\"/>\n      </g>\n     </g>\n    </g>\n    <g id=\"text_14\">\n     <!-- loss -->\n     <defs>\n      <path d=\"M 9.421875 75.984375 \nL 18.40625 75.984375 \nL 18.40625 0 \nL 9.421875 0 \nz\n\" id=\"DejaVuSans-108\"/>\n      <path d=\"M 44.28125 53.078125 \nL 44.28125 44.578125 \nQ 40.484375 46.53125 36.375 47.5 \nQ 32.28125 48.484375 27.875 48.484375 \nQ 21.1875 48.484375 17.84375 46.4375 \nQ 14.5 44.390625 14.5 40.28125 \nQ 14.5 37.15625 16.890625 35.375 \nQ 19.28125 33.59375 26.515625 31.984375 \nL 29.59375 31.296875 \nQ 39.15625 29.25 43.1875 25.515625 \nQ 47.21875 21.78125 47.21875 15.09375 \nQ 47.21875 7.46875 41.1875 3.015625 \nQ 35.15625 -1.421875 24.609375 -1.421875 \nQ 20.21875 -1.421875 15.453125 -0.5625 \nQ 10.6875 0.296875 5.421875 2 \nL 5.421875 11.28125 \nQ 10.40625 8.6875 15.234375 7.390625 \nQ 20.0625 6.109375 24.8125 6.109375 \nQ 31.15625 6.109375 34.5625 8.28125 \nQ 37.984375 10.453125 37.984375 14.40625 \nQ 37.984375 18.0625 35.515625 20.015625 \nQ 33.0625 21.96875 24.703125 23.78125 \nL 21.578125 24.515625 \nQ 13.234375 26.265625 9.515625 29.90625 \nQ 5.8125 33.546875 5.8125 39.890625 \nQ 5.8125 47.609375 11.28125 51.796875 \nQ 16.75 56 26.8125 56 \nQ 31.78125 56 36.171875 55.265625 \nQ 40.578125 54.546875 44.28125 53.078125 \nz\n\" id=\"DejaVuSans-115\"/>\n     </defs>\n     <g transform=\"translate(14.798438 210.917031)rotate(-90)scale(0.1 -0.1)\">\n      <use xlink:href=\"#DejaVuSans-108\"/>\n      <use x=\"27.783203\" xlink:href=\"#DejaVuSans-111\"/>\n      <use x=\"88.964844\" xlink:href=\"#DejaVuSans-115\"/>\n      <use x=\"141.064453\" xlink:href=\"#DejaVuSans-115\"/>\n     </g>\n    </g>\n   </g>\n   <g id=\"line2d_25\">\n    <path clip-path=\"url(#p6aecfa3a9a)\" d=\"M 43.78125 120.718121 \nL 53.238877 92.43234 \nL 62.696504 75.886741 \nL 72.154131 66.937731 \nL 81.611758 66.534881 \nL 91.069386 60.089291 \nL 100.527013 59.341143 \nL 109.98464 56.665072 \nL 119.442267 56.319772 \nL 128.899894 55.888148 \nL 138.357521 54.161651 \nL 147.815148 55.456524 \nL 157.272775 52.636578 \nL 166.730403 53.845126 \nL 176.18803 55.427749 \nL 185.645657 55.686723 \nL 195.103284 53.730026 \nL 204.560911 52.694128 \nL 214.018538 51.830879 \nL 223.476165 50.967631 \nL 232.933792 51.37048 \nL 242.391419 51.111506 \nL 251.849047 52.694128 \nL 261.306674 50.708656 \nL 270.764301 51.571905 \nL 280.221928 52.953103 \nL 289.679555 50.967631 \nL 299.137182 52.521478 \nL 308.594809 50.248257 \nL 318.052436 50.277032 \nL 327.510064 50.277032 \nL 336.967691 49.672758 \nL 346.425318 51.19783 \nL 355.882945 52.838003 \nL 365.340572 51.974754 \nL 374.798199 52.176179 \nL 384.255826 49.989282 \nL 393.713453 52.809228 \nL 403.171081 49.385008 \nL 412.628708 49.413783 \nL 422.086335 50.622331 \nL 431.543962 51.888429 \nL 441.001589 49.816633 \nL 450.459216 48.867059 \nL 459.916843 49.787858 \nL 469.37447 50.420907 \nL 478.832097 49.557658 \nL 488.289725 48.665634 \nL 497.747352 49.010934 \nL 507.204979 49.615208 \nL 516.662606 48.550535 \nL 526.120233 48.608084 \nL 535.57786 49.183584 \nL 545.035487 48.579309 \nL 554.493114 48.147685 \nL 563.950742 49.528883 \nL 573.408369 50.651106 \nL 582.865996 52.463928 \nL 592.323623 50.449682 \nL 601.78125 48.377885 \n\" style=\"fill:none;stroke:#1f77b4;stroke-linecap:square;stroke-width:1.5;\"/>\n   </g>\n   <g id=\"line2d_26\">\n    <path clip-path=\"url(#p6aecfa3a9a)\" d=\"M 43.78125 128.376263 \nL 53.238877 101.079276 \nL 62.696504 81.971385 \nL 72.154131 70.506651 \nL 81.611758 64.501313 \nL 91.069386 68.868831 \nL 100.527013 68.868831 \nL 109.98464 63.955374 \nL 119.442267 68.322892 \nL 128.899894 62.317554 \nL 138.357521 64.501313 \nL 147.815148 64.501313 \nL 157.272775 61.771615 \nL 166.730403 57.950037 \nL 176.18803 63.955374 \nL 185.645657 62.317554 \nL 195.103284 63.409434 \nL 204.560911 65.047253 \nL 214.018538 63.409434 \nL 223.476165 60.133796 \nL 232.933792 57.404097 \nL 242.391419 61.771615 \nL 251.849047 63.409434 \nL 261.306674 60.133796 \nL 270.764301 57.950037 \nL 280.221928 59.587856 \nL 289.679555 61.225675 \nL 299.137182 62.317554 \nL 308.594809 59.587856 \nL 318.052436 60.133796 \nL 327.510064 57.404097 \nL 336.967691 56.858157 \nL 346.425318 62.863494 \nL 355.882945 62.863494 \nL 365.340572 60.133796 \nL 374.798199 56.858157 \nL 384.255826 56.312217 \nL 393.713453 66.139133 \nL 403.171081 56.312217 \nL 412.628708 56.858157 \nL 422.086335 60.679735 \nL 431.543962 61.771615 \nL 441.001589 61.225675 \nL 450.459216 57.404097 \nL 459.916843 59.041916 \nL 469.37447 58.495976 \nL 478.832097 57.404097 \nL 488.289725 56.858157 \nL 497.747352 57.404097 \nL 507.204979 59.041916 \nL 516.662606 55.766278 \nL 526.120233 57.404097 \nL 535.57786 59.041916 \nL 545.035487 56.858157 \nL 554.493114 56.858157 \nL 563.950742 57.404097 \nL 573.408369 62.317554 \nL 582.865996 63.955374 \nL 592.323623 60.133796 \nL 601.78125 55.766278 \n\" style=\"fill:none;stroke:#bf00bf;stroke-dasharray:5.55,2.4;stroke-dashoffset:0;stroke-width:1.5;\"/>\n   </g>\n   <g id=\"line2d_27\">\n    <path clip-path=\"url(#p6aecfa3a9a)\" d=\"M 211.151632 -1 \nL 214.018538 2.928123 \nL 217.018416 -1 \nM 256.84976 -1 \nL 261.306674 0.949091 \nL 262.579153 -1 \nM 296.121353 -1 \nL 299.137182 3.935308 \nL 308.594809 13.175619 \nL 318.052436 3.794653 \nL 327.510064 6.676017 \nL 336.967691 20.27912 \nL 346.425318 13.569726 \nL 354.313534 -1 \nM 374.710153 -1 \nL 374.798199 -0.97252 \nL 384.255826 4.698617 \nL 387.679301 -1 \nM 397.009619 -1 \nL 403.171081 17.775578 \nL 412.628708 13.979867 \nL 422.086335 8.426466 \nL 427.627063 -1 \nM 435.799061 -1 \nL 441.001589 7.147589 \nL 450.459216 18.941318 \nL 459.916843 15.410252 \nL 469.37447 17.12549 \nL 478.832097 13.504241 \nL 488.289725 18.606385 \nL 497.747352 18.377344 \nL 507.204979 3.428444 \nL 516.662606 26.627583 \nL 526.120233 22.414144 \nL 535.57786 21.347939 \nL 545.035487 28.63584 \nL 554.493114 30.692712 \nL 563.950742 28.298582 \nL 573.408369 13.970971 \nL 582.865996 14.411363 \nL 592.323623 15.890602 \nL 601.78125 26.435415 \n\" style=\"fill:none;stroke:#008000;stroke-dasharray:9.6,2.4,1.5,2.4;stroke-dashoffset:0;stroke-width:1.5;\"/>\n   </g>\n   <g id=\"line2d_28\">\n    <path clip-path=\"url(#p6aecfa3a9a)\" d=\"M 43.78125 34.382265 \nL 53.238877 193.711674 \nL 62.696504 237.929437 \nL 72.154131 254.840732 \nL 81.611758 258.057306 \nL 91.069386 264.87512 \nL 100.527013 266.616946 \nL 109.98464 270.757556 \nL 119.442267 268.665041 \nL 128.899894 268.711922 \nL 138.357521 274.164853 \nL 147.815148 272.628231 \nL 157.272775 277.045173 \nL 166.730403 274.682984 \nL 176.18803 271.788896 \nL 185.645657 272.949697 \nL 195.103284 276.264751 \nL 204.560911 277.519802 \nL 214.018538 279.78214 \nL 223.476165 281.224863 \nL 232.933792 280.654896 \nL 242.391419 280.632861 \nL 251.849047 279.93223 \nL 261.306674 282.057859 \nL 270.764301 280.955291 \nL 280.221928 278.193965 \nL 289.679555 280.988019 \nL 299.137182 281.371925 \nL 308.594809 284.394669 \nL 318.052436 283.712432 \nL 327.510064 283.169647 \nL 336.967691 284.273611 \nL 346.425318 281.494832 \nL 355.882945 277.794455 \nL 365.340572 279.825687 \nL 374.798199 281.397611 \nL 384.255826 284.60289 \nL 393.713453 279.489275 \nL 403.171081 286.113757 \nL 412.628708 286.356589 \nL 422.086335 282.420547 \nL 431.543962 278.679072 \nL 441.001589 282.44189 \nL 450.459216 286.266308 \nL 459.916843 285.491556 \nL 469.37447 285.882538 \nL 478.832097 286.07892 \nL 488.289725 287.412049 \nL 497.747352 285.321382 \nL 507.204979 283.584376 \nL 516.662606 287.345822 \nL 526.120233 287.403794 \nL 535.57786 285.642122 \nL 545.035487 287.64633 \nL 554.493114 288.064246 \nL 563.950742 287.726711 \nL 573.408369 285.738028 \nL 582.865996 282.060343 \nL 592.323623 283.78501 \nL 601.78125 287.452455 \n\" style=\"fill:none;stroke:#ff0000;stroke-dasharray:1.5,2.475;stroke-dashoffset:0;stroke-width:1.5;\"/>\n   </g>\n   <g id=\"patch_3\">\n    <path d=\"M 43.78125 391.519219 \nL 43.78125 10.999219 \n\" style=\"fill:none;stroke:#000000;stroke-linecap:square;stroke-linejoin:miter;stroke-width:0.8;\"/>\n   </g>\n   <g id=\"patch_4\">\n    <path d=\"M 601.78125 391.519219 \nL 601.78125 10.999219 \n\" style=\"fill:none;stroke:#000000;stroke-linecap:square;stroke-linejoin:miter;stroke-width:0.8;\"/>\n   </g>\n   <g id=\"patch_5\">\n    <path d=\"M 43.78125 391.519219 \nL 601.78125 391.519219 \n\" style=\"fill:none;stroke:#000000;stroke-linecap:square;stroke-linejoin:miter;stroke-width:0.8;\"/>\n   </g>\n   <g id=\"patch_6\">\n    <path d=\"M 43.78125 10.999219 \nL 601.78125 10.999219 \n\" style=\"fill:none;stroke:#000000;stroke-linecap:square;stroke-linejoin:miter;stroke-width:0.8;\"/>\n   </g>\n   <g id=\"legend_1\">\n    <g id=\"patch_7\">\n     <path d=\"M 50.78125 386.519219 \nL 128.55 386.519219 \nQ 130.55 386.519219 130.55 384.519219 \nL 130.55 326.806719 \nQ 130.55 324.806719 128.55 324.806719 \nL 50.78125 324.806719 \nQ 48.78125 324.806719 48.78125 326.806719 \nL 48.78125 384.519219 \nQ 48.78125 386.519219 50.78125 386.519219 \nz\n\" style=\"fill:#ffffff;opacity:0.8;stroke:#cccccc;stroke-linejoin:miter;\"/>\n    </g>\n    <g id=\"line2d_29\">\n     <path d=\"M 52.78125 332.905156 \nL 72.78125 332.905156 \n\" style=\"fill:none;stroke:#1f77b4;stroke-linecap:square;stroke-width:1.5;\"/>\n    </g>\n    <g id=\"line2d_30\"/>\n    <g id=\"text_15\">\n     <!-- train acc -->\n     <defs>\n      <path d=\"M 18.3125 70.21875 \nL 18.3125 54.6875 \nL 36.8125 54.6875 \nL 36.8125 47.703125 \nL 18.3125 47.703125 \nL 18.3125 18.015625 \nQ 18.3125 11.328125 20.140625 9.421875 \nQ 21.96875 7.515625 27.59375 7.515625 \nL 36.8125 7.515625 \nL 36.8125 0 \nL 27.59375 0 \nQ 17.1875 0 13.234375 3.875 \nQ 9.28125 7.765625 9.28125 18.015625 \nL 9.28125 47.703125 \nL 2.6875 47.703125 \nL 2.6875 54.6875 \nL 9.28125 54.6875 \nL 9.28125 70.21875 \nz\n\" id=\"DejaVuSans-116\"/>\n      <path d=\"M 41.109375 46.296875 \nQ 39.59375 47.171875 37.8125 47.578125 \nQ 36.03125 48 33.890625 48 \nQ 26.265625 48 22.1875 43.046875 \nQ 18.109375 38.09375 18.109375 28.8125 \nL 18.109375 0 \nL 9.078125 0 \nL 9.078125 54.6875 \nL 18.109375 54.6875 \nL 18.109375 46.1875 \nQ 20.953125 51.171875 25.484375 53.578125 \nQ 30.03125 56 36.53125 56 \nQ 37.453125 56 38.578125 55.875 \nQ 39.703125 55.765625 41.0625 55.515625 \nz\n\" id=\"DejaVuSans-114\"/>\n      <path d=\"M 34.28125 27.484375 \nQ 23.390625 27.484375 19.1875 25 \nQ 14.984375 22.515625 14.984375 16.5 \nQ 14.984375 11.71875 18.140625 8.90625 \nQ 21.296875 6.109375 26.703125 6.109375 \nQ 34.1875 6.109375 38.703125 11.40625 \nQ 43.21875 16.703125 43.21875 25.484375 \nL 43.21875 27.484375 \nz\nM 52.203125 31.203125 \nL 52.203125 0 \nL 43.21875 0 \nL 43.21875 8.296875 \nQ 40.140625 3.328125 35.546875 0.953125 \nQ 30.953125 -1.421875 24.3125 -1.421875 \nQ 15.921875 -1.421875 10.953125 3.296875 \nQ 6 8.015625 6 15.921875 \nQ 6 25.140625 12.171875 29.828125 \nQ 18.359375 34.515625 30.609375 34.515625 \nL 43.21875 34.515625 \nL 43.21875 35.40625 \nQ 43.21875 41.609375 39.140625 45 \nQ 35.0625 48.390625 27.6875 48.390625 \nQ 23 48.390625 18.546875 47.265625 \nQ 14.109375 46.140625 10.015625 43.890625 \nL 10.015625 52.203125 \nQ 14.9375 54.109375 19.578125 55.046875 \nQ 24.21875 56 28.609375 56 \nQ 40.484375 56 46.34375 49.84375 \nQ 52.203125 43.703125 52.203125 31.203125 \nz\n\" id=\"DejaVuSans-97\"/>\n      <path d=\"M 9.421875 54.6875 \nL 18.40625 54.6875 \nL 18.40625 0 \nL 9.421875 0 \nz\nM 9.421875 75.984375 \nL 18.40625 75.984375 \nL 18.40625 64.59375 \nL 9.421875 64.59375 \nz\n\" id=\"DejaVuSans-105\"/>\n      <path d=\"M 54.890625 33.015625 \nL 54.890625 0 \nL 45.90625 0 \nL 45.90625 32.71875 \nQ 45.90625 40.484375 42.875 44.328125 \nQ 39.84375 48.1875 33.796875 48.1875 \nQ 26.515625 48.1875 22.3125 43.546875 \nQ 18.109375 38.921875 18.109375 30.90625 \nL 18.109375 0 \nL 9.078125 0 \nL 9.078125 54.6875 \nL 18.109375 54.6875 \nL 18.109375 46.1875 \nQ 21.34375 51.125 25.703125 53.5625 \nQ 30.078125 56 35.796875 56 \nQ 45.21875 56 50.046875 50.171875 \nQ 54.890625 44.34375 54.890625 33.015625 \nz\n\" id=\"DejaVuSans-110\"/>\n      <path id=\"DejaVuSans-32\"/>\n     </defs>\n     <g transform=\"translate(80.78125 336.405156)scale(0.1 -0.1)\">\n      <use xlink:href=\"#DejaVuSans-116\"/>\n      <use x=\"39.208984\" xlink:href=\"#DejaVuSans-114\"/>\n      <use x=\"80.322266\" xlink:href=\"#DejaVuSans-97\"/>\n      <use x=\"141.601562\" xlink:href=\"#DejaVuSans-105\"/>\n      <use x=\"169.384766\" xlink:href=\"#DejaVuSans-110\"/>\n      <use x=\"232.763672\" xlink:href=\"#DejaVuSans-32\"/>\n      <use x=\"264.550781\" xlink:href=\"#DejaVuSans-97\"/>\n      <use x=\"325.830078\" xlink:href=\"#DejaVuSans-99\"/>\n      <use x=\"380.810547\" xlink:href=\"#DejaVuSans-99\"/>\n     </g>\n    </g>\n    <g id=\"line2d_31\">\n     <path d=\"M 52.78125 347.583281 \nL 72.78125 347.583281 \n\" style=\"fill:none;stroke:#bf00bf;stroke-dasharray:5.55,2.4;stroke-dashoffset:0;stroke-width:1.5;\"/>\n    </g>\n    <g id=\"line2d_32\"/>\n    <g id=\"text_16\">\n     <!-- test acc -->\n     <g transform=\"translate(80.78125 351.083281)scale(0.1 -0.1)\">\n      <use xlink:href=\"#DejaVuSans-116\"/>\n      <use x=\"39.208984\" xlink:href=\"#DejaVuSans-101\"/>\n      <use x=\"100.732422\" xlink:href=\"#DejaVuSans-115\"/>\n      <use x=\"152.832031\" xlink:href=\"#DejaVuSans-116\"/>\n      <use x=\"192.041016\" xlink:href=\"#DejaVuSans-32\"/>\n      <use x=\"223.828125\" xlink:href=\"#DejaVuSans-97\"/>\n      <use x=\"285.107422\" xlink:href=\"#DejaVuSans-99\"/>\n      <use x=\"340.087891\" xlink:href=\"#DejaVuSans-99\"/>\n     </g>\n    </g>\n    <g id=\"line2d_33\">\n     <path d=\"M 52.78125 362.261406 \nL 72.78125 362.261406 \n\" style=\"fill:none;stroke:#008000;stroke-dasharray:9.6,2.4,1.5,2.4;stroke-dashoffset:0;stroke-width:1.5;\"/>\n    </g>\n    <g id=\"line2d_34\"/>\n    <g id=\"text_17\">\n     <!-- train loss -->\n     <g transform=\"translate(80.78125 365.761406)scale(0.1 -0.1)\">\n      <use xlink:href=\"#DejaVuSans-116\"/>\n      <use x=\"39.208984\" xlink:href=\"#DejaVuSans-114\"/>\n      <use x=\"80.322266\" xlink:href=\"#DejaVuSans-97\"/>\n      <use x=\"141.601562\" xlink:href=\"#DejaVuSans-105\"/>\n      <use x=\"169.384766\" xlink:href=\"#DejaVuSans-110\"/>\n      <use x=\"232.763672\" xlink:href=\"#DejaVuSans-32\"/>\n      <use x=\"264.550781\" xlink:href=\"#DejaVuSans-108\"/>\n      <use x=\"292.333984\" xlink:href=\"#DejaVuSans-111\"/>\n      <use x=\"353.515625\" xlink:href=\"#DejaVuSans-115\"/>\n      <use x=\"405.615234\" xlink:href=\"#DejaVuSans-115\"/>\n     </g>\n    </g>\n    <g id=\"line2d_35\">\n     <path d=\"M 52.78125 376.939531 \nL 72.78125 376.939531 \n\" style=\"fill:none;stroke:#ff0000;stroke-dasharray:1.5,2.475;stroke-dashoffset:0;stroke-width:1.5;\"/>\n    </g>\n    <g id=\"line2d_36\"/>\n    <g id=\"text_18\">\n     <!-- test loss -->\n     <g transform=\"translate(80.78125 380.439531)scale(0.1 -0.1)\">\n      <use xlink:href=\"#DejaVuSans-116\"/>\n      <use x=\"39.208984\" xlink:href=\"#DejaVuSans-101\"/>\n      <use x=\"100.732422\" xlink:href=\"#DejaVuSans-115\"/>\n      <use x=\"152.832031\" xlink:href=\"#DejaVuSans-116\"/>\n      <use x=\"192.041016\" xlink:href=\"#DejaVuSans-32\"/>\n      <use x=\"223.828125\" xlink:href=\"#DejaVuSans-108\"/>\n      <use x=\"251.611328\" xlink:href=\"#DejaVuSans-111\"/>\n      <use x=\"312.792969\" xlink:href=\"#DejaVuSans-115\"/>\n      <use x=\"364.892578\" xlink:href=\"#DejaVuSans-115\"/>\n     </g>\n    </g>\n   </g>\n  </g>\n </g>\n <defs>\n  <clipPath id=\"p6aecfa3a9a\">\n   <rect height=\"380.52\" width=\"558\" x=\"43.78125\" y=\"10.999219\"/>\n  </clipPath>\n </defs>\n</svg>\n",
            "text/plain": [
              "<Figure size 720x504 with 1 Axes>"
            ]
          },
          "metadata": {
            "tags": [],
            "needs_background": "light"
          }
        }
      ]
    },
    {
      "cell_type": "markdown",
      "metadata": {
        "id": "KykOzgyrxYh-"
      },
      "source": [
        "# Predicción"
      ]
    },
    {
      "cell_type": "code",
      "metadata": {
        "id": "mzbAuqanM4FD"
      },
      "source": [
        "#Predicciones sobre el conjunto de entrenamiento\n",
        "\n",
        "preds_train = get_labels(net(X_train).argmax(axis=1))\n",
        "set(preds_train)"
      ],
      "execution_count": null,
      "outputs": []
    },
    {
      "cell_type": "code",
      "metadata": {
        "id": "f8xbz2_JNCBG"
      },
      "source": [
        "#Predicciones sobre conjunto de validación\n",
        "preds_val = get_labels(net(X_test).argmax(axis=1))\n",
        "set(preds_val)"
      ],
      "execution_count": null,
      "outputs": []
    },
    {
      "cell_type": "code",
      "metadata": {
        "id": "OcURb1FVxXrG"
      },
      "source": [
        "#Predicciones sobre conjunto de Test\n",
        "\n",
        "preds = get_labels(net(test_features).argmax(axis=1))\n",
        "\n",
        "respuesta = pd.DataFrame({'Id':test_data['ID'], 'Category':preds})\n",
        "filename = 'submission1.csv'\n",
        "respuesta.to_csv(filename, index=False)"
      ],
      "execution_count": null,
      "outputs": []
    },
    {
      "cell_type": "markdown",
      "metadata": {
        "id": "lElEdn8dcPiS"
      },
      "source": [
        "# Análisis de errores"
      ]
    },
    {
      "cell_type": "code",
      "metadata": {
        "id": "9r2PF7deTEaJ"
      },
      "source": [
        "from sklearn.metrics import multilabel_confusion_matrix"
      ],
      "execution_count": null,
      "outputs": []
    },
    {
      "cell_type": "code",
      "metadata": {
        "id": "ijVubmJITKfQ"
      },
      "source": [
        "Y_test_labels = get_labels(Y_test)"
      ],
      "execution_count": null,
      "outputs": []
    },
    {
      "cell_type": "code",
      "metadata": {
        "id": "S6qzhsZjTO1j"
      },
      "source": [
        "#Matriz de confusión general\n",
        "matriz_general = multilabel_confusion_matrix(Y_test_labels, preds_val)\n",
        "matriz_general\n"
      ],
      "execution_count": null,
      "outputs": []
    },
    {
      "cell_type": "code",
      "metadata": {
        "id": "hhi0x1QIzha4"
      },
      "source": [
        "from sklearn.metrics import classification_report, confusion_matrix\n",
        "import matplotlib.pyplot as plt\n",
        "import seaborn as sns\n",
        "\n",
        "report = classification_report(Y_test_labels, preds_val)\n",
        "print(report)\n",
        "        \n",
        "# Confusion matrix\n",
        "cm = confusion_matrix(Y_test_labels, preds_val)\n",
        "df_cm = pd.DataFrame(cm, \n",
        "                      index = range(4),\n",
        "                      columns = range(4))\n",
        "plt.figure(figsize = (10,7))\n",
        "sns.heatmap(df_cm, annot=True, fmt='d')\n",
        "plt.show()"
      ],
      "execution_count": null,
      "outputs": []
    },
    {
      "cell_type": "code",
      "metadata": {
        "id": "MLkUB8YETT7A"
      },
      "source": [
        "#Matriz de confusión hombres\n",
        "X_test_total = torch.cat((X_test, Y_test.unsqueeze(1)),1)\n",
        "X_test_masculino = X_test_total[X_test_total[:,-10] == 1]\n",
        "Y_test_masculino = X_test_masculino[:,-1]\n",
        "X_test_masculino = X_test_masculino[:,:-1 ]\n",
        "X_test_masculino\n",
        "\n"
      ],
      "execution_count": null,
      "outputs": []
    },
    {
      "cell_type": "code",
      "metadata": {
        "id": "w7c95gq2BGGG"
      },
      "source": [
        "preds_test_masculino = get_labels(net(X_test_masculino).argmax(axis=1))\n",
        "set(preds_test_masculino)\n",
        "len(preds_test_masculino)\n"
      ],
      "execution_count": null,
      "outputs": []
    },
    {
      "cell_type": "code",
      "metadata": {
        "id": "v65TrRUqKGNW"
      },
      "source": [
        "Y_test_masculino = get_labels(Y_test_masculino)"
      ],
      "execution_count": null,
      "outputs": []
    },
    {
      "cell_type": "code",
      "metadata": {
        "id": "fUdXGDC5JS5_"
      },
      "source": [
        "matriz_hombres = multilabel_confusion_matrix(Y_test_masculino, preds_test_masculino)\n",
        "matriz_hombres"
      ],
      "execution_count": null,
      "outputs": []
    },
    {
      "cell_type": "code",
      "metadata": {
        "id": "wpr77f7XKM0o"
      },
      "source": [
        "#matriz femenina\n",
        "X_test_total = torch.cat((X_test, Y_test.unsqueeze(1)),1)\n",
        "X_test_femenino = X_test_total[X_test_total[:,-11] == 1]\n",
        "Y_test_femenino = X_test_femenino[:,-1]\n",
        "X_test_femenino = X_test_femenino[:,:-1 ]\n",
        "X_test_femenino.shape\n"
      ],
      "execution_count": null,
      "outputs": []
    },
    {
      "cell_type": "code",
      "metadata": {
        "id": "x2vkuQkzKZ1m"
      },
      "source": [
        "preds_test_femenino = get_labels(net(X_test_femenino).argmax(axis=1))\n",
        "set(preds_test_femenino)\n",
        "len(preds_test_femenino)"
      ],
      "execution_count": null,
      "outputs": []
    },
    {
      "cell_type": "code",
      "metadata": {
        "id": "ZbkW4PdwKgP1"
      },
      "source": [
        "Y_test_femenino = get_labels(Y_test_femenino)"
      ],
      "execution_count": null,
      "outputs": []
    },
    {
      "cell_type": "code",
      "metadata": {
        "id": "B6xJh6E8Kh68"
      },
      "source": [
        "matriz_mujeres = multilabel_confusion_matrix(Y_test_femenino, preds_test_femenino)\n",
        "matriz_mujeres"
      ],
      "execution_count": null,
      "outputs": []
    },
    {
      "cell_type": "code",
      "metadata": {
        "id": "YHZ_IJRpg_5V"
      },
      "source": [
        "respuesta['Sex'] = test_data['Sex']\n",
        "respuesta.groupby(['Sex', 'Category']).size()"
      ],
      "execution_count": null,
      "outputs": []
    },
    {
      "cell_type": "code",
      "metadata": {
        "id": "yzcw2KIMkNRU"
      },
      "source": [
        "respuesta.loc[respuesta.Sex=='Female']"
      ],
      "execution_count": null,
      "outputs": []
    },
    {
      "cell_type": "markdown",
      "metadata": {
        "id": "Fezy3cU1BVJi"
      },
      "source": [
        "# Grid search"
      ]
    },
    {
      "cell_type": "code",
      "metadata": {
        "id": "-8ghKlFQBYhJ"
      },
      "source": [
        "from sklearn.model_selection import ParameterGrid\n",
        "\n",
        "#Comenzamos optimización de hiperparámetros definiendo nuestra Grilla\n",
        "\n",
        "param_grid = {#'n_blocks' : [0,1,2],\n",
        "              'n_neuronas' : [128, 256, 512, 1024],\n",
        "              'num_epochs' : [10, 14, 20, 30],#[8,10,12,14],\n",
        "              'learning_rate' : [1e-2, 5e-4],\n",
        "              'weight_decay' : [1e-2, 1e-4, 1e-6],\n",
        "              'dropout' : [0.3, 0.5, 0.7],\n",
        "              }\n",
        "\n",
        "grid = list(ParameterGrid(param_grid))\n",
        "len(grid)"
      ],
      "execution_count": null,
      "outputs": []
    },
    {
      "cell_type": "code",
      "metadata": {
        "id": "sGjUVusLQSni"
      },
      "source": [
        "#Definimos función para optimizar hiperparámetros\n",
        "results = {}\n",
        "for i, params in enumerate(grid):\n",
        "    print(i)\n",
        "    print(params)\n",
        "    net = get_1hidden_net(params['n_neuronas'], params['dropout'])\n",
        "    train_metrics, test_metrics = train(net, \n",
        "                                    X_train, \n",
        "                                    Y_train, \n",
        "                                    X_test, \n",
        "                                    test_labels=Y_test,\n",
        "                                    num_epochs=params['num_epochs'], \n",
        "                                    learning_rate=params['learning_rate'],\n",
        "                                    weight_decay=params['weight_decay'], \n",
        "                                    batch_size=4096,\n",
        "                                    scheduler=scheduler)\n",
        "\n",
        "    test_metrics_final = round(test_metrics[-1], 4)\n",
        "    results[test_metrics_final] = params\n",
        "    print(test_metrics_final)\n",
        "    if test_metrics[-1]>0.91:\n",
        "        print('************************************')\n",
        "        print(test_metrics_final)\n",
        "        print(params)\n",
        "        print('************************************')\n",
        "        preds = get_labels(net(test_features).argmax(axis=1))\n",
        "        respuesta = pd.DataFrame({'Id':test_data['ID'], 'Category':preds})\n",
        "        filename = 'submission{}.csv'.format(test_metrics_final)\n",
        "        respuesta.to_csv(filename, index=False)"
      ],
      "execution_count": null,
      "outputs": []
    },
    {
      "cell_type": "code",
      "metadata": {
        "id": "oYJOvUiaTP8v"
      },
      "source": [
        "dictionary_items = results.items()\n",
        "sorted_items = sorted(dictionary_items)\n",
        "for i in sorted_items[-10:]:\n",
        "    print(i)\n",
        "\n",
        "\n"
      ],
      "execution_count": null,
      "outputs": []
    },
    {
      "cell_type": "markdown",
      "metadata": {
        "id": "88_D6VbuTP8x"
      },
      "source": [
        "# Entreno con los mejores hiperparámetros"
      ]
    },
    {
      "cell_type": "code",
      "metadata": {
        "id": "P7U2hvH5TP8y"
      },
      "source": [
        "n_train = train_data.shape[0]\n",
        "train_features = torch.tensor(all_features[:n_train].values, dtype=torch.float32)\n",
        "train_labels = torch.tensor(train_data.Position.values, dtype=torch.long)#.reshape(-1, 1), dtype=torch.float32)\n",
        "test_features = torch.tensor(all_features[n_train:].values, dtype=torch.float32)\n",
        "\n",
        "from sklearn.model_selection import train_test_split\n",
        "X_train, X_test, Y_train, Y_test = train_test_split (train_features, train_labels, train_size=0.95)\n",
        "Y_train"
      ],
      "execution_count": null,
      "outputs": []
    },
    {
      "cell_type": "code",
      "metadata": {
        "id": "QSPTd4SyTP81"
      },
      "source": [
        "#Entrenamos modelo buscando optimizar hiperparámetros\n",
        "\n",
        "params = sorted_items[-1][1]#{'dropout': 0.3, 'learning_rate': 0.001, 'n_blocks': 1, 'n_neuronas': 1024, 'num_epochs': 10, 'weight_decay': 1e-06}\n",
        "net = get_net(params['n_blocks'], params['n_neuronas'], params['dropout'])\n",
        "train_metrics, test_metrics = train(net, \n",
        "                                X_train, \n",
        "                                Y_train, \n",
        "                                X_test, \n",
        "                                test_labels=Y_test,\n",
        "                                num_epochs=params['num_epochs'], \n",
        "                                learning_rate=params['learning_rate'],\n",
        "                                weight_decay=params['weight_decay'], \n",
        "                                batch_size=4096,\n",
        "                                scheduler=scheduler)\n",
        "\n",
        "test_metrics_final = round(test_metrics[-1], 4)\n",
        "results[test_metrics_final] = params\n",
        "print(test_metrics_final)\n",
        "#if test_metrics[-1]>0.91:\n",
        "print('************************************')\n",
        "print(test_metrics_final)\n",
        "#print(params)\n",
        "print('************************************')\n",
        "preds = get_labels(net(test_features).argmax(axis=1))\n",
        "respuesta = pd.DataFrame({'Id':test_data['ID'], 'Category':preds})\n",
        "filename = 'submission{}.csv'.format(test_metrics_final)\n",
        "respuesta.to_csv(filename, index=False)"
      ],
      "execution_count": null,
      "outputs": []
    },
    {
      "cell_type": "markdown",
      "metadata": {
        "id": "uzf2iNSbhJE0"
      },
      "source": [
        "# Submission Automatica"
      ]
    },
    {
      "cell_type": "code",
      "metadata": {
        "id": "O6kCVzkAuL6s"
      },
      "source": [
        "#files.download(filename)\n",
        "!kaggle competitions submit -c tp-n2-aprendizaje-profundo-2021-by-datitos-v2 -f submission1.csv -m \"Message\""
      ],
      "execution_count": null,
      "outputs": []
    }
  ]
}